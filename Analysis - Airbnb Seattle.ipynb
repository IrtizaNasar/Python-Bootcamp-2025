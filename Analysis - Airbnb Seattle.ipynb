{
 "cells": [
  {
   "cell_type": "markdown",
   "metadata": {},
   "source": [
    "# Installing Libraries "
   ]
  },
  {
   "cell_type": "markdown",
   "metadata": {},
   "source": [
    "## Install Pandas"
   ]
  },
  {
   "cell_type": "code",
   "execution_count": 52,
   "metadata": {},
   "outputs": [],
   "source": [
    "# import sys\n",
    "# !{sys.executable} -m pip install pandas"
   ]
  },
  {
   "cell_type": "markdown",
   "metadata": {},
   "source": [
    "## Install Seaborn"
   ]
  },
  {
   "cell_type": "code",
   "execution_count": 53,
   "metadata": {},
   "outputs": [],
   "source": [
    "# import sys\n",
    "# !{sys.executable} -m pip install seaborn"
   ]
  },
  {
   "cell_type": "markdown",
   "metadata": {},
   "source": [
    "## Install Plotly"
   ]
  },
  {
   "cell_type": "code",
   "execution_count": 54,
   "metadata": {},
   "outputs": [],
   "source": [
    "# import sys\n",
    "# !{sys.executable} -m pip install plotly"
   ]
  },
  {
   "cell_type": "markdown",
   "metadata": {},
   "source": [
    "## Install Keplergl"
   ]
  },
  {
   "cell_type": "code",
   "execution_count": 55,
   "metadata": {},
   "outputs": [],
   "source": [
    "# import sys\n",
    "# !conda install -c conda-forge keplergl "
   ]
  },
  {
   "cell_type": "markdown",
   "metadata": {},
   "source": [
    "# Importing Libraries "
   ]
  },
  {
   "cell_type": "code",
   "execution_count": 56,
   "metadata": {},
   "outputs": [],
   "source": [
    "# Import Pandas\n",
    "import pandas as pd\n",
    "# Import Seaborn \n",
    "import seaborn as sns\n",
    "#Import Matplot Lib\n",
    "import matplotlib.pyplot as plt\n",
    "# Import Keplergl Library\n",
    "import keplergl\n",
    "# Import Plotly Library \n",
    "import plotly.express as px"
   ]
  },
  {
   "cell_type": "markdown",
   "metadata": {},
   "source": [
    "# DataFrame - Settings"
   ]
  },
  {
   "cell_type": "code",
   "execution_count": 57,
   "metadata": {},
   "outputs": [],
   "source": [
    "# Set the number of columns to display. If none then all will be displayed.\n",
    "pd.options.display.max_columns = None\n",
    "# Set the number of max rows to display. If none then all will be displayed.\n",
    "# pd.options.display.max_rows = None"
   ]
  },
  {
   "cell_type": "markdown",
   "metadata": {},
   "source": [
    "# Import Data - Pandas DataFrame"
   ]
  },
  {
   "cell_type": "code",
   "execution_count": 58,
   "metadata": {},
   "outputs": [],
   "source": [
    "# Create a data frame and load in data \n",
    "df_listings = pd.read_csv('Datasets/Seattle Airbnb Open Data/listings.csv')"
   ]
  },
  {
   "cell_type": "code",
   "execution_count": 59,
   "metadata": {},
   "outputs": [
    {
     "data": {
      "text/plain": [
       "(3818, 92)"
      ]
     },
     "execution_count": 59,
     "metadata": {},
     "output_type": "execute_result"
    }
   ],
   "source": [
    "df_listings.shape"
   ]
  },
  {
   "cell_type": "code",
   "execution_count": 60,
   "metadata": {},
   "outputs": [
    {
     "data": {
      "text/plain": [
       "['id',\n",
       " 'listing_url',\n",
       " 'scrape_id',\n",
       " 'last_scraped',\n",
       " 'name',\n",
       " 'summary',\n",
       " 'space',\n",
       " 'description',\n",
       " 'experiences_offered',\n",
       " 'neighborhood_overview',\n",
       " 'notes',\n",
       " 'transit',\n",
       " 'thumbnail_url',\n",
       " 'medium_url',\n",
       " 'picture_url',\n",
       " 'xl_picture_url',\n",
       " 'host_id',\n",
       " 'host_url',\n",
       " 'host_name',\n",
       " 'host_since',\n",
       " 'host_location',\n",
       " 'host_about',\n",
       " 'host_response_time',\n",
       " 'host_response_rate',\n",
       " 'host_acceptance_rate',\n",
       " 'host_is_superhost',\n",
       " 'host_thumbnail_url',\n",
       " 'host_picture_url',\n",
       " 'host_neighbourhood',\n",
       " 'host_listings_count',\n",
       " 'host_total_listings_count',\n",
       " 'host_verifications',\n",
       " 'host_has_profile_pic',\n",
       " 'host_identity_verified',\n",
       " 'street',\n",
       " 'neighbourhood',\n",
       " 'neighbourhood_cleansed',\n",
       " 'neighbourhood_group_cleansed',\n",
       " 'city',\n",
       " 'state',\n",
       " 'zipcode',\n",
       " 'market',\n",
       " 'smart_location',\n",
       " 'country_code',\n",
       " 'country',\n",
       " 'latitude',\n",
       " 'longitude',\n",
       " 'is_location_exact',\n",
       " 'property_type',\n",
       " 'room_type',\n",
       " 'accommodates',\n",
       " 'bathrooms',\n",
       " 'bedrooms',\n",
       " 'beds',\n",
       " 'bed_type',\n",
       " 'amenities',\n",
       " 'square_feet',\n",
       " 'price',\n",
       " 'weekly_price',\n",
       " 'monthly_price',\n",
       " 'security_deposit',\n",
       " 'cleaning_fee',\n",
       " 'guests_included',\n",
       " 'extra_people',\n",
       " 'minimum_nights',\n",
       " 'maximum_nights',\n",
       " 'calendar_updated',\n",
       " 'has_availability',\n",
       " 'availability_30',\n",
       " 'availability_60',\n",
       " 'availability_90',\n",
       " 'availability_365',\n",
       " 'calendar_last_scraped',\n",
       " 'number_of_reviews',\n",
       " 'first_review',\n",
       " 'last_review',\n",
       " 'review_scores_rating',\n",
       " 'review_scores_accuracy',\n",
       " 'review_scores_cleanliness',\n",
       " 'review_scores_checkin',\n",
       " 'review_scores_communication',\n",
       " 'review_scores_location',\n",
       " 'review_scores_value',\n",
       " 'requires_license',\n",
       " 'license',\n",
       " 'jurisdiction_names',\n",
       " 'instant_bookable',\n",
       " 'cancellation_policy',\n",
       " 'require_guest_profile_picture',\n",
       " 'require_guest_phone_verification',\n",
       " 'calculated_host_listings_count',\n",
       " 'reviews_per_month']"
      ]
     },
     "execution_count": 60,
     "metadata": {},
     "output_type": "execute_result"
    }
   ],
   "source": [
    "df_listings.columns.values.tolist()"
   ]
  },
  {
   "cell_type": "markdown",
   "metadata": {},
   "source": [
    "# Clean Data"
   ]
  },
  {
   "cell_type": "markdown",
   "metadata": {},
   "source": [
    "## Selecting a subset of the Data "
   ]
  },
  {
   "cell_type": "code",
   "execution_count": 61,
   "metadata": {},
   "outputs": [],
   "source": [
    "df_listings_clean = df_listings[['id',  'name', 'summary',\n",
    "       'space', 'description', 'experiences_offered', 'neighborhood_overview',\n",
    "       'transit', 'host_id', 'host_name', 'host_since',\n",
    "       'host_location',  'host_response_rate', 'host_acceptance_rate', 'host_neighbourhood',\n",
    "       'host_listings_count', 'host_total_listings_count', 'street', 'neighbourhood', 'neighbourhood_cleansed',\n",
    "       'neighbourhood_group_cleansed', 'city', 'state', 'zipcode', 'market',\n",
    "       'smart_location', 'country_code', 'latitude', 'longitude',\n",
    "       'property_type', 'room_type', 'accommodates',\n",
    "       'bathrooms', 'bedrooms', 'beds', 'bed_type', 'amenities', 'square_feet',\n",
    "       'price', 'review_scores_rating',\n",
    "       'review_scores_accuracy', 'review_scores_cleanliness',\n",
    "       'cancellation_policy',\n",
    "       'reviews_per_month']]"
   ]
  },
  {
   "cell_type": "markdown",
   "metadata": {},
   "source": [
    "## Checking Column Datatypes "
   ]
  },
  {
   "cell_type": "code",
   "execution_count": 62,
   "metadata": {},
   "outputs": [
    {
     "data": {
      "text/plain": [
       "id                                int64\n",
       "name                             object\n",
       "summary                          object\n",
       "space                            object\n",
       "description                      object\n",
       "experiences_offered              object\n",
       "neighborhood_overview            object\n",
       "transit                          object\n",
       "host_id                           int64\n",
       "host_name                        object\n",
       "host_since                       object\n",
       "host_location                    object\n",
       "host_response_rate               object\n",
       "host_acceptance_rate             object\n",
       "host_neighbourhood               object\n",
       "host_listings_count             float64\n",
       "host_total_listings_count       float64\n",
       "street                           object\n",
       "neighbourhood                    object\n",
       "neighbourhood_cleansed           object\n",
       "neighbourhood_group_cleansed     object\n",
       "city                             object\n",
       "state                            object\n",
       "zipcode                          object\n",
       "market                           object\n",
       "smart_location                   object\n",
       "country_code                     object\n",
       "latitude                        float64\n",
       "longitude                       float64\n",
       "property_type                    object\n",
       "room_type                        object\n",
       "accommodates                      int64\n",
       "bathrooms                       float64\n",
       "bedrooms                        float64\n",
       "beds                            float64\n",
       "bed_type                         object\n",
       "amenities                        object\n",
       "square_feet                     float64\n",
       "price                            object\n",
       "review_scores_rating            float64\n",
       "review_scores_accuracy          float64\n",
       "review_scores_cleanliness       float64\n",
       "cancellation_policy              object\n",
       "reviews_per_month               float64\n",
       "dtype: object"
      ]
     },
     "execution_count": 62,
     "metadata": {},
     "output_type": "execute_result"
    }
   ],
   "source": [
    "df_listings_clean.dtypes"
   ]
  },
  {
   "cell_type": "markdown",
   "metadata": {},
   "source": [
    "## Fixing Datatypes "
   ]
  },
  {
   "cell_type": "markdown",
   "metadata": {},
   "source": [
    "### Price"
   ]
  },
  {
   "cell_type": "code",
   "execution_count": 63,
   "metadata": {},
   "outputs": [
    {
     "data": {
      "text/plain": [
       "price\n",
       "<class 'str'>    3818\n",
       "Name: count, dtype: int64"
      ]
     },
     "execution_count": 63,
     "metadata": {},
     "output_type": "execute_result"
    }
   ],
   "source": [
    "df_listings_clean['price'].apply(type).value_counts()"
   ]
  },
  {
   "cell_type": "code",
   "execution_count": 64,
   "metadata": {},
   "outputs": [
    {
     "data": {
      "text/plain": [
       "0     $85.00\n",
       "1    $150.00\n",
       "2    $975.00\n",
       "3    $100.00\n",
       "4    $450.00\n",
       "Name: price, dtype: object"
      ]
     },
     "execution_count": 64,
     "metadata": {},
     "output_type": "execute_result"
    }
   ],
   "source": [
    "df_listings_clean['price'].head(5)"
   ]
  },
  {
   "cell_type": "code",
   "execution_count": 65,
   "metadata": {},
   "outputs": [
    {
     "name": "stderr",
     "output_type": "stream",
     "text": [
      "/var/folders/4l/xm5jn32j517d842_nfd4nvymkgphp6/T/ipykernel_1008/3293690030.py:1: SettingWithCopyWarning:\n",
      "\n",
      "\n",
      "A value is trying to be set on a copy of a slice from a DataFrame.\n",
      "Try using .loc[row_indexer,col_indexer] = value instead\n",
      "\n",
      "See the caveats in the documentation: https://pandas.pydata.org/pandas-docs/stable/user_guide/indexing.html#returning-a-view-versus-a-copy\n",
      "\n"
     ]
    }
   ],
   "source": [
    "df_listings_clean['price'] = df_listings_clean['price'].replace(r'[\\$,]', '', regex=True).astype(float)"
   ]
  },
  {
   "cell_type": "markdown",
   "metadata": {},
   "source": [
    "### Date"
   ]
  },
  {
   "cell_type": "code",
   "execution_count": 66,
   "metadata": {},
   "outputs": [
    {
     "data": {
      "text/plain": [
       "0    2011-08-11\n",
       "1    2013-02-21\n",
       "2    2014-06-12\n",
       "3    2013-11-06\n",
       "4    2011-11-29\n",
       "Name: host_since, dtype: object"
      ]
     },
     "execution_count": 66,
     "metadata": {},
     "output_type": "execute_result"
    }
   ],
   "source": [
    "df_listings_clean['host_since'].head(5)"
   ]
  },
  {
   "cell_type": "code",
   "execution_count": 67,
   "metadata": {},
   "outputs": [
    {
     "name": "stderr",
     "output_type": "stream",
     "text": [
      "/var/folders/4l/xm5jn32j517d842_nfd4nvymkgphp6/T/ipykernel_1008/2428450490.py:1: SettingWithCopyWarning:\n",
      "\n",
      "\n",
      "A value is trying to be set on a copy of a slice from a DataFrame.\n",
      "Try using .loc[row_indexer,col_indexer] = value instead\n",
      "\n",
      "See the caveats in the documentation: https://pandas.pydata.org/pandas-docs/stable/user_guide/indexing.html#returning-a-view-versus-a-copy\n",
      "\n"
     ]
    }
   ],
   "source": [
    "df_listings_clean['host_since'] = pd.to_datetime(df_listings_clean['host_since'])"
   ]
  },
  {
   "cell_type": "code",
   "execution_count": 68,
   "metadata": {},
   "outputs": [
    {
     "data": {
      "text/plain": [
       "0   2011-08-11\n",
       "1   2013-02-21\n",
       "2   2014-06-12\n",
       "3   2013-11-06\n",
       "4   2011-11-29\n",
       "Name: host_since, dtype: datetime64[ns]"
      ]
     },
     "execution_count": 68,
     "metadata": {},
     "output_type": "execute_result"
    }
   ],
   "source": [
    "df_listings_clean['host_since'].head(5)"
   ]
  },
  {
   "cell_type": "markdown",
   "metadata": {},
   "source": [
    "## Dealing with Missing Values "
   ]
  },
  {
   "cell_type": "code",
   "execution_count": 69,
   "metadata": {},
   "outputs": [
    {
     "data": {
      "text/plain": [
       "object            27\n",
       "float64           13\n",
       "int64              3\n",
       "datetime64[ns]     1\n",
       "Name: count, dtype: int64"
      ]
     },
     "execution_count": 69,
     "metadata": {},
     "output_type": "execute_result"
    }
   ],
   "source": [
    "df_listings_clean.dtypes.value_counts()"
   ]
  },
  {
   "cell_type": "code",
   "execution_count": 70,
   "metadata": {},
   "outputs": [
    {
     "data": {
      "text/plain": [
       "id                              False\n",
       "name                             True\n",
       "summary                          True\n",
       "space                            True\n",
       "description                      True\n",
       "experiences_offered              True\n",
       "neighborhood_overview            True\n",
       "transit                          True\n",
       "host_id                         False\n",
       "host_name                        True\n",
       "host_since                      False\n",
       "host_location                    True\n",
       "host_response_rate               True\n",
       "host_acceptance_rate             True\n",
       "host_neighbourhood               True\n",
       "host_listings_count             False\n",
       "host_total_listings_count       False\n",
       "street                           True\n",
       "neighbourhood                    True\n",
       "neighbourhood_cleansed           True\n",
       "neighbourhood_group_cleansed     True\n",
       "city                             True\n",
       "state                            True\n",
       "zipcode                          True\n",
       "market                           True\n",
       "smart_location                   True\n",
       "country_code                     True\n",
       "latitude                        False\n",
       "longitude                       False\n",
       "property_type                    True\n",
       "room_type                        True\n",
       "accommodates                    False\n",
       "bathrooms                       False\n",
       "bedrooms                        False\n",
       "beds                            False\n",
       "bed_type                         True\n",
       "amenities                        True\n",
       "square_feet                     False\n",
       "price                           False\n",
       "review_scores_rating            False\n",
       "review_scores_accuracy          False\n",
       "review_scores_cleanliness       False\n",
       "cancellation_policy              True\n",
       "reviews_per_month               False\n",
       "dtype: bool"
      ]
     },
     "execution_count": 70,
     "metadata": {},
     "output_type": "execute_result"
    }
   ],
   "source": [
    "df_listings_clean.dtypes == 'object'"
   ]
  },
  {
   "cell_type": "code",
   "execution_count": 71,
   "metadata": {},
   "outputs": [],
   "source": [
    "cat_variables =  df_listings_clean.columns[df_listings_clean.dtypes == 'object']\n",
    "num_variables = df_listings_clean.columns[df_listings_clean.dtypes != 'object']"
   ]
  },
  {
   "cell_type": "code",
   "execution_count": 72,
   "metadata": {},
   "outputs": [
    {
     "name": "stdout",
     "output_type": "stream",
     "text": [
      "27\n",
      "17\n"
     ]
    }
   ],
   "source": [
    "print(len(cat_variables))\n",
    "print(len(num_variables))"
   ]
  },
  {
   "cell_type": "code",
   "execution_count": 73,
   "metadata": {},
   "outputs": [
    {
     "data": {
      "text/plain": [
       "square_feet                  97.459403\n",
       "review_scores_accuracy       17.234154\n",
       "review_scores_cleanliness    17.103195\n",
       "review_scores_rating         16.946045\n",
       "reviews_per_month            16.422211\n",
       "bathrooms                     0.419068\n",
       "bedrooms                      0.157150\n",
       "host_total_listings_count     0.052383\n",
       "host_listings_count           0.052383\n",
       "host_since                    0.052383\n",
       "beds                          0.026192\n",
       "longitude                     0.000000\n",
       "accommodates                  0.000000\n",
       "host_id                       0.000000\n",
       "latitude                      0.000000\n",
       "price                         0.000000\n",
       "id                            0.000000\n",
       "dtype: float64"
      ]
     },
     "execution_count": 73,
     "metadata": {},
     "output_type": "execute_result"
    }
   ],
   "source": [
    "(df_listings_clean[num_variables].isnull().sum().sort_values(ascending=False)/len(df_listings_clean))*100"
   ]
  },
  {
   "cell_type": "code",
   "execution_count": 74,
   "metadata": {},
   "outputs": [
    {
     "data": {
      "text/html": [
       "<div>\n",
       "<style scoped>\n",
       "    .dataframe tbody tr th:only-of-type {\n",
       "        vertical-align: middle;\n",
       "    }\n",
       "\n",
       "    .dataframe tbody tr th {\n",
       "        vertical-align: top;\n",
       "    }\n",
       "\n",
       "    .dataframe thead th {\n",
       "        text-align: right;\n",
       "    }\n",
       "</style>\n",
       "<table border=\"1\" class=\"dataframe\">\n",
       "  <thead>\n",
       "    <tr style=\"text-align: right;\">\n",
       "      <th></th>\n",
       "      <th>id</th>\n",
       "      <th>name</th>\n",
       "      <th>summary</th>\n",
       "      <th>space</th>\n",
       "      <th>description</th>\n",
       "      <th>experiences_offered</th>\n",
       "      <th>neighborhood_overview</th>\n",
       "      <th>transit</th>\n",
       "      <th>host_id</th>\n",
       "      <th>host_name</th>\n",
       "      <th>host_since</th>\n",
       "      <th>host_location</th>\n",
       "      <th>host_response_rate</th>\n",
       "      <th>host_acceptance_rate</th>\n",
       "      <th>host_neighbourhood</th>\n",
       "      <th>host_listings_count</th>\n",
       "      <th>host_total_listings_count</th>\n",
       "      <th>street</th>\n",
       "      <th>neighbourhood</th>\n",
       "      <th>neighbourhood_cleansed</th>\n",
       "      <th>neighbourhood_group_cleansed</th>\n",
       "      <th>city</th>\n",
       "      <th>state</th>\n",
       "      <th>zipcode</th>\n",
       "      <th>market</th>\n",
       "      <th>smart_location</th>\n",
       "      <th>country_code</th>\n",
       "      <th>latitude</th>\n",
       "      <th>longitude</th>\n",
       "      <th>property_type</th>\n",
       "      <th>room_type</th>\n",
       "      <th>accommodates</th>\n",
       "      <th>bathrooms</th>\n",
       "      <th>bedrooms</th>\n",
       "      <th>beds</th>\n",
       "      <th>bed_type</th>\n",
       "      <th>amenities</th>\n",
       "      <th>square_feet</th>\n",
       "      <th>price</th>\n",
       "      <th>review_scores_rating</th>\n",
       "      <th>review_scores_accuracy</th>\n",
       "      <th>review_scores_cleanliness</th>\n",
       "      <th>cancellation_policy</th>\n",
       "      <th>reviews_per_month</th>\n",
       "    </tr>\n",
       "  </thead>\n",
       "  <tbody>\n",
       "    <tr>\n",
       "      <th>1961</th>\n",
       "      <td>609252</td>\n",
       "      <td>Sans souci in Seattle</td>\n",
       "      <td>NaN</td>\n",
       "      <td>In the Pacific Northwest's Emerald City, treat...</td>\n",
       "      <td>In the Pacific Northwest's Emerald City, treat...</td>\n",
       "      <td>none</td>\n",
       "      <td>NaN</td>\n",
       "      <td>NaN</td>\n",
       "      <td>3018655</td>\n",
       "      <td>Louise</td>\n",
       "      <td>2012-07-22</td>\n",
       "      <td>Seattle, Washington, United States</td>\n",
       "      <td>100%</td>\n",
       "      <td>NaN</td>\n",
       "      <td>Greenwood</td>\n",
       "      <td>2.0</td>\n",
       "      <td>2.0</td>\n",
       "      <td>6th Ave NW, Seattle, WA 98117, United States</td>\n",
       "      <td>Greenwood</td>\n",
       "      <td>Greenwood</td>\n",
       "      <td>Other neighborhoods</td>\n",
       "      <td>Seattle</td>\n",
       "      <td>WA</td>\n",
       "      <td>98117</td>\n",
       "      <td>Seattle</td>\n",
       "      <td>Seattle, WA</td>\n",
       "      <td>US</td>\n",
       "      <td>47.698613</td>\n",
       "      <td>-122.363442</td>\n",
       "      <td>House</td>\n",
       "      <td>Private room</td>\n",
       "      <td>4</td>\n",
       "      <td>NaN</td>\n",
       "      <td>1.0</td>\n",
       "      <td>NaN</td>\n",
       "      <td>Real Bed</td>\n",
       "      <td>{}</td>\n",
       "      <td>NaN</td>\n",
       "      <td>280.0</td>\n",
       "      <td>NaN</td>\n",
       "      <td>NaN</td>\n",
       "      <td>NaN</td>\n",
       "      <td>flexible</td>\n",
       "      <td>NaN</td>\n",
       "    </tr>\n",
       "  </tbody>\n",
       "</table>\n",
       "</div>"
      ],
      "text/plain": [
       "          id                   name summary  \\\n",
       "1961  609252  Sans souci in Seattle     NaN   \n",
       "\n",
       "                                                  space  \\\n",
       "1961  In the Pacific Northwest's Emerald City, treat...   \n",
       "\n",
       "                                            description experiences_offered  \\\n",
       "1961  In the Pacific Northwest's Emerald City, treat...                none   \n",
       "\n",
       "     neighborhood_overview transit  host_id host_name host_since  \\\n",
       "1961                   NaN     NaN  3018655    Louise 2012-07-22   \n",
       "\n",
       "                           host_location host_response_rate  \\\n",
       "1961  Seattle, Washington, United States               100%   \n",
       "\n",
       "     host_acceptance_rate host_neighbourhood  host_listings_count  \\\n",
       "1961                  NaN          Greenwood                  2.0   \n",
       "\n",
       "      host_total_listings_count                                        street  \\\n",
       "1961                        2.0  6th Ave NW, Seattle, WA 98117, United States   \n",
       "\n",
       "     neighbourhood neighbourhood_cleansed neighbourhood_group_cleansed  \\\n",
       "1961     Greenwood              Greenwood          Other neighborhoods   \n",
       "\n",
       "         city state zipcode   market smart_location country_code   latitude  \\\n",
       "1961  Seattle    WA   98117  Seattle    Seattle, WA           US  47.698613   \n",
       "\n",
       "       longitude property_type     room_type  accommodates  bathrooms  \\\n",
       "1961 -122.363442         House  Private room             4        NaN   \n",
       "\n",
       "      bedrooms  beds  bed_type amenities  square_feet  price  \\\n",
       "1961       1.0   NaN  Real Bed        {}          NaN  280.0   \n",
       "\n",
       "      review_scores_rating  review_scores_accuracy  review_scores_cleanliness  \\\n",
       "1961                   NaN                     NaN                        NaN   \n",
       "\n",
       "     cancellation_policy  reviews_per_month  \n",
       "1961            flexible                NaN  "
      ]
     },
     "execution_count": 74,
     "metadata": {},
     "output_type": "execute_result"
    }
   ],
   "source": [
    "df_listings_clean[df_listings_clean['beds'].isnull()]"
   ]
  },
  {
   "cell_type": "code",
   "execution_count": 75,
   "metadata": {},
   "outputs": [
    {
     "data": {
      "text/plain": [
       "neighborhood_overview           0.270299\n",
       "transit                         0.244631\n",
       "host_acceptance_rate            0.202462\n",
       "space                           0.149031\n",
       "host_response_rate              0.136983\n",
       "neighbourhood                   0.108958\n",
       "host_neighbourhood              0.078575\n",
       "summary                         0.046359\n",
       "host_location                   0.002095\n",
       "zipcode                         0.001833\n",
       "host_name                       0.000524\n",
       "property_type                   0.000262\n",
       "bed_type                        0.000000\n",
       "amenities                       0.000000\n",
       "room_type                       0.000000\n",
       "country_code                    0.000000\n",
       "smart_location                  0.000000\n",
       "market                          0.000000\n",
       "name                            0.000000\n",
       "state                           0.000000\n",
       "city                            0.000000\n",
       "neighbourhood_group_cleansed    0.000000\n",
       "neighbourhood_cleansed          0.000000\n",
       "street                          0.000000\n",
       "experiences_offered             0.000000\n",
       "description                     0.000000\n",
       "cancellation_policy             0.000000\n",
       "dtype: float64"
      ]
     },
     "execution_count": 75,
     "metadata": {},
     "output_type": "execute_result"
    }
   ],
   "source": [
    "df_listings_clean[cat_variables].isnull().sum().sort_values(ascending=False)/len(df_listings_clean)"
   ]
  },
  {
   "cell_type": "code",
   "execution_count": 76,
   "metadata": {},
   "outputs": [
    {
     "data": {
      "text/plain": [
       "0        85.0\n",
       "1       150.0\n",
       "2       975.0\n",
       "3       100.0\n",
       "4       450.0\n",
       "        ...  \n",
       "3813    359.0\n",
       "3814     79.0\n",
       "3815     93.0\n",
       "3816     99.0\n",
       "3817     87.0\n",
       "Name: price, Length: 3818, dtype: float64"
      ]
     },
     "execution_count": 76,
     "metadata": {},
     "output_type": "execute_result"
    }
   ],
   "source": [
    "df_listings_clean['price']"
   ]
  },
  {
   "cell_type": "code",
   "execution_count": 77,
   "metadata": {},
   "outputs": [],
   "source": [
    "# df_listings_clean.count() / len(df_listings_clean)"
   ]
  },
  {
   "cell_type": "code",
   "execution_count": 78,
   "metadata": {},
   "outputs": [
    {
     "data": {
      "text/plain": [
       "id                                 0\n",
       "name                               0\n",
       "summary                          177\n",
       "space                            569\n",
       "description                        0\n",
       "experiences_offered                0\n",
       "neighborhood_overview           1032\n",
       "transit                          934\n",
       "host_id                            0\n",
       "host_name                          2\n",
       "host_since                         2\n",
       "host_location                      8\n",
       "host_response_rate               523\n",
       "host_acceptance_rate             773\n",
       "host_neighbourhood               300\n",
       "host_listings_count                2\n",
       "host_total_listings_count          2\n",
       "street                             0\n",
       "neighbourhood                    416\n",
       "neighbourhood_cleansed             0\n",
       "neighbourhood_group_cleansed       0\n",
       "city                               0\n",
       "state                              0\n",
       "zipcode                            7\n",
       "market                             0\n",
       "smart_location                     0\n",
       "country_code                       0\n",
       "latitude                           0\n",
       "longitude                          0\n",
       "property_type                      1\n",
       "room_type                          0\n",
       "accommodates                       0\n",
       "bathrooms                         16\n",
       "bedrooms                           6\n",
       "beds                               1\n",
       "bed_type                           0\n",
       "amenities                          0\n",
       "square_feet                     3721\n",
       "price                              0\n",
       "review_scores_rating             647\n",
       "review_scores_accuracy           658\n",
       "review_scores_cleanliness        653\n",
       "cancellation_policy                0\n",
       "reviews_per_month                627\n",
       "dtype: int64"
      ]
     },
     "execution_count": 78,
     "metadata": {},
     "output_type": "execute_result"
    }
   ],
   "source": [
    "df_listings_clean.isnull().sum()"
   ]
  },
  {
   "cell_type": "code",
   "execution_count": 79,
   "metadata": {},
   "outputs": [
    {
     "data": {
      "text/html": [
       "<div>\n",
       "<style scoped>\n",
       "    .dataframe tbody tr th:only-of-type {\n",
       "        vertical-align: middle;\n",
       "    }\n",
       "\n",
       "    .dataframe tbody tr th {\n",
       "        vertical-align: top;\n",
       "    }\n",
       "\n",
       "    .dataframe thead th {\n",
       "        text-align: right;\n",
       "    }\n",
       "</style>\n",
       "<table border=\"1\" class=\"dataframe\">\n",
       "  <thead>\n",
       "    <tr style=\"text-align: right;\">\n",
       "      <th></th>\n",
       "      <th>id</th>\n",
       "      <th>name</th>\n",
       "      <th>summary</th>\n",
       "      <th>space</th>\n",
       "      <th>description</th>\n",
       "      <th>experiences_offered</th>\n",
       "      <th>neighborhood_overview</th>\n",
       "      <th>transit</th>\n",
       "      <th>host_id</th>\n",
       "      <th>host_name</th>\n",
       "      <th>host_since</th>\n",
       "      <th>host_location</th>\n",
       "      <th>host_response_rate</th>\n",
       "      <th>host_acceptance_rate</th>\n",
       "      <th>host_neighbourhood</th>\n",
       "      <th>host_listings_count</th>\n",
       "      <th>host_total_listings_count</th>\n",
       "      <th>street</th>\n",
       "      <th>neighbourhood</th>\n",
       "      <th>neighbourhood_cleansed</th>\n",
       "      <th>neighbourhood_group_cleansed</th>\n",
       "      <th>city</th>\n",
       "      <th>state</th>\n",
       "      <th>zipcode</th>\n",
       "      <th>market</th>\n",
       "      <th>smart_location</th>\n",
       "      <th>country_code</th>\n",
       "      <th>latitude</th>\n",
       "      <th>longitude</th>\n",
       "      <th>property_type</th>\n",
       "      <th>room_type</th>\n",
       "      <th>accommodates</th>\n",
       "      <th>bathrooms</th>\n",
       "      <th>bedrooms</th>\n",
       "      <th>beds</th>\n",
       "      <th>bed_type</th>\n",
       "      <th>amenities</th>\n",
       "      <th>square_feet</th>\n",
       "      <th>price</th>\n",
       "      <th>review_scores_rating</th>\n",
       "      <th>review_scores_accuracy</th>\n",
       "      <th>review_scores_cleanliness</th>\n",
       "      <th>cancellation_policy</th>\n",
       "      <th>reviews_per_month</th>\n",
       "    </tr>\n",
       "  </thead>\n",
       "  <tbody>\n",
       "    <tr>\n",
       "      <th>0</th>\n",
       "      <td>241032</td>\n",
       "      <td>Stylish Queen Anne Apartment</td>\n",
       "      <td>NaN</td>\n",
       "      <td>Make your self at home in this charming one-be...</td>\n",
       "      <td>Make your self at home in this charming one-be...</td>\n",
       "      <td>none</td>\n",
       "      <td>NaN</td>\n",
       "      <td>NaN</td>\n",
       "      <td>956883</td>\n",
       "      <td>Maija</td>\n",
       "      <td>2011-08-11</td>\n",
       "      <td>Seattle, Washington, United States</td>\n",
       "      <td>96%</td>\n",
       "      <td>100%</td>\n",
       "      <td>Queen Anne</td>\n",
       "      <td>3.0</td>\n",
       "      <td>3.0</td>\n",
       "      <td>Gilman Dr W, Seattle, WA 98119, United States</td>\n",
       "      <td>Queen Anne</td>\n",
       "      <td>West Queen Anne</td>\n",
       "      <td>Queen Anne</td>\n",
       "      <td>Seattle</td>\n",
       "      <td>WA</td>\n",
       "      <td>98119</td>\n",
       "      <td>Seattle</td>\n",
       "      <td>Seattle, WA</td>\n",
       "      <td>US</td>\n",
       "      <td>47.636289</td>\n",
       "      <td>-122.371025</td>\n",
       "      <td>Apartment</td>\n",
       "      <td>Entire home/apt</td>\n",
       "      <td>4</td>\n",
       "      <td>1.0</td>\n",
       "      <td>1.0</td>\n",
       "      <td>1.0</td>\n",
       "      <td>Real Bed</td>\n",
       "      <td>{TV,\"Cable TV\",Internet,\"Wireless Internet\",\"A...</td>\n",
       "      <td>NaN</td>\n",
       "      <td>85.0</td>\n",
       "      <td>95.0</td>\n",
       "      <td>10.0</td>\n",
       "      <td>10.0</td>\n",
       "      <td>moderate</td>\n",
       "      <td>4.07</td>\n",
       "    </tr>\n",
       "    <tr>\n",
       "      <th>1</th>\n",
       "      <td>953595</td>\n",
       "      <td>Bright &amp; Airy Queen Anne Apartment</td>\n",
       "      <td>Chemically sensitive? We've removed the irrita...</td>\n",
       "      <td>Beautiful, hypoallergenic apartment in an extr...</td>\n",
       "      <td>Chemically sensitive? We've removed the irrita...</td>\n",
       "      <td>none</td>\n",
       "      <td>Queen Anne is a wonderful, truly functional vi...</td>\n",
       "      <td>Convenient bus stops are just down the block, ...</td>\n",
       "      <td>5177328</td>\n",
       "      <td>Andrea</td>\n",
       "      <td>2013-02-21</td>\n",
       "      <td>Seattle, Washington, United States</td>\n",
       "      <td>98%</td>\n",
       "      <td>100%</td>\n",
       "      <td>Queen Anne</td>\n",
       "      <td>6.0</td>\n",
       "      <td>6.0</td>\n",
       "      <td>7th Avenue West, Seattle, WA 98119, United States</td>\n",
       "      <td>Queen Anne</td>\n",
       "      <td>West Queen Anne</td>\n",
       "      <td>Queen Anne</td>\n",
       "      <td>Seattle</td>\n",
       "      <td>WA</td>\n",
       "      <td>98119</td>\n",
       "      <td>Seattle</td>\n",
       "      <td>Seattle, WA</td>\n",
       "      <td>US</td>\n",
       "      <td>47.639123</td>\n",
       "      <td>-122.365666</td>\n",
       "      <td>Apartment</td>\n",
       "      <td>Entire home/apt</td>\n",
       "      <td>4</td>\n",
       "      <td>1.0</td>\n",
       "      <td>1.0</td>\n",
       "      <td>1.0</td>\n",
       "      <td>Real Bed</td>\n",
       "      <td>{TV,Internet,\"Wireless Internet\",Kitchen,\"Free...</td>\n",
       "      <td>NaN</td>\n",
       "      <td>150.0</td>\n",
       "      <td>96.0</td>\n",
       "      <td>10.0</td>\n",
       "      <td>10.0</td>\n",
       "      <td>strict</td>\n",
       "      <td>1.48</td>\n",
       "    </tr>\n",
       "    <tr>\n",
       "      <th>2</th>\n",
       "      <td>3308979</td>\n",
       "      <td>New Modern House-Amazing water view</td>\n",
       "      <td>New modern house built in 2013.  Spectacular s...</td>\n",
       "      <td>Our house is modern, light and fresh with a wa...</td>\n",
       "      <td>New modern house built in 2013.  Spectacular s...</td>\n",
       "      <td>none</td>\n",
       "      <td>Upper Queen Anne is a charming neighborhood fu...</td>\n",
       "      <td>A bus stop is just 2 blocks away.   Easy bus a...</td>\n",
       "      <td>16708587</td>\n",
       "      <td>Jill</td>\n",
       "      <td>2014-06-12</td>\n",
       "      <td>Seattle, Washington, United States</td>\n",
       "      <td>67%</td>\n",
       "      <td>100%</td>\n",
       "      <td>Queen Anne</td>\n",
       "      <td>2.0</td>\n",
       "      <td>2.0</td>\n",
       "      <td>West Lee Street, Seattle, WA 98119, United States</td>\n",
       "      <td>Queen Anne</td>\n",
       "      <td>West Queen Anne</td>\n",
       "      <td>Queen Anne</td>\n",
       "      <td>Seattle</td>\n",
       "      <td>WA</td>\n",
       "      <td>98119</td>\n",
       "      <td>Seattle</td>\n",
       "      <td>Seattle, WA</td>\n",
       "      <td>US</td>\n",
       "      <td>47.629724</td>\n",
       "      <td>-122.369483</td>\n",
       "      <td>House</td>\n",
       "      <td>Entire home/apt</td>\n",
       "      <td>11</td>\n",
       "      <td>4.5</td>\n",
       "      <td>5.0</td>\n",
       "      <td>7.0</td>\n",
       "      <td>Real Bed</td>\n",
       "      <td>{TV,\"Cable TV\",Internet,\"Wireless Internet\",\"A...</td>\n",
       "      <td>NaN</td>\n",
       "      <td>975.0</td>\n",
       "      <td>97.0</td>\n",
       "      <td>10.0</td>\n",
       "      <td>10.0</td>\n",
       "      <td>strict</td>\n",
       "      <td>1.15</td>\n",
       "    </tr>\n",
       "    <tr>\n",
       "      <th>3</th>\n",
       "      <td>7421966</td>\n",
       "      <td>Queen Anne Chateau</td>\n",
       "      <td>A charming apartment that sits atop Queen Anne...</td>\n",
       "      <td>NaN</td>\n",
       "      <td>A charming apartment that sits atop Queen Anne...</td>\n",
       "      <td>none</td>\n",
       "      <td>NaN</td>\n",
       "      <td>NaN</td>\n",
       "      <td>9851441</td>\n",
       "      <td>Emily</td>\n",
       "      <td>2013-11-06</td>\n",
       "      <td>Seattle, Washington, United States</td>\n",
       "      <td>NaN</td>\n",
       "      <td>NaN</td>\n",
       "      <td>Queen Anne</td>\n",
       "      <td>1.0</td>\n",
       "      <td>1.0</td>\n",
       "      <td>8th Avenue West, Seattle, WA 98119, United States</td>\n",
       "      <td>Queen Anne</td>\n",
       "      <td>West Queen Anne</td>\n",
       "      <td>Queen Anne</td>\n",
       "      <td>Seattle</td>\n",
       "      <td>WA</td>\n",
       "      <td>98119</td>\n",
       "      <td>Seattle</td>\n",
       "      <td>Seattle, WA</td>\n",
       "      <td>US</td>\n",
       "      <td>47.638473</td>\n",
       "      <td>-122.369279</td>\n",
       "      <td>Apartment</td>\n",
       "      <td>Entire home/apt</td>\n",
       "      <td>3</td>\n",
       "      <td>1.0</td>\n",
       "      <td>0.0</td>\n",
       "      <td>2.0</td>\n",
       "      <td>Real Bed</td>\n",
       "      <td>{Internet,\"Wireless Internet\",Kitchen,\"Indoor ...</td>\n",
       "      <td>NaN</td>\n",
       "      <td>100.0</td>\n",
       "      <td>NaN</td>\n",
       "      <td>NaN</td>\n",
       "      <td>NaN</td>\n",
       "      <td>flexible</td>\n",
       "      <td>NaN</td>\n",
       "    </tr>\n",
       "    <tr>\n",
       "      <th>4</th>\n",
       "      <td>278830</td>\n",
       "      <td>Charming craftsman 3 bdm house</td>\n",
       "      <td>Cozy family craftman house in beautiful neighb...</td>\n",
       "      <td>Cozy family craftman house in beautiful neighb...</td>\n",
       "      <td>Cozy family craftman house in beautiful neighb...</td>\n",
       "      <td>none</td>\n",
       "      <td>We are in the beautiful neighborhood of Queen ...</td>\n",
       "      <td>The nearest public transit bus (D Line) is 2 b...</td>\n",
       "      <td>1452570</td>\n",
       "      <td>Emily</td>\n",
       "      <td>2011-11-29</td>\n",
       "      <td>Seattle, Washington, United States</td>\n",
       "      <td>100%</td>\n",
       "      <td>NaN</td>\n",
       "      <td>Queen Anne</td>\n",
       "      <td>2.0</td>\n",
       "      <td>2.0</td>\n",
       "      <td>14th Ave W, Seattle, WA 98119, United States</td>\n",
       "      <td>Queen Anne</td>\n",
       "      <td>West Queen Anne</td>\n",
       "      <td>Queen Anne</td>\n",
       "      <td>Seattle</td>\n",
       "      <td>WA</td>\n",
       "      <td>98119</td>\n",
       "      <td>Seattle</td>\n",
       "      <td>Seattle, WA</td>\n",
       "      <td>US</td>\n",
       "      <td>47.632918</td>\n",
       "      <td>-122.372471</td>\n",
       "      <td>House</td>\n",
       "      <td>Entire home/apt</td>\n",
       "      <td>6</td>\n",
       "      <td>2.0</td>\n",
       "      <td>3.0</td>\n",
       "      <td>3.0</td>\n",
       "      <td>Real Bed</td>\n",
       "      <td>{TV,\"Cable TV\",Internet,\"Wireless Internet\",Ki...</td>\n",
       "      <td>NaN</td>\n",
       "      <td>450.0</td>\n",
       "      <td>92.0</td>\n",
       "      <td>9.0</td>\n",
       "      <td>9.0</td>\n",
       "      <td>strict</td>\n",
       "      <td>0.89</td>\n",
       "    </tr>\n",
       "  </tbody>\n",
       "</table>\n",
       "</div>"
      ],
      "text/plain": [
       "        id                                 name  \\\n",
       "0   241032         Stylish Queen Anne Apartment   \n",
       "1   953595   Bright & Airy Queen Anne Apartment   \n",
       "2  3308979  New Modern House-Amazing water view   \n",
       "3  7421966                   Queen Anne Chateau   \n",
       "4   278830       Charming craftsman 3 bdm house   \n",
       "\n",
       "                                             summary  \\\n",
       "0                                                NaN   \n",
       "1  Chemically sensitive? We've removed the irrita...   \n",
       "2  New modern house built in 2013.  Spectacular s...   \n",
       "3  A charming apartment that sits atop Queen Anne...   \n",
       "4  Cozy family craftman house in beautiful neighb...   \n",
       "\n",
       "                                               space  \\\n",
       "0  Make your self at home in this charming one-be...   \n",
       "1  Beautiful, hypoallergenic apartment in an extr...   \n",
       "2  Our house is modern, light and fresh with a wa...   \n",
       "3                                                NaN   \n",
       "4  Cozy family craftman house in beautiful neighb...   \n",
       "\n",
       "                                         description experiences_offered  \\\n",
       "0  Make your self at home in this charming one-be...                none   \n",
       "1  Chemically sensitive? We've removed the irrita...                none   \n",
       "2  New modern house built in 2013.  Spectacular s...                none   \n",
       "3  A charming apartment that sits atop Queen Anne...                none   \n",
       "4  Cozy family craftman house in beautiful neighb...                none   \n",
       "\n",
       "                               neighborhood_overview  \\\n",
       "0                                                NaN   \n",
       "1  Queen Anne is a wonderful, truly functional vi...   \n",
       "2  Upper Queen Anne is a charming neighborhood fu...   \n",
       "3                                                NaN   \n",
       "4  We are in the beautiful neighborhood of Queen ...   \n",
       "\n",
       "                                             transit   host_id host_name  \\\n",
       "0                                                NaN    956883     Maija   \n",
       "1  Convenient bus stops are just down the block, ...   5177328    Andrea   \n",
       "2  A bus stop is just 2 blocks away.   Easy bus a...  16708587      Jill   \n",
       "3                                                NaN   9851441     Emily   \n",
       "4  The nearest public transit bus (D Line) is 2 b...   1452570     Emily   \n",
       "\n",
       "  host_since                       host_location host_response_rate  \\\n",
       "0 2011-08-11  Seattle, Washington, United States                96%   \n",
       "1 2013-02-21  Seattle, Washington, United States                98%   \n",
       "2 2014-06-12  Seattle, Washington, United States                67%   \n",
       "3 2013-11-06  Seattle, Washington, United States                NaN   \n",
       "4 2011-11-29  Seattle, Washington, United States               100%   \n",
       "\n",
       "  host_acceptance_rate host_neighbourhood  host_listings_count  \\\n",
       "0                 100%         Queen Anne                  3.0   \n",
       "1                 100%         Queen Anne                  6.0   \n",
       "2                 100%         Queen Anne                  2.0   \n",
       "3                  NaN         Queen Anne                  1.0   \n",
       "4                  NaN         Queen Anne                  2.0   \n",
       "\n",
       "   host_total_listings_count  \\\n",
       "0                        3.0   \n",
       "1                        6.0   \n",
       "2                        2.0   \n",
       "3                        1.0   \n",
       "4                        2.0   \n",
       "\n",
       "                                              street neighbourhood  \\\n",
       "0      Gilman Dr W, Seattle, WA 98119, United States    Queen Anne   \n",
       "1  7th Avenue West, Seattle, WA 98119, United States    Queen Anne   \n",
       "2  West Lee Street, Seattle, WA 98119, United States    Queen Anne   \n",
       "3  8th Avenue West, Seattle, WA 98119, United States    Queen Anne   \n",
       "4       14th Ave W, Seattle, WA 98119, United States    Queen Anne   \n",
       "\n",
       "  neighbourhood_cleansed neighbourhood_group_cleansed     city state zipcode  \\\n",
       "0        West Queen Anne                   Queen Anne  Seattle    WA   98119   \n",
       "1        West Queen Anne                   Queen Anne  Seattle    WA   98119   \n",
       "2        West Queen Anne                   Queen Anne  Seattle    WA   98119   \n",
       "3        West Queen Anne                   Queen Anne  Seattle    WA   98119   \n",
       "4        West Queen Anne                   Queen Anne  Seattle    WA   98119   \n",
       "\n",
       "    market smart_location country_code   latitude   longitude property_type  \\\n",
       "0  Seattle    Seattle, WA           US  47.636289 -122.371025     Apartment   \n",
       "1  Seattle    Seattle, WA           US  47.639123 -122.365666     Apartment   \n",
       "2  Seattle    Seattle, WA           US  47.629724 -122.369483         House   \n",
       "3  Seattle    Seattle, WA           US  47.638473 -122.369279     Apartment   \n",
       "4  Seattle    Seattle, WA           US  47.632918 -122.372471         House   \n",
       "\n",
       "         room_type  accommodates  bathrooms  bedrooms  beds  bed_type  \\\n",
       "0  Entire home/apt             4        1.0       1.0   1.0  Real Bed   \n",
       "1  Entire home/apt             4        1.0       1.0   1.0  Real Bed   \n",
       "2  Entire home/apt            11        4.5       5.0   7.0  Real Bed   \n",
       "3  Entire home/apt             3        1.0       0.0   2.0  Real Bed   \n",
       "4  Entire home/apt             6        2.0       3.0   3.0  Real Bed   \n",
       "\n",
       "                                           amenities  square_feet  price  \\\n",
       "0  {TV,\"Cable TV\",Internet,\"Wireless Internet\",\"A...          NaN   85.0   \n",
       "1  {TV,Internet,\"Wireless Internet\",Kitchen,\"Free...          NaN  150.0   \n",
       "2  {TV,\"Cable TV\",Internet,\"Wireless Internet\",\"A...          NaN  975.0   \n",
       "3  {Internet,\"Wireless Internet\",Kitchen,\"Indoor ...          NaN  100.0   \n",
       "4  {TV,\"Cable TV\",Internet,\"Wireless Internet\",Ki...          NaN  450.0   \n",
       "\n",
       "   review_scores_rating  review_scores_accuracy  review_scores_cleanliness  \\\n",
       "0                  95.0                    10.0                       10.0   \n",
       "1                  96.0                    10.0                       10.0   \n",
       "2                  97.0                    10.0                       10.0   \n",
       "3                   NaN                     NaN                        NaN   \n",
       "4                  92.0                     9.0                        9.0   \n",
       "\n",
       "  cancellation_policy  reviews_per_month  \n",
       "0            moderate               4.07  \n",
       "1              strict               1.48  \n",
       "2              strict               1.15  \n",
       "3            flexible                NaN  \n",
       "4              strict               0.89  "
      ]
     },
     "execution_count": 79,
     "metadata": {},
     "output_type": "execute_result"
    }
   ],
   "source": [
    "df_listings_clean.head()"
   ]
  },
  {
   "cell_type": "code",
   "execution_count": 80,
   "metadata": {},
   "outputs": [
    {
     "data": {
      "text/html": [
       "<div>\n",
       "<style scoped>\n",
       "    .dataframe tbody tr th:only-of-type {\n",
       "        vertical-align: middle;\n",
       "    }\n",
       "\n",
       "    .dataframe tbody tr th {\n",
       "        vertical-align: top;\n",
       "    }\n",
       "\n",
       "    .dataframe thead th {\n",
       "        text-align: right;\n",
       "    }\n",
       "</style>\n",
       "<table border=\"1\" class=\"dataframe\">\n",
       "  <thead>\n",
       "    <tr style=\"text-align: right;\">\n",
       "      <th></th>\n",
       "      <th>id</th>\n",
       "      <th>name</th>\n",
       "      <th>summary</th>\n",
       "      <th>space</th>\n",
       "      <th>description</th>\n",
       "      <th>experiences_offered</th>\n",
       "      <th>neighborhood_overview</th>\n",
       "      <th>transit</th>\n",
       "      <th>host_id</th>\n",
       "      <th>host_name</th>\n",
       "      <th>host_since</th>\n",
       "      <th>host_location</th>\n",
       "      <th>host_response_rate</th>\n",
       "      <th>host_acceptance_rate</th>\n",
       "      <th>host_neighbourhood</th>\n",
       "      <th>host_listings_count</th>\n",
       "      <th>host_total_listings_count</th>\n",
       "      <th>street</th>\n",
       "      <th>neighbourhood</th>\n",
       "      <th>neighbourhood_cleansed</th>\n",
       "      <th>neighbourhood_group_cleansed</th>\n",
       "      <th>city</th>\n",
       "      <th>state</th>\n",
       "      <th>zipcode</th>\n",
       "      <th>market</th>\n",
       "      <th>smart_location</th>\n",
       "      <th>country_code</th>\n",
       "      <th>latitude</th>\n",
       "      <th>longitude</th>\n",
       "      <th>property_type</th>\n",
       "      <th>room_type</th>\n",
       "      <th>accommodates</th>\n",
       "      <th>bathrooms</th>\n",
       "      <th>bedrooms</th>\n",
       "      <th>beds</th>\n",
       "      <th>bed_type</th>\n",
       "      <th>amenities</th>\n",
       "      <th>square_feet</th>\n",
       "      <th>price</th>\n",
       "      <th>review_scores_rating</th>\n",
       "      <th>review_scores_accuracy</th>\n",
       "      <th>review_scores_cleanliness</th>\n",
       "      <th>cancellation_policy</th>\n",
       "      <th>reviews_per_month</th>\n",
       "    </tr>\n",
       "  </thead>\n",
       "  <tbody>\n",
       "    <tr>\n",
       "      <th>3813</th>\n",
       "      <td>8101950</td>\n",
       "      <td>3BR Mountain View House in Seattle</td>\n",
       "      <td>Our 3BR/2BA house boasts incredible views of t...</td>\n",
       "      <td>Our 3BR/2BA house bright, stylish, and wheelch...</td>\n",
       "      <td>Our 3BR/2BA house boasts incredible views of t...</td>\n",
       "      <td>none</td>\n",
       "      <td>We're located near lots of family fun. Woodlan...</td>\n",
       "      <td>NaN</td>\n",
       "      <td>31148752</td>\n",
       "      <td>Bo</td>\n",
       "      <td>2015-04-13</td>\n",
       "      <td>US</td>\n",
       "      <td>99%</td>\n",
       "      <td>100%</td>\n",
       "      <td>Holly</td>\n",
       "      <td>354.0</td>\n",
       "      <td>354.0</td>\n",
       "      <td>Northwest 48th Street, Seattle, WA 98107, Unit...</td>\n",
       "      <td>Fremont</td>\n",
       "      <td>Fremont</td>\n",
       "      <td>Other neighborhoods</td>\n",
       "      <td>Seattle</td>\n",
       "      <td>WA</td>\n",
       "      <td>98107</td>\n",
       "      <td>Seattle</td>\n",
       "      <td>Seattle, WA</td>\n",
       "      <td>US</td>\n",
       "      <td>47.664295</td>\n",
       "      <td>-122.359170</td>\n",
       "      <td>House</td>\n",
       "      <td>Entire home/apt</td>\n",
       "      <td>6</td>\n",
       "      <td>2.0</td>\n",
       "      <td>3.0</td>\n",
       "      <td>3.0</td>\n",
       "      <td>Real Bed</td>\n",
       "      <td>{TV,\"Cable TV\",Internet,\"Wireless Internet\",\"A...</td>\n",
       "      <td>NaN</td>\n",
       "      <td>359.0</td>\n",
       "      <td>80.0</td>\n",
       "      <td>8.0</td>\n",
       "      <td>10.0</td>\n",
       "      <td>strict</td>\n",
       "      <td>0.3</td>\n",
       "    </tr>\n",
       "    <tr>\n",
       "      <th>3814</th>\n",
       "      <td>8902327</td>\n",
       "      <td>Portage Bay View!-One Bedroom Apt</td>\n",
       "      <td>800 square foot 1 bedroom basement apartment w...</td>\n",
       "      <td>This space has a great view of Portage Bay wit...</td>\n",
       "      <td>800 square foot 1 bedroom basement apartment w...</td>\n",
       "      <td>none</td>\n",
       "      <td>The neighborhood is a quiet oasis that is clos...</td>\n",
       "      <td>Uber and Car2go are good options in Seattle. T...</td>\n",
       "      <td>46566046</td>\n",
       "      <td>Glen</td>\n",
       "      <td>2015-10-14</td>\n",
       "      <td>Seattle, Washington, United States</td>\n",
       "      <td>100%</td>\n",
       "      <td>100%</td>\n",
       "      <td>Portage Bay</td>\n",
       "      <td>1.0</td>\n",
       "      <td>1.0</td>\n",
       "      <td>Fuhrman Avenue East, Seattle, WA 98102, United...</td>\n",
       "      <td>Portage Bay</td>\n",
       "      <td>Portage Bay</td>\n",
       "      <td>Capitol Hill</td>\n",
       "      <td>Seattle</td>\n",
       "      <td>WA</td>\n",
       "      <td>98102</td>\n",
       "      <td>Seattle</td>\n",
       "      <td>Seattle, WA</td>\n",
       "      <td>US</td>\n",
       "      <td>47.649552</td>\n",
       "      <td>-122.318309</td>\n",
       "      <td>Apartment</td>\n",
       "      <td>Entire home/apt</td>\n",
       "      <td>4</td>\n",
       "      <td>1.0</td>\n",
       "      <td>1.0</td>\n",
       "      <td>2.0</td>\n",
       "      <td>Real Bed</td>\n",
       "      <td>{TV,\"Cable TV\",Internet,\"Wireless Internet\",Ki...</td>\n",
       "      <td>NaN</td>\n",
       "      <td>79.0</td>\n",
       "      <td>100.0</td>\n",
       "      <td>10.0</td>\n",
       "      <td>10.0</td>\n",
       "      <td>moderate</td>\n",
       "      <td>2.0</td>\n",
       "    </tr>\n",
       "    <tr>\n",
       "      <th>3815</th>\n",
       "      <td>10267360</td>\n",
       "      <td>Private apartment view of Lake WA</td>\n",
       "      <td>Very comfortable lower unit. Quiet, charming m...</td>\n",
       "      <td>NaN</td>\n",
       "      <td>Very comfortable lower unit. Quiet, charming m...</td>\n",
       "      <td>none</td>\n",
       "      <td>NaN</td>\n",
       "      <td>NaN</td>\n",
       "      <td>52791370</td>\n",
       "      <td>Virginia</td>\n",
       "      <td>2015-12-30</td>\n",
       "      <td>US</td>\n",
       "      <td>NaN</td>\n",
       "      <td>NaN</td>\n",
       "      <td>NaN</td>\n",
       "      <td>1.0</td>\n",
       "      <td>1.0</td>\n",
       "      <td>South Laurel Street, Seattle, WA 98178, United...</td>\n",
       "      <td>NaN</td>\n",
       "      <td>Rainier Beach</td>\n",
       "      <td>Rainier Valley</td>\n",
       "      <td>Seattle</td>\n",
       "      <td>WA</td>\n",
       "      <td>98178</td>\n",
       "      <td>Seattle</td>\n",
       "      <td>Seattle, WA</td>\n",
       "      <td>US</td>\n",
       "      <td>47.508453</td>\n",
       "      <td>-122.240607</td>\n",
       "      <td>House</td>\n",
       "      <td>Entire home/apt</td>\n",
       "      <td>2</td>\n",
       "      <td>1.0</td>\n",
       "      <td>1.0</td>\n",
       "      <td>1.0</td>\n",
       "      <td>Real Bed</td>\n",
       "      <td>{\"Cable TV\",\"Wireless Internet\",Kitchen,\"Free ...</td>\n",
       "      <td>NaN</td>\n",
       "      <td>93.0</td>\n",
       "      <td>NaN</td>\n",
       "      <td>NaN</td>\n",
       "      <td>NaN</td>\n",
       "      <td>moderate</td>\n",
       "      <td>NaN</td>\n",
       "    </tr>\n",
       "    <tr>\n",
       "      <th>3816</th>\n",
       "      <td>9604740</td>\n",
       "      <td>Amazing View with Modern Comfort!</td>\n",
       "      <td>Cozy studio condo in the heart on Madison Park...</td>\n",
       "      <td>Fully furnished unit to accommodate most needs...</td>\n",
       "      <td>Cozy studio condo in the heart on Madison Park...</td>\n",
       "      <td>none</td>\n",
       "      <td>Madison Park offers a peaceful slow pace upsca...</td>\n",
       "      <td>Yes</td>\n",
       "      <td>25522052</td>\n",
       "      <td>Karen</td>\n",
       "      <td>2015-01-03</td>\n",
       "      <td>Tacoma, Washington, United States</td>\n",
       "      <td>100%</td>\n",
       "      <td>NaN</td>\n",
       "      <td>NaN</td>\n",
       "      <td>1.0</td>\n",
       "      <td>1.0</td>\n",
       "      <td>43rd Avenue East, Seattle, WA 98112, United St...</td>\n",
       "      <td>NaN</td>\n",
       "      <td>Madison Park</td>\n",
       "      <td>Capitol Hill</td>\n",
       "      <td>Seattle</td>\n",
       "      <td>WA</td>\n",
       "      <td>98112</td>\n",
       "      <td>Seattle</td>\n",
       "      <td>Seattle, WA</td>\n",
       "      <td>US</td>\n",
       "      <td>47.632335</td>\n",
       "      <td>-122.275530</td>\n",
       "      <td>Condominium</td>\n",
       "      <td>Entire home/apt</td>\n",
       "      <td>2</td>\n",
       "      <td>1.0</td>\n",
       "      <td>0.0</td>\n",
       "      <td>1.0</td>\n",
       "      <td>Real Bed</td>\n",
       "      <td>{TV,\"Wireless Internet\",Kitchen,\"Free Parking ...</td>\n",
       "      <td>NaN</td>\n",
       "      <td>99.0</td>\n",
       "      <td>NaN</td>\n",
       "      <td>NaN</td>\n",
       "      <td>NaN</td>\n",
       "      <td>moderate</td>\n",
       "      <td>NaN</td>\n",
       "    </tr>\n",
       "    <tr>\n",
       "      <th>3817</th>\n",
       "      <td>10208623</td>\n",
       "      <td>Large Lakefront Apartment</td>\n",
       "      <td>All hardwood floors, fireplace, 65\" TV with Xb...</td>\n",
       "      <td>NaN</td>\n",
       "      <td>All hardwood floors, fireplace, 65\" TV with Xb...</td>\n",
       "      <td>none</td>\n",
       "      <td>NaN</td>\n",
       "      <td>NaN</td>\n",
       "      <td>14703116</td>\n",
       "      <td>Gil</td>\n",
       "      <td>2014-04-25</td>\n",
       "      <td>Seattle, Washington, United States</td>\n",
       "      <td>100%</td>\n",
       "      <td>NaN</td>\n",
       "      <td>Queen Anne</td>\n",
       "      <td>1.0</td>\n",
       "      <td>1.0</td>\n",
       "      <td>Westlake Avenue North, Seattle, WA 98109, Unit...</td>\n",
       "      <td>Queen Anne</td>\n",
       "      <td>East Queen Anne</td>\n",
       "      <td>Queen Anne</td>\n",
       "      <td>Seattle</td>\n",
       "      <td>WA</td>\n",
       "      <td>98109</td>\n",
       "      <td>Seattle</td>\n",
       "      <td>Seattle, WA</td>\n",
       "      <td>US</td>\n",
       "      <td>47.641186</td>\n",
       "      <td>-122.342085</td>\n",
       "      <td>Apartment</td>\n",
       "      <td>Entire home/apt</td>\n",
       "      <td>3</td>\n",
       "      <td>1.5</td>\n",
       "      <td>2.0</td>\n",
       "      <td>1.0</td>\n",
       "      <td>Real Bed</td>\n",
       "      <td>{TV,\"Cable TV\",Internet,\"Wireless Internet\",Ki...</td>\n",
       "      <td>NaN</td>\n",
       "      <td>87.0</td>\n",
       "      <td>NaN</td>\n",
       "      <td>NaN</td>\n",
       "      <td>NaN</td>\n",
       "      <td>flexible</td>\n",
       "      <td>NaN</td>\n",
       "    </tr>\n",
       "  </tbody>\n",
       "</table>\n",
       "</div>"
      ],
      "text/plain": [
       "            id                                name  \\\n",
       "3813   8101950  3BR Mountain View House in Seattle   \n",
       "3814   8902327   Portage Bay View!-One Bedroom Apt   \n",
       "3815  10267360   Private apartment view of Lake WA   \n",
       "3816   9604740   Amazing View with Modern Comfort!   \n",
       "3817  10208623           Large Lakefront Apartment   \n",
       "\n",
       "                                                summary  \\\n",
       "3813  Our 3BR/2BA house boasts incredible views of t...   \n",
       "3814  800 square foot 1 bedroom basement apartment w...   \n",
       "3815  Very comfortable lower unit. Quiet, charming m...   \n",
       "3816  Cozy studio condo in the heart on Madison Park...   \n",
       "3817  All hardwood floors, fireplace, 65\" TV with Xb...   \n",
       "\n",
       "                                                  space  \\\n",
       "3813  Our 3BR/2BA house bright, stylish, and wheelch...   \n",
       "3814  This space has a great view of Portage Bay wit...   \n",
       "3815                                                NaN   \n",
       "3816  Fully furnished unit to accommodate most needs...   \n",
       "3817                                                NaN   \n",
       "\n",
       "                                            description experiences_offered  \\\n",
       "3813  Our 3BR/2BA house boasts incredible views of t...                none   \n",
       "3814  800 square foot 1 bedroom basement apartment w...                none   \n",
       "3815  Very comfortable lower unit. Quiet, charming m...                none   \n",
       "3816  Cozy studio condo in the heart on Madison Park...                none   \n",
       "3817  All hardwood floors, fireplace, 65\" TV with Xb...                none   \n",
       "\n",
       "                                  neighborhood_overview  \\\n",
       "3813  We're located near lots of family fun. Woodlan...   \n",
       "3814  The neighborhood is a quiet oasis that is clos...   \n",
       "3815                                                NaN   \n",
       "3816  Madison Park offers a peaceful slow pace upsca...   \n",
       "3817                                                NaN   \n",
       "\n",
       "                                                transit   host_id host_name  \\\n",
       "3813                                                NaN  31148752        Bo   \n",
       "3814  Uber and Car2go are good options in Seattle. T...  46566046      Glen   \n",
       "3815                                                NaN  52791370  Virginia   \n",
       "3816                                                Yes  25522052     Karen   \n",
       "3817                                                NaN  14703116       Gil   \n",
       "\n",
       "     host_since                       host_location host_response_rate  \\\n",
       "3813 2015-04-13                                  US                99%   \n",
       "3814 2015-10-14  Seattle, Washington, United States               100%   \n",
       "3815 2015-12-30                                  US                NaN   \n",
       "3816 2015-01-03   Tacoma, Washington, United States               100%   \n",
       "3817 2014-04-25  Seattle, Washington, United States               100%   \n",
       "\n",
       "     host_acceptance_rate host_neighbourhood  host_listings_count  \\\n",
       "3813                 100%              Holly                354.0   \n",
       "3814                 100%        Portage Bay                  1.0   \n",
       "3815                  NaN                NaN                  1.0   \n",
       "3816                  NaN                NaN                  1.0   \n",
       "3817                  NaN         Queen Anne                  1.0   \n",
       "\n",
       "      host_total_listings_count  \\\n",
       "3813                      354.0   \n",
       "3814                        1.0   \n",
       "3815                        1.0   \n",
       "3816                        1.0   \n",
       "3817                        1.0   \n",
       "\n",
       "                                                 street neighbourhood  \\\n",
       "3813  Northwest 48th Street, Seattle, WA 98107, Unit...       Fremont   \n",
       "3814  Fuhrman Avenue East, Seattle, WA 98102, United...   Portage Bay   \n",
       "3815  South Laurel Street, Seattle, WA 98178, United...           NaN   \n",
       "3816  43rd Avenue East, Seattle, WA 98112, United St...           NaN   \n",
       "3817  Westlake Avenue North, Seattle, WA 98109, Unit...    Queen Anne   \n",
       "\n",
       "     neighbourhood_cleansed neighbourhood_group_cleansed     city state  \\\n",
       "3813                Fremont          Other neighborhoods  Seattle    WA   \n",
       "3814            Portage Bay                 Capitol Hill  Seattle    WA   \n",
       "3815          Rainier Beach               Rainier Valley  Seattle    WA   \n",
       "3816           Madison Park                 Capitol Hill  Seattle    WA   \n",
       "3817        East Queen Anne                   Queen Anne  Seattle    WA   \n",
       "\n",
       "     zipcode   market smart_location country_code   latitude   longitude  \\\n",
       "3813   98107  Seattle    Seattle, WA           US  47.664295 -122.359170   \n",
       "3814   98102  Seattle    Seattle, WA           US  47.649552 -122.318309   \n",
       "3815   98178  Seattle    Seattle, WA           US  47.508453 -122.240607   \n",
       "3816   98112  Seattle    Seattle, WA           US  47.632335 -122.275530   \n",
       "3817   98109  Seattle    Seattle, WA           US  47.641186 -122.342085   \n",
       "\n",
       "     property_type        room_type  accommodates  bathrooms  bedrooms  beds  \\\n",
       "3813         House  Entire home/apt             6        2.0       3.0   3.0   \n",
       "3814     Apartment  Entire home/apt             4        1.0       1.0   2.0   \n",
       "3815         House  Entire home/apt             2        1.0       1.0   1.0   \n",
       "3816   Condominium  Entire home/apt             2        1.0       0.0   1.0   \n",
       "3817     Apartment  Entire home/apt             3        1.5       2.0   1.0   \n",
       "\n",
       "      bed_type                                          amenities  \\\n",
       "3813  Real Bed  {TV,\"Cable TV\",Internet,\"Wireless Internet\",\"A...   \n",
       "3814  Real Bed  {TV,\"Cable TV\",Internet,\"Wireless Internet\",Ki...   \n",
       "3815  Real Bed  {\"Cable TV\",\"Wireless Internet\",Kitchen,\"Free ...   \n",
       "3816  Real Bed  {TV,\"Wireless Internet\",Kitchen,\"Free Parking ...   \n",
       "3817  Real Bed  {TV,\"Cable TV\",Internet,\"Wireless Internet\",Ki...   \n",
       "\n",
       "      square_feet  price  review_scores_rating  review_scores_accuracy  \\\n",
       "3813          NaN  359.0                  80.0                     8.0   \n",
       "3814          NaN   79.0                 100.0                    10.0   \n",
       "3815          NaN   93.0                   NaN                     NaN   \n",
       "3816          NaN   99.0                   NaN                     NaN   \n",
       "3817          NaN   87.0                   NaN                     NaN   \n",
       "\n",
       "      review_scores_cleanliness cancellation_policy  reviews_per_month  \n",
       "3813                       10.0              strict                0.3  \n",
       "3814                       10.0            moderate                2.0  \n",
       "3815                        NaN            moderate                NaN  \n",
       "3816                        NaN            moderate                NaN  \n",
       "3817                        NaN            flexible                NaN  "
      ]
     },
     "execution_count": 80,
     "metadata": {},
     "output_type": "execute_result"
    }
   ],
   "source": [
    "df_listings_clean.tail()"
   ]
  },
  {
   "cell_type": "code",
   "execution_count": 81,
   "metadata": {},
   "outputs": [
    {
     "data": {
      "text/plain": [
       "id                                  1.000000\n",
       "listing_url                         1.000000\n",
       "scrape_id                           1.000000\n",
       "last_scraped                        1.000000\n",
       "name                                1.000000\n",
       "                                      ...   \n",
       "cancellation_policy                 1.000000\n",
       "require_guest_profile_picture       1.000000\n",
       "require_guest_phone_verification    1.000000\n",
       "calculated_host_listings_count      1.000000\n",
       "reviews_per_month                   0.835778\n",
       "Length: 92, dtype: float64"
      ]
     },
     "execution_count": 81,
     "metadata": {},
     "output_type": "execute_result"
    }
   ],
   "source": [
    "df_listings.count() / len(df_listings_clean)"
   ]
  },
  {
   "cell_type": "markdown",
   "metadata": {},
   "source": [
    "# Analysis"
   ]
  },
  {
   "cell_type": "code",
   "execution_count": 82,
   "metadata": {},
   "outputs": [
    {
     "data": {
      "text/html": [
       "<div>\n",
       "<style scoped>\n",
       "    .dataframe tbody tr th:only-of-type {\n",
       "        vertical-align: middle;\n",
       "    }\n",
       "\n",
       "    .dataframe tbody tr th {\n",
       "        vertical-align: top;\n",
       "    }\n",
       "\n",
       "    .dataframe thead th {\n",
       "        text-align: right;\n",
       "    }\n",
       "</style>\n",
       "<table border=\"1\" class=\"dataframe\">\n",
       "  <thead>\n",
       "    <tr style=\"text-align: right;\">\n",
       "      <th></th>\n",
       "      <th>id</th>\n",
       "      <th>name</th>\n",
       "      <th>summary</th>\n",
       "      <th>space</th>\n",
       "      <th>description</th>\n",
       "      <th>experiences_offered</th>\n",
       "      <th>neighborhood_overview</th>\n",
       "      <th>transit</th>\n",
       "      <th>host_id</th>\n",
       "      <th>host_name</th>\n",
       "      <th>host_since</th>\n",
       "      <th>host_location</th>\n",
       "      <th>host_response_rate</th>\n",
       "      <th>host_acceptance_rate</th>\n",
       "      <th>host_neighbourhood</th>\n",
       "      <th>host_listings_count</th>\n",
       "      <th>host_total_listings_count</th>\n",
       "      <th>street</th>\n",
       "      <th>neighbourhood</th>\n",
       "      <th>neighbourhood_cleansed</th>\n",
       "      <th>neighbourhood_group_cleansed</th>\n",
       "      <th>city</th>\n",
       "      <th>state</th>\n",
       "      <th>zipcode</th>\n",
       "      <th>market</th>\n",
       "      <th>smart_location</th>\n",
       "      <th>country_code</th>\n",
       "      <th>latitude</th>\n",
       "      <th>longitude</th>\n",
       "      <th>property_type</th>\n",
       "      <th>room_type</th>\n",
       "      <th>accommodates</th>\n",
       "      <th>bathrooms</th>\n",
       "      <th>bedrooms</th>\n",
       "      <th>beds</th>\n",
       "      <th>bed_type</th>\n",
       "      <th>amenities</th>\n",
       "      <th>square_feet</th>\n",
       "      <th>price</th>\n",
       "      <th>review_scores_rating</th>\n",
       "      <th>review_scores_accuracy</th>\n",
       "      <th>review_scores_cleanliness</th>\n",
       "      <th>cancellation_policy</th>\n",
       "      <th>reviews_per_month</th>\n",
       "    </tr>\n",
       "  </thead>\n",
       "  <tbody>\n",
       "    <tr>\n",
       "      <th>count</th>\n",
       "      <td>3.818000e+03</td>\n",
       "      <td>3818</td>\n",
       "      <td>3641</td>\n",
       "      <td>3249</td>\n",
       "      <td>3818</td>\n",
       "      <td>3818</td>\n",
       "      <td>2786</td>\n",
       "      <td>2884</td>\n",
       "      <td>3.818000e+03</td>\n",
       "      <td>3816</td>\n",
       "      <td>3816</td>\n",
       "      <td>3810</td>\n",
       "      <td>3295</td>\n",
       "      <td>3045</td>\n",
       "      <td>3518</td>\n",
       "      <td>3816.000000</td>\n",
       "      <td>3816.000000</td>\n",
       "      <td>3818</td>\n",
       "      <td>3402</td>\n",
       "      <td>3818</td>\n",
       "      <td>3818</td>\n",
       "      <td>3818</td>\n",
       "      <td>3818</td>\n",
       "      <td>3811</td>\n",
       "      <td>3818</td>\n",
       "      <td>3818</td>\n",
       "      <td>3818</td>\n",
       "      <td>3818.000000</td>\n",
       "      <td>3818.000000</td>\n",
       "      <td>3817</td>\n",
       "      <td>3818</td>\n",
       "      <td>3818.000000</td>\n",
       "      <td>3802.000000</td>\n",
       "      <td>3812.000000</td>\n",
       "      <td>3817.000000</td>\n",
       "      <td>3818</td>\n",
       "      <td>3818</td>\n",
       "      <td>97.000000</td>\n",
       "      <td>3818.000000</td>\n",
       "      <td>3171.000000</td>\n",
       "      <td>3160.000000</td>\n",
       "      <td>3165.000000</td>\n",
       "      <td>3818</td>\n",
       "      <td>3191.000000</td>\n",
       "    </tr>\n",
       "    <tr>\n",
       "      <th>unique</th>\n",
       "      <td>NaN</td>\n",
       "      <td>3792</td>\n",
       "      <td>3478</td>\n",
       "      <td>3119</td>\n",
       "      <td>3742</td>\n",
       "      <td>1</td>\n",
       "      <td>2506</td>\n",
       "      <td>2574</td>\n",
       "      <td>NaN</td>\n",
       "      <td>1466</td>\n",
       "      <td>NaN</td>\n",
       "      <td>120</td>\n",
       "      <td>45</td>\n",
       "      <td>2</td>\n",
       "      <td>102</td>\n",
       "      <td>NaN</td>\n",
       "      <td>NaN</td>\n",
       "      <td>1442</td>\n",
       "      <td>81</td>\n",
       "      <td>87</td>\n",
       "      <td>17</td>\n",
       "      <td>7</td>\n",
       "      <td>2</td>\n",
       "      <td>28</td>\n",
       "      <td>1</td>\n",
       "      <td>7</td>\n",
       "      <td>1</td>\n",
       "      <td>NaN</td>\n",
       "      <td>NaN</td>\n",
       "      <td>16</td>\n",
       "      <td>3</td>\n",
       "      <td>NaN</td>\n",
       "      <td>NaN</td>\n",
       "      <td>NaN</td>\n",
       "      <td>NaN</td>\n",
       "      <td>5</td>\n",
       "      <td>3284</td>\n",
       "      <td>NaN</td>\n",
       "      <td>NaN</td>\n",
       "      <td>NaN</td>\n",
       "      <td>NaN</td>\n",
       "      <td>NaN</td>\n",
       "      <td>3</td>\n",
       "      <td>NaN</td>\n",
       "    </tr>\n",
       "    <tr>\n",
       "      <th>top</th>\n",
       "      <td>NaN</td>\n",
       "      <td>Capitol Hill Apartment</td>\n",
       "      <td>This is a modern fully-furnished studio apartm...</td>\n",
       "      <td>*Note: This fall, there will be major renovati...</td>\n",
       "      <td>Our space is a mix of a hostel and a home. We ...</td>\n",
       "      <td>none</td>\n",
       "      <td>Wallingford is a mostly-residential neighborho...</td>\n",
       "      <td>Convenient public transportation. The location...</td>\n",
       "      <td>NaN</td>\n",
       "      <td>Andrew</td>\n",
       "      <td>NaN</td>\n",
       "      <td>Seattle, Washington, United States</td>\n",
       "      <td>100%</td>\n",
       "      <td>100%</td>\n",
       "      <td>Capitol Hill</td>\n",
       "      <td>NaN</td>\n",
       "      <td>NaN</td>\n",
       "      <td>1st Avenue, Seattle, WA 98101, United States</td>\n",
       "      <td>Capitol Hill</td>\n",
       "      <td>Broadway</td>\n",
       "      <td>Other neighborhoods</td>\n",
       "      <td>Seattle</td>\n",
       "      <td>WA</td>\n",
       "      <td>98122</td>\n",
       "      <td>Seattle</td>\n",
       "      <td>Seattle, WA</td>\n",
       "      <td>US</td>\n",
       "      <td>NaN</td>\n",
       "      <td>NaN</td>\n",
       "      <td>House</td>\n",
       "      <td>Entire home/apt</td>\n",
       "      <td>NaN</td>\n",
       "      <td>NaN</td>\n",
       "      <td>NaN</td>\n",
       "      <td>NaN</td>\n",
       "      <td>Real Bed</td>\n",
       "      <td>{}</td>\n",
       "      <td>NaN</td>\n",
       "      <td>NaN</td>\n",
       "      <td>NaN</td>\n",
       "      <td>NaN</td>\n",
       "      <td>NaN</td>\n",
       "      <td>strict</td>\n",
       "      <td>NaN</td>\n",
       "    </tr>\n",
       "    <tr>\n",
       "      <th>freq</th>\n",
       "      <td>NaN</td>\n",
       "      <td>3</td>\n",
       "      <td>15</td>\n",
       "      <td>14</td>\n",
       "      <td>10</td>\n",
       "      <td>3818</td>\n",
       "      <td>17</td>\n",
       "      <td>32</td>\n",
       "      <td>NaN</td>\n",
       "      <td>56</td>\n",
       "      <td>NaN</td>\n",
       "      <td>3259</td>\n",
       "      <td>2371</td>\n",
       "      <td>3044</td>\n",
       "      <td>405</td>\n",
       "      <td>NaN</td>\n",
       "      <td>NaN</td>\n",
       "      <td>30</td>\n",
       "      <td>351</td>\n",
       "      <td>397</td>\n",
       "      <td>794</td>\n",
       "      <td>3810</td>\n",
       "      <td>3817</td>\n",
       "      <td>420</td>\n",
       "      <td>3818</td>\n",
       "      <td>3810</td>\n",
       "      <td>3818</td>\n",
       "      <td>NaN</td>\n",
       "      <td>NaN</td>\n",
       "      <td>1733</td>\n",
       "      <td>2541</td>\n",
       "      <td>NaN</td>\n",
       "      <td>NaN</td>\n",
       "      <td>NaN</td>\n",
       "      <td>NaN</td>\n",
       "      <td>3657</td>\n",
       "      <td>45</td>\n",
       "      <td>NaN</td>\n",
       "      <td>NaN</td>\n",
       "      <td>NaN</td>\n",
       "      <td>NaN</td>\n",
       "      <td>NaN</td>\n",
       "      <td>1417</td>\n",
       "      <td>NaN</td>\n",
       "    </tr>\n",
       "    <tr>\n",
       "      <th>mean</th>\n",
       "      <td>5.550111e+06</td>\n",
       "      <td>NaN</td>\n",
       "      <td>NaN</td>\n",
       "      <td>NaN</td>\n",
       "      <td>NaN</td>\n",
       "      <td>NaN</td>\n",
       "      <td>NaN</td>\n",
       "      <td>NaN</td>\n",
       "      <td>1.578556e+07</td>\n",
       "      <td>NaN</td>\n",
       "      <td>2013-09-18 17:26:02.264151040</td>\n",
       "      <td>NaN</td>\n",
       "      <td>NaN</td>\n",
       "      <td>NaN</td>\n",
       "      <td>NaN</td>\n",
       "      <td>7.157757</td>\n",
       "      <td>7.157757</td>\n",
       "      <td>NaN</td>\n",
       "      <td>NaN</td>\n",
       "      <td>NaN</td>\n",
       "      <td>NaN</td>\n",
       "      <td>NaN</td>\n",
       "      <td>NaN</td>\n",
       "      <td>NaN</td>\n",
       "      <td>NaN</td>\n",
       "      <td>NaN</td>\n",
       "      <td>NaN</td>\n",
       "      <td>47.628961</td>\n",
       "      <td>-122.333103</td>\n",
       "      <td>NaN</td>\n",
       "      <td>NaN</td>\n",
       "      <td>3.349398</td>\n",
       "      <td>1.259469</td>\n",
       "      <td>1.307712</td>\n",
       "      <td>1.735394</td>\n",
       "      <td>NaN</td>\n",
       "      <td>NaN</td>\n",
       "      <td>854.618557</td>\n",
       "      <td>127.976166</td>\n",
       "      <td>94.539262</td>\n",
       "      <td>9.636392</td>\n",
       "      <td>9.556398</td>\n",
       "      <td>NaN</td>\n",
       "      <td>2.078919</td>\n",
       "    </tr>\n",
       "    <tr>\n",
       "      <th>min</th>\n",
       "      <td>3.335000e+03</td>\n",
       "      <td>NaN</td>\n",
       "      <td>NaN</td>\n",
       "      <td>NaN</td>\n",
       "      <td>NaN</td>\n",
       "      <td>NaN</td>\n",
       "      <td>NaN</td>\n",
       "      <td>NaN</td>\n",
       "      <td>4.193000e+03</td>\n",
       "      <td>NaN</td>\n",
       "      <td>2008-11-10 00:00:00</td>\n",
       "      <td>NaN</td>\n",
       "      <td>NaN</td>\n",
       "      <td>NaN</td>\n",
       "      <td>NaN</td>\n",
       "      <td>1.000000</td>\n",
       "      <td>1.000000</td>\n",
       "      <td>NaN</td>\n",
       "      <td>NaN</td>\n",
       "      <td>NaN</td>\n",
       "      <td>NaN</td>\n",
       "      <td>NaN</td>\n",
       "      <td>NaN</td>\n",
       "      <td>NaN</td>\n",
       "      <td>NaN</td>\n",
       "      <td>NaN</td>\n",
       "      <td>NaN</td>\n",
       "      <td>47.505088</td>\n",
       "      <td>-122.417219</td>\n",
       "      <td>NaN</td>\n",
       "      <td>NaN</td>\n",
       "      <td>1.000000</td>\n",
       "      <td>0.000000</td>\n",
       "      <td>0.000000</td>\n",
       "      <td>1.000000</td>\n",
       "      <td>NaN</td>\n",
       "      <td>NaN</td>\n",
       "      <td>0.000000</td>\n",
       "      <td>20.000000</td>\n",
       "      <td>20.000000</td>\n",
       "      <td>2.000000</td>\n",
       "      <td>3.000000</td>\n",
       "      <td>NaN</td>\n",
       "      <td>0.020000</td>\n",
       "    </tr>\n",
       "    <tr>\n",
       "      <th>25%</th>\n",
       "      <td>3.258256e+06</td>\n",
       "      <td>NaN</td>\n",
       "      <td>NaN</td>\n",
       "      <td>NaN</td>\n",
       "      <td>NaN</td>\n",
       "      <td>NaN</td>\n",
       "      <td>NaN</td>\n",
       "      <td>NaN</td>\n",
       "      <td>3.275204e+06</td>\n",
       "      <td>NaN</td>\n",
       "      <td>2012-08-17 00:00:00</td>\n",
       "      <td>NaN</td>\n",
       "      <td>NaN</td>\n",
       "      <td>NaN</td>\n",
       "      <td>NaN</td>\n",
       "      <td>1.000000</td>\n",
       "      <td>1.000000</td>\n",
       "      <td>NaN</td>\n",
       "      <td>NaN</td>\n",
       "      <td>NaN</td>\n",
       "      <td>NaN</td>\n",
       "      <td>NaN</td>\n",
       "      <td>NaN</td>\n",
       "      <td>NaN</td>\n",
       "      <td>NaN</td>\n",
       "      <td>NaN</td>\n",
       "      <td>NaN</td>\n",
       "      <td>47.609418</td>\n",
       "      <td>-122.354320</td>\n",
       "      <td>NaN</td>\n",
       "      <td>NaN</td>\n",
       "      <td>2.000000</td>\n",
       "      <td>1.000000</td>\n",
       "      <td>1.000000</td>\n",
       "      <td>1.000000</td>\n",
       "      <td>NaN</td>\n",
       "      <td>NaN</td>\n",
       "      <td>420.000000</td>\n",
       "      <td>75.000000</td>\n",
       "      <td>93.000000</td>\n",
       "      <td>9.000000</td>\n",
       "      <td>9.000000</td>\n",
       "      <td>NaN</td>\n",
       "      <td>0.695000</td>\n",
       "    </tr>\n",
       "    <tr>\n",
       "      <th>50%</th>\n",
       "      <td>6.118244e+06</td>\n",
       "      <td>NaN</td>\n",
       "      <td>NaN</td>\n",
       "      <td>NaN</td>\n",
       "      <td>NaN</td>\n",
       "      <td>NaN</td>\n",
       "      <td>NaN</td>\n",
       "      <td>NaN</td>\n",
       "      <td>1.055814e+07</td>\n",
       "      <td>NaN</td>\n",
       "      <td>2013-12-12 12:00:00</td>\n",
       "      <td>NaN</td>\n",
       "      <td>NaN</td>\n",
       "      <td>NaN</td>\n",
       "      <td>NaN</td>\n",
       "      <td>1.000000</td>\n",
       "      <td>1.000000</td>\n",
       "      <td>NaN</td>\n",
       "      <td>NaN</td>\n",
       "      <td>NaN</td>\n",
       "      <td>NaN</td>\n",
       "      <td>NaN</td>\n",
       "      <td>NaN</td>\n",
       "      <td>NaN</td>\n",
       "      <td>NaN</td>\n",
       "      <td>NaN</td>\n",
       "      <td>NaN</td>\n",
       "      <td>47.623601</td>\n",
       "      <td>-122.328874</td>\n",
       "      <td>NaN</td>\n",
       "      <td>NaN</td>\n",
       "      <td>3.000000</td>\n",
       "      <td>1.000000</td>\n",
       "      <td>1.000000</td>\n",
       "      <td>1.000000</td>\n",
       "      <td>NaN</td>\n",
       "      <td>NaN</td>\n",
       "      <td>750.000000</td>\n",
       "      <td>100.000000</td>\n",
       "      <td>96.000000</td>\n",
       "      <td>10.000000</td>\n",
       "      <td>10.000000</td>\n",
       "      <td>NaN</td>\n",
       "      <td>1.540000</td>\n",
       "    </tr>\n",
       "    <tr>\n",
       "      <th>75%</th>\n",
       "      <td>8.035127e+06</td>\n",
       "      <td>NaN</td>\n",
       "      <td>NaN</td>\n",
       "      <td>NaN</td>\n",
       "      <td>NaN</td>\n",
       "      <td>NaN</td>\n",
       "      <td>NaN</td>\n",
       "      <td>NaN</td>\n",
       "      <td>2.590309e+07</td>\n",
       "      <td>NaN</td>\n",
       "      <td>2015-01-14 00:00:00</td>\n",
       "      <td>NaN</td>\n",
       "      <td>NaN</td>\n",
       "      <td>NaN</td>\n",
       "      <td>NaN</td>\n",
       "      <td>3.000000</td>\n",
       "      <td>3.000000</td>\n",
       "      <td>NaN</td>\n",
       "      <td>NaN</td>\n",
       "      <td>NaN</td>\n",
       "      <td>NaN</td>\n",
       "      <td>NaN</td>\n",
       "      <td>NaN</td>\n",
       "      <td>NaN</td>\n",
       "      <td>NaN</td>\n",
       "      <td>NaN</td>\n",
       "      <td>NaN</td>\n",
       "      <td>47.662694</td>\n",
       "      <td>-122.310800</td>\n",
       "      <td>NaN</td>\n",
       "      <td>NaN</td>\n",
       "      <td>4.000000</td>\n",
       "      <td>1.000000</td>\n",
       "      <td>2.000000</td>\n",
       "      <td>2.000000</td>\n",
       "      <td>NaN</td>\n",
       "      <td>NaN</td>\n",
       "      <td>1200.000000</td>\n",
       "      <td>150.000000</td>\n",
       "      <td>99.000000</td>\n",
       "      <td>10.000000</td>\n",
       "      <td>10.000000</td>\n",
       "      <td>NaN</td>\n",
       "      <td>3.000000</td>\n",
       "    </tr>\n",
       "    <tr>\n",
       "      <th>max</th>\n",
       "      <td>1.034016e+07</td>\n",
       "      <td>NaN</td>\n",
       "      <td>NaN</td>\n",
       "      <td>NaN</td>\n",
       "      <td>NaN</td>\n",
       "      <td>NaN</td>\n",
       "      <td>NaN</td>\n",
       "      <td>NaN</td>\n",
       "      <td>5.320861e+07</td>\n",
       "      <td>NaN</td>\n",
       "      <td>2016-01-03 00:00:00</td>\n",
       "      <td>NaN</td>\n",
       "      <td>NaN</td>\n",
       "      <td>NaN</td>\n",
       "      <td>NaN</td>\n",
       "      <td>502.000000</td>\n",
       "      <td>502.000000</td>\n",
       "      <td>NaN</td>\n",
       "      <td>NaN</td>\n",
       "      <td>NaN</td>\n",
       "      <td>NaN</td>\n",
       "      <td>NaN</td>\n",
       "      <td>NaN</td>\n",
       "      <td>NaN</td>\n",
       "      <td>NaN</td>\n",
       "      <td>NaN</td>\n",
       "      <td>NaN</td>\n",
       "      <td>47.733358</td>\n",
       "      <td>-122.240607</td>\n",
       "      <td>NaN</td>\n",
       "      <td>NaN</td>\n",
       "      <td>16.000000</td>\n",
       "      <td>8.000000</td>\n",
       "      <td>7.000000</td>\n",
       "      <td>15.000000</td>\n",
       "      <td>NaN</td>\n",
       "      <td>NaN</td>\n",
       "      <td>3000.000000</td>\n",
       "      <td>1000.000000</td>\n",
       "      <td>100.000000</td>\n",
       "      <td>10.000000</td>\n",
       "      <td>10.000000</td>\n",
       "      <td>NaN</td>\n",
       "      <td>12.150000</td>\n",
       "    </tr>\n",
       "    <tr>\n",
       "      <th>std</th>\n",
       "      <td>2.962660e+06</td>\n",
       "      <td>NaN</td>\n",
       "      <td>NaN</td>\n",
       "      <td>NaN</td>\n",
       "      <td>NaN</td>\n",
       "      <td>NaN</td>\n",
       "      <td>NaN</td>\n",
       "      <td>NaN</td>\n",
       "      <td>1.458382e+07</td>\n",
       "      <td>NaN</td>\n",
       "      <td>NaN</td>\n",
       "      <td>NaN</td>\n",
       "      <td>NaN</td>\n",
       "      <td>NaN</td>\n",
       "      <td>NaN</td>\n",
       "      <td>28.628149</td>\n",
       "      <td>28.628149</td>\n",
       "      <td>NaN</td>\n",
       "      <td>NaN</td>\n",
       "      <td>NaN</td>\n",
       "      <td>NaN</td>\n",
       "      <td>NaN</td>\n",
       "      <td>NaN</td>\n",
       "      <td>NaN</td>\n",
       "      <td>NaN</td>\n",
       "      <td>NaN</td>\n",
       "      <td>NaN</td>\n",
       "      <td>0.043052</td>\n",
       "      <td>0.031745</td>\n",
       "      <td>NaN</td>\n",
       "      <td>NaN</td>\n",
       "      <td>1.977599</td>\n",
       "      <td>0.590369</td>\n",
       "      <td>0.883395</td>\n",
       "      <td>1.139480</td>\n",
       "      <td>NaN</td>\n",
       "      <td>NaN</td>\n",
       "      <td>671.404893</td>\n",
       "      <td>90.250022</td>\n",
       "      <td>6.606083</td>\n",
       "      <td>0.698031</td>\n",
       "      <td>0.797274</td>\n",
       "      <td>NaN</td>\n",
       "      <td>1.822348</td>\n",
       "    </tr>\n",
       "  </tbody>\n",
       "</table>\n",
       "</div>"
      ],
      "text/plain": [
       "                  id                    name  \\\n",
       "count   3.818000e+03                    3818   \n",
       "unique           NaN                    3792   \n",
       "top              NaN  Capitol Hill Apartment   \n",
       "freq             NaN                       3   \n",
       "mean    5.550111e+06                     NaN   \n",
       "min     3.335000e+03                     NaN   \n",
       "25%     3.258256e+06                     NaN   \n",
       "50%     6.118244e+06                     NaN   \n",
       "75%     8.035127e+06                     NaN   \n",
       "max     1.034016e+07                     NaN   \n",
       "std     2.962660e+06                     NaN   \n",
       "\n",
       "                                                  summary  \\\n",
       "count                                                3641   \n",
       "unique                                               3478   \n",
       "top     This is a modern fully-furnished studio apartm...   \n",
       "freq                                                   15   \n",
       "mean                                                  NaN   \n",
       "min                                                   NaN   \n",
       "25%                                                   NaN   \n",
       "50%                                                   NaN   \n",
       "75%                                                   NaN   \n",
       "max                                                   NaN   \n",
       "std                                                   NaN   \n",
       "\n",
       "                                                    space  \\\n",
       "count                                                3249   \n",
       "unique                                               3119   \n",
       "top     *Note: This fall, there will be major renovati...   \n",
       "freq                                                   14   \n",
       "mean                                                  NaN   \n",
       "min                                                   NaN   \n",
       "25%                                                   NaN   \n",
       "50%                                                   NaN   \n",
       "75%                                                   NaN   \n",
       "max                                                   NaN   \n",
       "std                                                   NaN   \n",
       "\n",
       "                                              description experiences_offered  \\\n",
       "count                                                3818                3818   \n",
       "unique                                               3742                   1   \n",
       "top     Our space is a mix of a hostel and a home. We ...                none   \n",
       "freq                                                   10                3818   \n",
       "mean                                                  NaN                 NaN   \n",
       "min                                                   NaN                 NaN   \n",
       "25%                                                   NaN                 NaN   \n",
       "50%                                                   NaN                 NaN   \n",
       "75%                                                   NaN                 NaN   \n",
       "max                                                   NaN                 NaN   \n",
       "std                                                   NaN                 NaN   \n",
       "\n",
       "                                    neighborhood_overview  \\\n",
       "count                                                2786   \n",
       "unique                                               2506   \n",
       "top     Wallingford is a mostly-residential neighborho...   \n",
       "freq                                                   17   \n",
       "mean                                                  NaN   \n",
       "min                                                   NaN   \n",
       "25%                                                   NaN   \n",
       "50%                                                   NaN   \n",
       "75%                                                   NaN   \n",
       "max                                                   NaN   \n",
       "std                                                   NaN   \n",
       "\n",
       "                                                  transit       host_id  \\\n",
       "count                                                2884  3.818000e+03   \n",
       "unique                                               2574           NaN   \n",
       "top     Convenient public transportation. The location...           NaN   \n",
       "freq                                                   32           NaN   \n",
       "mean                                                  NaN  1.578556e+07   \n",
       "min                                                   NaN  4.193000e+03   \n",
       "25%                                                   NaN  3.275204e+06   \n",
       "50%                                                   NaN  1.055814e+07   \n",
       "75%                                                   NaN  2.590309e+07   \n",
       "max                                                   NaN  5.320861e+07   \n",
       "std                                                   NaN  1.458382e+07   \n",
       "\n",
       "       host_name                     host_since  \\\n",
       "count       3816                           3816   \n",
       "unique      1466                            NaN   \n",
       "top       Andrew                            NaN   \n",
       "freq          56                            NaN   \n",
       "mean         NaN  2013-09-18 17:26:02.264151040   \n",
       "min          NaN            2008-11-10 00:00:00   \n",
       "25%          NaN            2012-08-17 00:00:00   \n",
       "50%          NaN            2013-12-12 12:00:00   \n",
       "75%          NaN            2015-01-14 00:00:00   \n",
       "max          NaN            2016-01-03 00:00:00   \n",
       "std          NaN                            NaN   \n",
       "\n",
       "                             host_location host_response_rate  \\\n",
       "count                                 3810               3295   \n",
       "unique                                 120                 45   \n",
       "top     Seattle, Washington, United States               100%   \n",
       "freq                                  3259               2371   \n",
       "mean                                   NaN                NaN   \n",
       "min                                    NaN                NaN   \n",
       "25%                                    NaN                NaN   \n",
       "50%                                    NaN                NaN   \n",
       "75%                                    NaN                NaN   \n",
       "max                                    NaN                NaN   \n",
       "std                                    NaN                NaN   \n",
       "\n",
       "       host_acceptance_rate host_neighbourhood  host_listings_count  \\\n",
       "count                  3045               3518          3816.000000   \n",
       "unique                    2                102                  NaN   \n",
       "top                    100%       Capitol Hill                  NaN   \n",
       "freq                   3044                405                  NaN   \n",
       "mean                    NaN                NaN             7.157757   \n",
       "min                     NaN                NaN             1.000000   \n",
       "25%                     NaN                NaN             1.000000   \n",
       "50%                     NaN                NaN             1.000000   \n",
       "75%                     NaN                NaN             3.000000   \n",
       "max                     NaN                NaN           502.000000   \n",
       "std                     NaN                NaN            28.628149   \n",
       "\n",
       "        host_total_listings_count  \\\n",
       "count                 3816.000000   \n",
       "unique                        NaN   \n",
       "top                           NaN   \n",
       "freq                          NaN   \n",
       "mean                     7.157757   \n",
       "min                      1.000000   \n",
       "25%                      1.000000   \n",
       "50%                      1.000000   \n",
       "75%                      3.000000   \n",
       "max                    502.000000   \n",
       "std                     28.628149   \n",
       "\n",
       "                                              street neighbourhood  \\\n",
       "count                                           3818          3402   \n",
       "unique                                          1442            81   \n",
       "top     1st Avenue, Seattle, WA 98101, United States  Capitol Hill   \n",
       "freq                                              30           351   \n",
       "mean                                             NaN           NaN   \n",
       "min                                              NaN           NaN   \n",
       "25%                                              NaN           NaN   \n",
       "50%                                              NaN           NaN   \n",
       "75%                                              NaN           NaN   \n",
       "max                                              NaN           NaN   \n",
       "std                                              NaN           NaN   \n",
       "\n",
       "       neighbourhood_cleansed neighbourhood_group_cleansed     city state  \\\n",
       "count                    3818                         3818     3818  3818   \n",
       "unique                     87                           17        7     2   \n",
       "top                  Broadway          Other neighborhoods  Seattle    WA   \n",
       "freq                      397                          794     3810  3817   \n",
       "mean                      NaN                          NaN      NaN   NaN   \n",
       "min                       NaN                          NaN      NaN   NaN   \n",
       "25%                       NaN                          NaN      NaN   NaN   \n",
       "50%                       NaN                          NaN      NaN   NaN   \n",
       "75%                       NaN                          NaN      NaN   NaN   \n",
       "max                       NaN                          NaN      NaN   NaN   \n",
       "std                       NaN                          NaN      NaN   NaN   \n",
       "\n",
       "       zipcode   market smart_location country_code     latitude    longitude  \\\n",
       "count     3811     3818           3818         3818  3818.000000  3818.000000   \n",
       "unique      28        1              7            1          NaN          NaN   \n",
       "top      98122  Seattle    Seattle, WA           US          NaN          NaN   \n",
       "freq       420     3818           3810         3818          NaN          NaN   \n",
       "mean       NaN      NaN            NaN          NaN    47.628961  -122.333103   \n",
       "min        NaN      NaN            NaN          NaN    47.505088  -122.417219   \n",
       "25%        NaN      NaN            NaN          NaN    47.609418  -122.354320   \n",
       "50%        NaN      NaN            NaN          NaN    47.623601  -122.328874   \n",
       "75%        NaN      NaN            NaN          NaN    47.662694  -122.310800   \n",
       "max        NaN      NaN            NaN          NaN    47.733358  -122.240607   \n",
       "std        NaN      NaN            NaN          NaN     0.043052     0.031745   \n",
       "\n",
       "       property_type        room_type  accommodates    bathrooms     bedrooms  \\\n",
       "count           3817             3818   3818.000000  3802.000000  3812.000000   \n",
       "unique            16                3           NaN          NaN          NaN   \n",
       "top            House  Entire home/apt           NaN          NaN          NaN   \n",
       "freq            1733             2541           NaN          NaN          NaN   \n",
       "mean             NaN              NaN      3.349398     1.259469     1.307712   \n",
       "min              NaN              NaN      1.000000     0.000000     0.000000   \n",
       "25%              NaN              NaN      2.000000     1.000000     1.000000   \n",
       "50%              NaN              NaN      3.000000     1.000000     1.000000   \n",
       "75%              NaN              NaN      4.000000     1.000000     2.000000   \n",
       "max              NaN              NaN     16.000000     8.000000     7.000000   \n",
       "std              NaN              NaN      1.977599     0.590369     0.883395   \n",
       "\n",
       "               beds  bed_type amenities  square_feet        price  \\\n",
       "count   3817.000000      3818      3818    97.000000  3818.000000   \n",
       "unique          NaN         5      3284          NaN          NaN   \n",
       "top             NaN  Real Bed        {}          NaN          NaN   \n",
       "freq            NaN      3657        45          NaN          NaN   \n",
       "mean       1.735394       NaN       NaN   854.618557   127.976166   \n",
       "min        1.000000       NaN       NaN     0.000000    20.000000   \n",
       "25%        1.000000       NaN       NaN   420.000000    75.000000   \n",
       "50%        1.000000       NaN       NaN   750.000000   100.000000   \n",
       "75%        2.000000       NaN       NaN  1200.000000   150.000000   \n",
       "max       15.000000       NaN       NaN  3000.000000  1000.000000   \n",
       "std        1.139480       NaN       NaN   671.404893    90.250022   \n",
       "\n",
       "        review_scores_rating  review_scores_accuracy  \\\n",
       "count            3171.000000             3160.000000   \n",
       "unique                   NaN                     NaN   \n",
       "top                      NaN                     NaN   \n",
       "freq                     NaN                     NaN   \n",
       "mean               94.539262                9.636392   \n",
       "min                20.000000                2.000000   \n",
       "25%                93.000000                9.000000   \n",
       "50%                96.000000               10.000000   \n",
       "75%                99.000000               10.000000   \n",
       "max               100.000000               10.000000   \n",
       "std                 6.606083                0.698031   \n",
       "\n",
       "        review_scores_cleanliness cancellation_policy  reviews_per_month  \n",
       "count                 3165.000000                3818        3191.000000  \n",
       "unique                        NaN                   3                NaN  \n",
       "top                           NaN              strict                NaN  \n",
       "freq                          NaN                1417                NaN  \n",
       "mean                     9.556398                 NaN           2.078919  \n",
       "min                      3.000000                 NaN           0.020000  \n",
       "25%                      9.000000                 NaN           0.695000  \n",
       "50%                     10.000000                 NaN           1.540000  \n",
       "75%                     10.000000                 NaN           3.000000  \n",
       "max                     10.000000                 NaN          12.150000  \n",
       "std                      0.797274                 NaN           1.822348  "
      ]
     },
     "execution_count": 82,
     "metadata": {},
     "output_type": "execute_result"
    }
   ],
   "source": [
    "df_listings_clean.describe(include=\"all\")"
   ]
  },
  {
   "cell_type": "markdown",
   "metadata": {},
   "source": []
  },
  {
   "cell_type": "markdown",
   "metadata": {},
   "source": [
    "- The Broadway area clearly has the highest number of listings with approximately 400 counts\n",
    "- This suggests it's the most active or populous neighborhood in the dataset"
   ]
  },
  {
   "cell_type": "code",
   "execution_count": 83,
   "metadata": {},
   "outputs": [
    {
     "data": {
      "application/vnd.plotly.v1+json": {
       "config": {
        "plotlyServerURL": "https://plot.ly"
       },
       "data": [
        {
         "bingroup": "x",
         "hovertemplate": "neighbourhood_cleansed=%{x}<br>count=%{y}<extra></extra>",
         "legendgroup": "",
         "marker": {
          "color": "#636efa",
          "pattern": {
           "shape": ""
          }
         },
         "name": "",
         "orientation": "v",
         "showlegend": false,
         "type": "histogram",
         "x": [
          "West Queen Anne",
          "West Queen Anne",
          "West Queen Anne",
          "West Queen Anne",
          "West Queen Anne",
          "West Queen Anne",
          "West Queen Anne",
          "West Queen Anne",
          "West Queen Anne",
          "West Queen Anne",
          "West Queen Anne",
          "West Queen Anne",
          "West Queen Anne",
          "West Queen Anne",
          "West Queen Anne",
          "West Queen Anne",
          "West Queen Anne",
          "West Queen Anne",
          "West Queen Anne",
          "West Queen Anne",
          "West Queen Anne",
          "West Queen Anne",
          "West Queen Anne",
          "West Queen Anne",
          "West Queen Anne",
          "West Queen Anne",
          "West Queen Anne",
          "West Queen Anne",
          "West Queen Anne",
          "West Queen Anne",
          "West Queen Anne",
          "West Queen Anne",
          "West Queen Anne",
          "West Queen Anne",
          "West Queen Anne",
          "West Queen Anne",
          "West Queen Anne",
          "West Queen Anne",
          "West Queen Anne",
          "West Queen Anne",
          "West Queen Anne",
          "West Queen Anne",
          "West Queen Anne",
          "West Queen Anne",
          "West Queen Anne",
          "West Queen Anne",
          "West Queen Anne",
          "West Queen Anne",
          "West Queen Anne",
          "West Queen Anne",
          "West Queen Anne",
          "West Queen Anne",
          "West Queen Anne",
          "West Queen Anne",
          "West Queen Anne",
          "West Queen Anne",
          "West Queen Anne",
          "West Queen Anne",
          "West Queen Anne",
          "West Queen Anne",
          "West Queen Anne",
          "West Queen Anne",
          "West Queen Anne",
          "West Queen Anne",
          "West Queen Anne",
          "Adams",
          "Adams",
          "Adams",
          "Adams",
          "Adams",
          "Adams",
          "Adams",
          "Adams",
          "Adams",
          "Adams",
          "Adams",
          "Adams",
          "Adams",
          "Adams",
          "Adams",
          "Adams",
          "Adams",
          "Adams",
          "Adams",
          "Adams",
          "Adams",
          "Adams",
          "Adams",
          "Adams",
          "Adams",
          "Adams",
          "Adams",
          "Adams",
          "Adams",
          "Adams",
          "Adams",
          "Adams",
          "Adams",
          "Adams",
          "Adams",
          "Adams",
          "Adams",
          "Adams",
          "Adams",
          "Adams",
          "Adams",
          "Adams",
          "Adams",
          "Adams",
          "Adams",
          "Adams",
          "Adams",
          "Adams",
          "Adams",
          "Adams",
          "Adams",
          "Adams",
          "Adams",
          "Adams",
          "Adams",
          "Adams",
          "Adams",
          "Adams",
          "Adams",
          "Adams",
          "Adams",
          "Adams",
          "Adams",
          "Adams",
          "Adams",
          "Adams",
          "Adams",
          "Adams",
          "Adams",
          "Adams",
          "West Woodland",
          "West Woodland",
          "West Woodland",
          "West Woodland",
          "West Woodland",
          "West Woodland",
          "West Woodland",
          "West Woodland",
          "West Woodland",
          "West Woodland",
          "West Woodland",
          "West Woodland",
          "West Woodland",
          "West Woodland",
          "West Woodland",
          "West Woodland",
          "West Woodland",
          "West Woodland",
          "West Woodland",
          "West Woodland",
          "West Woodland",
          "West Woodland",
          "West Woodland",
          "West Woodland",
          "West Woodland",
          "West Woodland",
          "West Woodland",
          "West Woodland",
          "West Woodland",
          "West Woodland",
          "West Woodland",
          "West Woodland",
          "West Woodland",
          "West Woodland",
          "West Woodland",
          "West Woodland",
          "West Woodland",
          "West Woodland",
          "West Woodland",
          "West Woodland",
          "West Woodland",
          "West Woodland",
          "West Woodland",
          "West Woodland",
          "West Woodland",
          "West Woodland",
          "West Woodland",
          "West Woodland",
          "West Woodland",
          "West Woodland",
          "West Woodland",
          "West Woodland",
          "West Woodland",
          "West Woodland",
          "West Woodland",
          "West Woodland",
          "West Woodland",
          "West Woodland",
          "West Woodland",
          "West Woodland",
          "West Woodland",
          "West Woodland",
          "West Woodland",
          "West Woodland",
          "East Queen Anne",
          "East Queen Anne",
          "East Queen Anne",
          "East Queen Anne",
          "East Queen Anne",
          "East Queen Anne",
          "East Queen Anne",
          "East Queen Anne",
          "East Queen Anne",
          "East Queen Anne",
          "East Queen Anne",
          "East Queen Anne",
          "East Queen Anne",
          "East Queen Anne",
          "East Queen Anne",
          "East Queen Anne",
          "East Queen Anne",
          "East Queen Anne",
          "East Queen Anne",
          "East Queen Anne",
          "East Queen Anne",
          "East Queen Anne",
          "East Queen Anne",
          "East Queen Anne",
          "East Queen Anne",
          "East Queen Anne",
          "East Queen Anne",
          "East Queen Anne",
          "East Queen Anne",
          "East Queen Anne",
          "East Queen Anne",
          "East Queen Anne",
          "East Queen Anne",
          "East Queen Anne",
          "East Queen Anne",
          "East Queen Anne",
          "East Queen Anne",
          "East Queen Anne",
          "East Queen Anne",
          "East Queen Anne",
          "East Queen Anne",
          "East Queen Anne",
          "East Queen Anne",
          "East Queen Anne",
          "East Queen Anne",
          "East Queen Anne",
          "East Queen Anne",
          "East Queen Anne",
          "East Queen Anne",
          "East Queen Anne",
          "East Queen Anne",
          "East Queen Anne",
          "East Queen Anne",
          "East Queen Anne",
          "East Queen Anne",
          "East Queen Anne",
          "East Queen Anne",
          "East Queen Anne",
          "East Queen Anne",
          "East Queen Anne",
          "East Queen Anne",
          "East Queen Anne",
          "East Queen Anne",
          "East Queen Anne",
          "East Queen Anne",
          "East Queen Anne",
          "East Queen Anne",
          "East Queen Anne",
          "East Queen Anne",
          "East Queen Anne",
          "East Queen Anne",
          "East Queen Anne",
          "East Queen Anne",
          "East Queen Anne",
          "East Queen Anne",
          "East Queen Anne",
          "East Queen Anne",
          "East Queen Anne",
          "East Queen Anne",
          "East Queen Anne",
          "East Queen Anne",
          "Wallingford",
          "Wallingford",
          "Wallingford",
          "Wallingford",
          "Wallingford",
          "Wallingford",
          "Wallingford",
          "Wallingford",
          "Wallingford",
          "Wallingford",
          "Wallingford",
          "Wallingford",
          "Wallingford",
          "Wallingford",
          "Wallingford",
          "Wallingford",
          "Wallingford",
          "Wallingford",
          "Wallingford",
          "Wallingford",
          "Wallingford",
          "Wallingford",
          "Wallingford",
          "Wallingford",
          "Wallingford",
          "Wallingford",
          "Wallingford",
          "Wallingford",
          "Wallingford",
          "Wallingford",
          "Wallingford",
          "Wallingford",
          "Wallingford",
          "Wallingford",
          "Wallingford",
          "Wallingford",
          "Wallingford",
          "Wallingford",
          "Wallingford",
          "Wallingford",
          "Wallingford",
          "Wallingford",
          "Wallingford",
          "Wallingford",
          "Wallingford",
          "Wallingford",
          "Wallingford",
          "Wallingford",
          "Wallingford",
          "Wallingford",
          "Wallingford",
          "Wallingford",
          "Wallingford",
          "Wallingford",
          "Wallingford",
          "Wallingford",
          "Wallingford",
          "Wallingford",
          "Wallingford",
          "Wallingford",
          "Wallingford",
          "Wallingford",
          "Wallingford",
          "Wallingford",
          "Wallingford",
          "Wallingford",
          "Wallingford",
          "Wallingford",
          "Wallingford",
          "Wallingford",
          "Wallingford",
          "Wallingford",
          "Wallingford",
          "Wallingford",
          "Wallingford",
          "Wallingford",
          "Wallingford",
          "Wallingford",
          "Wallingford",
          "Wallingford",
          "Wallingford",
          "Wallingford",
          "Wallingford",
          "Wallingford",
          "Wallingford",
          "Wallingford",
          "Wallingford",
          "Wallingford",
          "Wallingford",
          "Wallingford",
          "Wallingford",
          "Wallingford",
          "Wallingford",
          "Wallingford",
          "Wallingford",
          "Wallingford",
          "Wallingford",
          "Wallingford",
          "Wallingford",
          "Wallingford",
          "Wallingford",
          "Wallingford",
          "Wallingford",
          "Wallingford",
          "Wallingford",
          "Wallingford",
          "Wallingford",
          "Wallingford",
          "Wallingford",
          "Wallingford",
          "Wallingford",
          "Wallingford",
          "Wallingford",
          "Wallingford",
          "Wallingford",
          "Wallingford",
          "Wallingford",
          "Wallingford",
          "Wallingford",
          "Wallingford",
          "Wallingford",
          "Wallingford",
          "Wallingford",
          "Wallingford",
          "Wallingford",
          "Wallingford",
          "Wallingford",
          "Wallingford",
          "Wallingford",
          "Wallingford",
          "Wallingford",
          "Wallingford",
          "Wallingford",
          "Wallingford",
          "Wallingford",
          "Wallingford",
          "Wallingford",
          "Wallingford",
          "Wallingford",
          "Wallingford",
          "Wallingford",
          "Wallingford",
          "Wallingford",
          "Wallingford",
          "Wallingford",
          "Wallingford",
          "Wallingford",
          "Wallingford",
          "Wallingford",
          "Wallingford",
          "Wallingford",
          "Wallingford",
          "Wallingford",
          "Wallingford",
          "Wallingford",
          "Wallingford",
          "Wallingford",
          "Wallingford",
          "Wallingford",
          "Wallingford",
          "Wallingford",
          "Wallingford",
          "Wallingford",
          "Wallingford",
          "Wallingford",
          "Wallingford",
          "Wallingford",
          "North Queen Anne",
          "North Queen Anne",
          "North Queen Anne",
          "North Queen Anne",
          "North Queen Anne",
          "North Queen Anne",
          "North Queen Anne",
          "North Queen Anne",
          "North Queen Anne",
          "North Queen Anne",
          "North Queen Anne",
          "North Queen Anne",
          "North Queen Anne",
          "North Queen Anne",
          "North Queen Anne",
          "North Queen Anne",
          "North Queen Anne",
          "North Queen Anne",
          "North Queen Anne",
          "North Queen Anne",
          "North Queen Anne",
          "North Queen Anne",
          "North Queen Anne",
          "North Queen Anne",
          "North Queen Anne",
          "North Queen Anne",
          "North Queen Anne",
          "North Queen Anne",
          "North Queen Anne",
          "North Queen Anne",
          "North Queen Anne",
          "North Queen Anne",
          "North Queen Anne",
          "North Queen Anne",
          "North Queen Anne",
          "North Queen Anne",
          "North Queen Anne",
          "North Queen Anne",
          "North Queen Anne",
          "North Queen Anne",
          "North Queen Anne",
          "North Queen Anne",
          "North Queen Anne",
          "North Queen Anne",
          "North Queen Anne",
          "North Queen Anne",
          "North Queen Anne",
          "North Queen Anne",
          "North Queen Anne",
          "North Queen Anne",
          "North Queen Anne",
          "North Queen Anne",
          "North Queen Anne",
          "North Queen Anne",
          "Green Lake",
          "Green Lake",
          "Green Lake",
          "Green Lake",
          "Green Lake",
          "Green Lake",
          "Green Lake",
          "Green Lake",
          "Green Lake",
          "Green Lake",
          "Green Lake",
          "Green Lake",
          "Green Lake",
          "Green Lake",
          "Green Lake",
          "Green Lake",
          "Green Lake",
          "Green Lake",
          "Green Lake",
          "Green Lake",
          "Green Lake",
          "Green Lake",
          "Green Lake",
          "Green Lake",
          "Green Lake",
          "Green Lake",
          "Green Lake",
          "Green Lake",
          "Green Lake",
          "Green Lake",
          "Green Lake",
          "Green Lake",
          "Green Lake",
          "Green Lake",
          "Green Lake",
          "Green Lake",
          "Green Lake",
          "Green Lake",
          "Green Lake",
          "Green Lake",
          "Green Lake",
          "Green Lake",
          "Green Lake",
          "Green Lake",
          "Green Lake",
          "Green Lake",
          "Green Lake",
          "Green Lake",
          "Green Lake",
          "Green Lake",
          "Green Lake",
          "Green Lake",
          "Green Lake",
          "Green Lake",
          "Westlake",
          "Westlake",
          "Westlake",
          "Westlake",
          "Westlake",
          "Westlake",
          "Westlake",
          "Westlake",
          "Westlake",
          "Westlake",
          "Westlake",
          "Westlake",
          "Westlake",
          "Westlake",
          "Westlake",
          "Westlake",
          "Westlake",
          "Mann",
          "Mann",
          "Mann",
          "Mann",
          "Mann",
          "Mann",
          "Mann",
          "Mann",
          "Mann",
          "Mann",
          "Mann",
          "Mann",
          "Mann",
          "Mann",
          "Mann",
          "Mann",
          "Mann",
          "Mann",
          "Mann",
          "Mann",
          "Mann",
          "Mann",
          "Mann",
          "Mann",
          "Mann",
          "Mann",
          "Mann",
          "Mann",
          "Mann",
          "Mann",
          "Mann",
          "Mann",
          "Mann",
          "Mann",
          "Mann",
          "Mann",
          "Mann",
          "Mann",
          "Mann",
          "Mann",
          "Mann",
          "Mann",
          "Mann",
          "Mann",
          "Mann",
          "Mann",
          "Mann",
          "Mann",
          "Mann",
          "Mann",
          "Mann",
          "Mann",
          "Mann",
          "Mann",
          "Mann",
          "Mann",
          "Mann",
          "Mann",
          "Mann",
          "Mann",
          "Mann",
          "Mann",
          "Mann",
          "Mann",
          "Mann",
          "Mann",
          "Mann",
          "Madrona",
          "Madrona",
          "Madrona",
          "Madrona",
          "Madrona",
          "Madrona",
          "Madrona",
          "Madrona",
          "Madrona",
          "Madrona",
          "Madrona",
          "Madrona",
          "Madrona",
          "Madrona",
          "Madrona",
          "Madrona",
          "Madrona",
          "Madrona",
          "Madrona",
          "Madrona",
          "Madrona",
          "Madrona",
          "Madrona",
          "Madrona",
          "Madrona",
          "Madrona",
          "Madrona",
          "Madrona",
          "Madrona",
          "Madrona",
          "Madrona",
          "Madrona",
          "Madrona",
          "Madrona",
          "Madrona",
          "Madrona",
          "Madrona",
          "Madrona",
          "Madrona",
          "Madrona",
          "Madrona",
          "Madrona",
          "Madrona",
          "Madrona",
          "Madrona",
          "Madrona",
          "Madrona",
          "University District",
          "University District",
          "University District",
          "University District",
          "University District",
          "University District",
          "University District",
          "University District",
          "University District",
          "University District",
          "University District",
          "University District",
          "University District",
          "University District",
          "University District",
          "University District",
          "University District",
          "University District",
          "University District",
          "University District",
          "University District",
          "University District",
          "University District",
          "University District",
          "University District",
          "University District",
          "University District",
          "University District",
          "University District",
          "University District",
          "University District",
          "University District",
          "University District",
          "University District",
          "University District",
          "University District",
          "University District",
          "University District",
          "University District",
          "University District",
          "University District",
          "University District",
          "University District",
          "University District",
          "University District",
          "University District",
          "University District",
          "University District",
          "University District",
          "University District",
          "University District",
          "University District",
          "University District",
          "University District",
          "University District",
          "University District",
          "University District",
          "University District",
          "University District",
          "University District",
          "University District",
          "University District",
          "University District",
          "University District",
          "University District",
          "University District",
          "University District",
          "University District",
          "University District",
          "University District",
          "University District",
          "University District",
          "University District",
          "University District",
          "University District",
          "University District",
          "University District",
          "University District",
          "University District",
          "University District",
          "University District",
          "University District",
          "University District",
          "University District",
          "University District",
          "University District",
          "University District",
          "University District",
          "University District",
          "University District",
          "University District",
          "University District",
          "University District",
          "University District",
          "University District",
          "University District",
          "University District",
          "University District",
          "University District",
          "University District",
          "University District",
          "University District",
          "University District",
          "University District",
          "University District",
          "University District",
          "University District",
          "University District",
          "University District",
          "University District",
          "University District",
          "University District",
          "University District",
          "University District",
          "University District",
          "University District",
          "University District",
          "University District",
          "University District",
          "University District",
          "University District",
          "University District",
          "Harrison/Denny-Blaine",
          "Harrison/Denny-Blaine",
          "Harrison/Denny-Blaine",
          "Harrison/Denny-Blaine",
          "Harrison/Denny-Blaine",
          "Harrison/Denny-Blaine",
          "Harrison/Denny-Blaine",
          "Harrison/Denny-Blaine",
          "Harrison/Denny-Blaine",
          "Harrison/Denny-Blaine",
          "Harrison/Denny-Blaine",
          "Harrison/Denny-Blaine",
          "Harrison/Denny-Blaine",
          "Harrison/Denny-Blaine",
          "Minor",
          "Minor",
          "Minor",
          "Minor",
          "Minor",
          "Minor",
          "Minor",
          "Minor",
          "Minor",
          "Minor",
          "Minor",
          "Minor",
          "Minor",
          "Minor",
          "Minor",
          "Minor",
          "Minor",
          "Minor",
          "Minor",
          "Minor",
          "Minor",
          "Minor",
          "Minor",
          "Minor",
          "Minor",
          "Minor",
          "Minor",
          "Minor",
          "Minor",
          "Minor",
          "Minor",
          "Minor",
          "Minor",
          "Minor",
          "Minor",
          "Minor",
          "Minor",
          "Minor",
          "Minor",
          "Minor",
          "Minor",
          "Minor",
          "Minor",
          "Minor",
          "Minor",
          "Minor",
          "Minor",
          "Minor",
          "Minor",
          "Minor",
          "Minor",
          "Minor",
          "Minor",
          "Minor",
          "Minor",
          "Minor",
          "Minor",
          "Minor",
          "Minor",
          "Minor",
          "Minor",
          "Minor",
          "Minor",
          "Minor",
          "Minor",
          "Minor",
          "Minor",
          "Minor",
          "Minor",
          "Minor",
          "Minor",
          "Minor",
          "Minor",
          "Minor",
          "Minor",
          "Minor",
          "Minor",
          "Minor",
          "Minor",
          "Minor",
          "Minor",
          "Minor",
          "Minor",
          "Minor",
          "Minor",
          "Minor",
          "Minor",
          "Minor",
          "Minor",
          "Minor",
          "Minor",
          "Minor",
          "Minor",
          "Minor",
          "Minor",
          "Minor",
          "Minor",
          "Minor",
          "Minor",
          "Minor",
          "Minor",
          "Minor",
          "Minor",
          "Minor",
          "Minor",
          "Minor",
          "Minor",
          "Minor",
          "Minor",
          "Minor",
          "Minor",
          "Minor",
          "Minor",
          "Minor",
          "Minor",
          "Minor",
          "Minor",
          "Minor",
          "Minor",
          "Minor",
          "Minor",
          "Minor",
          "Minor",
          "Minor",
          "Minor",
          "Minor",
          "Minor",
          "Minor",
          "Minor",
          "Minor",
          "Minor",
          "Minor",
          "Minor",
          "Minor",
          "Minor",
          "Leschi",
          "Leschi",
          "Leschi",
          "Leschi",
          "Leschi",
          "Leschi",
          "Leschi",
          "Leschi",
          "Leschi",
          "Leschi",
          "Leschi",
          "Leschi",
          "Leschi",
          "Leschi",
          "Leschi",
          "Leschi",
          "Leschi",
          "Leschi",
          "Leschi",
          "Leschi",
          "Leschi",
          "Leschi",
          "Leschi",
          "Leschi",
          "Leschi",
          "Leschi",
          "Leschi",
          "Leschi",
          "Leschi",
          "Leschi",
          "Leschi",
          "Leschi",
          "Leschi",
          "Leschi",
          "Leschi",
          "Leschi",
          "Leschi",
          "Leschi",
          "Leschi",
          "Leschi",
          "Leschi",
          "Leschi",
          "Leschi",
          "Leschi",
          "Leschi",
          "Leschi",
          "Leschi",
          "Leschi",
          "Leschi",
          "Leschi",
          "Leschi",
          "Leschi",
          "Leschi",
          "Atlantic",
          "Atlantic",
          "Atlantic",
          "Atlantic",
          "Atlantic",
          "Atlantic",
          "Atlantic",
          "Atlantic",
          "Atlantic",
          "Atlantic",
          "Atlantic",
          "Atlantic",
          "Atlantic",
          "Atlantic",
          "Atlantic",
          "Atlantic",
          "Atlantic",
          "Atlantic",
          "Atlantic",
          "Atlantic",
          "Atlantic",
          "Atlantic",
          "Atlantic",
          "Atlantic",
          "Atlantic",
          "Atlantic",
          "Atlantic",
          "Atlantic",
          "Atlantic",
          "Atlantic",
          "Atlantic",
          "Atlantic",
          "Atlantic",
          "Atlantic",
          "Atlantic",
          "Atlantic",
          "Atlantic",
          "Atlantic",
          "Atlantic",
          "Atlantic",
          "Atlantic",
          "Atlantic",
          "Atlantic",
          "Atlantic",
          "Atlantic",
          "Atlantic",
          "Atlantic",
          "Atlantic",
          "Atlantic",
          "Atlantic",
          "Atlantic",
          "Atlantic",
          "Atlantic",
          "Pike-Market",
          "Pike-Market",
          "Pike-Market",
          "Pike-Market",
          "Pike-Market",
          "Pike-Market",
          "Pike-Market",
          "Pike-Market",
          "Pike-Market",
          "Pike-Market",
          "Pike-Market",
          "Pike-Market",
          "Pike-Market",
          "Pike-Market",
          "Pike-Market",
          "Pike-Market",
          "Pike-Market",
          "Pike-Market",
          "Pike-Market",
          "Pike-Market",
          "Pike-Market",
          "Pike-Market",
          "Pike-Market",
          "Pike-Market",
          "Pike-Market",
          "Pike-Market",
          "Pike-Market",
          "Pike-Market",
          "Eastlake",
          "Eastlake",
          "Eastlake",
          "Eastlake",
          "Eastlake",
          "Eastlake",
          "Eastlake",
          "Eastlake",
          "Eastlake",
          "Eastlake",
          "Eastlake",
          "Eastlake",
          "Eastlake",
          "Eastlake",
          "Eastlake",
          "Eastlake",
          "Eastlake",
          "Eastlake",
          "Eastlake",
          "Eastlake",
          "Eastlake",
          "Eastlake",
          "Eastlake",
          "Eastlake",
          "Eastlake",
          "Eastlake",
          "Eastlake",
          "Eastlake",
          "Eastlake",
          "Eastlake",
          "Eastlake",
          "Eastlake",
          "Eastlake",
          "Eastlake",
          "Eastlake",
          "Eastlake",
          "Eastlake",
          "Eastlake",
          "Eastlake",
          "Eastlake",
          "Eastlake",
          "Eastlake",
          "Eastlake",
          "Eastlake",
          "Eastlake",
          "South Lake Union",
          "South Lake Union",
          "South Lake Union",
          "South Lake Union",
          "South Lake Union",
          "South Lake Union",
          "South Lake Union",
          "South Lake Union",
          "South Lake Union",
          "South Lake Union",
          "South Lake Union",
          "South Lake Union",
          "South Lake Union",
          "South Lake Union",
          "South Lake Union",
          "South Lake Union",
          "South Lake Union",
          "South Lake Union",
          "South Lake Union",
          "South Lake Union",
          "South Lake Union",
          "South Lake Union",
          "South Lake Union",
          "South Lake Union",
          "South Lake Union",
          "South Lake Union",
          "South Lake Union",
          "Lawton Park",
          "Lawton Park",
          "Lawton Park",
          "Lawton Park",
          "Lawton Park",
          "Lawton Park",
          "Lawton Park",
          "Lawton Park",
          "Lawton Park",
          "Lawton Park",
          "Lawton Park",
          "Lawton Park",
          "Lawton Park",
          "Lawton Park",
          "Lawton Park",
          "Lawton Park",
          "Lawton Park",
          "Lawton Park",
          "Lawton Park",
          "Lawton Park",
          "Lawton Park",
          "Lawton Park",
          "Lawton Park",
          "Lawton Park",
          "Lawton Park",
          "Lawton Park",
          "Lawton Park",
          "Lawton Park",
          "Lawton Park",
          "Lawton Park",
          "Briarcliff",
          "Briarcliff",
          "Briarcliff",
          "Briarcliff",
          "Briarcliff",
          "Briarcliff",
          "Briarcliff",
          "Briarcliff",
          "Briarcliff",
          "Briarcliff",
          "Briarcliff",
          "Briarcliff",
          "Briarcliff",
          "Briarcliff",
          "Belltown",
          "Belltown",
          "Belltown",
          "Belltown",
          "Belltown",
          "Belltown",
          "Belltown",
          "Belltown",
          "Belltown",
          "Belltown",
          "Belltown",
          "Belltown",
          "Belltown",
          "Belltown",
          "Belltown",
          "Belltown",
          "Belltown",
          "Belltown",
          "Belltown",
          "Belltown",
          "Belltown",
          "Belltown",
          "Belltown",
          "Belltown",
          "Belltown",
          "Belltown",
          "Belltown",
          "Belltown",
          "Belltown",
          "Belltown",
          "Belltown",
          "Belltown",
          "Belltown",
          "Belltown",
          "Belltown",
          "Belltown",
          "Belltown",
          "Belltown",
          "Belltown",
          "Belltown",
          "Belltown",
          "Belltown",
          "Belltown",
          "Belltown",
          "Belltown",
          "Belltown",
          "Belltown",
          "Belltown",
          "Belltown",
          "Belltown",
          "Belltown",
          "Belltown",
          "Belltown",
          "Belltown",
          "Belltown",
          "Belltown",
          "Belltown",
          "Belltown",
          "Belltown",
          "Belltown",
          "Belltown",
          "Belltown",
          "Belltown",
          "Belltown",
          "Belltown",
          "Belltown",
          "Belltown",
          "Belltown",
          "Belltown",
          "Belltown",
          "Belltown",
          "Belltown",
          "Belltown",
          "Belltown",
          "Belltown",
          "Belltown",
          "Belltown",
          "Belltown",
          "Belltown",
          "Belltown",
          "Belltown",
          "Belltown",
          "Belltown",
          "Belltown",
          "Belltown",
          "Belltown",
          "Belltown",
          "Belltown",
          "Belltown",
          "Belltown",
          "Belltown",
          "Belltown",
          "Belltown",
          "Belltown",
          "Belltown",
          "Belltown",
          "Belltown",
          "Belltown",
          "Belltown",
          "Belltown",
          "Belltown",
          "Belltown",
          "Belltown",
          "Belltown",
          "Belltown",
          "Belltown",
          "Belltown",
          "Belltown",
          "Belltown",
          "Belltown",
          "Belltown",
          "Belltown",
          "Belltown",
          "Belltown",
          "Belltown",
          "Belltown",
          "Belltown",
          "Belltown",
          "Belltown",
          "Belltown",
          "Belltown",
          "Belltown",
          "Belltown",
          "Belltown",
          "Belltown",
          "Belltown",
          "Belltown",
          "Belltown",
          "Belltown",
          "Belltown",
          "Belltown",
          "Belltown",
          "Belltown",
          "Belltown",
          "Belltown",
          "Belltown",
          "Belltown",
          "Belltown",
          "Belltown",
          "Belltown",
          "Belltown",
          "Belltown",
          "Belltown",
          "Belltown",
          "Belltown",
          "Belltown",
          "Belltown",
          "Belltown",
          "Belltown",
          "Belltown",
          "Belltown",
          "Belltown",
          "Belltown",
          "Belltown",
          "Belltown",
          "Belltown",
          "Belltown",
          "Belltown",
          "Belltown",
          "Belltown",
          "Belltown",
          "Belltown",
          "Belltown",
          "Belltown",
          "Belltown",
          "Belltown",
          "Belltown",
          "Belltown",
          "Belltown",
          "Belltown",
          "Belltown",
          "Belltown",
          "Belltown",
          "Belltown",
          "Belltown",
          "Belltown",
          "Belltown",
          "Belltown",
          "Belltown",
          "Belltown",
          "Belltown",
          "Belltown",
          "Belltown",
          "Belltown",
          "Belltown",
          "Belltown",
          "Belltown",
          "Belltown",
          "Belltown",
          "Belltown",
          "Belltown",
          "Belltown",
          "Belltown",
          "Belltown",
          "Belltown",
          "Belltown",
          "Belltown",
          "Belltown",
          "Belltown",
          "Belltown",
          "Belltown",
          "Belltown",
          "Belltown",
          "Belltown",
          "Belltown",
          "Belltown",
          "Belltown",
          "Belltown",
          "Belltown",
          "Belltown",
          "Belltown",
          "Belltown",
          "Belltown",
          "Belltown",
          "Belltown",
          "Belltown",
          "Belltown",
          "Belltown",
          "Belltown",
          "Belltown",
          "Belltown",
          "Belltown",
          "Belltown",
          "Belltown",
          "Belltown",
          "Belltown",
          "Belltown",
          "Belltown",
          "Belltown",
          "Belltown",
          "Belltown",
          "Belltown",
          "Belltown",
          "Belltown",
          "International District",
          "International District",
          "International District",
          "International District",
          "International District",
          "International District",
          "International District",
          "International District",
          "International District",
          "International District",
          "International District",
          "International District",
          "International District",
          "International District",
          "International District",
          "International District",
          "International District",
          "Central Business District",
          "Central Business District",
          "Central Business District",
          "Central Business District",
          "Central Business District",
          "Central Business District",
          "Central Business District",
          "Central Business District",
          "Central Business District",
          "Central Business District",
          "Central Business District",
          "Central Business District",
          "Central Business District",
          "Central Business District",
          "Central Business District",
          "Central Business District",
          "Central Business District",
          "Central Business District",
          "Central Business District",
          "Central Business District",
          "Central Business District",
          "Central Business District",
          "Central Business District",
          "Central Business District",
          "Central Business District",
          "Central Business District",
          "Central Business District",
          "Central Business District",
          "Central Business District",
          "Central Business District",
          "Central Business District",
          "Central Business District",
          "Central Business District",
          "Central Business District",
          "Central Business District",
          "Central Business District",
          "Central Business District",
          "Central Business District",
          "Central Business District",
          "Central Business District",
          "Central Business District",
          "Central Business District",
          "Central Business District",
          "Central Business District",
          "Central Business District",
          "Central Business District",
          "Central Business District",
          "Central Business District",
          "Central Business District",
          "Central Business District",
          "Central Business District",
          "Central Business District",
          "Central Business District",
          "Central Business District",
          "Central Business District",
          "Central Business District",
          "Central Business District",
          "Central Business District",
          "Central Business District",
          "Central Business District",
          "Central Business District",
          "Central Business District",
          "Central Business District",
          "Central Business District",
          "Central Business District",
          "Central Business District",
          "Central Business District",
          "Central Business District",
          "Central Business District",
          "Central Business District",
          "Central Business District",
          "Central Business District",
          "Central Business District",
          "Central Business District",
          "Central Business District",
          "Central Business District",
          "Central Business District",
          "Central Business District",
          "Central Business District",
          "Central Business District",
          "Central Business District",
          "Central Business District",
          "Central Business District",
          "Central Business District",
          "Central Business District",
          "Central Business District",
          "Central Business District",
          "Central Business District",
          "Central Business District",
          "Central Business District",
          "Central Business District",
          "Central Business District",
          "Central Business District",
          "Central Business District",
          "Central Business District",
          "Central Business District",
          "Central Business District",
          "Central Business District",
          "Central Business District",
          "Central Business District",
          "Central Business District",
          "Central Business District",
          "Central Business District",
          "First Hill",
          "First Hill",
          "First Hill",
          "First Hill",
          "First Hill",
          "First Hill",
          "First Hill",
          "First Hill",
          "First Hill",
          "First Hill",
          "First Hill",
          "First Hill",
          "First Hill",
          "First Hill",
          "First Hill",
          "First Hill",
          "First Hill",
          "First Hill",
          "First Hill",
          "First Hill",
          "First Hill",
          "First Hill",
          "First Hill",
          "First Hill",
          "First Hill",
          "First Hill",
          "First Hill",
          "First Hill",
          "First Hill",
          "First Hill",
          "First Hill",
          "First Hill",
          "First Hill",
          "First Hill",
          "First Hill",
          "First Hill",
          "First Hill",
          "First Hill",
          "First Hill",
          "First Hill",
          "First Hill",
          "First Hill",
          "First Hill",
          "First Hill",
          "First Hill",
          "First Hill",
          "First Hill",
          "First Hill",
          "First Hill",
          "First Hill",
          "First Hill",
          "First Hill",
          "First Hill",
          "First Hill",
          "First Hill",
          "First Hill",
          "First Hill",
          "First Hill",
          "First Hill",
          "First Hill",
          "First Hill",
          "First Hill",
          "First Hill",
          "First Hill",
          "First Hill",
          "First Hill",
          "First Hill",
          "First Hill",
          "First Hill",
          "First Hill",
          "First Hill",
          "First Hill",
          "First Hill",
          "First Hill",
          "First Hill",
          "First Hill",
          "First Hill",
          "First Hill",
          "First Hill",
          "First Hill",
          "First Hill",
          "First Hill",
          "First Hill",
          "First Hill",
          "First Hill",
          "First Hill",
          "First Hill",
          "First Hill",
          "First Hill",
          "First Hill",
          "First Hill",
          "First Hill",
          "First Hill",
          "First Hill",
          "First Hill",
          "First Hill",
          "First Hill",
          "First Hill",
          "First Hill",
          "First Hill",
          "First Hill",
          "First Hill",
          "First Hill",
          "First Hill",
          "First Hill",
          "First Hill",
          "First Hill",
          "First Hill",
          "Yesler Terrace",
          "Yesler Terrace",
          "Yesler Terrace",
          "Yesler Terrace",
          "Yesler Terrace",
          "Yesler Terrace",
          "Yesler Terrace",
          "Yesler Terrace",
          "Yesler Terrace",
          "Yesler Terrace",
          "Yesler Terrace",
          "Yesler Terrace",
          "Yesler Terrace",
          "Yesler Terrace",
          "Yesler Terrace",
          "Yesler Terrace",
          "Yesler Terrace",
          "Pioneer Square",
          "Pioneer Square",
          "Pioneer Square",
          "Pioneer Square",
          "Pioneer Square",
          "Pioneer Square",
          "Pioneer Square",
          "Pioneer Square",
          "Pioneer Square",
          "Pioneer Square",
          "Pioneer Square",
          "Pioneer Square",
          "Pioneer Square",
          "Pioneer Square",
          "Pioneer Square",
          "Pioneer Square",
          "Pioneer Square",
          "Pioneer Square",
          "Pioneer Square",
          "Pioneer Square",
          "Pioneer Square",
          "Pioneer Square",
          "Pioneer Square",
          "Gatewood",
          "Gatewood",
          "Gatewood",
          "Gatewood",
          "Gatewood",
          "Gatewood",
          "Gatewood",
          "Gatewood",
          "Gatewood",
          "Gatewood",
          "Gatewood",
          "Gatewood",
          "Gatewood",
          "Gatewood",
          "Gatewood",
          "Gatewood",
          "Gatewood",
          "Gatewood",
          "Gatewood",
          "Gatewood",
          "Gatewood",
          "Gatewood",
          "Arbor Heights",
          "Arbor Heights",
          "Arbor Heights",
          "Arbor Heights",
          "Arbor Heights",
          "Alki",
          "Alki",
          "Alki",
          "Alki",
          "Alki",
          "Alki",
          "Alki",
          "Alki",
          "Alki",
          "Alki",
          "Alki",
          "Alki",
          "Alki",
          "Alki",
          "Alki",
          "Alki",
          "Alki",
          "Alki",
          "Alki",
          "Alki",
          "Alki",
          "Alki",
          "Alki",
          "Alki",
          "Alki",
          "Alki",
          "Alki",
          "Alki",
          "Alki",
          "Alki",
          "Alki",
          "Alki",
          "Alki",
          "Alki",
          "Alki",
          "Alki",
          "Alki",
          "Alki",
          "Alki",
          "Alki",
          "Alki",
          "Alki",
          "North Admiral",
          "North Admiral",
          "North Admiral",
          "North Admiral",
          "North Admiral",
          "North Admiral",
          "North Admiral",
          "North Admiral",
          "North Admiral",
          "North Admiral",
          "North Admiral",
          "North Admiral",
          "North Admiral",
          "North Admiral",
          "North Admiral",
          "North Admiral",
          "North Admiral",
          "North Admiral",
          "North Admiral",
          "North Admiral",
          "North Admiral",
          "North Admiral",
          "North Admiral",
          "North Admiral",
          "North Admiral",
          "North Admiral",
          "North Admiral",
          "North Admiral",
          "North Admiral",
          "North Admiral",
          "North Admiral",
          "North Admiral",
          "North Admiral",
          "North Admiral",
          "North Admiral",
          "North Admiral",
          "North Admiral",
          "North Admiral",
          "North Admiral",
          "North Admiral",
          "North Admiral",
          "North Admiral",
          "North Admiral",
          "North Admiral",
          "North Admiral",
          "North Admiral",
          "North Admiral",
          "North Admiral",
          "North Admiral",
          "Crown Hill",
          "Crown Hill",
          "Crown Hill",
          "Crown Hill",
          "Crown Hill",
          "Crown Hill",
          "Crown Hill",
          "Crown Hill",
          "Crown Hill",
          "Crown Hill",
          "Crown Hill",
          "Crown Hill",
          "Crown Hill",
          "Crown Hill",
          "Crown Hill",
          "Crown Hill",
          "Crown Hill",
          "Crown Hill",
          "Crown Hill",
          "Crown Hill",
          "Crown Hill",
          "Fairmount Park",
          "Fairmount Park",
          "Fairmount Park",
          "Fairmount Park",
          "Fairmount Park",
          "Fairmount Park",
          "Fairmount Park",
          "Fairmount Park",
          "Fairmount Park",
          "Fairmount Park",
          "Fairmount Park",
          "Fairmount Park",
          "Fairmount Park",
          "Fairmount Park",
          "Fairmount Park",
          "Fairmount Park",
          "Fairmount Park",
          "Fairmount Park",
          "Fairmount Park",
          "Fairmount Park",
          "Fairmount Park",
          "Fairmount Park",
          "Fairmount Park",
          "Fairmount Park",
          "Fairmount Park",
          "Fairmount Park",
          "Fairmount Park",
          "Fairmount Park",
          "Fairmount Park",
          "Genesee",
          "Genesee",
          "Genesee",
          "Genesee",
          "Genesee",
          "Genesee",
          "Genesee",
          "Genesee",
          "Genesee",
          "Genesee",
          "Genesee",
          "Genesee",
          "Genesee",
          "Genesee",
          "Genesee",
          "Genesee",
          "Genesee",
          "Genesee",
          "Genesee",
          "Genesee",
          "Genesee",
          "Genesee",
          "Genesee",
          "Genesee",
          "Genesee",
          "Genesee",
          "Genesee",
          "Genesee",
          "Genesee",
          "Genesee",
          "Genesee",
          "Genesee",
          "Genesee",
          "Genesee",
          "Interbay",
          "Interbay",
          "Interbay",
          "Interbay",
          "Interbay",
          "Interbay",
          "Interbay",
          "Interbay",
          "Interbay",
          "Interbay",
          "Interbay",
          "Industrial District",
          "Industrial District",
          "Industrial District",
          "Industrial District",
          "Industrial District",
          "Mid-Beacon Hill",
          "Mid-Beacon Hill",
          "Mid-Beacon Hill",
          "Mid-Beacon Hill",
          "Mid-Beacon Hill",
          "Mid-Beacon Hill",
          "Mid-Beacon Hill",
          "Mid-Beacon Hill",
          "Mid-Beacon Hill",
          "Mid-Beacon Hill",
          "Mid-Beacon Hill",
          "Mid-Beacon Hill",
          "Mid-Beacon Hill",
          "Mid-Beacon Hill",
          "Mid-Beacon Hill",
          "Mid-Beacon Hill",
          "Mid-Beacon Hill",
          "Mid-Beacon Hill",
          "Mid-Beacon Hill",
          "Mid-Beacon Hill",
          "Mid-Beacon Hill",
          "Mid-Beacon Hill",
          "Mid-Beacon Hill",
          "Mid-Beacon Hill",
          "Mid-Beacon Hill",
          "Mid-Beacon Hill",
          "Mid-Beacon Hill",
          "Mid-Beacon Hill",
          "Mid-Beacon Hill",
          "Mid-Beacon Hill",
          "South Beacon Hill",
          "South Beacon Hill",
          "South Beacon Hill",
          "South Beacon Hill",
          "Greenwood",
          "Greenwood",
          "Greenwood",
          "Greenwood",
          "Greenwood",
          "Greenwood",
          "Greenwood",
          "Greenwood",
          "Greenwood",
          "Greenwood",
          "Greenwood",
          "Greenwood",
          "Greenwood",
          "Greenwood",
          "Greenwood",
          "Greenwood",
          "Greenwood",
          "Greenwood",
          "Greenwood",
          "Greenwood",
          "Greenwood",
          "Greenwood",
          "Greenwood",
          "Greenwood",
          "Greenwood",
          "Greenwood",
          "Greenwood",
          "Greenwood",
          "Greenwood",
          "Greenwood",
          "Greenwood",
          "Greenwood",
          "Greenwood",
          "Greenwood",
          "Greenwood",
          "Greenwood",
          "Greenwood",
          "Greenwood",
          "Greenwood",
          "Greenwood",
          "Greenwood",
          "Greenwood",
          "Greenwood",
          "Greenwood",
          "Greenwood",
          "Greenwood",
          "Greenwood",
          "Greenwood",
          "Greenwood",
          "Greenwood",
          "Greenwood",
          "Greenwood",
          "Greenwood",
          "Greenwood",
          "Greenwood",
          "Greenwood",
          "Greenwood",
          "Greenwood",
          "Greenwood",
          "Greenwood",
          "Greenwood",
          "Greenwood",
          "Greenwood",
          "Greenwood",
          "Greenwood",
          "Greenwood",
          "Greenwood",
          "Greenwood",
          "Greenwood",
          "Greenwood",
          "Greenwood",
          "Greenwood",
          "Greenwood",
          "Greenwood",
          "Greenwood",
          "Greenwood",
          "Greenwood",
          "Greenwood",
          "Greenwood",
          "Greenwood",
          "Greenwood",
          "Greenwood",
          "Greenwood",
          "Greenwood",
          "Greenwood",
          "Greenwood",
          "Greenwood",
          "Greenwood",
          "Greenwood",
          "Holly Park",
          "Holly Park",
          "Holly Park",
          "Holly Park",
          "Holly Park",
          "Holly Park",
          "Fauntleroy",
          "Fauntleroy",
          "Fauntleroy",
          "Fauntleroy",
          "Fauntleroy",
          "Fauntleroy",
          "Fauntleroy",
          "Fauntleroy",
          "Fauntleroy",
          "Fauntleroy",
          "North Beacon Hill",
          "North Beacon Hill",
          "North Beacon Hill",
          "North Beacon Hill",
          "North Beacon Hill",
          "North Beacon Hill",
          "North Beacon Hill",
          "North Beacon Hill",
          "North Beacon Hill",
          "North Beacon Hill",
          "North Beacon Hill",
          "North Beacon Hill",
          "North Beacon Hill",
          "North Beacon Hill",
          "North Beacon Hill",
          "North Beacon Hill",
          "North Beacon Hill",
          "North Beacon Hill",
          "North Beacon Hill",
          "North Beacon Hill",
          "North Beacon Hill",
          "North Beacon Hill",
          "North Beacon Hill",
          "North Beacon Hill",
          "North Beacon Hill",
          "North Beacon Hill",
          "North Beacon Hill",
          "North Beacon Hill",
          "North Beacon Hill",
          "North Beacon Hill",
          "North Beacon Hill",
          "North Beacon Hill",
          "North Beacon Hill",
          "North Beacon Hill",
          "North Beacon Hill",
          "North Beacon Hill",
          "North Beacon Hill",
          "North Beacon Hill",
          "North Beacon Hill",
          "North Beacon Hill",
          "North Beacon Hill",
          "North Beacon Hill",
          "North Beacon Hill",
          "North Beacon Hill",
          "North Beacon Hill",
          "North Beacon Hill",
          "North Beacon Hill",
          "North Beacon Hill",
          "North Beacon Hill",
          "North Beacon Hill",
          "North Beacon Hill",
          "North Beacon Hill",
          "North Beacon Hill",
          "North Beacon Hill",
          "North Beacon Hill",
          "North Beacon Hill",
          "North Beacon Hill",
          "North Beacon Hill",
          "North Beacon Hill",
          "North Beacon Hill",
          "North Beacon Hill",
          "North Beacon Hill",
          "North Beacon Hill",
          "North Beacon Hill",
          "North Beacon Hill",
          "North Beacon Hill",
          "North Beacon Hill",
          "North Beacon Hill",
          "North Beacon Hill",
          "North Beacon Hill",
          "North Beacon Hill",
          "Mount Baker",
          "North Beacon Hill",
          "North Beacon Hill",
          "North Beacon Hill",
          "North Beacon Hill",
          "North Beacon Hill",
          "North Beacon Hill",
          "North Beacon Hill",
          "Brighton",
          "Brighton",
          "Brighton",
          "Brighton",
          "Brighton",
          "Brighton",
          "Brighton",
          "Brighton",
          "Brighton",
          "Brighton",
          "Brighton",
          "Brighton",
          "Brighton",
          "South Delridge",
          "South Delridge",
          "South Delridge",
          "South Delridge",
          "South Delridge",
          "South Delridge",
          "South Delridge",
          "South Delridge",
          "South Delridge",
          "South Delridge",
          "South Delridge",
          "South Delridge",
          "View Ridge",
          "View Ridge",
          "View Ridge",
          "View Ridge",
          "View Ridge",
          "View Ridge",
          "View Ridge",
          "Dunlap",
          "Dunlap",
          "Dunlap",
          "Dunlap",
          "Dunlap",
          "Dunlap",
          "Dunlap",
          "Dunlap",
          "Dunlap",
          "Dunlap",
          "Dunlap",
          "Dunlap",
          "Dunlap",
          "Dunlap",
          "Dunlap",
          "Dunlap",
          "Dunlap",
          "Dunlap",
          "Dunlap",
          "Dunlap",
          "Rainier Beach",
          "Rainier Beach",
          "Rainier Beach",
          "Rainier Beach",
          "Rainier Beach",
          "Rainier Beach",
          "Rainier Beach",
          "Rainier Beach",
          "Rainier Beach",
          "Rainier Beach",
          "Rainier Beach",
          "Rainier Beach",
          "Rainier Beach",
          "Rainier Beach",
          "Rainier Beach",
          "Rainier Beach",
          "Rainier Beach",
          "Columbia City",
          "Columbia City",
          "Mount Baker",
          "Columbia City",
          "Columbia City",
          "Columbia City",
          "Columbia City",
          "Columbia City",
          "Columbia City",
          "Columbia City",
          "Columbia City",
          "Columbia City",
          "Columbia City",
          "Columbia City",
          "Columbia City",
          "Columbia City",
          "Columbia City",
          "Columbia City",
          "Columbia City",
          "Columbia City",
          "Columbia City",
          "Columbia City",
          "Columbia City",
          "Columbia City",
          "Columbia City",
          "Columbia City",
          "Columbia City",
          "Columbia City",
          "Columbia City",
          "Columbia City",
          "Columbia City",
          "Columbia City",
          "Columbia City",
          "Columbia City",
          "Columbia City",
          "Columbia City",
          "Columbia City",
          "Columbia City",
          "Columbia City",
          "Columbia City",
          "Columbia City",
          "Columbia City",
          "Columbia City",
          "Columbia City",
          "Columbia City",
          "Columbia City",
          "Columbia City",
          "Columbia City",
          "Columbia City",
          "Columbia City",
          "Columbia City",
          "Columbia City",
          "Columbia City",
          "Columbia City",
          "Columbia City",
          "Columbia City",
          "Columbia City",
          "Columbia City",
          "Columbia City",
          "Mount Baker",
          "Mount Baker",
          "Mount Baker",
          "Mount Baker",
          "Mount Baker",
          "Mount Baker",
          "Mount Baker",
          "Mount Baker",
          "Mount Baker",
          "Mount Baker",
          "Mount Baker",
          "Mount Baker",
          "Mount Baker",
          "Mount Baker",
          "Mount Baker",
          "Mount Baker",
          "Mount Baker",
          "Mount Baker",
          "Mount Baker",
          "Mount Baker",
          "Mount Baker",
          "Mount Baker",
          "Mount Baker",
          "Mount Baker",
          "Mount Baker",
          "Mount Baker",
          "Mount Baker",
          "Mount Baker",
          "Mount Baker",
          "Mount Baker",
          "Mount Baker",
          "Mount Baker",
          "Mount Baker",
          "Mount Baker",
          "Mount Baker",
          "Mount Baker",
          "Mount Baker",
          "Mount Baker",
          "Mount Baker",
          "Mount Baker",
          "Mount Baker",
          "Mount Baker",
          "Mount Baker",
          "Mount Baker",
          "Mount Baker",
          "Mount Baker",
          "Mount Baker",
          "Mount Baker",
          "Seward Park",
          "Seward Park",
          "Seward Park",
          "Seward Park",
          "Seward Park",
          "Seward Park",
          "Seward Park",
          "Seward Park",
          "Seward Park",
          "Seward Park",
          "Seward Park",
          "Seward Park",
          "Seward Park",
          "Seward Park",
          "Seward Park",
          "Seward Park",
          "Seward Park",
          "Seward Park",
          "Seward Park",
          "Seward Park",
          "Seward Park",
          "Seward Park",
          "Seward Park",
          "Seward Park",
          "Seward Park",
          "Seward Park",
          "Seward Park",
          "Seward Park",
          "Seward Park",
          "Seward Park",
          "Seward Park",
          "Seward Park",
          "Seward Park",
          "Seward Park",
          "Seward Park",
          "Seward Park",
          "Seward Park",
          "Seward Park",
          "Seward Park",
          "Seward Park",
          "Seward Park",
          "Seward Park",
          "Seward Park",
          "Seward Park",
          "North Delridge",
          "North Delridge",
          "North Delridge",
          "North Delridge",
          "North Delridge",
          "North Delridge",
          "North Delridge",
          "North Delridge",
          "North Delridge",
          "North Delridge",
          "North Delridge",
          "North Delridge",
          "North Delridge",
          "North Delridge",
          "North Delridge",
          "North Delridge",
          "North Delridge",
          "North Delridge",
          "North Delridge",
          "North Delridge",
          "North Delridge",
          "North Delridge",
          "North Delridge",
          "North Delridge",
          "North Delridge",
          "North Delridge",
          "North Delridge",
          "North Delridge",
          "North Delridge",
          "North Delridge",
          "North Delridge",
          "North Delridge",
          "Maple Leaf",
          "Maple Leaf",
          "Maple Leaf",
          "Maple Leaf",
          "Maple Leaf",
          "Maple Leaf",
          "Maple Leaf",
          "Maple Leaf",
          "Maple Leaf",
          "Maple Leaf",
          "Maple Leaf",
          "Maple Leaf",
          "Maple Leaf",
          "Maple Leaf",
          "Maple Leaf",
          "Maple Leaf",
          "Maple Leaf",
          "Maple Leaf",
          "Maple Leaf",
          "Maple Leaf",
          "Maple Leaf",
          "Maple Leaf",
          "Maple Leaf",
          "Maple Leaf",
          "Maple Leaf",
          "Maple Leaf",
          "Maple Leaf",
          "Maple Leaf",
          "Maple Leaf",
          "Maple Leaf",
          "Maple Leaf",
          "Maple Leaf",
          "Maple Leaf",
          "Maple Leaf",
          "Maple Leaf",
          "Maple Leaf",
          "Maple Leaf",
          "Maple Leaf",
          "Maple Leaf",
          "Maple Leaf",
          "Maple Leaf",
          "Maple Leaf",
          "Ravenna",
          "Ravenna",
          "Ravenna",
          "Ravenna",
          "Ravenna",
          "Ravenna",
          "Ravenna",
          "Ravenna",
          "Ravenna",
          "Ravenna",
          "Ravenna",
          "Ravenna",
          "Ravenna",
          "Ravenna",
          "Ravenna",
          "Ravenna",
          "Ravenna",
          "Ravenna",
          "Ravenna",
          "Ravenna",
          "Ravenna",
          "Ravenna",
          "Ravenna",
          "Ravenna",
          "Ravenna",
          "Ravenna",
          "Ravenna",
          "Ravenna",
          "Ravenna",
          "Ravenna",
          "Ravenna",
          "Ravenna",
          "Ravenna",
          "Ravenna",
          "Ravenna",
          "Ravenna",
          "Ravenna",
          "Ravenna",
          "Ravenna",
          "Ravenna",
          "Ravenna",
          "Ravenna",
          "Ravenna",
          "Ravenna",
          "Ravenna",
          "Ravenna",
          "Ravenna",
          "Ravenna",
          "Ravenna",
          "Ravenna",
          "Ravenna",
          "Ravenna",
          "Ravenna",
          "Ravenna",
          "Ravenna",
          "Ravenna",
          "Ravenna",
          "Ravenna",
          "Ravenna",
          "Ravenna",
          "Ravenna",
          "Ravenna",
          "Ravenna",
          "Ravenna",
          "Ravenna",
          "Ravenna",
          "Ravenna",
          "Riverview",
          "Riverview",
          "Riverview",
          "Riverview",
          "Riverview",
          "Riverview",
          "Riverview",
          "Riverview",
          "Portage Bay",
          "Portage Bay",
          "Portage Bay",
          "Portage Bay",
          "Portage Bay",
          "Portage Bay",
          "Portage Bay",
          "Portage Bay",
          "Portage Bay",
          "Portage Bay",
          "Portage Bay",
          "Portage Bay",
          "Portage Bay",
          "Bryant",
          "Bryant",
          "Bryant",
          "Bryant",
          "Bryant",
          "Bryant",
          "Bryant",
          "Bryant",
          "Bryant",
          "Bryant",
          "Bryant",
          "Bryant",
          "Bryant",
          "Bryant",
          "Bryant",
          "Bryant",
          "Bryant",
          "Bryant",
          "Bryant",
          "Bryant",
          "Bryant",
          "Bryant",
          "Bryant",
          "Bryant",
          "Bryant",
          "Bryant",
          "Bryant",
          "Bryant",
          "Bryant",
          "Montlake",
          "Montlake",
          "Montlake",
          "Montlake",
          "Montlake",
          "Montlake",
          "Montlake",
          "Montlake",
          "Montlake",
          "Montlake",
          "Montlake",
          "Montlake",
          "Montlake",
          "Montlake",
          "Montlake",
          "Montlake",
          "Montlake",
          "Montlake",
          "Montlake",
          "Broadway",
          "Broadway",
          "Broadway",
          "Broadway",
          "Broadway",
          "Broadway",
          "Broadway",
          "Broadway",
          "Broadway",
          "Broadway",
          "Broadway",
          "Broadway",
          "Broadway",
          "Broadway",
          "Broadway",
          "Broadway",
          "Broadway",
          "Broadway",
          "Broadway",
          "Broadway",
          "Broadway",
          "Broadway",
          "Broadway",
          "Broadway",
          "Broadway",
          "Broadway",
          "Broadway",
          "Broadway",
          "Broadway",
          "Broadway",
          "Broadway",
          "Broadway",
          "Broadway",
          "Broadway",
          "Broadway",
          "Broadway",
          "Broadway",
          "Broadway",
          "Broadway",
          "Broadway",
          "Broadway",
          "Broadway",
          "Broadway",
          "Broadway",
          "Broadway",
          "Broadway",
          "Broadway",
          "Broadway",
          "Broadway",
          "Broadway",
          "Broadway",
          "Broadway",
          "Broadway",
          "Broadway",
          "Broadway",
          "Broadway",
          "Broadway",
          "Broadway",
          "Broadway",
          "Broadway",
          "Broadway",
          "Broadway",
          "Broadway",
          "Broadway",
          "Broadway",
          "Broadway",
          "Broadway",
          "Broadway",
          "Broadway",
          "Broadway",
          "Broadway",
          "Broadway",
          "Broadway",
          "Broadway",
          "Broadway",
          "Broadway",
          "Broadway",
          "Broadway",
          "Broadway",
          "Broadway",
          "Broadway",
          "Broadway",
          "Broadway",
          "Broadway",
          "Broadway",
          "Broadway",
          "Broadway",
          "Broadway",
          "Broadway",
          "Broadway",
          "Broadway",
          "Broadway",
          "Broadway",
          "Broadway",
          "Broadway",
          "Broadway",
          "Broadway",
          "Broadway",
          "Broadway",
          "Broadway",
          "Broadway",
          "Broadway",
          "Broadway",
          "Broadway",
          "Broadway",
          "Broadway",
          "Broadway",
          "Broadway",
          "Broadway",
          "Broadway",
          "Broadway",
          "Broadway",
          "Broadway",
          "Broadway",
          "Broadway",
          "Broadway",
          "Broadway",
          "Broadway",
          "Broadway",
          "Broadway",
          "Broadway",
          "Broadway",
          "Broadway",
          "Broadway",
          "Broadway",
          "Broadway",
          "Broadway",
          "Broadway",
          "Broadway",
          "Broadway",
          "Broadway",
          "Broadway",
          "Broadway",
          "Broadway",
          "Broadway",
          "Broadway",
          "Broadway",
          "Broadway",
          "Broadway",
          "Broadway",
          "Broadway",
          "Broadway",
          "Broadway",
          "Broadway",
          "Broadway",
          "Broadway",
          "Broadway",
          "Broadway",
          "Broadway",
          "Broadway",
          "Broadway",
          "Broadway",
          "Broadway",
          "Broadway",
          "Broadway",
          "Broadway",
          "Broadway",
          "Broadway",
          "Broadway",
          "Broadway",
          "Broadway",
          "Broadway",
          "Broadway",
          "Broadway",
          "Broadway",
          "Broadway",
          "Broadway",
          "Broadway",
          "Broadway",
          "Broadway",
          "Broadway",
          "Broadway",
          "Broadway",
          "Broadway",
          "Broadway",
          "Broadway",
          "Broadway",
          "Broadway",
          "Broadway",
          "Broadway",
          "Broadway",
          "Broadway",
          "Broadway",
          "Broadway",
          "Broadway",
          "Broadway",
          "Broadway",
          "Broadway",
          "Broadway",
          "Broadway",
          "Broadway",
          "Broadway",
          "Broadway",
          "Broadway",
          "Broadway",
          "Broadway",
          "Broadway",
          "Broadway",
          "Broadway",
          "Broadway",
          "Broadway",
          "Broadway",
          "Broadway",
          "Broadway",
          "Broadway",
          "Broadway",
          "Broadway",
          "Broadway",
          "Broadway",
          "Broadway",
          "Broadway",
          "Broadway",
          "Broadway",
          "Broadway",
          "Broadway",
          "Broadway",
          "Broadway",
          "Broadway",
          "Broadway",
          "Broadway",
          "Broadway",
          "Broadway",
          "Broadway",
          "Broadway",
          "Broadway",
          "Broadway",
          "Broadway",
          "Broadway",
          "Broadway",
          "Broadway",
          "Broadway",
          "Broadway",
          "Broadway",
          "Broadway",
          "Broadway",
          "Broadway",
          "Broadway",
          "Broadway",
          "Broadway",
          "Broadway",
          "Broadway",
          "Broadway",
          "Broadway",
          "Broadway",
          "Broadway",
          "Broadway",
          "Broadway",
          "Broadway",
          "Broadway",
          "Broadway",
          "Broadway",
          "Broadway",
          "Broadway",
          "Broadway",
          "Broadway",
          "Broadway",
          "Broadway",
          "Broadway",
          "Broadway",
          "Broadway",
          "Broadway",
          "Broadway",
          "Broadway",
          "Broadway",
          "Broadway",
          "Broadway",
          "Broadway",
          "Broadway",
          "Broadway",
          "Broadway",
          "Broadway",
          "Broadway",
          "Broadway",
          "Broadway",
          "Broadway",
          "Broadway",
          "Broadway",
          "Broadway",
          "Broadway",
          "Broadway",
          "Broadway",
          "Broadway",
          "Broadway",
          "Broadway",
          "Broadway",
          "Broadway",
          "Broadway",
          "Broadway",
          "Broadway",
          "Broadway",
          "Broadway",
          "Broadway",
          "Broadway",
          "Broadway",
          "Broadway",
          "Broadway",
          "Broadway",
          "Broadway",
          "Broadway",
          "Broadway",
          "Broadway",
          "Broadway",
          "Broadway",
          "Broadway",
          "Broadway",
          "Broadway",
          "Broadway",
          "Broadway",
          "Broadway",
          "Broadway",
          "Broadway",
          "Broadway",
          "Broadway",
          "Broadway",
          "Broadway",
          "Broadway",
          "Broadway",
          "Broadway",
          "Broadway",
          "Broadway",
          "Broadway",
          "Broadway",
          "Broadway",
          "Broadway",
          "Broadway",
          "Broadway",
          "Broadway",
          "Broadway",
          "Broadway",
          "Broadway",
          "Broadway",
          "Broadway",
          "Broadway",
          "Broadway",
          "Broadway",
          "Broadway",
          "Broadway",
          "Broadway",
          "Broadway",
          "Broadway",
          "Broadway",
          "Broadway",
          "Broadway",
          "Broadway",
          "Broadway",
          "Broadway",
          "Broadway",
          "Broadway",
          "Broadway",
          "Broadway",
          "Broadway",
          "Broadway",
          "Broadway",
          "Broadway",
          "Broadway",
          "Broadway",
          "Broadway",
          "Broadway",
          "Broadway",
          "Broadway",
          "Broadway",
          "Broadway",
          "Broadway",
          "Broadway",
          "Broadway",
          "Broadway",
          "Broadway",
          "Broadway",
          "Broadway",
          "Broadway",
          "Broadway",
          "Broadway",
          "Broadway",
          "Broadway",
          "Broadway",
          "Broadway",
          "Broadway",
          "Broadway",
          "Broadway",
          "Broadway",
          "Broadway",
          "Broadway",
          "Broadway",
          "Broadway",
          "Broadway",
          "Broadway",
          "Broadway",
          "Broadway",
          "Broadway",
          "Broadway",
          "Broadway",
          "Broadway",
          "Broadway",
          "Broadway",
          "Broadway",
          "Broadway",
          "Broadway",
          "Loyal Heights",
          "Loyal Heights",
          "Loyal Heights",
          "Loyal Heights",
          "Loyal Heights",
          "Loyal Heights",
          "Loyal Heights",
          "Loyal Heights",
          "Loyal Heights",
          "Loyal Heights",
          "Loyal Heights",
          "Loyal Heights",
          "Loyal Heights",
          "Loyal Heights",
          "Loyal Heights",
          "Loyal Heights",
          "Loyal Heights",
          "Loyal Heights",
          "Loyal Heights",
          "Loyal Heights",
          "Loyal Heights",
          "Loyal Heights",
          "Loyal Heights",
          "Loyal Heights",
          "Loyal Heights",
          "Loyal Heights",
          "Loyal Heights",
          "Loyal Heights",
          "Loyal Heights",
          "Loyal Heights",
          "Loyal Heights",
          "Loyal Heights",
          "Loyal Heights",
          "Loyal Heights",
          "Loyal Heights",
          "Loyal Heights",
          "Loyal Heights",
          "Loyal Heights",
          "Loyal Heights",
          "Loyal Heights",
          "Loyal Heights",
          "Loyal Heights",
          "Loyal Heights",
          "Loyal Heights",
          "Loyal Heights",
          "Loyal Heights",
          "Loyal Heights",
          "Loyal Heights",
          "Loyal Heights",
          "Loyal Heights",
          "Loyal Heights",
          "Loyal Heights",
          "Victory Heights",
          "Victory Heights",
          "Victory Heights",
          "Victory Heights",
          "Victory Heights",
          "Victory Heights",
          "Victory Heights",
          "Victory Heights",
          "Victory Heights",
          "Victory Heights",
          "Victory Heights",
          "Victory Heights",
          "Victory Heights",
          "Victory Heights",
          "Victory Heights",
          "Matthews Beach",
          "Matthews Beach",
          "Matthews Beach",
          "Matthews Beach",
          "Matthews Beach",
          "Matthews Beach",
          "Matthews Beach",
          "Matthews Beach",
          "Matthews Beach",
          "Matthews Beach",
          "Matthews Beach",
          "Matthews Beach",
          "Matthews Beach",
          "Matthews Beach",
          "Matthews Beach",
          "Matthews Beach",
          "Matthews Beach",
          "Matthews Beach",
          "Matthews Beach",
          "Whittier Heights",
          "Whittier Heights",
          "Whittier Heights",
          "Whittier Heights",
          "Whittier Heights",
          "Whittier Heights",
          "Whittier Heights",
          "Whittier Heights",
          "Whittier Heights",
          "Whittier Heights",
          "Whittier Heights",
          "Whittier Heights",
          "Whittier Heights",
          "Whittier Heights",
          "Whittier Heights",
          "Whittier Heights",
          "Whittier Heights",
          "Whittier Heights",
          "Whittier Heights",
          "Whittier Heights",
          "Whittier Heights",
          "Whittier Heights",
          "Whittier Heights",
          "Whittier Heights",
          "Whittier Heights",
          "Whittier Heights",
          "Meadowbrook",
          "Meadowbrook",
          "Meadowbrook",
          "Meadowbrook",
          "Meadowbrook",
          "Meadowbrook",
          "Meadowbrook",
          "Meadowbrook",
          "Meadowbrook",
          "Industrial District",
          "Olympic Hills",
          "Olympic Hills",
          "Olympic Hills",
          "Olympic Hills",
          "Olympic Hills",
          "Olympic Hills",
          "Olympic Hills",
          "Olympic Hills",
          "Olympic Hills",
          "Olympic Hills",
          "Olympic Hills",
          "Olympic Hills",
          "Olympic Hills",
          "Olympic Hills",
          "Olympic Hills",
          "Olympic Hills",
          "Roosevelt",
          "Roosevelt",
          "Roosevelt",
          "Roosevelt",
          "Roosevelt",
          "Roosevelt",
          "Roosevelt",
          "Roosevelt",
          "Roosevelt",
          "Roosevelt",
          "Roosevelt",
          "Roosevelt",
          "Roosevelt",
          "Roosevelt",
          "Roosevelt",
          "Roosevelt",
          "Roosevelt",
          "Roosevelt",
          "Roosevelt",
          "Roosevelt",
          "Roosevelt",
          "Roosevelt",
          "Roosevelt",
          "Roosevelt",
          "Roosevelt",
          "Roosevelt",
          "Roosevelt",
          "Roosevelt",
          "Roosevelt",
          "Roosevelt",
          "Lower Queen Anne",
          "Lower Queen Anne",
          "Lower Queen Anne",
          "Lower Queen Anne",
          "Lower Queen Anne",
          "Lower Queen Anne",
          "Lower Queen Anne",
          "Lower Queen Anne",
          "Lower Queen Anne",
          "Lower Queen Anne",
          "Lower Queen Anne",
          "Lower Queen Anne",
          "Lower Queen Anne",
          "Lower Queen Anne",
          "Lower Queen Anne",
          "Lower Queen Anne",
          "Lower Queen Anne",
          "Lower Queen Anne",
          "Lower Queen Anne",
          "Lower Queen Anne",
          "Lower Queen Anne",
          "Lower Queen Anne",
          "Lower Queen Anne",
          "Lower Queen Anne",
          "Lower Queen Anne",
          "Lower Queen Anne",
          "Lower Queen Anne",
          "Lower Queen Anne",
          "Lower Queen Anne",
          "Lower Queen Anne",
          "Lower Queen Anne",
          "Lower Queen Anne",
          "Lower Queen Anne",
          "Lower Queen Anne",
          "Lower Queen Anne",
          "Lower Queen Anne",
          "Lower Queen Anne",
          "Lower Queen Anne",
          "Lower Queen Anne",
          "Lower Queen Anne",
          "Lower Queen Anne",
          "Lower Queen Anne",
          "Lower Queen Anne",
          "Lower Queen Anne",
          "Lower Queen Anne",
          "Lower Queen Anne",
          "Lower Queen Anne",
          "Lower Queen Anne",
          "Lower Queen Anne",
          "Lower Queen Anne",
          "Lower Queen Anne",
          "Lower Queen Anne",
          "Lower Queen Anne",
          "Lower Queen Anne",
          "Lower Queen Anne",
          "Lower Queen Anne",
          "Lower Queen Anne",
          "Lower Queen Anne",
          "Lower Queen Anne",
          "Lower Queen Anne",
          "Lower Queen Anne",
          "Lower Queen Anne",
          "Lower Queen Anne",
          "Lower Queen Anne",
          "Lower Queen Anne",
          "Lower Queen Anne",
          "Lower Queen Anne",
          "Lower Queen Anne",
          "Lower Queen Anne",
          "Lower Queen Anne",
          "Lower Queen Anne",
          "Lower Queen Anne",
          "Lower Queen Anne",
          "Lower Queen Anne",
          "Lower Queen Anne",
          "Lower Queen Anne",
          "Lower Queen Anne",
          "Lower Queen Anne",
          "Lower Queen Anne",
          "Lower Queen Anne",
          "Lower Queen Anne",
          "Lower Queen Anne",
          "Lower Queen Anne",
          "Lower Queen Anne",
          "Lower Queen Anne",
          "Lower Queen Anne",
          "Lower Queen Anne",
          "Lower Queen Anne",
          "Lower Queen Anne",
          "Lower Queen Anne",
          "Lower Queen Anne",
          "Lower Queen Anne",
          "Lower Queen Anne",
          "Lower Queen Anne",
          "Wedgwood",
          "Wedgwood",
          "Wedgwood",
          "Wedgwood",
          "Wedgwood",
          "Wedgwood",
          "Wedgwood",
          "Wedgwood",
          "Wedgwood",
          "Wedgwood",
          "Wedgwood",
          "Wedgwood",
          "Wedgwood",
          "Wedgwood",
          "Wedgwood",
          "Wedgwood",
          "Wedgwood",
          "Wedgwood",
          "North Beach/Blue Ridge",
          "North Beach/Blue Ridge",
          "North Beach/Blue Ridge",
          "North Beach/Blue Ridge",
          "North Beach/Blue Ridge",
          "North Beach/Blue Ridge",
          "North Beach/Blue Ridge",
          "North Beach/Blue Ridge",
          "North Beach/Blue Ridge",
          "North Beach/Blue Ridge",
          "North Beach/Blue Ridge",
          "North Beach/Blue Ridge",
          "North Beach/Blue Ridge",
          "North Beach/Blue Ridge",
          "Cedar Park",
          "Cedar Park",
          "Cedar Park",
          "Cedar Park",
          "Cedar Park",
          "Cedar Park",
          "Cedar Park",
          "Cedar Park",
          "Bitter Lake",
          "Bitter Lake",
          "Bitter Lake",
          "Bitter Lake",
          "Bitter Lake",
          "Bitter Lake",
          "Bitter Lake",
          "Bitter Lake",
          "Bitter Lake",
          "Bitter Lake",
          "Bitter Lake",
          "Bitter Lake",
          "Bitter Lake",
          "Sunset Hill",
          "Sunset Hill",
          "Sunset Hill",
          "Sunset Hill",
          "Sunset Hill",
          "Sunset Hill",
          "Sunset Hill",
          "Sunset Hill",
          "Sunset Hill",
          "Sunset Hill",
          "Sunset Hill",
          "Sunset Hill",
          "Sunset Hill",
          "Sunset Hill",
          "Sunset Hill",
          "Sunset Hill",
          "Sunset Hill",
          "Sunset Hill",
          "Haller Lake",
          "Haller Lake",
          "Haller Lake",
          "Haller Lake",
          "Haller Lake",
          "Haller Lake",
          "Haller Lake",
          "Haller Lake",
          "Haller Lake",
          "Haller Lake",
          "Haller Lake",
          "Haller Lake",
          "Haller Lake",
          "Haller Lake",
          "Haller Lake",
          "Pinehurst",
          "Pinehurst",
          "Pinehurst",
          "Pinehurst",
          "North College Park",
          "North College Park",
          "North College Park",
          "North College Park",
          "North College Park",
          "North College Park",
          "North College Park",
          "North College Park",
          "North College Park",
          "North College Park",
          "North College Park",
          "North College Park",
          "North College Park",
          "North College Park",
          "North College Park",
          "North College Park",
          "North College Park",
          "North College Park",
          "North College Park",
          "Phinney Ridge",
          "Phinney Ridge",
          "Phinney Ridge",
          "Phinney Ridge",
          "Phinney Ridge",
          "Phinney Ridge",
          "Phinney Ridge",
          "Phinney Ridge",
          "Phinney Ridge",
          "Phinney Ridge",
          "Phinney Ridge",
          "Phinney Ridge",
          "Phinney Ridge",
          "Phinney Ridge",
          "Phinney Ridge",
          "Phinney Ridge",
          "Phinney Ridge",
          "Phinney Ridge",
          "Phinney Ridge",
          "Phinney Ridge",
          "Phinney Ridge",
          "Phinney Ridge",
          "Phinney Ridge",
          "Phinney Ridge",
          "Phinney Ridge",
          "Phinney Ridge",
          "Phinney Ridge",
          "Phinney Ridge",
          "Phinney Ridge",
          "Phinney Ridge",
          "Phinney Ridge",
          "Phinney Ridge",
          "Phinney Ridge",
          "Phinney Ridge",
          "Phinney Ridge",
          "Phinney Ridge",
          "Phinney Ridge",
          "Phinney Ridge",
          "Phinney Ridge",
          "Phinney Ridge",
          "Phinney Ridge",
          "Phinney Ridge",
          "Phinney Ridge",
          "Phinney Ridge",
          "Phinney Ridge",
          "Phinney Ridge",
          "Phinney Ridge",
          "Phinney Ridge",
          "Phinney Ridge",
          "Phinney Ridge",
          "Phinney Ridge",
          "Phinney Ridge",
          "Phinney Ridge",
          "Phinney Ridge",
          "Phinney Ridge",
          "Phinney Ridge",
          "Phinney Ridge",
          "Phinney Ridge",
          "Phinney Ridge",
          "Phinney Ridge",
          "Phinney Ridge",
          "Phinney Ridge",
          "Phinney Ridge",
          "Phinney Ridge",
          "Phinney Ridge",
          "Phinney Ridge",
          "Phinney Ridge",
          "Phinney Ridge",
          "Phinney Ridge",
          "Phinney Ridge",
          "Phinney Ridge",
          "Phinney Ridge",
          "Phinney Ridge",
          "Windermere",
          "Windermere",
          "Windermere",
          "Windermere",
          "Windermere",
          "Windermere",
          "Windermere",
          "Windermere",
          "Windermere",
          "Windermere",
          "Laurelhurst",
          "Laurelhurst",
          "Laurelhurst",
          "Laurelhurst",
          "Laurelhurst",
          "Laurelhurst",
          "Laurelhurst",
          "Laurelhurst",
          "Laurelhurst",
          "Laurelhurst",
          "Southeast Magnolia",
          "Southeast Magnolia",
          "Southeast Magnolia",
          "Southeast Magnolia",
          "Southeast Magnolia",
          "Southeast Magnolia",
          "Southeast Magnolia",
          "Southeast Magnolia",
          "Southeast Magnolia",
          "Southeast Magnolia",
          "Southeast Magnolia",
          "Southeast Magnolia",
          "Southeast Magnolia",
          "Southeast Magnolia",
          "Southeast Magnolia",
          "Southeast Magnolia",
          "Southeast Magnolia",
          "High Point",
          "High Point",
          "High Point",
          "High Point",
          "High Point",
          "High Point",
          "High Point",
          "High Point",
          "High Point",
          "High Point",
          "High Point",
          "High Point",
          "High Point",
          "High Point",
          "Seaview",
          "Seaview",
          "Seaview",
          "Seaview",
          "Seaview",
          "Seaview",
          "Seaview",
          "Seaview",
          "Seaview",
          "Seaview",
          "Seaview",
          "Seaview",
          "Georgetown",
          "Georgetown",
          "Georgetown",
          "Georgetown",
          "Georgetown",
          "Georgetown",
          "Georgetown",
          "Georgetown",
          "South Park",
          "South Park",
          "South Park",
          "Roxhill",
          "Roxhill",
          "Highland Park",
          "Highland Park",
          "Highland Park",
          "Highland Park",
          "Highland Park",
          "Highland Park",
          "Highland Park",
          "Highland Park",
          "Highland Park",
          "Highland Park",
          "Highland Park",
          "Madison Park",
          "Madison Park",
          "Madison Park",
          "Madison Park",
          "Madison Park",
          "Madison Park",
          "Madison Park",
          "Madison Park",
          "Madison Park",
          "Madison Park",
          "Madison Park",
          "Madison Park",
          "Madison Park",
          "Madison Park",
          "Madison Park",
          "Madison Park",
          "Madison Park",
          "Stevens",
          "Stevens",
          "Stevens",
          "Stevens",
          "Stevens",
          "Stevens",
          "Stevens",
          "Stevens",
          "Stevens",
          "Stevens",
          "Stevens",
          "Stevens",
          "Stevens",
          "Stevens",
          "Stevens",
          "Stevens",
          "Stevens",
          "Stevens",
          "Stevens",
          "Stevens",
          "Stevens",
          "Stevens",
          "Stevens",
          "Stevens",
          "Stevens",
          "Stevens",
          "Stevens",
          "Stevens",
          "Stevens",
          "Stevens",
          "Stevens",
          "Stevens",
          "Stevens",
          "Stevens",
          "Stevens",
          "Stevens",
          "Stevens",
          "Stevens",
          "Stevens",
          "Stevens",
          "Stevens",
          "Stevens",
          "Stevens",
          "Stevens",
          "Stevens",
          "Stevens",
          "Stevens",
          "Stevens",
          "Stevens",
          "Stevens",
          "Stevens",
          "Stevens",
          "Stevens",
          "Stevens",
          "Stevens",
          "Stevens",
          "Stevens",
          "Stevens",
          "Stevens",
          "Stevens",
          "Stevens",
          "Stevens",
          "Stevens",
          "Stevens",
          "Stevens",
          "Stevens",
          "Stevens",
          "Stevens",
          "Stevens",
          "Stevens",
          "Stevens",
          "Stevens",
          "Stevens",
          "Stevens",
          "Stevens",
          "Stevens",
          "Stevens",
          "Stevens",
          "Stevens",
          "Stevens",
          "Stevens",
          "Stevens",
          "Stevens",
          "Stevens",
          "Stevens",
          "Stevens",
          "Stevens",
          "Stevens",
          "Stevens",
          "Stevens",
          "Stevens",
          "Stevens",
          "Stevens",
          "Stevens",
          "Stevens",
          "Stevens",
          "Stevens",
          "Stevens",
          "Stevens",
          "Stevens",
          "Stevens",
          "Stevens",
          "Stevens",
          "Stevens",
          "Stevens",
          "Stevens",
          "Stevens",
          "Stevens",
          "Stevens",
          "Stevens",
          "Stevens",
          "Stevens",
          "Stevens",
          "Stevens",
          "Stevens",
          "Stevens",
          "Stevens",
          "Stevens",
          "Stevens",
          "Broadview",
          "Broadview",
          "Broadview",
          "Broadview",
          "Broadview",
          "Broadview",
          "Broadview",
          "Broadview",
          "Broadview",
          "Broadview",
          "Broadview",
          "Broadview",
          "Broadview",
          "Broadview",
          "Broadview",
          "Broadview",
          "Broadview",
          "Fremont",
          "Fremont",
          "Fremont",
          "Fremont",
          "Fremont",
          "Fremont",
          "Fremont",
          "Fremont",
          "Fremont",
          "Fremont",
          "Fremont",
          "Fremont",
          "Fremont",
          "Fremont",
          "Fremont",
          "Fremont",
          "Fremont",
          "Fremont",
          "Fremont",
          "Fremont",
          "Fremont",
          "Fremont",
          "Fremont",
          "Fremont",
          "Fremont",
          "Fremont",
          "Fremont",
          "Fremont",
          "Fremont",
          "Fremont",
          "Fremont",
          "Fremont",
          "Fremont",
          "Fremont",
          "Fremont",
          "Fremont",
          "Fremont",
          "Fremont",
          "Fremont",
          "Fremont",
          "Fremont",
          "Fremont",
          "Fremont",
          "Fremont",
          "Fremont",
          "Fremont",
          "Fremont",
          "Fremont",
          "Fremont",
          "Fremont",
          "Fremont",
          "Fremont",
          "Fremont",
          "Fremont",
          "Fremont",
          "Fremont",
          "Fremont",
          "Fremont",
          "Fremont",
          "Fremont",
          "Fremont",
          "Fremont",
          "Fremont",
          "Fremont",
          "Fremont",
          "Fremont",
          "Fremont",
          "Fremont",
          "Fremont",
          "Fremont",
          "Fremont",
          "Fremont",
          "Fremont",
          "Fremont",
          "Fremont",
          "Fremont",
          "Fremont",
          "Fremont",
          "Fremont",
          "Fremont",
          "Fremont",
          "Fremont",
          "Fremont",
          "Fremont",
          "Fremont",
          "Fremont",
          "Fremont",
          "Fremont",
          "Fremont",
          "Fremont",
          "Fremont",
          "Fremont",
          "Fremont",
          "Fremont",
          "Fremont",
          "Fremont",
          "Fremont",
          "Fremont",
          "Fremont",
          "Fremont",
          "Fremont",
          "Fremont",
          "Fremont",
          "Fremont",
          "Fremont",
          "Fremont",
          "Fremont",
          "Fremont",
          "Fremont",
          "Fremont",
          "Fremont",
          "Fremont",
          "Fremont",
          "Fremont",
          "Fremont",
          "Fremont",
          "Fremont",
          "Fremont",
          "Fremont",
          "Fremont",
          "Fremont",
          "Fremont",
          "Fremont",
          "Fremont",
          "Fremont",
          "Fremont",
          "Fremont",
          "Fremont",
          "Fremont",
          "Fremont",
          "Fremont",
          "Fremont",
          "Fremont",
          "Fremont",
          "Fremont",
          "Fremont",
          "Fremont",
          "Fremont",
          "Fremont",
          "Fremont",
          "Fremont",
          "Fremont",
          "Fremont",
          "Fremont",
          "Fremont",
          "Fremont",
          "Fremont",
          "Fremont",
          "Fremont",
          "Fremont",
          "Fremont",
          "Fremont",
          "Fremont",
          "Fremont",
          "Fremont",
          "Fremont",
          "Fremont",
          "Fremont",
          "Portage Bay",
          "Rainier Beach",
          "Madison Park",
          "East Queen Anne"
         ],
         "xaxis": "x",
         "yaxis": "y"
        }
       ],
       "layout": {
        "barmode": "relative",
        "legend": {
         "tracegroupgap": 0
        },
        "margin": {
         "t": 60
        },
        "template": {
         "data": {
          "bar": [
           {
            "error_x": {
             "color": "#2a3f5f"
            },
            "error_y": {
             "color": "#2a3f5f"
            },
            "marker": {
             "line": {
              "color": "#E5ECF6",
              "width": 0.5
             },
             "pattern": {
              "fillmode": "overlay",
              "size": 10,
              "solidity": 0.2
             }
            },
            "type": "bar"
           }
          ],
          "barpolar": [
           {
            "marker": {
             "line": {
              "color": "#E5ECF6",
              "width": 0.5
             },
             "pattern": {
              "fillmode": "overlay",
              "size": 10,
              "solidity": 0.2
             }
            },
            "type": "barpolar"
           }
          ],
          "carpet": [
           {
            "aaxis": {
             "endlinecolor": "#2a3f5f",
             "gridcolor": "white",
             "linecolor": "white",
             "minorgridcolor": "white",
             "startlinecolor": "#2a3f5f"
            },
            "baxis": {
             "endlinecolor": "#2a3f5f",
             "gridcolor": "white",
             "linecolor": "white",
             "minorgridcolor": "white",
             "startlinecolor": "#2a3f5f"
            },
            "type": "carpet"
           }
          ],
          "choropleth": [
           {
            "colorbar": {
             "outlinewidth": 0,
             "ticks": ""
            },
            "type": "choropleth"
           }
          ],
          "contour": [
           {
            "colorbar": {
             "outlinewidth": 0,
             "ticks": ""
            },
            "colorscale": [
             [
              0,
              "#0d0887"
             ],
             [
              0.1111111111111111,
              "#46039f"
             ],
             [
              0.2222222222222222,
              "#7201a8"
             ],
             [
              0.3333333333333333,
              "#9c179e"
             ],
             [
              0.4444444444444444,
              "#bd3786"
             ],
             [
              0.5555555555555556,
              "#d8576b"
             ],
             [
              0.6666666666666666,
              "#ed7953"
             ],
             [
              0.7777777777777778,
              "#fb9f3a"
             ],
             [
              0.8888888888888888,
              "#fdca26"
             ],
             [
              1,
              "#f0f921"
             ]
            ],
            "type": "contour"
           }
          ],
          "contourcarpet": [
           {
            "colorbar": {
             "outlinewidth": 0,
             "ticks": ""
            },
            "type": "contourcarpet"
           }
          ],
          "heatmap": [
           {
            "colorbar": {
             "outlinewidth": 0,
             "ticks": ""
            },
            "colorscale": [
             [
              0,
              "#0d0887"
             ],
             [
              0.1111111111111111,
              "#46039f"
             ],
             [
              0.2222222222222222,
              "#7201a8"
             ],
             [
              0.3333333333333333,
              "#9c179e"
             ],
             [
              0.4444444444444444,
              "#bd3786"
             ],
             [
              0.5555555555555556,
              "#d8576b"
             ],
             [
              0.6666666666666666,
              "#ed7953"
             ],
             [
              0.7777777777777778,
              "#fb9f3a"
             ],
             [
              0.8888888888888888,
              "#fdca26"
             ],
             [
              1,
              "#f0f921"
             ]
            ],
            "type": "heatmap"
           }
          ],
          "histogram": [
           {
            "marker": {
             "pattern": {
              "fillmode": "overlay",
              "size": 10,
              "solidity": 0.2
             }
            },
            "type": "histogram"
           }
          ],
          "histogram2d": [
           {
            "colorbar": {
             "outlinewidth": 0,
             "ticks": ""
            },
            "colorscale": [
             [
              0,
              "#0d0887"
             ],
             [
              0.1111111111111111,
              "#46039f"
             ],
             [
              0.2222222222222222,
              "#7201a8"
             ],
             [
              0.3333333333333333,
              "#9c179e"
             ],
             [
              0.4444444444444444,
              "#bd3786"
             ],
             [
              0.5555555555555556,
              "#d8576b"
             ],
             [
              0.6666666666666666,
              "#ed7953"
             ],
             [
              0.7777777777777778,
              "#fb9f3a"
             ],
             [
              0.8888888888888888,
              "#fdca26"
             ],
             [
              1,
              "#f0f921"
             ]
            ],
            "type": "histogram2d"
           }
          ],
          "histogram2dcontour": [
           {
            "colorbar": {
             "outlinewidth": 0,
             "ticks": ""
            },
            "colorscale": [
             [
              0,
              "#0d0887"
             ],
             [
              0.1111111111111111,
              "#46039f"
             ],
             [
              0.2222222222222222,
              "#7201a8"
             ],
             [
              0.3333333333333333,
              "#9c179e"
             ],
             [
              0.4444444444444444,
              "#bd3786"
             ],
             [
              0.5555555555555556,
              "#d8576b"
             ],
             [
              0.6666666666666666,
              "#ed7953"
             ],
             [
              0.7777777777777778,
              "#fb9f3a"
             ],
             [
              0.8888888888888888,
              "#fdca26"
             ],
             [
              1,
              "#f0f921"
             ]
            ],
            "type": "histogram2dcontour"
           }
          ],
          "mesh3d": [
           {
            "colorbar": {
             "outlinewidth": 0,
             "ticks": ""
            },
            "type": "mesh3d"
           }
          ],
          "parcoords": [
           {
            "line": {
             "colorbar": {
              "outlinewidth": 0,
              "ticks": ""
             }
            },
            "type": "parcoords"
           }
          ],
          "pie": [
           {
            "automargin": true,
            "type": "pie"
           }
          ],
          "scatter": [
           {
            "fillpattern": {
             "fillmode": "overlay",
             "size": 10,
             "solidity": 0.2
            },
            "type": "scatter"
           }
          ],
          "scatter3d": [
           {
            "line": {
             "colorbar": {
              "outlinewidth": 0,
              "ticks": ""
             }
            },
            "marker": {
             "colorbar": {
              "outlinewidth": 0,
              "ticks": ""
             }
            },
            "type": "scatter3d"
           }
          ],
          "scattercarpet": [
           {
            "marker": {
             "colorbar": {
              "outlinewidth": 0,
              "ticks": ""
             }
            },
            "type": "scattercarpet"
           }
          ],
          "scattergeo": [
           {
            "marker": {
             "colorbar": {
              "outlinewidth": 0,
              "ticks": ""
             }
            },
            "type": "scattergeo"
           }
          ],
          "scattergl": [
           {
            "marker": {
             "colorbar": {
              "outlinewidth": 0,
              "ticks": ""
             }
            },
            "type": "scattergl"
           }
          ],
          "scattermap": [
           {
            "marker": {
             "colorbar": {
              "outlinewidth": 0,
              "ticks": ""
             }
            },
            "type": "scattermap"
           }
          ],
          "scattermapbox": [
           {
            "marker": {
             "colorbar": {
              "outlinewidth": 0,
              "ticks": ""
             }
            },
            "type": "scattermapbox"
           }
          ],
          "scatterpolar": [
           {
            "marker": {
             "colorbar": {
              "outlinewidth": 0,
              "ticks": ""
             }
            },
            "type": "scatterpolar"
           }
          ],
          "scatterpolargl": [
           {
            "marker": {
             "colorbar": {
              "outlinewidth": 0,
              "ticks": ""
             }
            },
            "type": "scatterpolargl"
           }
          ],
          "scatterternary": [
           {
            "marker": {
             "colorbar": {
              "outlinewidth": 0,
              "ticks": ""
             }
            },
            "type": "scatterternary"
           }
          ],
          "surface": [
           {
            "colorbar": {
             "outlinewidth": 0,
             "ticks": ""
            },
            "colorscale": [
             [
              0,
              "#0d0887"
             ],
             [
              0.1111111111111111,
              "#46039f"
             ],
             [
              0.2222222222222222,
              "#7201a8"
             ],
             [
              0.3333333333333333,
              "#9c179e"
             ],
             [
              0.4444444444444444,
              "#bd3786"
             ],
             [
              0.5555555555555556,
              "#d8576b"
             ],
             [
              0.6666666666666666,
              "#ed7953"
             ],
             [
              0.7777777777777778,
              "#fb9f3a"
             ],
             [
              0.8888888888888888,
              "#fdca26"
             ],
             [
              1,
              "#f0f921"
             ]
            ],
            "type": "surface"
           }
          ],
          "table": [
           {
            "cells": {
             "fill": {
              "color": "#EBF0F8"
             },
             "line": {
              "color": "white"
             }
            },
            "header": {
             "fill": {
              "color": "#C8D4E3"
             },
             "line": {
              "color": "white"
             }
            },
            "type": "table"
           }
          ]
         },
         "layout": {
          "annotationdefaults": {
           "arrowcolor": "#2a3f5f",
           "arrowhead": 0,
           "arrowwidth": 1
          },
          "autotypenumbers": "strict",
          "coloraxis": {
           "colorbar": {
            "outlinewidth": 0,
            "ticks": ""
           }
          },
          "colorscale": {
           "diverging": [
            [
             0,
             "#8e0152"
            ],
            [
             0.1,
             "#c51b7d"
            ],
            [
             0.2,
             "#de77ae"
            ],
            [
             0.3,
             "#f1b6da"
            ],
            [
             0.4,
             "#fde0ef"
            ],
            [
             0.5,
             "#f7f7f7"
            ],
            [
             0.6,
             "#e6f5d0"
            ],
            [
             0.7,
             "#b8e186"
            ],
            [
             0.8,
             "#7fbc41"
            ],
            [
             0.9,
             "#4d9221"
            ],
            [
             1,
             "#276419"
            ]
           ],
           "sequential": [
            [
             0,
             "#0d0887"
            ],
            [
             0.1111111111111111,
             "#46039f"
            ],
            [
             0.2222222222222222,
             "#7201a8"
            ],
            [
             0.3333333333333333,
             "#9c179e"
            ],
            [
             0.4444444444444444,
             "#bd3786"
            ],
            [
             0.5555555555555556,
             "#d8576b"
            ],
            [
             0.6666666666666666,
             "#ed7953"
            ],
            [
             0.7777777777777778,
             "#fb9f3a"
            ],
            [
             0.8888888888888888,
             "#fdca26"
            ],
            [
             1,
             "#f0f921"
            ]
           ],
           "sequentialminus": [
            [
             0,
             "#0d0887"
            ],
            [
             0.1111111111111111,
             "#46039f"
            ],
            [
             0.2222222222222222,
             "#7201a8"
            ],
            [
             0.3333333333333333,
             "#9c179e"
            ],
            [
             0.4444444444444444,
             "#bd3786"
            ],
            [
             0.5555555555555556,
             "#d8576b"
            ],
            [
             0.6666666666666666,
             "#ed7953"
            ],
            [
             0.7777777777777778,
             "#fb9f3a"
            ],
            [
             0.8888888888888888,
             "#fdca26"
            ],
            [
             1,
             "#f0f921"
            ]
           ]
          },
          "colorway": [
           "#636efa",
           "#EF553B",
           "#00cc96",
           "#ab63fa",
           "#FFA15A",
           "#19d3f3",
           "#FF6692",
           "#B6E880",
           "#FF97FF",
           "#FECB52"
          ],
          "font": {
           "color": "#2a3f5f"
          },
          "geo": {
           "bgcolor": "white",
           "lakecolor": "white",
           "landcolor": "#E5ECF6",
           "showlakes": true,
           "showland": true,
           "subunitcolor": "white"
          },
          "hoverlabel": {
           "align": "left"
          },
          "hovermode": "closest",
          "mapbox": {
           "style": "light"
          },
          "paper_bgcolor": "white",
          "plot_bgcolor": "#E5ECF6",
          "polar": {
           "angularaxis": {
            "gridcolor": "white",
            "linecolor": "white",
            "ticks": ""
           },
           "bgcolor": "#E5ECF6",
           "radialaxis": {
            "gridcolor": "white",
            "linecolor": "white",
            "ticks": ""
           }
          },
          "scene": {
           "xaxis": {
            "backgroundcolor": "#E5ECF6",
            "gridcolor": "white",
            "gridwidth": 2,
            "linecolor": "white",
            "showbackground": true,
            "ticks": "",
            "zerolinecolor": "white"
           },
           "yaxis": {
            "backgroundcolor": "#E5ECF6",
            "gridcolor": "white",
            "gridwidth": 2,
            "linecolor": "white",
            "showbackground": true,
            "ticks": "",
            "zerolinecolor": "white"
           },
           "zaxis": {
            "backgroundcolor": "#E5ECF6",
            "gridcolor": "white",
            "gridwidth": 2,
            "linecolor": "white",
            "showbackground": true,
            "ticks": "",
            "zerolinecolor": "white"
           }
          },
          "shapedefaults": {
           "line": {
            "color": "#2a3f5f"
           }
          },
          "ternary": {
           "aaxis": {
            "gridcolor": "white",
            "linecolor": "white",
            "ticks": ""
           },
           "baxis": {
            "gridcolor": "white",
            "linecolor": "white",
            "ticks": ""
           },
           "bgcolor": "#E5ECF6",
           "caxis": {
            "gridcolor": "white",
            "linecolor": "white",
            "ticks": ""
           }
          },
          "title": {
           "x": 0.05
          },
          "xaxis": {
           "automargin": true,
           "gridcolor": "white",
           "linecolor": "white",
           "ticks": "",
           "title": {
            "standoff": 15
           },
           "zerolinecolor": "white",
           "zerolinewidth": 2
          },
          "yaxis": {
           "automargin": true,
           "gridcolor": "white",
           "linecolor": "white",
           "ticks": "",
           "title": {
            "standoff": 15
           },
           "zerolinecolor": "white",
           "zerolinewidth": 2
          }
         }
        },
        "xaxis": {
         "anchor": "y",
         "categoryorder": "total descending",
         "domain": [
          0,
          1
         ],
         "title": {
          "text": "neighbourhood_cleansed"
         }
        },
        "yaxis": {
         "anchor": "x",
         "domain": [
          0,
          1
         ],
         "title": {
          "text": "count"
         }
        }
       }
      }
     },
     "metadata": {},
     "output_type": "display_data"
    }
   ],
   "source": [
    "fig = px.histogram(df_listings_clean, x=\"neighbourhood_cleansed\").update_xaxes(categoryorder=\"total descending\")\n",
    "fig.show()"
   ]
  },
  {
   "cell_type": "markdown",
   "metadata": {},
   "source": [
    "- Broadway has a median average price\n",
    "- This suggests it offers a good value proposition, which likely contributes to its popularity\n",
    "- The moderate pricing combined with high listing count (from previous graph) indicates it\\'s a high-demand, reasonably priced area\n",
    "- Southeast Magnolia has the highest average price at approximately $231\n",
    "- Waterfront areas (Magnolia, Portage Bay) tend to command higher prices\n",
    "- Central locations (Broadway, Pioneer Square) show mid-range pricing"
   ]
  },
  {
   "cell_type": "code",
   "execution_count": 84,
   "metadata": {},
   "outputs": [
    {
     "data": {
      "application/vnd.plotly.v1+json": {
       "config": {
        "plotlyServerURL": "https://plot.ly"
       },
       "data": [
        {
         "bingroup": "x",
         "histfunc": "avg",
         "hovertemplate": "neighbourhood_cleansed=%{x}<br>avg of price=%{y}<extra></extra>",
         "legendgroup": "",
         "marker": {
          "color": "#636efa",
          "pattern": {
           "shape": ""
          }
         },
         "name": "",
         "orientation": "v",
         "showlegend": false,
         "type": "histogram",
         "x": [
          "West Queen Anne",
          "West Queen Anne",
          "West Queen Anne",
          "West Queen Anne",
          "West Queen Anne",
          "West Queen Anne",
          "West Queen Anne",
          "West Queen Anne",
          "West Queen Anne",
          "West Queen Anne",
          "West Queen Anne",
          "West Queen Anne",
          "West Queen Anne",
          "West Queen Anne",
          "West Queen Anne",
          "West Queen Anne",
          "West Queen Anne",
          "West Queen Anne",
          "West Queen Anne",
          "West Queen Anne",
          "West Queen Anne",
          "West Queen Anne",
          "West Queen Anne",
          "West Queen Anne",
          "West Queen Anne",
          "West Queen Anne",
          "West Queen Anne",
          "West Queen Anne",
          "West Queen Anne",
          "West Queen Anne",
          "West Queen Anne",
          "West Queen Anne",
          "West Queen Anne",
          "West Queen Anne",
          "West Queen Anne",
          "West Queen Anne",
          "West Queen Anne",
          "West Queen Anne",
          "West Queen Anne",
          "West Queen Anne",
          "West Queen Anne",
          "West Queen Anne",
          "West Queen Anne",
          "West Queen Anne",
          "West Queen Anne",
          "West Queen Anne",
          "West Queen Anne",
          "West Queen Anne",
          "West Queen Anne",
          "West Queen Anne",
          "West Queen Anne",
          "West Queen Anne",
          "West Queen Anne",
          "West Queen Anne",
          "West Queen Anne",
          "West Queen Anne",
          "West Queen Anne",
          "West Queen Anne",
          "West Queen Anne",
          "West Queen Anne",
          "West Queen Anne",
          "West Queen Anne",
          "West Queen Anne",
          "West Queen Anne",
          "West Queen Anne",
          "Adams",
          "Adams",
          "Adams",
          "Adams",
          "Adams",
          "Adams",
          "Adams",
          "Adams",
          "Adams",
          "Adams",
          "Adams",
          "Adams",
          "Adams",
          "Adams",
          "Adams",
          "Adams",
          "Adams",
          "Adams",
          "Adams",
          "Adams",
          "Adams",
          "Adams",
          "Adams",
          "Adams",
          "Adams",
          "Adams",
          "Adams",
          "Adams",
          "Adams",
          "Adams",
          "Adams",
          "Adams",
          "Adams",
          "Adams",
          "Adams",
          "Adams",
          "Adams",
          "Adams",
          "Adams",
          "Adams",
          "Adams",
          "Adams",
          "Adams",
          "Adams",
          "Adams",
          "Adams",
          "Adams",
          "Adams",
          "Adams",
          "Adams",
          "Adams",
          "Adams",
          "Adams",
          "Adams",
          "Adams",
          "Adams",
          "Adams",
          "Adams",
          "Adams",
          "Adams",
          "Adams",
          "Adams",
          "Adams",
          "Adams",
          "Adams",
          "Adams",
          "Adams",
          "Adams",
          "Adams",
          "Adams",
          "West Woodland",
          "West Woodland",
          "West Woodland",
          "West Woodland",
          "West Woodland",
          "West Woodland",
          "West Woodland",
          "West Woodland",
          "West Woodland",
          "West Woodland",
          "West Woodland",
          "West Woodland",
          "West Woodland",
          "West Woodland",
          "West Woodland",
          "West Woodland",
          "West Woodland",
          "West Woodland",
          "West Woodland",
          "West Woodland",
          "West Woodland",
          "West Woodland",
          "West Woodland",
          "West Woodland",
          "West Woodland",
          "West Woodland",
          "West Woodland",
          "West Woodland",
          "West Woodland",
          "West Woodland",
          "West Woodland",
          "West Woodland",
          "West Woodland",
          "West Woodland",
          "West Woodland",
          "West Woodland",
          "West Woodland",
          "West Woodland",
          "West Woodland",
          "West Woodland",
          "West Woodland",
          "West Woodland",
          "West Woodland",
          "West Woodland",
          "West Woodland",
          "West Woodland",
          "West Woodland",
          "West Woodland",
          "West Woodland",
          "West Woodland",
          "West Woodland",
          "West Woodland",
          "West Woodland",
          "West Woodland",
          "West Woodland",
          "West Woodland",
          "West Woodland",
          "West Woodland",
          "West Woodland",
          "West Woodland",
          "West Woodland",
          "West Woodland",
          "West Woodland",
          "West Woodland",
          "East Queen Anne",
          "East Queen Anne",
          "East Queen Anne",
          "East Queen Anne",
          "East Queen Anne",
          "East Queen Anne",
          "East Queen Anne",
          "East Queen Anne",
          "East Queen Anne",
          "East Queen Anne",
          "East Queen Anne",
          "East Queen Anne",
          "East Queen Anne",
          "East Queen Anne",
          "East Queen Anne",
          "East Queen Anne",
          "East Queen Anne",
          "East Queen Anne",
          "East Queen Anne",
          "East Queen Anne",
          "East Queen Anne",
          "East Queen Anne",
          "East Queen Anne",
          "East Queen Anne",
          "East Queen Anne",
          "East Queen Anne",
          "East Queen Anne",
          "East Queen Anne",
          "East Queen Anne",
          "East Queen Anne",
          "East Queen Anne",
          "East Queen Anne",
          "East Queen Anne",
          "East Queen Anne",
          "East Queen Anne",
          "East Queen Anne",
          "East Queen Anne",
          "East Queen Anne",
          "East Queen Anne",
          "East Queen Anne",
          "East Queen Anne",
          "East Queen Anne",
          "East Queen Anne",
          "East Queen Anne",
          "East Queen Anne",
          "East Queen Anne",
          "East Queen Anne",
          "East Queen Anne",
          "East Queen Anne",
          "East Queen Anne",
          "East Queen Anne",
          "East Queen Anne",
          "East Queen Anne",
          "East Queen Anne",
          "East Queen Anne",
          "East Queen Anne",
          "East Queen Anne",
          "East Queen Anne",
          "East Queen Anne",
          "East Queen Anne",
          "East Queen Anne",
          "East Queen Anne",
          "East Queen Anne",
          "East Queen Anne",
          "East Queen Anne",
          "East Queen Anne",
          "East Queen Anne",
          "East Queen Anne",
          "East Queen Anne",
          "East Queen Anne",
          "East Queen Anne",
          "East Queen Anne",
          "East Queen Anne",
          "East Queen Anne",
          "East Queen Anne",
          "East Queen Anne",
          "East Queen Anne",
          "East Queen Anne",
          "East Queen Anne",
          "East Queen Anne",
          "East Queen Anne",
          "Wallingford",
          "Wallingford",
          "Wallingford",
          "Wallingford",
          "Wallingford",
          "Wallingford",
          "Wallingford",
          "Wallingford",
          "Wallingford",
          "Wallingford",
          "Wallingford",
          "Wallingford",
          "Wallingford",
          "Wallingford",
          "Wallingford",
          "Wallingford",
          "Wallingford",
          "Wallingford",
          "Wallingford",
          "Wallingford",
          "Wallingford",
          "Wallingford",
          "Wallingford",
          "Wallingford",
          "Wallingford",
          "Wallingford",
          "Wallingford",
          "Wallingford",
          "Wallingford",
          "Wallingford",
          "Wallingford",
          "Wallingford",
          "Wallingford",
          "Wallingford",
          "Wallingford",
          "Wallingford",
          "Wallingford",
          "Wallingford",
          "Wallingford",
          "Wallingford",
          "Wallingford",
          "Wallingford",
          "Wallingford",
          "Wallingford",
          "Wallingford",
          "Wallingford",
          "Wallingford",
          "Wallingford",
          "Wallingford",
          "Wallingford",
          "Wallingford",
          "Wallingford",
          "Wallingford",
          "Wallingford",
          "Wallingford",
          "Wallingford",
          "Wallingford",
          "Wallingford",
          "Wallingford",
          "Wallingford",
          "Wallingford",
          "Wallingford",
          "Wallingford",
          "Wallingford",
          "Wallingford",
          "Wallingford",
          "Wallingford",
          "Wallingford",
          "Wallingford",
          "Wallingford",
          "Wallingford",
          "Wallingford",
          "Wallingford",
          "Wallingford",
          "Wallingford",
          "Wallingford",
          "Wallingford",
          "Wallingford",
          "Wallingford",
          "Wallingford",
          "Wallingford",
          "Wallingford",
          "Wallingford",
          "Wallingford",
          "Wallingford",
          "Wallingford",
          "Wallingford",
          "Wallingford",
          "Wallingford",
          "Wallingford",
          "Wallingford",
          "Wallingford",
          "Wallingford",
          "Wallingford",
          "Wallingford",
          "Wallingford",
          "Wallingford",
          "Wallingford",
          "Wallingford",
          "Wallingford",
          "Wallingford",
          "Wallingford",
          "Wallingford",
          "Wallingford",
          "Wallingford",
          "Wallingford",
          "Wallingford",
          "Wallingford",
          "Wallingford",
          "Wallingford",
          "Wallingford",
          "Wallingford",
          "Wallingford",
          "Wallingford",
          "Wallingford",
          "Wallingford",
          "Wallingford",
          "Wallingford",
          "Wallingford",
          "Wallingford",
          "Wallingford",
          "Wallingford",
          "Wallingford",
          "Wallingford",
          "Wallingford",
          "Wallingford",
          "Wallingford",
          "Wallingford",
          "Wallingford",
          "Wallingford",
          "Wallingford",
          "Wallingford",
          "Wallingford",
          "Wallingford",
          "Wallingford",
          "Wallingford",
          "Wallingford",
          "Wallingford",
          "Wallingford",
          "Wallingford",
          "Wallingford",
          "Wallingford",
          "Wallingford",
          "Wallingford",
          "Wallingford",
          "Wallingford",
          "Wallingford",
          "Wallingford",
          "Wallingford",
          "Wallingford",
          "Wallingford",
          "Wallingford",
          "Wallingford",
          "Wallingford",
          "Wallingford",
          "Wallingford",
          "Wallingford",
          "Wallingford",
          "Wallingford",
          "Wallingford",
          "Wallingford",
          "Wallingford",
          "Wallingford",
          "Wallingford",
          "Wallingford",
          "Wallingford",
          "Wallingford",
          "North Queen Anne",
          "North Queen Anne",
          "North Queen Anne",
          "North Queen Anne",
          "North Queen Anne",
          "North Queen Anne",
          "North Queen Anne",
          "North Queen Anne",
          "North Queen Anne",
          "North Queen Anne",
          "North Queen Anne",
          "North Queen Anne",
          "North Queen Anne",
          "North Queen Anne",
          "North Queen Anne",
          "North Queen Anne",
          "North Queen Anne",
          "North Queen Anne",
          "North Queen Anne",
          "North Queen Anne",
          "North Queen Anne",
          "North Queen Anne",
          "North Queen Anne",
          "North Queen Anne",
          "North Queen Anne",
          "North Queen Anne",
          "North Queen Anne",
          "North Queen Anne",
          "North Queen Anne",
          "North Queen Anne",
          "North Queen Anne",
          "North Queen Anne",
          "North Queen Anne",
          "North Queen Anne",
          "North Queen Anne",
          "North Queen Anne",
          "North Queen Anne",
          "North Queen Anne",
          "North Queen Anne",
          "North Queen Anne",
          "North Queen Anne",
          "North Queen Anne",
          "North Queen Anne",
          "North Queen Anne",
          "North Queen Anne",
          "North Queen Anne",
          "North Queen Anne",
          "North Queen Anne",
          "North Queen Anne",
          "North Queen Anne",
          "North Queen Anne",
          "North Queen Anne",
          "North Queen Anne",
          "North Queen Anne",
          "Green Lake",
          "Green Lake",
          "Green Lake",
          "Green Lake",
          "Green Lake",
          "Green Lake",
          "Green Lake",
          "Green Lake",
          "Green Lake",
          "Green Lake",
          "Green Lake",
          "Green Lake",
          "Green Lake",
          "Green Lake",
          "Green Lake",
          "Green Lake",
          "Green Lake",
          "Green Lake",
          "Green Lake",
          "Green Lake",
          "Green Lake",
          "Green Lake",
          "Green Lake",
          "Green Lake",
          "Green Lake",
          "Green Lake",
          "Green Lake",
          "Green Lake",
          "Green Lake",
          "Green Lake",
          "Green Lake",
          "Green Lake",
          "Green Lake",
          "Green Lake",
          "Green Lake",
          "Green Lake",
          "Green Lake",
          "Green Lake",
          "Green Lake",
          "Green Lake",
          "Green Lake",
          "Green Lake",
          "Green Lake",
          "Green Lake",
          "Green Lake",
          "Green Lake",
          "Green Lake",
          "Green Lake",
          "Green Lake",
          "Green Lake",
          "Green Lake",
          "Green Lake",
          "Green Lake",
          "Green Lake",
          "Westlake",
          "Westlake",
          "Westlake",
          "Westlake",
          "Westlake",
          "Westlake",
          "Westlake",
          "Westlake",
          "Westlake",
          "Westlake",
          "Westlake",
          "Westlake",
          "Westlake",
          "Westlake",
          "Westlake",
          "Westlake",
          "Westlake",
          "Mann",
          "Mann",
          "Mann",
          "Mann",
          "Mann",
          "Mann",
          "Mann",
          "Mann",
          "Mann",
          "Mann",
          "Mann",
          "Mann",
          "Mann",
          "Mann",
          "Mann",
          "Mann",
          "Mann",
          "Mann",
          "Mann",
          "Mann",
          "Mann",
          "Mann",
          "Mann",
          "Mann",
          "Mann",
          "Mann",
          "Mann",
          "Mann",
          "Mann",
          "Mann",
          "Mann",
          "Mann",
          "Mann",
          "Mann",
          "Mann",
          "Mann",
          "Mann",
          "Mann",
          "Mann",
          "Mann",
          "Mann",
          "Mann",
          "Mann",
          "Mann",
          "Mann",
          "Mann",
          "Mann",
          "Mann",
          "Mann",
          "Mann",
          "Mann",
          "Mann",
          "Mann",
          "Mann",
          "Mann",
          "Mann",
          "Mann",
          "Mann",
          "Mann",
          "Mann",
          "Mann",
          "Mann",
          "Mann",
          "Mann",
          "Mann",
          "Mann",
          "Mann",
          "Madrona",
          "Madrona",
          "Madrona",
          "Madrona",
          "Madrona",
          "Madrona",
          "Madrona",
          "Madrona",
          "Madrona",
          "Madrona",
          "Madrona",
          "Madrona",
          "Madrona",
          "Madrona",
          "Madrona",
          "Madrona",
          "Madrona",
          "Madrona",
          "Madrona",
          "Madrona",
          "Madrona",
          "Madrona",
          "Madrona",
          "Madrona",
          "Madrona",
          "Madrona",
          "Madrona",
          "Madrona",
          "Madrona",
          "Madrona",
          "Madrona",
          "Madrona",
          "Madrona",
          "Madrona",
          "Madrona",
          "Madrona",
          "Madrona",
          "Madrona",
          "Madrona",
          "Madrona",
          "Madrona",
          "Madrona",
          "Madrona",
          "Madrona",
          "Madrona",
          "Madrona",
          "Madrona",
          "University District",
          "University District",
          "University District",
          "University District",
          "University District",
          "University District",
          "University District",
          "University District",
          "University District",
          "University District",
          "University District",
          "University District",
          "University District",
          "University District",
          "University District",
          "University District",
          "University District",
          "University District",
          "University District",
          "University District",
          "University District",
          "University District",
          "University District",
          "University District",
          "University District",
          "University District",
          "University District",
          "University District",
          "University District",
          "University District",
          "University District",
          "University District",
          "University District",
          "University District",
          "University District",
          "University District",
          "University District",
          "University District",
          "University District",
          "University District",
          "University District",
          "University District",
          "University District",
          "University District",
          "University District",
          "University District",
          "University District",
          "University District",
          "University District",
          "University District",
          "University District",
          "University District",
          "University District",
          "University District",
          "University District",
          "University District",
          "University District",
          "University District",
          "University District",
          "University District",
          "University District",
          "University District",
          "University District",
          "University District",
          "University District",
          "University District",
          "University District",
          "University District",
          "University District",
          "University District",
          "University District",
          "University District",
          "University District",
          "University District",
          "University District",
          "University District",
          "University District",
          "University District",
          "University District",
          "University District",
          "University District",
          "University District",
          "University District",
          "University District",
          "University District",
          "University District",
          "University District",
          "University District",
          "University District",
          "University District",
          "University District",
          "University District",
          "University District",
          "University District",
          "University District",
          "University District",
          "University District",
          "University District",
          "University District",
          "University District",
          "University District",
          "University District",
          "University District",
          "University District",
          "University District",
          "University District",
          "University District",
          "University District",
          "University District",
          "University District",
          "University District",
          "University District",
          "University District",
          "University District",
          "University District",
          "University District",
          "University District",
          "University District",
          "University District",
          "University District",
          "University District",
          "University District",
          "Harrison/Denny-Blaine",
          "Harrison/Denny-Blaine",
          "Harrison/Denny-Blaine",
          "Harrison/Denny-Blaine",
          "Harrison/Denny-Blaine",
          "Harrison/Denny-Blaine",
          "Harrison/Denny-Blaine",
          "Harrison/Denny-Blaine",
          "Harrison/Denny-Blaine",
          "Harrison/Denny-Blaine",
          "Harrison/Denny-Blaine",
          "Harrison/Denny-Blaine",
          "Harrison/Denny-Blaine",
          "Harrison/Denny-Blaine",
          "Minor",
          "Minor",
          "Minor",
          "Minor",
          "Minor",
          "Minor",
          "Minor",
          "Minor",
          "Minor",
          "Minor",
          "Minor",
          "Minor",
          "Minor",
          "Minor",
          "Minor",
          "Minor",
          "Minor",
          "Minor",
          "Minor",
          "Minor",
          "Minor",
          "Minor",
          "Minor",
          "Minor",
          "Minor",
          "Minor",
          "Minor",
          "Minor",
          "Minor",
          "Minor",
          "Minor",
          "Minor",
          "Minor",
          "Minor",
          "Minor",
          "Minor",
          "Minor",
          "Minor",
          "Minor",
          "Minor",
          "Minor",
          "Minor",
          "Minor",
          "Minor",
          "Minor",
          "Minor",
          "Minor",
          "Minor",
          "Minor",
          "Minor",
          "Minor",
          "Minor",
          "Minor",
          "Minor",
          "Minor",
          "Minor",
          "Minor",
          "Minor",
          "Minor",
          "Minor",
          "Minor",
          "Minor",
          "Minor",
          "Minor",
          "Minor",
          "Minor",
          "Minor",
          "Minor",
          "Minor",
          "Minor",
          "Minor",
          "Minor",
          "Minor",
          "Minor",
          "Minor",
          "Minor",
          "Minor",
          "Minor",
          "Minor",
          "Minor",
          "Minor",
          "Minor",
          "Minor",
          "Minor",
          "Minor",
          "Minor",
          "Minor",
          "Minor",
          "Minor",
          "Minor",
          "Minor",
          "Minor",
          "Minor",
          "Minor",
          "Minor",
          "Minor",
          "Minor",
          "Minor",
          "Minor",
          "Minor",
          "Minor",
          "Minor",
          "Minor",
          "Minor",
          "Minor",
          "Minor",
          "Minor",
          "Minor",
          "Minor",
          "Minor",
          "Minor",
          "Minor",
          "Minor",
          "Minor",
          "Minor",
          "Minor",
          "Minor",
          "Minor",
          "Minor",
          "Minor",
          "Minor",
          "Minor",
          "Minor",
          "Minor",
          "Minor",
          "Minor",
          "Minor",
          "Minor",
          "Minor",
          "Minor",
          "Minor",
          "Minor",
          "Minor",
          "Minor",
          "Minor",
          "Leschi",
          "Leschi",
          "Leschi",
          "Leschi",
          "Leschi",
          "Leschi",
          "Leschi",
          "Leschi",
          "Leschi",
          "Leschi",
          "Leschi",
          "Leschi",
          "Leschi",
          "Leschi",
          "Leschi",
          "Leschi",
          "Leschi",
          "Leschi",
          "Leschi",
          "Leschi",
          "Leschi",
          "Leschi",
          "Leschi",
          "Leschi",
          "Leschi",
          "Leschi",
          "Leschi",
          "Leschi",
          "Leschi",
          "Leschi",
          "Leschi",
          "Leschi",
          "Leschi",
          "Leschi",
          "Leschi",
          "Leschi",
          "Leschi",
          "Leschi",
          "Leschi",
          "Leschi",
          "Leschi",
          "Leschi",
          "Leschi",
          "Leschi",
          "Leschi",
          "Leschi",
          "Leschi",
          "Leschi",
          "Leschi",
          "Leschi",
          "Leschi",
          "Leschi",
          "Leschi",
          "Atlantic",
          "Atlantic",
          "Atlantic",
          "Atlantic",
          "Atlantic",
          "Atlantic",
          "Atlantic",
          "Atlantic",
          "Atlantic",
          "Atlantic",
          "Atlantic",
          "Atlantic",
          "Atlantic",
          "Atlantic",
          "Atlantic",
          "Atlantic",
          "Atlantic",
          "Atlantic",
          "Atlantic",
          "Atlantic",
          "Atlantic",
          "Atlantic",
          "Atlantic",
          "Atlantic",
          "Atlantic",
          "Atlantic",
          "Atlantic",
          "Atlantic",
          "Atlantic",
          "Atlantic",
          "Atlantic",
          "Atlantic",
          "Atlantic",
          "Atlantic",
          "Atlantic",
          "Atlantic",
          "Atlantic",
          "Atlantic",
          "Atlantic",
          "Atlantic",
          "Atlantic",
          "Atlantic",
          "Atlantic",
          "Atlantic",
          "Atlantic",
          "Atlantic",
          "Atlantic",
          "Atlantic",
          "Atlantic",
          "Atlantic",
          "Atlantic",
          "Atlantic",
          "Atlantic",
          "Pike-Market",
          "Pike-Market",
          "Pike-Market",
          "Pike-Market",
          "Pike-Market",
          "Pike-Market",
          "Pike-Market",
          "Pike-Market",
          "Pike-Market",
          "Pike-Market",
          "Pike-Market",
          "Pike-Market",
          "Pike-Market",
          "Pike-Market",
          "Pike-Market",
          "Pike-Market",
          "Pike-Market",
          "Pike-Market",
          "Pike-Market",
          "Pike-Market",
          "Pike-Market",
          "Pike-Market",
          "Pike-Market",
          "Pike-Market",
          "Pike-Market",
          "Pike-Market",
          "Pike-Market",
          "Pike-Market",
          "Eastlake",
          "Eastlake",
          "Eastlake",
          "Eastlake",
          "Eastlake",
          "Eastlake",
          "Eastlake",
          "Eastlake",
          "Eastlake",
          "Eastlake",
          "Eastlake",
          "Eastlake",
          "Eastlake",
          "Eastlake",
          "Eastlake",
          "Eastlake",
          "Eastlake",
          "Eastlake",
          "Eastlake",
          "Eastlake",
          "Eastlake",
          "Eastlake",
          "Eastlake",
          "Eastlake",
          "Eastlake",
          "Eastlake",
          "Eastlake",
          "Eastlake",
          "Eastlake",
          "Eastlake",
          "Eastlake",
          "Eastlake",
          "Eastlake",
          "Eastlake",
          "Eastlake",
          "Eastlake",
          "Eastlake",
          "Eastlake",
          "Eastlake",
          "Eastlake",
          "Eastlake",
          "Eastlake",
          "Eastlake",
          "Eastlake",
          "Eastlake",
          "South Lake Union",
          "South Lake Union",
          "South Lake Union",
          "South Lake Union",
          "South Lake Union",
          "South Lake Union",
          "South Lake Union",
          "South Lake Union",
          "South Lake Union",
          "South Lake Union",
          "South Lake Union",
          "South Lake Union",
          "South Lake Union",
          "South Lake Union",
          "South Lake Union",
          "South Lake Union",
          "South Lake Union",
          "South Lake Union",
          "South Lake Union",
          "South Lake Union",
          "South Lake Union",
          "South Lake Union",
          "South Lake Union",
          "South Lake Union",
          "South Lake Union",
          "South Lake Union",
          "South Lake Union",
          "Lawton Park",
          "Lawton Park",
          "Lawton Park",
          "Lawton Park",
          "Lawton Park",
          "Lawton Park",
          "Lawton Park",
          "Lawton Park",
          "Lawton Park",
          "Lawton Park",
          "Lawton Park",
          "Lawton Park",
          "Lawton Park",
          "Lawton Park",
          "Lawton Park",
          "Lawton Park",
          "Lawton Park",
          "Lawton Park",
          "Lawton Park",
          "Lawton Park",
          "Lawton Park",
          "Lawton Park",
          "Lawton Park",
          "Lawton Park",
          "Lawton Park",
          "Lawton Park",
          "Lawton Park",
          "Lawton Park",
          "Lawton Park",
          "Lawton Park",
          "Briarcliff",
          "Briarcliff",
          "Briarcliff",
          "Briarcliff",
          "Briarcliff",
          "Briarcliff",
          "Briarcliff",
          "Briarcliff",
          "Briarcliff",
          "Briarcliff",
          "Briarcliff",
          "Briarcliff",
          "Briarcliff",
          "Briarcliff",
          "Belltown",
          "Belltown",
          "Belltown",
          "Belltown",
          "Belltown",
          "Belltown",
          "Belltown",
          "Belltown",
          "Belltown",
          "Belltown",
          "Belltown",
          "Belltown",
          "Belltown",
          "Belltown",
          "Belltown",
          "Belltown",
          "Belltown",
          "Belltown",
          "Belltown",
          "Belltown",
          "Belltown",
          "Belltown",
          "Belltown",
          "Belltown",
          "Belltown",
          "Belltown",
          "Belltown",
          "Belltown",
          "Belltown",
          "Belltown",
          "Belltown",
          "Belltown",
          "Belltown",
          "Belltown",
          "Belltown",
          "Belltown",
          "Belltown",
          "Belltown",
          "Belltown",
          "Belltown",
          "Belltown",
          "Belltown",
          "Belltown",
          "Belltown",
          "Belltown",
          "Belltown",
          "Belltown",
          "Belltown",
          "Belltown",
          "Belltown",
          "Belltown",
          "Belltown",
          "Belltown",
          "Belltown",
          "Belltown",
          "Belltown",
          "Belltown",
          "Belltown",
          "Belltown",
          "Belltown",
          "Belltown",
          "Belltown",
          "Belltown",
          "Belltown",
          "Belltown",
          "Belltown",
          "Belltown",
          "Belltown",
          "Belltown",
          "Belltown",
          "Belltown",
          "Belltown",
          "Belltown",
          "Belltown",
          "Belltown",
          "Belltown",
          "Belltown",
          "Belltown",
          "Belltown",
          "Belltown",
          "Belltown",
          "Belltown",
          "Belltown",
          "Belltown",
          "Belltown",
          "Belltown",
          "Belltown",
          "Belltown",
          "Belltown",
          "Belltown",
          "Belltown",
          "Belltown",
          "Belltown",
          "Belltown",
          "Belltown",
          "Belltown",
          "Belltown",
          "Belltown",
          "Belltown",
          "Belltown",
          "Belltown",
          "Belltown",
          "Belltown",
          "Belltown",
          "Belltown",
          "Belltown",
          "Belltown",
          "Belltown",
          "Belltown",
          "Belltown",
          "Belltown",
          "Belltown",
          "Belltown",
          "Belltown",
          "Belltown",
          "Belltown",
          "Belltown",
          "Belltown",
          "Belltown",
          "Belltown",
          "Belltown",
          "Belltown",
          "Belltown",
          "Belltown",
          "Belltown",
          "Belltown",
          "Belltown",
          "Belltown",
          "Belltown",
          "Belltown",
          "Belltown",
          "Belltown",
          "Belltown",
          "Belltown",
          "Belltown",
          "Belltown",
          "Belltown",
          "Belltown",
          "Belltown",
          "Belltown",
          "Belltown",
          "Belltown",
          "Belltown",
          "Belltown",
          "Belltown",
          "Belltown",
          "Belltown",
          "Belltown",
          "Belltown",
          "Belltown",
          "Belltown",
          "Belltown",
          "Belltown",
          "Belltown",
          "Belltown",
          "Belltown",
          "Belltown",
          "Belltown",
          "Belltown",
          "Belltown",
          "Belltown",
          "Belltown",
          "Belltown",
          "Belltown",
          "Belltown",
          "Belltown",
          "Belltown",
          "Belltown",
          "Belltown",
          "Belltown",
          "Belltown",
          "Belltown",
          "Belltown",
          "Belltown",
          "Belltown",
          "Belltown",
          "Belltown",
          "Belltown",
          "Belltown",
          "Belltown",
          "Belltown",
          "Belltown",
          "Belltown",
          "Belltown",
          "Belltown",
          "Belltown",
          "Belltown",
          "Belltown",
          "Belltown",
          "Belltown",
          "Belltown",
          "Belltown",
          "Belltown",
          "Belltown",
          "Belltown",
          "Belltown",
          "Belltown",
          "Belltown",
          "Belltown",
          "Belltown",
          "Belltown",
          "Belltown",
          "Belltown",
          "Belltown",
          "Belltown",
          "Belltown",
          "Belltown",
          "Belltown",
          "Belltown",
          "Belltown",
          "Belltown",
          "Belltown",
          "Belltown",
          "Belltown",
          "Belltown",
          "Belltown",
          "Belltown",
          "Belltown",
          "Belltown",
          "Belltown",
          "Belltown",
          "Belltown",
          "Belltown",
          "Belltown",
          "Belltown",
          "Belltown",
          "Belltown",
          "Belltown",
          "Belltown",
          "Belltown",
          "Belltown",
          "Belltown",
          "Belltown",
          "Belltown",
          "International District",
          "International District",
          "International District",
          "International District",
          "International District",
          "International District",
          "International District",
          "International District",
          "International District",
          "International District",
          "International District",
          "International District",
          "International District",
          "International District",
          "International District",
          "International District",
          "International District",
          "Central Business District",
          "Central Business District",
          "Central Business District",
          "Central Business District",
          "Central Business District",
          "Central Business District",
          "Central Business District",
          "Central Business District",
          "Central Business District",
          "Central Business District",
          "Central Business District",
          "Central Business District",
          "Central Business District",
          "Central Business District",
          "Central Business District",
          "Central Business District",
          "Central Business District",
          "Central Business District",
          "Central Business District",
          "Central Business District",
          "Central Business District",
          "Central Business District",
          "Central Business District",
          "Central Business District",
          "Central Business District",
          "Central Business District",
          "Central Business District",
          "Central Business District",
          "Central Business District",
          "Central Business District",
          "Central Business District",
          "Central Business District",
          "Central Business District",
          "Central Business District",
          "Central Business District",
          "Central Business District",
          "Central Business District",
          "Central Business District",
          "Central Business District",
          "Central Business District",
          "Central Business District",
          "Central Business District",
          "Central Business District",
          "Central Business District",
          "Central Business District",
          "Central Business District",
          "Central Business District",
          "Central Business District",
          "Central Business District",
          "Central Business District",
          "Central Business District",
          "Central Business District",
          "Central Business District",
          "Central Business District",
          "Central Business District",
          "Central Business District",
          "Central Business District",
          "Central Business District",
          "Central Business District",
          "Central Business District",
          "Central Business District",
          "Central Business District",
          "Central Business District",
          "Central Business District",
          "Central Business District",
          "Central Business District",
          "Central Business District",
          "Central Business District",
          "Central Business District",
          "Central Business District",
          "Central Business District",
          "Central Business District",
          "Central Business District",
          "Central Business District",
          "Central Business District",
          "Central Business District",
          "Central Business District",
          "Central Business District",
          "Central Business District",
          "Central Business District",
          "Central Business District",
          "Central Business District",
          "Central Business District",
          "Central Business District",
          "Central Business District",
          "Central Business District",
          "Central Business District",
          "Central Business District",
          "Central Business District",
          "Central Business District",
          "Central Business District",
          "Central Business District",
          "Central Business District",
          "Central Business District",
          "Central Business District",
          "Central Business District",
          "Central Business District",
          "Central Business District",
          "Central Business District",
          "Central Business District",
          "Central Business District",
          "Central Business District",
          "Central Business District",
          "First Hill",
          "First Hill",
          "First Hill",
          "First Hill",
          "First Hill",
          "First Hill",
          "First Hill",
          "First Hill",
          "First Hill",
          "First Hill",
          "First Hill",
          "First Hill",
          "First Hill",
          "First Hill",
          "First Hill",
          "First Hill",
          "First Hill",
          "First Hill",
          "First Hill",
          "First Hill",
          "First Hill",
          "First Hill",
          "First Hill",
          "First Hill",
          "First Hill",
          "First Hill",
          "First Hill",
          "First Hill",
          "First Hill",
          "First Hill",
          "First Hill",
          "First Hill",
          "First Hill",
          "First Hill",
          "First Hill",
          "First Hill",
          "First Hill",
          "First Hill",
          "First Hill",
          "First Hill",
          "First Hill",
          "First Hill",
          "First Hill",
          "First Hill",
          "First Hill",
          "First Hill",
          "First Hill",
          "First Hill",
          "First Hill",
          "First Hill",
          "First Hill",
          "First Hill",
          "First Hill",
          "First Hill",
          "First Hill",
          "First Hill",
          "First Hill",
          "First Hill",
          "First Hill",
          "First Hill",
          "First Hill",
          "First Hill",
          "First Hill",
          "First Hill",
          "First Hill",
          "First Hill",
          "First Hill",
          "First Hill",
          "First Hill",
          "First Hill",
          "First Hill",
          "First Hill",
          "First Hill",
          "First Hill",
          "First Hill",
          "First Hill",
          "First Hill",
          "First Hill",
          "First Hill",
          "First Hill",
          "First Hill",
          "First Hill",
          "First Hill",
          "First Hill",
          "First Hill",
          "First Hill",
          "First Hill",
          "First Hill",
          "First Hill",
          "First Hill",
          "First Hill",
          "First Hill",
          "First Hill",
          "First Hill",
          "First Hill",
          "First Hill",
          "First Hill",
          "First Hill",
          "First Hill",
          "First Hill",
          "First Hill",
          "First Hill",
          "First Hill",
          "First Hill",
          "First Hill",
          "First Hill",
          "First Hill",
          "First Hill",
          "Yesler Terrace",
          "Yesler Terrace",
          "Yesler Terrace",
          "Yesler Terrace",
          "Yesler Terrace",
          "Yesler Terrace",
          "Yesler Terrace",
          "Yesler Terrace",
          "Yesler Terrace",
          "Yesler Terrace",
          "Yesler Terrace",
          "Yesler Terrace",
          "Yesler Terrace",
          "Yesler Terrace",
          "Yesler Terrace",
          "Yesler Terrace",
          "Yesler Terrace",
          "Pioneer Square",
          "Pioneer Square",
          "Pioneer Square",
          "Pioneer Square",
          "Pioneer Square",
          "Pioneer Square",
          "Pioneer Square",
          "Pioneer Square",
          "Pioneer Square",
          "Pioneer Square",
          "Pioneer Square",
          "Pioneer Square",
          "Pioneer Square",
          "Pioneer Square",
          "Pioneer Square",
          "Pioneer Square",
          "Pioneer Square",
          "Pioneer Square",
          "Pioneer Square",
          "Pioneer Square",
          "Pioneer Square",
          "Pioneer Square",
          "Pioneer Square",
          "Gatewood",
          "Gatewood",
          "Gatewood",
          "Gatewood",
          "Gatewood",
          "Gatewood",
          "Gatewood",
          "Gatewood",
          "Gatewood",
          "Gatewood",
          "Gatewood",
          "Gatewood",
          "Gatewood",
          "Gatewood",
          "Gatewood",
          "Gatewood",
          "Gatewood",
          "Gatewood",
          "Gatewood",
          "Gatewood",
          "Gatewood",
          "Gatewood",
          "Arbor Heights",
          "Arbor Heights",
          "Arbor Heights",
          "Arbor Heights",
          "Arbor Heights",
          "Alki",
          "Alki",
          "Alki",
          "Alki",
          "Alki",
          "Alki",
          "Alki",
          "Alki",
          "Alki",
          "Alki",
          "Alki",
          "Alki",
          "Alki",
          "Alki",
          "Alki",
          "Alki",
          "Alki",
          "Alki",
          "Alki",
          "Alki",
          "Alki",
          "Alki",
          "Alki",
          "Alki",
          "Alki",
          "Alki",
          "Alki",
          "Alki",
          "Alki",
          "Alki",
          "Alki",
          "Alki",
          "Alki",
          "Alki",
          "Alki",
          "Alki",
          "Alki",
          "Alki",
          "Alki",
          "Alki",
          "Alki",
          "Alki",
          "North Admiral",
          "North Admiral",
          "North Admiral",
          "North Admiral",
          "North Admiral",
          "North Admiral",
          "North Admiral",
          "North Admiral",
          "North Admiral",
          "North Admiral",
          "North Admiral",
          "North Admiral",
          "North Admiral",
          "North Admiral",
          "North Admiral",
          "North Admiral",
          "North Admiral",
          "North Admiral",
          "North Admiral",
          "North Admiral",
          "North Admiral",
          "North Admiral",
          "North Admiral",
          "North Admiral",
          "North Admiral",
          "North Admiral",
          "North Admiral",
          "North Admiral",
          "North Admiral",
          "North Admiral",
          "North Admiral",
          "North Admiral",
          "North Admiral",
          "North Admiral",
          "North Admiral",
          "North Admiral",
          "North Admiral",
          "North Admiral",
          "North Admiral",
          "North Admiral",
          "North Admiral",
          "North Admiral",
          "North Admiral",
          "North Admiral",
          "North Admiral",
          "North Admiral",
          "North Admiral",
          "North Admiral",
          "North Admiral",
          "Crown Hill",
          "Crown Hill",
          "Crown Hill",
          "Crown Hill",
          "Crown Hill",
          "Crown Hill",
          "Crown Hill",
          "Crown Hill",
          "Crown Hill",
          "Crown Hill",
          "Crown Hill",
          "Crown Hill",
          "Crown Hill",
          "Crown Hill",
          "Crown Hill",
          "Crown Hill",
          "Crown Hill",
          "Crown Hill",
          "Crown Hill",
          "Crown Hill",
          "Crown Hill",
          "Fairmount Park",
          "Fairmount Park",
          "Fairmount Park",
          "Fairmount Park",
          "Fairmount Park",
          "Fairmount Park",
          "Fairmount Park",
          "Fairmount Park",
          "Fairmount Park",
          "Fairmount Park",
          "Fairmount Park",
          "Fairmount Park",
          "Fairmount Park",
          "Fairmount Park",
          "Fairmount Park",
          "Fairmount Park",
          "Fairmount Park",
          "Fairmount Park",
          "Fairmount Park",
          "Fairmount Park",
          "Fairmount Park",
          "Fairmount Park",
          "Fairmount Park",
          "Fairmount Park",
          "Fairmount Park",
          "Fairmount Park",
          "Fairmount Park",
          "Fairmount Park",
          "Fairmount Park",
          "Genesee",
          "Genesee",
          "Genesee",
          "Genesee",
          "Genesee",
          "Genesee",
          "Genesee",
          "Genesee",
          "Genesee",
          "Genesee",
          "Genesee",
          "Genesee",
          "Genesee",
          "Genesee",
          "Genesee",
          "Genesee",
          "Genesee",
          "Genesee",
          "Genesee",
          "Genesee",
          "Genesee",
          "Genesee",
          "Genesee",
          "Genesee",
          "Genesee",
          "Genesee",
          "Genesee",
          "Genesee",
          "Genesee",
          "Genesee",
          "Genesee",
          "Genesee",
          "Genesee",
          "Genesee",
          "Interbay",
          "Interbay",
          "Interbay",
          "Interbay",
          "Interbay",
          "Interbay",
          "Interbay",
          "Interbay",
          "Interbay",
          "Interbay",
          "Interbay",
          "Industrial District",
          "Industrial District",
          "Industrial District",
          "Industrial District",
          "Industrial District",
          "Mid-Beacon Hill",
          "Mid-Beacon Hill",
          "Mid-Beacon Hill",
          "Mid-Beacon Hill",
          "Mid-Beacon Hill",
          "Mid-Beacon Hill",
          "Mid-Beacon Hill",
          "Mid-Beacon Hill",
          "Mid-Beacon Hill",
          "Mid-Beacon Hill",
          "Mid-Beacon Hill",
          "Mid-Beacon Hill",
          "Mid-Beacon Hill",
          "Mid-Beacon Hill",
          "Mid-Beacon Hill",
          "Mid-Beacon Hill",
          "Mid-Beacon Hill",
          "Mid-Beacon Hill",
          "Mid-Beacon Hill",
          "Mid-Beacon Hill",
          "Mid-Beacon Hill",
          "Mid-Beacon Hill",
          "Mid-Beacon Hill",
          "Mid-Beacon Hill",
          "Mid-Beacon Hill",
          "Mid-Beacon Hill",
          "Mid-Beacon Hill",
          "Mid-Beacon Hill",
          "Mid-Beacon Hill",
          "Mid-Beacon Hill",
          "South Beacon Hill",
          "South Beacon Hill",
          "South Beacon Hill",
          "South Beacon Hill",
          "Greenwood",
          "Greenwood",
          "Greenwood",
          "Greenwood",
          "Greenwood",
          "Greenwood",
          "Greenwood",
          "Greenwood",
          "Greenwood",
          "Greenwood",
          "Greenwood",
          "Greenwood",
          "Greenwood",
          "Greenwood",
          "Greenwood",
          "Greenwood",
          "Greenwood",
          "Greenwood",
          "Greenwood",
          "Greenwood",
          "Greenwood",
          "Greenwood",
          "Greenwood",
          "Greenwood",
          "Greenwood",
          "Greenwood",
          "Greenwood",
          "Greenwood",
          "Greenwood",
          "Greenwood",
          "Greenwood",
          "Greenwood",
          "Greenwood",
          "Greenwood",
          "Greenwood",
          "Greenwood",
          "Greenwood",
          "Greenwood",
          "Greenwood",
          "Greenwood",
          "Greenwood",
          "Greenwood",
          "Greenwood",
          "Greenwood",
          "Greenwood",
          "Greenwood",
          "Greenwood",
          "Greenwood",
          "Greenwood",
          "Greenwood",
          "Greenwood",
          "Greenwood",
          "Greenwood",
          "Greenwood",
          "Greenwood",
          "Greenwood",
          "Greenwood",
          "Greenwood",
          "Greenwood",
          "Greenwood",
          "Greenwood",
          "Greenwood",
          "Greenwood",
          "Greenwood",
          "Greenwood",
          "Greenwood",
          "Greenwood",
          "Greenwood",
          "Greenwood",
          "Greenwood",
          "Greenwood",
          "Greenwood",
          "Greenwood",
          "Greenwood",
          "Greenwood",
          "Greenwood",
          "Greenwood",
          "Greenwood",
          "Greenwood",
          "Greenwood",
          "Greenwood",
          "Greenwood",
          "Greenwood",
          "Greenwood",
          "Greenwood",
          "Greenwood",
          "Greenwood",
          "Greenwood",
          "Greenwood",
          "Holly Park",
          "Holly Park",
          "Holly Park",
          "Holly Park",
          "Holly Park",
          "Holly Park",
          "Fauntleroy",
          "Fauntleroy",
          "Fauntleroy",
          "Fauntleroy",
          "Fauntleroy",
          "Fauntleroy",
          "Fauntleroy",
          "Fauntleroy",
          "Fauntleroy",
          "Fauntleroy",
          "North Beacon Hill",
          "North Beacon Hill",
          "North Beacon Hill",
          "North Beacon Hill",
          "North Beacon Hill",
          "North Beacon Hill",
          "North Beacon Hill",
          "North Beacon Hill",
          "North Beacon Hill",
          "North Beacon Hill",
          "North Beacon Hill",
          "North Beacon Hill",
          "North Beacon Hill",
          "North Beacon Hill",
          "North Beacon Hill",
          "North Beacon Hill",
          "North Beacon Hill",
          "North Beacon Hill",
          "North Beacon Hill",
          "North Beacon Hill",
          "North Beacon Hill",
          "North Beacon Hill",
          "North Beacon Hill",
          "North Beacon Hill",
          "North Beacon Hill",
          "North Beacon Hill",
          "North Beacon Hill",
          "North Beacon Hill",
          "North Beacon Hill",
          "North Beacon Hill",
          "North Beacon Hill",
          "North Beacon Hill",
          "North Beacon Hill",
          "North Beacon Hill",
          "North Beacon Hill",
          "North Beacon Hill",
          "North Beacon Hill",
          "North Beacon Hill",
          "North Beacon Hill",
          "North Beacon Hill",
          "North Beacon Hill",
          "North Beacon Hill",
          "North Beacon Hill",
          "North Beacon Hill",
          "North Beacon Hill",
          "North Beacon Hill",
          "North Beacon Hill",
          "North Beacon Hill",
          "North Beacon Hill",
          "North Beacon Hill",
          "North Beacon Hill",
          "North Beacon Hill",
          "North Beacon Hill",
          "North Beacon Hill",
          "North Beacon Hill",
          "North Beacon Hill",
          "North Beacon Hill",
          "North Beacon Hill",
          "North Beacon Hill",
          "North Beacon Hill",
          "North Beacon Hill",
          "North Beacon Hill",
          "North Beacon Hill",
          "North Beacon Hill",
          "North Beacon Hill",
          "North Beacon Hill",
          "North Beacon Hill",
          "North Beacon Hill",
          "North Beacon Hill",
          "North Beacon Hill",
          "North Beacon Hill",
          "Mount Baker",
          "North Beacon Hill",
          "North Beacon Hill",
          "North Beacon Hill",
          "North Beacon Hill",
          "North Beacon Hill",
          "North Beacon Hill",
          "North Beacon Hill",
          "Brighton",
          "Brighton",
          "Brighton",
          "Brighton",
          "Brighton",
          "Brighton",
          "Brighton",
          "Brighton",
          "Brighton",
          "Brighton",
          "Brighton",
          "Brighton",
          "Brighton",
          "South Delridge",
          "South Delridge",
          "South Delridge",
          "South Delridge",
          "South Delridge",
          "South Delridge",
          "South Delridge",
          "South Delridge",
          "South Delridge",
          "South Delridge",
          "South Delridge",
          "South Delridge",
          "View Ridge",
          "View Ridge",
          "View Ridge",
          "View Ridge",
          "View Ridge",
          "View Ridge",
          "View Ridge",
          "Dunlap",
          "Dunlap",
          "Dunlap",
          "Dunlap",
          "Dunlap",
          "Dunlap",
          "Dunlap",
          "Dunlap",
          "Dunlap",
          "Dunlap",
          "Dunlap",
          "Dunlap",
          "Dunlap",
          "Dunlap",
          "Dunlap",
          "Dunlap",
          "Dunlap",
          "Dunlap",
          "Dunlap",
          "Dunlap",
          "Rainier Beach",
          "Rainier Beach",
          "Rainier Beach",
          "Rainier Beach",
          "Rainier Beach",
          "Rainier Beach",
          "Rainier Beach",
          "Rainier Beach",
          "Rainier Beach",
          "Rainier Beach",
          "Rainier Beach",
          "Rainier Beach",
          "Rainier Beach",
          "Rainier Beach",
          "Rainier Beach",
          "Rainier Beach",
          "Rainier Beach",
          "Columbia City",
          "Columbia City",
          "Mount Baker",
          "Columbia City",
          "Columbia City",
          "Columbia City",
          "Columbia City",
          "Columbia City",
          "Columbia City",
          "Columbia City",
          "Columbia City",
          "Columbia City",
          "Columbia City",
          "Columbia City",
          "Columbia City",
          "Columbia City",
          "Columbia City",
          "Columbia City",
          "Columbia City",
          "Columbia City",
          "Columbia City",
          "Columbia City",
          "Columbia City",
          "Columbia City",
          "Columbia City",
          "Columbia City",
          "Columbia City",
          "Columbia City",
          "Columbia City",
          "Columbia City",
          "Columbia City",
          "Columbia City",
          "Columbia City",
          "Columbia City",
          "Columbia City",
          "Columbia City",
          "Columbia City",
          "Columbia City",
          "Columbia City",
          "Columbia City",
          "Columbia City",
          "Columbia City",
          "Columbia City",
          "Columbia City",
          "Columbia City",
          "Columbia City",
          "Columbia City",
          "Columbia City",
          "Columbia City",
          "Columbia City",
          "Columbia City",
          "Columbia City",
          "Columbia City",
          "Columbia City",
          "Columbia City",
          "Columbia City",
          "Columbia City",
          "Columbia City",
          "Columbia City",
          "Mount Baker",
          "Mount Baker",
          "Mount Baker",
          "Mount Baker",
          "Mount Baker",
          "Mount Baker",
          "Mount Baker",
          "Mount Baker",
          "Mount Baker",
          "Mount Baker",
          "Mount Baker",
          "Mount Baker",
          "Mount Baker",
          "Mount Baker",
          "Mount Baker",
          "Mount Baker",
          "Mount Baker",
          "Mount Baker",
          "Mount Baker",
          "Mount Baker",
          "Mount Baker",
          "Mount Baker",
          "Mount Baker",
          "Mount Baker",
          "Mount Baker",
          "Mount Baker",
          "Mount Baker",
          "Mount Baker",
          "Mount Baker",
          "Mount Baker",
          "Mount Baker",
          "Mount Baker",
          "Mount Baker",
          "Mount Baker",
          "Mount Baker",
          "Mount Baker",
          "Mount Baker",
          "Mount Baker",
          "Mount Baker",
          "Mount Baker",
          "Mount Baker",
          "Mount Baker",
          "Mount Baker",
          "Mount Baker",
          "Mount Baker",
          "Mount Baker",
          "Mount Baker",
          "Mount Baker",
          "Seward Park",
          "Seward Park",
          "Seward Park",
          "Seward Park",
          "Seward Park",
          "Seward Park",
          "Seward Park",
          "Seward Park",
          "Seward Park",
          "Seward Park",
          "Seward Park",
          "Seward Park",
          "Seward Park",
          "Seward Park",
          "Seward Park",
          "Seward Park",
          "Seward Park",
          "Seward Park",
          "Seward Park",
          "Seward Park",
          "Seward Park",
          "Seward Park",
          "Seward Park",
          "Seward Park",
          "Seward Park",
          "Seward Park",
          "Seward Park",
          "Seward Park",
          "Seward Park",
          "Seward Park",
          "Seward Park",
          "Seward Park",
          "Seward Park",
          "Seward Park",
          "Seward Park",
          "Seward Park",
          "Seward Park",
          "Seward Park",
          "Seward Park",
          "Seward Park",
          "Seward Park",
          "Seward Park",
          "Seward Park",
          "Seward Park",
          "North Delridge",
          "North Delridge",
          "North Delridge",
          "North Delridge",
          "North Delridge",
          "North Delridge",
          "North Delridge",
          "North Delridge",
          "North Delridge",
          "North Delridge",
          "North Delridge",
          "North Delridge",
          "North Delridge",
          "North Delridge",
          "North Delridge",
          "North Delridge",
          "North Delridge",
          "North Delridge",
          "North Delridge",
          "North Delridge",
          "North Delridge",
          "North Delridge",
          "North Delridge",
          "North Delridge",
          "North Delridge",
          "North Delridge",
          "North Delridge",
          "North Delridge",
          "North Delridge",
          "North Delridge",
          "North Delridge",
          "North Delridge",
          "Maple Leaf",
          "Maple Leaf",
          "Maple Leaf",
          "Maple Leaf",
          "Maple Leaf",
          "Maple Leaf",
          "Maple Leaf",
          "Maple Leaf",
          "Maple Leaf",
          "Maple Leaf",
          "Maple Leaf",
          "Maple Leaf",
          "Maple Leaf",
          "Maple Leaf",
          "Maple Leaf",
          "Maple Leaf",
          "Maple Leaf",
          "Maple Leaf",
          "Maple Leaf",
          "Maple Leaf",
          "Maple Leaf",
          "Maple Leaf",
          "Maple Leaf",
          "Maple Leaf",
          "Maple Leaf",
          "Maple Leaf",
          "Maple Leaf",
          "Maple Leaf",
          "Maple Leaf",
          "Maple Leaf",
          "Maple Leaf",
          "Maple Leaf",
          "Maple Leaf",
          "Maple Leaf",
          "Maple Leaf",
          "Maple Leaf",
          "Maple Leaf",
          "Maple Leaf",
          "Maple Leaf",
          "Maple Leaf",
          "Maple Leaf",
          "Maple Leaf",
          "Ravenna",
          "Ravenna",
          "Ravenna",
          "Ravenna",
          "Ravenna",
          "Ravenna",
          "Ravenna",
          "Ravenna",
          "Ravenna",
          "Ravenna",
          "Ravenna",
          "Ravenna",
          "Ravenna",
          "Ravenna",
          "Ravenna",
          "Ravenna",
          "Ravenna",
          "Ravenna",
          "Ravenna",
          "Ravenna",
          "Ravenna",
          "Ravenna",
          "Ravenna",
          "Ravenna",
          "Ravenna",
          "Ravenna",
          "Ravenna",
          "Ravenna",
          "Ravenna",
          "Ravenna",
          "Ravenna",
          "Ravenna",
          "Ravenna",
          "Ravenna",
          "Ravenna",
          "Ravenna",
          "Ravenna",
          "Ravenna",
          "Ravenna",
          "Ravenna",
          "Ravenna",
          "Ravenna",
          "Ravenna",
          "Ravenna",
          "Ravenna",
          "Ravenna",
          "Ravenna",
          "Ravenna",
          "Ravenna",
          "Ravenna",
          "Ravenna",
          "Ravenna",
          "Ravenna",
          "Ravenna",
          "Ravenna",
          "Ravenna",
          "Ravenna",
          "Ravenna",
          "Ravenna",
          "Ravenna",
          "Ravenna",
          "Ravenna",
          "Ravenna",
          "Ravenna",
          "Ravenna",
          "Ravenna",
          "Ravenna",
          "Riverview",
          "Riverview",
          "Riverview",
          "Riverview",
          "Riverview",
          "Riverview",
          "Riverview",
          "Riverview",
          "Portage Bay",
          "Portage Bay",
          "Portage Bay",
          "Portage Bay",
          "Portage Bay",
          "Portage Bay",
          "Portage Bay",
          "Portage Bay",
          "Portage Bay",
          "Portage Bay",
          "Portage Bay",
          "Portage Bay",
          "Portage Bay",
          "Bryant",
          "Bryant",
          "Bryant",
          "Bryant",
          "Bryant",
          "Bryant",
          "Bryant",
          "Bryant",
          "Bryant",
          "Bryant",
          "Bryant",
          "Bryant",
          "Bryant",
          "Bryant",
          "Bryant",
          "Bryant",
          "Bryant",
          "Bryant",
          "Bryant",
          "Bryant",
          "Bryant",
          "Bryant",
          "Bryant",
          "Bryant",
          "Bryant",
          "Bryant",
          "Bryant",
          "Bryant",
          "Bryant",
          "Montlake",
          "Montlake",
          "Montlake",
          "Montlake",
          "Montlake",
          "Montlake",
          "Montlake",
          "Montlake",
          "Montlake",
          "Montlake",
          "Montlake",
          "Montlake",
          "Montlake",
          "Montlake",
          "Montlake",
          "Montlake",
          "Montlake",
          "Montlake",
          "Montlake",
          "Broadway",
          "Broadway",
          "Broadway",
          "Broadway",
          "Broadway",
          "Broadway",
          "Broadway",
          "Broadway",
          "Broadway",
          "Broadway",
          "Broadway",
          "Broadway",
          "Broadway",
          "Broadway",
          "Broadway",
          "Broadway",
          "Broadway",
          "Broadway",
          "Broadway",
          "Broadway",
          "Broadway",
          "Broadway",
          "Broadway",
          "Broadway",
          "Broadway",
          "Broadway",
          "Broadway",
          "Broadway",
          "Broadway",
          "Broadway",
          "Broadway",
          "Broadway",
          "Broadway",
          "Broadway",
          "Broadway",
          "Broadway",
          "Broadway",
          "Broadway",
          "Broadway",
          "Broadway",
          "Broadway",
          "Broadway",
          "Broadway",
          "Broadway",
          "Broadway",
          "Broadway",
          "Broadway",
          "Broadway",
          "Broadway",
          "Broadway",
          "Broadway",
          "Broadway",
          "Broadway",
          "Broadway",
          "Broadway",
          "Broadway",
          "Broadway",
          "Broadway",
          "Broadway",
          "Broadway",
          "Broadway",
          "Broadway",
          "Broadway",
          "Broadway",
          "Broadway",
          "Broadway",
          "Broadway",
          "Broadway",
          "Broadway",
          "Broadway",
          "Broadway",
          "Broadway",
          "Broadway",
          "Broadway",
          "Broadway",
          "Broadway",
          "Broadway",
          "Broadway",
          "Broadway",
          "Broadway",
          "Broadway",
          "Broadway",
          "Broadway",
          "Broadway",
          "Broadway",
          "Broadway",
          "Broadway",
          "Broadway",
          "Broadway",
          "Broadway",
          "Broadway",
          "Broadway",
          "Broadway",
          "Broadway",
          "Broadway",
          "Broadway",
          "Broadway",
          "Broadway",
          "Broadway",
          "Broadway",
          "Broadway",
          "Broadway",
          "Broadway",
          "Broadway",
          "Broadway",
          "Broadway",
          "Broadway",
          "Broadway",
          "Broadway",
          "Broadway",
          "Broadway",
          "Broadway",
          "Broadway",
          "Broadway",
          "Broadway",
          "Broadway",
          "Broadway",
          "Broadway",
          "Broadway",
          "Broadway",
          "Broadway",
          "Broadway",
          "Broadway",
          "Broadway",
          "Broadway",
          "Broadway",
          "Broadway",
          "Broadway",
          "Broadway",
          "Broadway",
          "Broadway",
          "Broadway",
          "Broadway",
          "Broadway",
          "Broadway",
          "Broadway",
          "Broadway",
          "Broadway",
          "Broadway",
          "Broadway",
          "Broadway",
          "Broadway",
          "Broadway",
          "Broadway",
          "Broadway",
          "Broadway",
          "Broadway",
          "Broadway",
          "Broadway",
          "Broadway",
          "Broadway",
          "Broadway",
          "Broadway",
          "Broadway",
          "Broadway",
          "Broadway",
          "Broadway",
          "Broadway",
          "Broadway",
          "Broadway",
          "Broadway",
          "Broadway",
          "Broadway",
          "Broadway",
          "Broadway",
          "Broadway",
          "Broadway",
          "Broadway",
          "Broadway",
          "Broadway",
          "Broadway",
          "Broadway",
          "Broadway",
          "Broadway",
          "Broadway",
          "Broadway",
          "Broadway",
          "Broadway",
          "Broadway",
          "Broadway",
          "Broadway",
          "Broadway",
          "Broadway",
          "Broadway",
          "Broadway",
          "Broadway",
          "Broadway",
          "Broadway",
          "Broadway",
          "Broadway",
          "Broadway",
          "Broadway",
          "Broadway",
          "Broadway",
          "Broadway",
          "Broadway",
          "Broadway",
          "Broadway",
          "Broadway",
          "Broadway",
          "Broadway",
          "Broadway",
          "Broadway",
          "Broadway",
          "Broadway",
          "Broadway",
          "Broadway",
          "Broadway",
          "Broadway",
          "Broadway",
          "Broadway",
          "Broadway",
          "Broadway",
          "Broadway",
          "Broadway",
          "Broadway",
          "Broadway",
          "Broadway",
          "Broadway",
          "Broadway",
          "Broadway",
          "Broadway",
          "Broadway",
          "Broadway",
          "Broadway",
          "Broadway",
          "Broadway",
          "Broadway",
          "Broadway",
          "Broadway",
          "Broadway",
          "Broadway",
          "Broadway",
          "Broadway",
          "Broadway",
          "Broadway",
          "Broadway",
          "Broadway",
          "Broadway",
          "Broadway",
          "Broadway",
          "Broadway",
          "Broadway",
          "Broadway",
          "Broadway",
          "Broadway",
          "Broadway",
          "Broadway",
          "Broadway",
          "Broadway",
          "Broadway",
          "Broadway",
          "Broadway",
          "Broadway",
          "Broadway",
          "Broadway",
          "Broadway",
          "Broadway",
          "Broadway",
          "Broadway",
          "Broadway",
          "Broadway",
          "Broadway",
          "Broadway",
          "Broadway",
          "Broadway",
          "Broadway",
          "Broadway",
          "Broadway",
          "Broadway",
          "Broadway",
          "Broadway",
          "Broadway",
          "Broadway",
          "Broadway",
          "Broadway",
          "Broadway",
          "Broadway",
          "Broadway",
          "Broadway",
          "Broadway",
          "Broadway",
          "Broadway",
          "Broadway",
          "Broadway",
          "Broadway",
          "Broadway",
          "Broadway",
          "Broadway",
          "Broadway",
          "Broadway",
          "Broadway",
          "Broadway",
          "Broadway",
          "Broadway",
          "Broadway",
          "Broadway",
          "Broadway",
          "Broadway",
          "Broadway",
          "Broadway",
          "Broadway",
          "Broadway",
          "Broadway",
          "Broadway",
          "Broadway",
          "Broadway",
          "Broadway",
          "Broadway",
          "Broadway",
          "Broadway",
          "Broadway",
          "Broadway",
          "Broadway",
          "Broadway",
          "Broadway",
          "Broadway",
          "Broadway",
          "Broadway",
          "Broadway",
          "Broadway",
          "Broadway",
          "Broadway",
          "Broadway",
          "Broadway",
          "Broadway",
          "Broadway",
          "Broadway",
          "Broadway",
          "Broadway",
          "Broadway",
          "Broadway",
          "Broadway",
          "Broadway",
          "Broadway",
          "Broadway",
          "Broadway",
          "Broadway",
          "Broadway",
          "Broadway",
          "Broadway",
          "Broadway",
          "Broadway",
          "Broadway",
          "Broadway",
          "Broadway",
          "Broadway",
          "Broadway",
          "Broadway",
          "Broadway",
          "Broadway",
          "Broadway",
          "Broadway",
          "Broadway",
          "Broadway",
          "Broadway",
          "Broadway",
          "Broadway",
          "Broadway",
          "Broadway",
          "Broadway",
          "Broadway",
          "Broadway",
          "Broadway",
          "Broadway",
          "Broadway",
          "Broadway",
          "Broadway",
          "Broadway",
          "Broadway",
          "Broadway",
          "Broadway",
          "Broadway",
          "Broadway",
          "Broadway",
          "Broadway",
          "Broadway",
          "Broadway",
          "Broadway",
          "Broadway",
          "Broadway",
          "Broadway",
          "Broadway",
          "Broadway",
          "Broadway",
          "Broadway",
          "Broadway",
          "Broadway",
          "Broadway",
          "Broadway",
          "Broadway",
          "Broadway",
          "Broadway",
          "Broadway",
          "Broadway",
          "Broadway",
          "Broadway",
          "Loyal Heights",
          "Loyal Heights",
          "Loyal Heights",
          "Loyal Heights",
          "Loyal Heights",
          "Loyal Heights",
          "Loyal Heights",
          "Loyal Heights",
          "Loyal Heights",
          "Loyal Heights",
          "Loyal Heights",
          "Loyal Heights",
          "Loyal Heights",
          "Loyal Heights",
          "Loyal Heights",
          "Loyal Heights",
          "Loyal Heights",
          "Loyal Heights",
          "Loyal Heights",
          "Loyal Heights",
          "Loyal Heights",
          "Loyal Heights",
          "Loyal Heights",
          "Loyal Heights",
          "Loyal Heights",
          "Loyal Heights",
          "Loyal Heights",
          "Loyal Heights",
          "Loyal Heights",
          "Loyal Heights",
          "Loyal Heights",
          "Loyal Heights",
          "Loyal Heights",
          "Loyal Heights",
          "Loyal Heights",
          "Loyal Heights",
          "Loyal Heights",
          "Loyal Heights",
          "Loyal Heights",
          "Loyal Heights",
          "Loyal Heights",
          "Loyal Heights",
          "Loyal Heights",
          "Loyal Heights",
          "Loyal Heights",
          "Loyal Heights",
          "Loyal Heights",
          "Loyal Heights",
          "Loyal Heights",
          "Loyal Heights",
          "Loyal Heights",
          "Loyal Heights",
          "Victory Heights",
          "Victory Heights",
          "Victory Heights",
          "Victory Heights",
          "Victory Heights",
          "Victory Heights",
          "Victory Heights",
          "Victory Heights",
          "Victory Heights",
          "Victory Heights",
          "Victory Heights",
          "Victory Heights",
          "Victory Heights",
          "Victory Heights",
          "Victory Heights",
          "Matthews Beach",
          "Matthews Beach",
          "Matthews Beach",
          "Matthews Beach",
          "Matthews Beach",
          "Matthews Beach",
          "Matthews Beach",
          "Matthews Beach",
          "Matthews Beach",
          "Matthews Beach",
          "Matthews Beach",
          "Matthews Beach",
          "Matthews Beach",
          "Matthews Beach",
          "Matthews Beach",
          "Matthews Beach",
          "Matthews Beach",
          "Matthews Beach",
          "Matthews Beach",
          "Whittier Heights",
          "Whittier Heights",
          "Whittier Heights",
          "Whittier Heights",
          "Whittier Heights",
          "Whittier Heights",
          "Whittier Heights",
          "Whittier Heights",
          "Whittier Heights",
          "Whittier Heights",
          "Whittier Heights",
          "Whittier Heights",
          "Whittier Heights",
          "Whittier Heights",
          "Whittier Heights",
          "Whittier Heights",
          "Whittier Heights",
          "Whittier Heights",
          "Whittier Heights",
          "Whittier Heights",
          "Whittier Heights",
          "Whittier Heights",
          "Whittier Heights",
          "Whittier Heights",
          "Whittier Heights",
          "Whittier Heights",
          "Meadowbrook",
          "Meadowbrook",
          "Meadowbrook",
          "Meadowbrook",
          "Meadowbrook",
          "Meadowbrook",
          "Meadowbrook",
          "Meadowbrook",
          "Meadowbrook",
          "Industrial District",
          "Olympic Hills",
          "Olympic Hills",
          "Olympic Hills",
          "Olympic Hills",
          "Olympic Hills",
          "Olympic Hills",
          "Olympic Hills",
          "Olympic Hills",
          "Olympic Hills",
          "Olympic Hills",
          "Olympic Hills",
          "Olympic Hills",
          "Olympic Hills",
          "Olympic Hills",
          "Olympic Hills",
          "Olympic Hills",
          "Roosevelt",
          "Roosevelt",
          "Roosevelt",
          "Roosevelt",
          "Roosevelt",
          "Roosevelt",
          "Roosevelt",
          "Roosevelt",
          "Roosevelt",
          "Roosevelt",
          "Roosevelt",
          "Roosevelt",
          "Roosevelt",
          "Roosevelt",
          "Roosevelt",
          "Roosevelt",
          "Roosevelt",
          "Roosevelt",
          "Roosevelt",
          "Roosevelt",
          "Roosevelt",
          "Roosevelt",
          "Roosevelt",
          "Roosevelt",
          "Roosevelt",
          "Roosevelt",
          "Roosevelt",
          "Roosevelt",
          "Roosevelt",
          "Roosevelt",
          "Lower Queen Anne",
          "Lower Queen Anne",
          "Lower Queen Anne",
          "Lower Queen Anne",
          "Lower Queen Anne",
          "Lower Queen Anne",
          "Lower Queen Anne",
          "Lower Queen Anne",
          "Lower Queen Anne",
          "Lower Queen Anne",
          "Lower Queen Anne",
          "Lower Queen Anne",
          "Lower Queen Anne",
          "Lower Queen Anne",
          "Lower Queen Anne",
          "Lower Queen Anne",
          "Lower Queen Anne",
          "Lower Queen Anne",
          "Lower Queen Anne",
          "Lower Queen Anne",
          "Lower Queen Anne",
          "Lower Queen Anne",
          "Lower Queen Anne",
          "Lower Queen Anne",
          "Lower Queen Anne",
          "Lower Queen Anne",
          "Lower Queen Anne",
          "Lower Queen Anne",
          "Lower Queen Anne",
          "Lower Queen Anne",
          "Lower Queen Anne",
          "Lower Queen Anne",
          "Lower Queen Anne",
          "Lower Queen Anne",
          "Lower Queen Anne",
          "Lower Queen Anne",
          "Lower Queen Anne",
          "Lower Queen Anne",
          "Lower Queen Anne",
          "Lower Queen Anne",
          "Lower Queen Anne",
          "Lower Queen Anne",
          "Lower Queen Anne",
          "Lower Queen Anne",
          "Lower Queen Anne",
          "Lower Queen Anne",
          "Lower Queen Anne",
          "Lower Queen Anne",
          "Lower Queen Anne",
          "Lower Queen Anne",
          "Lower Queen Anne",
          "Lower Queen Anne",
          "Lower Queen Anne",
          "Lower Queen Anne",
          "Lower Queen Anne",
          "Lower Queen Anne",
          "Lower Queen Anne",
          "Lower Queen Anne",
          "Lower Queen Anne",
          "Lower Queen Anne",
          "Lower Queen Anne",
          "Lower Queen Anne",
          "Lower Queen Anne",
          "Lower Queen Anne",
          "Lower Queen Anne",
          "Lower Queen Anne",
          "Lower Queen Anne",
          "Lower Queen Anne",
          "Lower Queen Anne",
          "Lower Queen Anne",
          "Lower Queen Anne",
          "Lower Queen Anne",
          "Lower Queen Anne",
          "Lower Queen Anne",
          "Lower Queen Anne",
          "Lower Queen Anne",
          "Lower Queen Anne",
          "Lower Queen Anne",
          "Lower Queen Anne",
          "Lower Queen Anne",
          "Lower Queen Anne",
          "Lower Queen Anne",
          "Lower Queen Anne",
          "Lower Queen Anne",
          "Lower Queen Anne",
          "Lower Queen Anne",
          "Lower Queen Anne",
          "Lower Queen Anne",
          "Lower Queen Anne",
          "Lower Queen Anne",
          "Lower Queen Anne",
          "Lower Queen Anne",
          "Lower Queen Anne",
          "Lower Queen Anne",
          "Wedgwood",
          "Wedgwood",
          "Wedgwood",
          "Wedgwood",
          "Wedgwood",
          "Wedgwood",
          "Wedgwood",
          "Wedgwood",
          "Wedgwood",
          "Wedgwood",
          "Wedgwood",
          "Wedgwood",
          "Wedgwood",
          "Wedgwood",
          "Wedgwood",
          "Wedgwood",
          "Wedgwood",
          "Wedgwood",
          "North Beach/Blue Ridge",
          "North Beach/Blue Ridge",
          "North Beach/Blue Ridge",
          "North Beach/Blue Ridge",
          "North Beach/Blue Ridge",
          "North Beach/Blue Ridge",
          "North Beach/Blue Ridge",
          "North Beach/Blue Ridge",
          "North Beach/Blue Ridge",
          "North Beach/Blue Ridge",
          "North Beach/Blue Ridge",
          "North Beach/Blue Ridge",
          "North Beach/Blue Ridge",
          "North Beach/Blue Ridge",
          "Cedar Park",
          "Cedar Park",
          "Cedar Park",
          "Cedar Park",
          "Cedar Park",
          "Cedar Park",
          "Cedar Park",
          "Cedar Park",
          "Bitter Lake",
          "Bitter Lake",
          "Bitter Lake",
          "Bitter Lake",
          "Bitter Lake",
          "Bitter Lake",
          "Bitter Lake",
          "Bitter Lake",
          "Bitter Lake",
          "Bitter Lake",
          "Bitter Lake",
          "Bitter Lake",
          "Bitter Lake",
          "Sunset Hill",
          "Sunset Hill",
          "Sunset Hill",
          "Sunset Hill",
          "Sunset Hill",
          "Sunset Hill",
          "Sunset Hill",
          "Sunset Hill",
          "Sunset Hill",
          "Sunset Hill",
          "Sunset Hill",
          "Sunset Hill",
          "Sunset Hill",
          "Sunset Hill",
          "Sunset Hill",
          "Sunset Hill",
          "Sunset Hill",
          "Sunset Hill",
          "Haller Lake",
          "Haller Lake",
          "Haller Lake",
          "Haller Lake",
          "Haller Lake",
          "Haller Lake",
          "Haller Lake",
          "Haller Lake",
          "Haller Lake",
          "Haller Lake",
          "Haller Lake",
          "Haller Lake",
          "Haller Lake",
          "Haller Lake",
          "Haller Lake",
          "Pinehurst",
          "Pinehurst",
          "Pinehurst",
          "Pinehurst",
          "North College Park",
          "North College Park",
          "North College Park",
          "North College Park",
          "North College Park",
          "North College Park",
          "North College Park",
          "North College Park",
          "North College Park",
          "North College Park",
          "North College Park",
          "North College Park",
          "North College Park",
          "North College Park",
          "North College Park",
          "North College Park",
          "North College Park",
          "North College Park",
          "North College Park",
          "Phinney Ridge",
          "Phinney Ridge",
          "Phinney Ridge",
          "Phinney Ridge",
          "Phinney Ridge",
          "Phinney Ridge",
          "Phinney Ridge",
          "Phinney Ridge",
          "Phinney Ridge",
          "Phinney Ridge",
          "Phinney Ridge",
          "Phinney Ridge",
          "Phinney Ridge",
          "Phinney Ridge",
          "Phinney Ridge",
          "Phinney Ridge",
          "Phinney Ridge",
          "Phinney Ridge",
          "Phinney Ridge",
          "Phinney Ridge",
          "Phinney Ridge",
          "Phinney Ridge",
          "Phinney Ridge",
          "Phinney Ridge",
          "Phinney Ridge",
          "Phinney Ridge",
          "Phinney Ridge",
          "Phinney Ridge",
          "Phinney Ridge",
          "Phinney Ridge",
          "Phinney Ridge",
          "Phinney Ridge",
          "Phinney Ridge",
          "Phinney Ridge",
          "Phinney Ridge",
          "Phinney Ridge",
          "Phinney Ridge",
          "Phinney Ridge",
          "Phinney Ridge",
          "Phinney Ridge",
          "Phinney Ridge",
          "Phinney Ridge",
          "Phinney Ridge",
          "Phinney Ridge",
          "Phinney Ridge",
          "Phinney Ridge",
          "Phinney Ridge",
          "Phinney Ridge",
          "Phinney Ridge",
          "Phinney Ridge",
          "Phinney Ridge",
          "Phinney Ridge",
          "Phinney Ridge",
          "Phinney Ridge",
          "Phinney Ridge",
          "Phinney Ridge",
          "Phinney Ridge",
          "Phinney Ridge",
          "Phinney Ridge",
          "Phinney Ridge",
          "Phinney Ridge",
          "Phinney Ridge",
          "Phinney Ridge",
          "Phinney Ridge",
          "Phinney Ridge",
          "Phinney Ridge",
          "Phinney Ridge",
          "Phinney Ridge",
          "Phinney Ridge",
          "Phinney Ridge",
          "Phinney Ridge",
          "Phinney Ridge",
          "Phinney Ridge",
          "Windermere",
          "Windermere",
          "Windermere",
          "Windermere",
          "Windermere",
          "Windermere",
          "Windermere",
          "Windermere",
          "Windermere",
          "Windermere",
          "Laurelhurst",
          "Laurelhurst",
          "Laurelhurst",
          "Laurelhurst",
          "Laurelhurst",
          "Laurelhurst",
          "Laurelhurst",
          "Laurelhurst",
          "Laurelhurst",
          "Laurelhurst",
          "Southeast Magnolia",
          "Southeast Magnolia",
          "Southeast Magnolia",
          "Southeast Magnolia",
          "Southeast Magnolia",
          "Southeast Magnolia",
          "Southeast Magnolia",
          "Southeast Magnolia",
          "Southeast Magnolia",
          "Southeast Magnolia",
          "Southeast Magnolia",
          "Southeast Magnolia",
          "Southeast Magnolia",
          "Southeast Magnolia",
          "Southeast Magnolia",
          "Southeast Magnolia",
          "Southeast Magnolia",
          "High Point",
          "High Point",
          "High Point",
          "High Point",
          "High Point",
          "High Point",
          "High Point",
          "High Point",
          "High Point",
          "High Point",
          "High Point",
          "High Point",
          "High Point",
          "High Point",
          "Seaview",
          "Seaview",
          "Seaview",
          "Seaview",
          "Seaview",
          "Seaview",
          "Seaview",
          "Seaview",
          "Seaview",
          "Seaview",
          "Seaview",
          "Seaview",
          "Georgetown",
          "Georgetown",
          "Georgetown",
          "Georgetown",
          "Georgetown",
          "Georgetown",
          "Georgetown",
          "Georgetown",
          "South Park",
          "South Park",
          "South Park",
          "Roxhill",
          "Roxhill",
          "Highland Park",
          "Highland Park",
          "Highland Park",
          "Highland Park",
          "Highland Park",
          "Highland Park",
          "Highland Park",
          "Highland Park",
          "Highland Park",
          "Highland Park",
          "Highland Park",
          "Madison Park",
          "Madison Park",
          "Madison Park",
          "Madison Park",
          "Madison Park",
          "Madison Park",
          "Madison Park",
          "Madison Park",
          "Madison Park",
          "Madison Park",
          "Madison Park",
          "Madison Park",
          "Madison Park",
          "Madison Park",
          "Madison Park",
          "Madison Park",
          "Madison Park",
          "Stevens",
          "Stevens",
          "Stevens",
          "Stevens",
          "Stevens",
          "Stevens",
          "Stevens",
          "Stevens",
          "Stevens",
          "Stevens",
          "Stevens",
          "Stevens",
          "Stevens",
          "Stevens",
          "Stevens",
          "Stevens",
          "Stevens",
          "Stevens",
          "Stevens",
          "Stevens",
          "Stevens",
          "Stevens",
          "Stevens",
          "Stevens",
          "Stevens",
          "Stevens",
          "Stevens",
          "Stevens",
          "Stevens",
          "Stevens",
          "Stevens",
          "Stevens",
          "Stevens",
          "Stevens",
          "Stevens",
          "Stevens",
          "Stevens",
          "Stevens",
          "Stevens",
          "Stevens",
          "Stevens",
          "Stevens",
          "Stevens",
          "Stevens",
          "Stevens",
          "Stevens",
          "Stevens",
          "Stevens",
          "Stevens",
          "Stevens",
          "Stevens",
          "Stevens",
          "Stevens",
          "Stevens",
          "Stevens",
          "Stevens",
          "Stevens",
          "Stevens",
          "Stevens",
          "Stevens",
          "Stevens",
          "Stevens",
          "Stevens",
          "Stevens",
          "Stevens",
          "Stevens",
          "Stevens",
          "Stevens",
          "Stevens",
          "Stevens",
          "Stevens",
          "Stevens",
          "Stevens",
          "Stevens",
          "Stevens",
          "Stevens",
          "Stevens",
          "Stevens",
          "Stevens",
          "Stevens",
          "Stevens",
          "Stevens",
          "Stevens",
          "Stevens",
          "Stevens",
          "Stevens",
          "Stevens",
          "Stevens",
          "Stevens",
          "Stevens",
          "Stevens",
          "Stevens",
          "Stevens",
          "Stevens",
          "Stevens",
          "Stevens",
          "Stevens",
          "Stevens",
          "Stevens",
          "Stevens",
          "Stevens",
          "Stevens",
          "Stevens",
          "Stevens",
          "Stevens",
          "Stevens",
          "Stevens",
          "Stevens",
          "Stevens",
          "Stevens",
          "Stevens",
          "Stevens",
          "Stevens",
          "Stevens",
          "Stevens",
          "Stevens",
          "Stevens",
          "Stevens",
          "Stevens",
          "Broadview",
          "Broadview",
          "Broadview",
          "Broadview",
          "Broadview",
          "Broadview",
          "Broadview",
          "Broadview",
          "Broadview",
          "Broadview",
          "Broadview",
          "Broadview",
          "Broadview",
          "Broadview",
          "Broadview",
          "Broadview",
          "Broadview",
          "Fremont",
          "Fremont",
          "Fremont",
          "Fremont",
          "Fremont",
          "Fremont",
          "Fremont",
          "Fremont",
          "Fremont",
          "Fremont",
          "Fremont",
          "Fremont",
          "Fremont",
          "Fremont",
          "Fremont",
          "Fremont",
          "Fremont",
          "Fremont",
          "Fremont",
          "Fremont",
          "Fremont",
          "Fremont",
          "Fremont",
          "Fremont",
          "Fremont",
          "Fremont",
          "Fremont",
          "Fremont",
          "Fremont",
          "Fremont",
          "Fremont",
          "Fremont",
          "Fremont",
          "Fremont",
          "Fremont",
          "Fremont",
          "Fremont",
          "Fremont",
          "Fremont",
          "Fremont",
          "Fremont",
          "Fremont",
          "Fremont",
          "Fremont",
          "Fremont",
          "Fremont",
          "Fremont",
          "Fremont",
          "Fremont",
          "Fremont",
          "Fremont",
          "Fremont",
          "Fremont",
          "Fremont",
          "Fremont",
          "Fremont",
          "Fremont",
          "Fremont",
          "Fremont",
          "Fremont",
          "Fremont",
          "Fremont",
          "Fremont",
          "Fremont",
          "Fremont",
          "Fremont",
          "Fremont",
          "Fremont",
          "Fremont",
          "Fremont",
          "Fremont",
          "Fremont",
          "Fremont",
          "Fremont",
          "Fremont",
          "Fremont",
          "Fremont",
          "Fremont",
          "Fremont",
          "Fremont",
          "Fremont",
          "Fremont",
          "Fremont",
          "Fremont",
          "Fremont",
          "Fremont",
          "Fremont",
          "Fremont",
          "Fremont",
          "Fremont",
          "Fremont",
          "Fremont",
          "Fremont",
          "Fremont",
          "Fremont",
          "Fremont",
          "Fremont",
          "Fremont",
          "Fremont",
          "Fremont",
          "Fremont",
          "Fremont",
          "Fremont",
          "Fremont",
          "Fremont",
          "Fremont",
          "Fremont",
          "Fremont",
          "Fremont",
          "Fremont",
          "Fremont",
          "Fremont",
          "Fremont",
          "Fremont",
          "Fremont",
          "Fremont",
          "Fremont",
          "Fremont",
          "Fremont",
          "Fremont",
          "Fremont",
          "Fremont",
          "Fremont",
          "Fremont",
          "Fremont",
          "Fremont",
          "Fremont",
          "Fremont",
          "Fremont",
          "Fremont",
          "Fremont",
          "Fremont",
          "Fremont",
          "Fremont",
          "Fremont",
          "Fremont",
          "Fremont",
          "Fremont",
          "Fremont",
          "Fremont",
          "Fremont",
          "Fremont",
          "Fremont",
          "Fremont",
          "Fremont",
          "Fremont",
          "Fremont",
          "Fremont",
          "Fremont",
          "Fremont",
          "Fremont",
          "Fremont",
          "Fremont",
          "Fremont",
          "Fremont",
          "Fremont",
          "Fremont",
          "Fremont",
          "Portage Bay",
          "Rainier Beach",
          "Madison Park",
          "East Queen Anne"
         ],
         "xaxis": "x",
         "y": {
          "bdata": "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",
          "dtype": "f8"
         },
         "yaxis": "y"
        }
       ],
       "layout": {
        "barmode": "relative",
        "legend": {
         "tracegroupgap": 0
        },
        "margin": {
         "t": 60
        },
        "template": {
         "data": {
          "bar": [
           {
            "error_x": {
             "color": "#2a3f5f"
            },
            "error_y": {
             "color": "#2a3f5f"
            },
            "marker": {
             "line": {
              "color": "#E5ECF6",
              "width": 0.5
             },
             "pattern": {
              "fillmode": "overlay",
              "size": 10,
              "solidity": 0.2
             }
            },
            "type": "bar"
           }
          ],
          "barpolar": [
           {
            "marker": {
             "line": {
              "color": "#E5ECF6",
              "width": 0.5
             },
             "pattern": {
              "fillmode": "overlay",
              "size": 10,
              "solidity": 0.2
             }
            },
            "type": "barpolar"
           }
          ],
          "carpet": [
           {
            "aaxis": {
             "endlinecolor": "#2a3f5f",
             "gridcolor": "white",
             "linecolor": "white",
             "minorgridcolor": "white",
             "startlinecolor": "#2a3f5f"
            },
            "baxis": {
             "endlinecolor": "#2a3f5f",
             "gridcolor": "white",
             "linecolor": "white",
             "minorgridcolor": "white",
             "startlinecolor": "#2a3f5f"
            },
            "type": "carpet"
           }
          ],
          "choropleth": [
           {
            "colorbar": {
             "outlinewidth": 0,
             "ticks": ""
            },
            "type": "choropleth"
           }
          ],
          "contour": [
           {
            "colorbar": {
             "outlinewidth": 0,
             "ticks": ""
            },
            "colorscale": [
             [
              0,
              "#0d0887"
             ],
             [
              0.1111111111111111,
              "#46039f"
             ],
             [
              0.2222222222222222,
              "#7201a8"
             ],
             [
              0.3333333333333333,
              "#9c179e"
             ],
             [
              0.4444444444444444,
              "#bd3786"
             ],
             [
              0.5555555555555556,
              "#d8576b"
             ],
             [
              0.6666666666666666,
              "#ed7953"
             ],
             [
              0.7777777777777778,
              "#fb9f3a"
             ],
             [
              0.8888888888888888,
              "#fdca26"
             ],
             [
              1,
              "#f0f921"
             ]
            ],
            "type": "contour"
           }
          ],
          "contourcarpet": [
           {
            "colorbar": {
             "outlinewidth": 0,
             "ticks": ""
            },
            "type": "contourcarpet"
           }
          ],
          "heatmap": [
           {
            "colorbar": {
             "outlinewidth": 0,
             "ticks": ""
            },
            "colorscale": [
             [
              0,
              "#0d0887"
             ],
             [
              0.1111111111111111,
              "#46039f"
             ],
             [
              0.2222222222222222,
              "#7201a8"
             ],
             [
              0.3333333333333333,
              "#9c179e"
             ],
             [
              0.4444444444444444,
              "#bd3786"
             ],
             [
              0.5555555555555556,
              "#d8576b"
             ],
             [
              0.6666666666666666,
              "#ed7953"
             ],
             [
              0.7777777777777778,
              "#fb9f3a"
             ],
             [
              0.8888888888888888,
              "#fdca26"
             ],
             [
              1,
              "#f0f921"
             ]
            ],
            "type": "heatmap"
           }
          ],
          "histogram": [
           {
            "marker": {
             "pattern": {
              "fillmode": "overlay",
              "size": 10,
              "solidity": 0.2
             }
            },
            "type": "histogram"
           }
          ],
          "histogram2d": [
           {
            "colorbar": {
             "outlinewidth": 0,
             "ticks": ""
            },
            "colorscale": [
             [
              0,
              "#0d0887"
             ],
             [
              0.1111111111111111,
              "#46039f"
             ],
             [
              0.2222222222222222,
              "#7201a8"
             ],
             [
              0.3333333333333333,
              "#9c179e"
             ],
             [
              0.4444444444444444,
              "#bd3786"
             ],
             [
              0.5555555555555556,
              "#d8576b"
             ],
             [
              0.6666666666666666,
              "#ed7953"
             ],
             [
              0.7777777777777778,
              "#fb9f3a"
             ],
             [
              0.8888888888888888,
              "#fdca26"
             ],
             [
              1,
              "#f0f921"
             ]
            ],
            "type": "histogram2d"
           }
          ],
          "histogram2dcontour": [
           {
            "colorbar": {
             "outlinewidth": 0,
             "ticks": ""
            },
            "colorscale": [
             [
              0,
              "#0d0887"
             ],
             [
              0.1111111111111111,
              "#46039f"
             ],
             [
              0.2222222222222222,
              "#7201a8"
             ],
             [
              0.3333333333333333,
              "#9c179e"
             ],
             [
              0.4444444444444444,
              "#bd3786"
             ],
             [
              0.5555555555555556,
              "#d8576b"
             ],
             [
              0.6666666666666666,
              "#ed7953"
             ],
             [
              0.7777777777777778,
              "#fb9f3a"
             ],
             [
              0.8888888888888888,
              "#fdca26"
             ],
             [
              1,
              "#f0f921"
             ]
            ],
            "type": "histogram2dcontour"
           }
          ],
          "mesh3d": [
           {
            "colorbar": {
             "outlinewidth": 0,
             "ticks": ""
            },
            "type": "mesh3d"
           }
          ],
          "parcoords": [
           {
            "line": {
             "colorbar": {
              "outlinewidth": 0,
              "ticks": ""
             }
            },
            "type": "parcoords"
           }
          ],
          "pie": [
           {
            "automargin": true,
            "type": "pie"
           }
          ],
          "scatter": [
           {
            "fillpattern": {
             "fillmode": "overlay",
             "size": 10,
             "solidity": 0.2
            },
            "type": "scatter"
           }
          ],
          "scatter3d": [
           {
            "line": {
             "colorbar": {
              "outlinewidth": 0,
              "ticks": ""
             }
            },
            "marker": {
             "colorbar": {
              "outlinewidth": 0,
              "ticks": ""
             }
            },
            "type": "scatter3d"
           }
          ],
          "scattercarpet": [
           {
            "marker": {
             "colorbar": {
              "outlinewidth": 0,
              "ticks": ""
             }
            },
            "type": "scattercarpet"
           }
          ],
          "scattergeo": [
           {
            "marker": {
             "colorbar": {
              "outlinewidth": 0,
              "ticks": ""
             }
            },
            "type": "scattergeo"
           }
          ],
          "scattergl": [
           {
            "marker": {
             "colorbar": {
              "outlinewidth": 0,
              "ticks": ""
             }
            },
            "type": "scattergl"
           }
          ],
          "scattermap": [
           {
            "marker": {
             "colorbar": {
              "outlinewidth": 0,
              "ticks": ""
             }
            },
            "type": "scattermap"
           }
          ],
          "scattermapbox": [
           {
            "marker": {
             "colorbar": {
              "outlinewidth": 0,
              "ticks": ""
             }
            },
            "type": "scattermapbox"
           }
          ],
          "scatterpolar": [
           {
            "marker": {
             "colorbar": {
              "outlinewidth": 0,
              "ticks": ""
             }
            },
            "type": "scatterpolar"
           }
          ],
          "scatterpolargl": [
           {
            "marker": {
             "colorbar": {
              "outlinewidth": 0,
              "ticks": ""
             }
            },
            "type": "scatterpolargl"
           }
          ],
          "scatterternary": [
           {
            "marker": {
             "colorbar": {
              "outlinewidth": 0,
              "ticks": ""
             }
            },
            "type": "scatterternary"
           }
          ],
          "surface": [
           {
            "colorbar": {
             "outlinewidth": 0,
             "ticks": ""
            },
            "colorscale": [
             [
              0,
              "#0d0887"
             ],
             [
              0.1111111111111111,
              "#46039f"
             ],
             [
              0.2222222222222222,
              "#7201a8"
             ],
             [
              0.3333333333333333,
              "#9c179e"
             ],
             [
              0.4444444444444444,
              "#bd3786"
             ],
             [
              0.5555555555555556,
              "#d8576b"
             ],
             [
              0.6666666666666666,
              "#ed7953"
             ],
             [
              0.7777777777777778,
              "#fb9f3a"
             ],
             [
              0.8888888888888888,
              "#fdca26"
             ],
             [
              1,
              "#f0f921"
             ]
            ],
            "type": "surface"
           }
          ],
          "table": [
           {
            "cells": {
             "fill": {
              "color": "#EBF0F8"
             },
             "line": {
              "color": "white"
             }
            },
            "header": {
             "fill": {
              "color": "#C8D4E3"
             },
             "line": {
              "color": "white"
             }
            },
            "type": "table"
           }
          ]
         },
         "layout": {
          "annotationdefaults": {
           "arrowcolor": "#2a3f5f",
           "arrowhead": 0,
           "arrowwidth": 1
          },
          "autotypenumbers": "strict",
          "coloraxis": {
           "colorbar": {
            "outlinewidth": 0,
            "ticks": ""
           }
          },
          "colorscale": {
           "diverging": [
            [
             0,
             "#8e0152"
            ],
            [
             0.1,
             "#c51b7d"
            ],
            [
             0.2,
             "#de77ae"
            ],
            [
             0.3,
             "#f1b6da"
            ],
            [
             0.4,
             "#fde0ef"
            ],
            [
             0.5,
             "#f7f7f7"
            ],
            [
             0.6,
             "#e6f5d0"
            ],
            [
             0.7,
             "#b8e186"
            ],
            [
             0.8,
             "#7fbc41"
            ],
            [
             0.9,
             "#4d9221"
            ],
            [
             1,
             "#276419"
            ]
           ],
           "sequential": [
            [
             0,
             "#0d0887"
            ],
            [
             0.1111111111111111,
             "#46039f"
            ],
            [
             0.2222222222222222,
             "#7201a8"
            ],
            [
             0.3333333333333333,
             "#9c179e"
            ],
            [
             0.4444444444444444,
             "#bd3786"
            ],
            [
             0.5555555555555556,
             "#d8576b"
            ],
            [
             0.6666666666666666,
             "#ed7953"
            ],
            [
             0.7777777777777778,
             "#fb9f3a"
            ],
            [
             0.8888888888888888,
             "#fdca26"
            ],
            [
             1,
             "#f0f921"
            ]
           ],
           "sequentialminus": [
            [
             0,
             "#0d0887"
            ],
            [
             0.1111111111111111,
             "#46039f"
            ],
            [
             0.2222222222222222,
             "#7201a8"
            ],
            [
             0.3333333333333333,
             "#9c179e"
            ],
            [
             0.4444444444444444,
             "#bd3786"
            ],
            [
             0.5555555555555556,
             "#d8576b"
            ],
            [
             0.6666666666666666,
             "#ed7953"
            ],
            [
             0.7777777777777778,
             "#fb9f3a"
            ],
            [
             0.8888888888888888,
             "#fdca26"
            ],
            [
             1,
             "#f0f921"
            ]
           ]
          },
          "colorway": [
           "#636efa",
           "#EF553B",
           "#00cc96",
           "#ab63fa",
           "#FFA15A",
           "#19d3f3",
           "#FF6692",
           "#B6E880",
           "#FF97FF",
           "#FECB52"
          ],
          "font": {
           "color": "#2a3f5f"
          },
          "geo": {
           "bgcolor": "white",
           "lakecolor": "white",
           "landcolor": "#E5ECF6",
           "showlakes": true,
           "showland": true,
           "subunitcolor": "white"
          },
          "hoverlabel": {
           "align": "left"
          },
          "hovermode": "closest",
          "mapbox": {
           "style": "light"
          },
          "paper_bgcolor": "white",
          "plot_bgcolor": "#E5ECF6",
          "polar": {
           "angularaxis": {
            "gridcolor": "white",
            "linecolor": "white",
            "ticks": ""
           },
           "bgcolor": "#E5ECF6",
           "radialaxis": {
            "gridcolor": "white",
            "linecolor": "white",
            "ticks": ""
           }
          },
          "scene": {
           "xaxis": {
            "backgroundcolor": "#E5ECF6",
            "gridcolor": "white",
            "gridwidth": 2,
            "linecolor": "white",
            "showbackground": true,
            "ticks": "",
            "zerolinecolor": "white"
           },
           "yaxis": {
            "backgroundcolor": "#E5ECF6",
            "gridcolor": "white",
            "gridwidth": 2,
            "linecolor": "white",
            "showbackground": true,
            "ticks": "",
            "zerolinecolor": "white"
           },
           "zaxis": {
            "backgroundcolor": "#E5ECF6",
            "gridcolor": "white",
            "gridwidth": 2,
            "linecolor": "white",
            "showbackground": true,
            "ticks": "",
            "zerolinecolor": "white"
           }
          },
          "shapedefaults": {
           "line": {
            "color": "#2a3f5f"
           }
          },
          "ternary": {
           "aaxis": {
            "gridcolor": "white",
            "linecolor": "white",
            "ticks": ""
           },
           "baxis": {
            "gridcolor": "white",
            "linecolor": "white",
            "ticks": ""
           },
           "bgcolor": "#E5ECF6",
           "caxis": {
            "gridcolor": "white",
            "linecolor": "white",
            "ticks": ""
           }
          },
          "title": {
           "x": 0.05
          },
          "xaxis": {
           "automargin": true,
           "gridcolor": "white",
           "linecolor": "white",
           "ticks": "",
           "title": {
            "standoff": 15
           },
           "zerolinecolor": "white",
           "zerolinewidth": 2
          },
          "yaxis": {
           "automargin": true,
           "gridcolor": "white",
           "linecolor": "white",
           "ticks": "",
           "title": {
            "standoff": 15
           },
           "zerolinecolor": "white",
           "zerolinewidth": 2
          }
         }
        },
        "xaxis": {
         "anchor": "y",
         "categoryorder": "total descending",
         "domain": [
          0,
          1
         ],
         "title": {
          "text": "neighbourhood_cleansed"
         }
        },
        "yaxis": {
         "anchor": "x",
         "domain": [
          0,
          1
         ],
         "title": {
          "text": "avg of price"
         }
        }
       }
      }
     },
     "metadata": {},
     "output_type": "display_data"
    }
   ],
   "source": [
    "fig = px.histogram(\n",
    "    df_listings_clean, \n",
    "    x=\"neighbourhood_cleansed\",\n",
    "    y=\"price\",\n",
    "    histfunc=\"avg\"\n",
    ")\n",
    "\n",
    "fig.update_xaxes(categoryorder=\"total descending\")\n",
    "fig.show()"
   ]
  },
  {
   "cell_type": "code",
   "execution_count": 85,
   "metadata": {},
   "outputs": [
    {
     "data": {
      "text/plain": [
       "room_type\n",
       "Entire home/apt    2541\n",
       "Private room       1160\n",
       "Shared room         117\n",
       "Name: count, dtype: int64"
      ]
     },
     "execution_count": 85,
     "metadata": {},
     "output_type": "execute_result"
    }
   ],
   "source": [
    "df_listings_clean['room_type'].value_counts()"
   ]
  },
  {
   "cell_type": "code",
   "execution_count": 86,
   "metadata": {},
   "outputs": [],
   "source": [
    "listing_types = df_listings_clean.groupby('room_type').size().reset_index(name='total')"
   ]
  },
  {
   "cell_type": "code",
   "execution_count": 87,
   "metadata": {},
   "outputs": [
    {
     "data": {
      "text/html": [
       "<div>\n",
       "<style scoped>\n",
       "    .dataframe tbody tr th:only-of-type {\n",
       "        vertical-align: middle;\n",
       "    }\n",
       "\n",
       "    .dataframe tbody tr th {\n",
       "        vertical-align: top;\n",
       "    }\n",
       "\n",
       "    .dataframe thead th {\n",
       "        text-align: right;\n",
       "    }\n",
       "</style>\n",
       "<table border=\"1\" class=\"dataframe\">\n",
       "  <thead>\n",
       "    <tr style=\"text-align: right;\">\n",
       "      <th></th>\n",
       "      <th>room_type</th>\n",
       "      <th>total</th>\n",
       "    </tr>\n",
       "  </thead>\n",
       "  <tbody>\n",
       "    <tr>\n",
       "      <th>0</th>\n",
       "      <td>Entire home/apt</td>\n",
       "      <td>2541</td>\n",
       "    </tr>\n",
       "    <tr>\n",
       "      <th>1</th>\n",
       "      <td>Private room</td>\n",
       "      <td>1160</td>\n",
       "    </tr>\n",
       "    <tr>\n",
       "      <th>2</th>\n",
       "      <td>Shared room</td>\n",
       "      <td>117</td>\n",
       "    </tr>\n",
       "  </tbody>\n",
       "</table>\n",
       "</div>"
      ],
      "text/plain": [
       "         room_type  total\n",
       "0  Entire home/apt   2541\n",
       "1     Private room   1160\n",
       "2      Shared room    117"
      ]
     },
     "execution_count": 87,
     "metadata": {},
     "output_type": "execute_result"
    }
   ],
   "source": [
    "listing_types"
   ]
  },
  {
   "cell_type": "code",
   "execution_count": 88,
   "metadata": {},
   "outputs": [
    {
     "data": {
      "application/vnd.plotly.v1+json": {
       "config": {
        "plotlyServerURL": "https://plot.ly"
       },
       "data": [
        {
         "hovertemplate": "room_type=%{x}<br>total=%{y}<extra></extra>",
         "legendgroup": "Entire home/apt",
         "marker": {
          "color": "#636efa",
          "pattern": {
           "shape": ""
          }
         },
         "name": "Entire home/apt",
         "orientation": "v",
         "showlegend": true,
         "textposition": "auto",
         "type": "bar",
         "x": [
          "Entire home/apt"
         ],
         "xaxis": "x",
         "y": {
          "bdata": "7Qk=",
          "dtype": "i2"
         },
         "yaxis": "y"
        },
        {
         "hovertemplate": "room_type=%{x}<br>total=%{y}<extra></extra>",
         "legendgroup": "Private room",
         "marker": {
          "color": "#EF553B",
          "pattern": {
           "shape": ""
          }
         },
         "name": "Private room",
         "orientation": "v",
         "showlegend": true,
         "textposition": "auto",
         "type": "bar",
         "x": [
          "Private room"
         ],
         "xaxis": "x",
         "y": {
          "bdata": "iAQ=",
          "dtype": "i2"
         },
         "yaxis": "y"
        },
        {
         "hovertemplate": "room_type=%{x}<br>total=%{y}<extra></extra>",
         "legendgroup": "Shared room",
         "marker": {
          "color": "#00cc96",
          "pattern": {
           "shape": ""
          }
         },
         "name": "Shared room",
         "orientation": "v",
         "showlegend": true,
         "textposition": "auto",
         "type": "bar",
         "x": [
          "Shared room"
         ],
         "xaxis": "x",
         "y": {
          "bdata": "dQ==",
          "dtype": "i1"
         },
         "yaxis": "y"
        }
       ],
       "layout": {
        "barmode": "relative",
        "legend": {
         "title": {
          "text": "room_type"
         },
         "tracegroupgap": 0
        },
        "margin": {
         "t": 60
        },
        "template": {
         "data": {
          "bar": [
           {
            "error_x": {
             "color": "#2a3f5f"
            },
            "error_y": {
             "color": "#2a3f5f"
            },
            "marker": {
             "line": {
              "color": "#E5ECF6",
              "width": 0.5
             },
             "pattern": {
              "fillmode": "overlay",
              "size": 10,
              "solidity": 0.2
             }
            },
            "type": "bar"
           }
          ],
          "barpolar": [
           {
            "marker": {
             "line": {
              "color": "#E5ECF6",
              "width": 0.5
             },
             "pattern": {
              "fillmode": "overlay",
              "size": 10,
              "solidity": 0.2
             }
            },
            "type": "barpolar"
           }
          ],
          "carpet": [
           {
            "aaxis": {
             "endlinecolor": "#2a3f5f",
             "gridcolor": "white",
             "linecolor": "white",
             "minorgridcolor": "white",
             "startlinecolor": "#2a3f5f"
            },
            "baxis": {
             "endlinecolor": "#2a3f5f",
             "gridcolor": "white",
             "linecolor": "white",
             "minorgridcolor": "white",
             "startlinecolor": "#2a3f5f"
            },
            "type": "carpet"
           }
          ],
          "choropleth": [
           {
            "colorbar": {
             "outlinewidth": 0,
             "ticks": ""
            },
            "type": "choropleth"
           }
          ],
          "contour": [
           {
            "colorbar": {
             "outlinewidth": 0,
             "ticks": ""
            },
            "colorscale": [
             [
              0,
              "#0d0887"
             ],
             [
              0.1111111111111111,
              "#46039f"
             ],
             [
              0.2222222222222222,
              "#7201a8"
             ],
             [
              0.3333333333333333,
              "#9c179e"
             ],
             [
              0.4444444444444444,
              "#bd3786"
             ],
             [
              0.5555555555555556,
              "#d8576b"
             ],
             [
              0.6666666666666666,
              "#ed7953"
             ],
             [
              0.7777777777777778,
              "#fb9f3a"
             ],
             [
              0.8888888888888888,
              "#fdca26"
             ],
             [
              1,
              "#f0f921"
             ]
            ],
            "type": "contour"
           }
          ],
          "contourcarpet": [
           {
            "colorbar": {
             "outlinewidth": 0,
             "ticks": ""
            },
            "type": "contourcarpet"
           }
          ],
          "heatmap": [
           {
            "colorbar": {
             "outlinewidth": 0,
             "ticks": ""
            },
            "colorscale": [
             [
              0,
              "#0d0887"
             ],
             [
              0.1111111111111111,
              "#46039f"
             ],
             [
              0.2222222222222222,
              "#7201a8"
             ],
             [
              0.3333333333333333,
              "#9c179e"
             ],
             [
              0.4444444444444444,
              "#bd3786"
             ],
             [
              0.5555555555555556,
              "#d8576b"
             ],
             [
              0.6666666666666666,
              "#ed7953"
             ],
             [
              0.7777777777777778,
              "#fb9f3a"
             ],
             [
              0.8888888888888888,
              "#fdca26"
             ],
             [
              1,
              "#f0f921"
             ]
            ],
            "type": "heatmap"
           }
          ],
          "histogram": [
           {
            "marker": {
             "pattern": {
              "fillmode": "overlay",
              "size": 10,
              "solidity": 0.2
             }
            },
            "type": "histogram"
           }
          ],
          "histogram2d": [
           {
            "colorbar": {
             "outlinewidth": 0,
             "ticks": ""
            },
            "colorscale": [
             [
              0,
              "#0d0887"
             ],
             [
              0.1111111111111111,
              "#46039f"
             ],
             [
              0.2222222222222222,
              "#7201a8"
             ],
             [
              0.3333333333333333,
              "#9c179e"
             ],
             [
              0.4444444444444444,
              "#bd3786"
             ],
             [
              0.5555555555555556,
              "#d8576b"
             ],
             [
              0.6666666666666666,
              "#ed7953"
             ],
             [
              0.7777777777777778,
              "#fb9f3a"
             ],
             [
              0.8888888888888888,
              "#fdca26"
             ],
             [
              1,
              "#f0f921"
             ]
            ],
            "type": "histogram2d"
           }
          ],
          "histogram2dcontour": [
           {
            "colorbar": {
             "outlinewidth": 0,
             "ticks": ""
            },
            "colorscale": [
             [
              0,
              "#0d0887"
             ],
             [
              0.1111111111111111,
              "#46039f"
             ],
             [
              0.2222222222222222,
              "#7201a8"
             ],
             [
              0.3333333333333333,
              "#9c179e"
             ],
             [
              0.4444444444444444,
              "#bd3786"
             ],
             [
              0.5555555555555556,
              "#d8576b"
             ],
             [
              0.6666666666666666,
              "#ed7953"
             ],
             [
              0.7777777777777778,
              "#fb9f3a"
             ],
             [
              0.8888888888888888,
              "#fdca26"
             ],
             [
              1,
              "#f0f921"
             ]
            ],
            "type": "histogram2dcontour"
           }
          ],
          "mesh3d": [
           {
            "colorbar": {
             "outlinewidth": 0,
             "ticks": ""
            },
            "type": "mesh3d"
           }
          ],
          "parcoords": [
           {
            "line": {
             "colorbar": {
              "outlinewidth": 0,
              "ticks": ""
             }
            },
            "type": "parcoords"
           }
          ],
          "pie": [
           {
            "automargin": true,
            "type": "pie"
           }
          ],
          "scatter": [
           {
            "fillpattern": {
             "fillmode": "overlay",
             "size": 10,
             "solidity": 0.2
            },
            "type": "scatter"
           }
          ],
          "scatter3d": [
           {
            "line": {
             "colorbar": {
              "outlinewidth": 0,
              "ticks": ""
             }
            },
            "marker": {
             "colorbar": {
              "outlinewidth": 0,
              "ticks": ""
             }
            },
            "type": "scatter3d"
           }
          ],
          "scattercarpet": [
           {
            "marker": {
             "colorbar": {
              "outlinewidth": 0,
              "ticks": ""
             }
            },
            "type": "scattercarpet"
           }
          ],
          "scattergeo": [
           {
            "marker": {
             "colorbar": {
              "outlinewidth": 0,
              "ticks": ""
             }
            },
            "type": "scattergeo"
           }
          ],
          "scattergl": [
           {
            "marker": {
             "colorbar": {
              "outlinewidth": 0,
              "ticks": ""
             }
            },
            "type": "scattergl"
           }
          ],
          "scattermap": [
           {
            "marker": {
             "colorbar": {
              "outlinewidth": 0,
              "ticks": ""
             }
            },
            "type": "scattermap"
           }
          ],
          "scattermapbox": [
           {
            "marker": {
             "colorbar": {
              "outlinewidth": 0,
              "ticks": ""
             }
            },
            "type": "scattermapbox"
           }
          ],
          "scatterpolar": [
           {
            "marker": {
             "colorbar": {
              "outlinewidth": 0,
              "ticks": ""
             }
            },
            "type": "scatterpolar"
           }
          ],
          "scatterpolargl": [
           {
            "marker": {
             "colorbar": {
              "outlinewidth": 0,
              "ticks": ""
             }
            },
            "type": "scatterpolargl"
           }
          ],
          "scatterternary": [
           {
            "marker": {
             "colorbar": {
              "outlinewidth": 0,
              "ticks": ""
             }
            },
            "type": "scatterternary"
           }
          ],
          "surface": [
           {
            "colorbar": {
             "outlinewidth": 0,
             "ticks": ""
            },
            "colorscale": [
             [
              0,
              "#0d0887"
             ],
             [
              0.1111111111111111,
              "#46039f"
             ],
             [
              0.2222222222222222,
              "#7201a8"
             ],
             [
              0.3333333333333333,
              "#9c179e"
             ],
             [
              0.4444444444444444,
              "#bd3786"
             ],
             [
              0.5555555555555556,
              "#d8576b"
             ],
             [
              0.6666666666666666,
              "#ed7953"
             ],
             [
              0.7777777777777778,
              "#fb9f3a"
             ],
             [
              0.8888888888888888,
              "#fdca26"
             ],
             [
              1,
              "#f0f921"
             ]
            ],
            "type": "surface"
           }
          ],
          "table": [
           {
            "cells": {
             "fill": {
              "color": "#EBF0F8"
             },
             "line": {
              "color": "white"
             }
            },
            "header": {
             "fill": {
              "color": "#C8D4E3"
             },
             "line": {
              "color": "white"
             }
            },
            "type": "table"
           }
          ]
         },
         "layout": {
          "annotationdefaults": {
           "arrowcolor": "#2a3f5f",
           "arrowhead": 0,
           "arrowwidth": 1
          },
          "autotypenumbers": "strict",
          "coloraxis": {
           "colorbar": {
            "outlinewidth": 0,
            "ticks": ""
           }
          },
          "colorscale": {
           "diverging": [
            [
             0,
             "#8e0152"
            ],
            [
             0.1,
             "#c51b7d"
            ],
            [
             0.2,
             "#de77ae"
            ],
            [
             0.3,
             "#f1b6da"
            ],
            [
             0.4,
             "#fde0ef"
            ],
            [
             0.5,
             "#f7f7f7"
            ],
            [
             0.6,
             "#e6f5d0"
            ],
            [
             0.7,
             "#b8e186"
            ],
            [
             0.8,
             "#7fbc41"
            ],
            [
             0.9,
             "#4d9221"
            ],
            [
             1,
             "#276419"
            ]
           ],
           "sequential": [
            [
             0,
             "#0d0887"
            ],
            [
             0.1111111111111111,
             "#46039f"
            ],
            [
             0.2222222222222222,
             "#7201a8"
            ],
            [
             0.3333333333333333,
             "#9c179e"
            ],
            [
             0.4444444444444444,
             "#bd3786"
            ],
            [
             0.5555555555555556,
             "#d8576b"
            ],
            [
             0.6666666666666666,
             "#ed7953"
            ],
            [
             0.7777777777777778,
             "#fb9f3a"
            ],
            [
             0.8888888888888888,
             "#fdca26"
            ],
            [
             1,
             "#f0f921"
            ]
           ],
           "sequentialminus": [
            [
             0,
             "#0d0887"
            ],
            [
             0.1111111111111111,
             "#46039f"
            ],
            [
             0.2222222222222222,
             "#7201a8"
            ],
            [
             0.3333333333333333,
             "#9c179e"
            ],
            [
             0.4444444444444444,
             "#bd3786"
            ],
            [
             0.5555555555555556,
             "#d8576b"
            ],
            [
             0.6666666666666666,
             "#ed7953"
            ],
            [
             0.7777777777777778,
             "#fb9f3a"
            ],
            [
             0.8888888888888888,
             "#fdca26"
            ],
            [
             1,
             "#f0f921"
            ]
           ]
          },
          "colorway": [
           "#636efa",
           "#EF553B",
           "#00cc96",
           "#ab63fa",
           "#FFA15A",
           "#19d3f3",
           "#FF6692",
           "#B6E880",
           "#FF97FF",
           "#FECB52"
          ],
          "font": {
           "color": "#2a3f5f"
          },
          "geo": {
           "bgcolor": "white",
           "lakecolor": "white",
           "landcolor": "#E5ECF6",
           "showlakes": true,
           "showland": true,
           "subunitcolor": "white"
          },
          "hoverlabel": {
           "align": "left"
          },
          "hovermode": "closest",
          "mapbox": {
           "style": "light"
          },
          "paper_bgcolor": "white",
          "plot_bgcolor": "#E5ECF6",
          "polar": {
           "angularaxis": {
            "gridcolor": "white",
            "linecolor": "white",
            "ticks": ""
           },
           "bgcolor": "#E5ECF6",
           "radialaxis": {
            "gridcolor": "white",
            "linecolor": "white",
            "ticks": ""
           }
          },
          "scene": {
           "xaxis": {
            "backgroundcolor": "#E5ECF6",
            "gridcolor": "white",
            "gridwidth": 2,
            "linecolor": "white",
            "showbackground": true,
            "ticks": "",
            "zerolinecolor": "white"
           },
           "yaxis": {
            "backgroundcolor": "#E5ECF6",
            "gridcolor": "white",
            "gridwidth": 2,
            "linecolor": "white",
            "showbackground": true,
            "ticks": "",
            "zerolinecolor": "white"
           },
           "zaxis": {
            "backgroundcolor": "#E5ECF6",
            "gridcolor": "white",
            "gridwidth": 2,
            "linecolor": "white",
            "showbackground": true,
            "ticks": "",
            "zerolinecolor": "white"
           }
          },
          "shapedefaults": {
           "line": {
            "color": "#2a3f5f"
           }
          },
          "ternary": {
           "aaxis": {
            "gridcolor": "white",
            "linecolor": "white",
            "ticks": ""
           },
           "baxis": {
            "gridcolor": "white",
            "linecolor": "white",
            "ticks": ""
           },
           "bgcolor": "#E5ECF6",
           "caxis": {
            "gridcolor": "white",
            "linecolor": "white",
            "ticks": ""
           }
          },
          "title": {
           "x": 0.05
          },
          "xaxis": {
           "automargin": true,
           "gridcolor": "white",
           "linecolor": "white",
           "ticks": "",
           "title": {
            "standoff": 15
           },
           "zerolinecolor": "white",
           "zerolinewidth": 2
          },
          "yaxis": {
           "automargin": true,
           "gridcolor": "white",
           "linecolor": "white",
           "ticks": "",
           "title": {
            "standoff": 15
           },
           "zerolinecolor": "white",
           "zerolinewidth": 2
          }
         }
        },
        "xaxis": {
         "anchor": "y",
         "categoryarray": [
          "Entire home/apt",
          "Private room",
          "Shared room"
         ],
         "categoryorder": "array",
         "domain": [
          0,
          1
         ],
         "title": {
          "text": "room_type"
         }
        },
        "yaxis": {
         "anchor": "x",
         "domain": [
          0,
          1
         ],
         "title": {
          "text": "total"
         }
        }
       }
      }
     },
     "metadata": {},
     "output_type": "display_data"
    }
   ],
   "source": [
    "\n",
    "fig = px.bar(listing_types, x='room_type', y='total',  color='room_type')\n",
    "fig.show()"
   ]
  },
  {
   "cell_type": "code",
   "execution_count": 89,
   "metadata": {},
   "outputs": [
    {
     "data": {
      "application/vnd.plotly.v1+json": {
       "config": {
        "plotlyServerURL": "https://plot.ly"
       },
       "data": [
        {
         "customdata": [
          [
           "Entire home/apt"
          ],
          [
           "Private room"
          ],
          [
           "Shared room"
          ]
         ],
         "domain": {
          "x": [
           0,
           1
          ],
          "y": [
           0,
           1
          ]
         },
         "hovertemplate": "room_type=%{customdata[0]}<br>total=%{value}<extra></extra>",
         "labels": [
          "Entire home/apt",
          "Private room",
          "Shared room"
         ],
         "legendgroup": "",
         "marker": {
          "colors": [
           "#636efa",
           "#EF553B",
           "#00cc96"
          ]
         },
         "name": "",
         "showlegend": true,
         "type": "pie",
         "values": {
          "bdata": "7QmIBHUA",
          "dtype": "i2"
         }
        }
       ],
       "layout": {
        "legend": {
         "tracegroupgap": 0
        },
        "margin": {
         "t": 60
        },
        "template": {
         "data": {
          "bar": [
           {
            "error_x": {
             "color": "#2a3f5f"
            },
            "error_y": {
             "color": "#2a3f5f"
            },
            "marker": {
             "line": {
              "color": "#E5ECF6",
              "width": 0.5
             },
             "pattern": {
              "fillmode": "overlay",
              "size": 10,
              "solidity": 0.2
             }
            },
            "type": "bar"
           }
          ],
          "barpolar": [
           {
            "marker": {
             "line": {
              "color": "#E5ECF6",
              "width": 0.5
             },
             "pattern": {
              "fillmode": "overlay",
              "size": 10,
              "solidity": 0.2
             }
            },
            "type": "barpolar"
           }
          ],
          "carpet": [
           {
            "aaxis": {
             "endlinecolor": "#2a3f5f",
             "gridcolor": "white",
             "linecolor": "white",
             "minorgridcolor": "white",
             "startlinecolor": "#2a3f5f"
            },
            "baxis": {
             "endlinecolor": "#2a3f5f",
             "gridcolor": "white",
             "linecolor": "white",
             "minorgridcolor": "white",
             "startlinecolor": "#2a3f5f"
            },
            "type": "carpet"
           }
          ],
          "choropleth": [
           {
            "colorbar": {
             "outlinewidth": 0,
             "ticks": ""
            },
            "type": "choropleth"
           }
          ],
          "contour": [
           {
            "colorbar": {
             "outlinewidth": 0,
             "ticks": ""
            },
            "colorscale": [
             [
              0,
              "#0d0887"
             ],
             [
              0.1111111111111111,
              "#46039f"
             ],
             [
              0.2222222222222222,
              "#7201a8"
             ],
             [
              0.3333333333333333,
              "#9c179e"
             ],
             [
              0.4444444444444444,
              "#bd3786"
             ],
             [
              0.5555555555555556,
              "#d8576b"
             ],
             [
              0.6666666666666666,
              "#ed7953"
             ],
             [
              0.7777777777777778,
              "#fb9f3a"
             ],
             [
              0.8888888888888888,
              "#fdca26"
             ],
             [
              1,
              "#f0f921"
             ]
            ],
            "type": "contour"
           }
          ],
          "contourcarpet": [
           {
            "colorbar": {
             "outlinewidth": 0,
             "ticks": ""
            },
            "type": "contourcarpet"
           }
          ],
          "heatmap": [
           {
            "colorbar": {
             "outlinewidth": 0,
             "ticks": ""
            },
            "colorscale": [
             [
              0,
              "#0d0887"
             ],
             [
              0.1111111111111111,
              "#46039f"
             ],
             [
              0.2222222222222222,
              "#7201a8"
             ],
             [
              0.3333333333333333,
              "#9c179e"
             ],
             [
              0.4444444444444444,
              "#bd3786"
             ],
             [
              0.5555555555555556,
              "#d8576b"
             ],
             [
              0.6666666666666666,
              "#ed7953"
             ],
             [
              0.7777777777777778,
              "#fb9f3a"
             ],
             [
              0.8888888888888888,
              "#fdca26"
             ],
             [
              1,
              "#f0f921"
             ]
            ],
            "type": "heatmap"
           }
          ],
          "histogram": [
           {
            "marker": {
             "pattern": {
              "fillmode": "overlay",
              "size": 10,
              "solidity": 0.2
             }
            },
            "type": "histogram"
           }
          ],
          "histogram2d": [
           {
            "colorbar": {
             "outlinewidth": 0,
             "ticks": ""
            },
            "colorscale": [
             [
              0,
              "#0d0887"
             ],
             [
              0.1111111111111111,
              "#46039f"
             ],
             [
              0.2222222222222222,
              "#7201a8"
             ],
             [
              0.3333333333333333,
              "#9c179e"
             ],
             [
              0.4444444444444444,
              "#bd3786"
             ],
             [
              0.5555555555555556,
              "#d8576b"
             ],
             [
              0.6666666666666666,
              "#ed7953"
             ],
             [
              0.7777777777777778,
              "#fb9f3a"
             ],
             [
              0.8888888888888888,
              "#fdca26"
             ],
             [
              1,
              "#f0f921"
             ]
            ],
            "type": "histogram2d"
           }
          ],
          "histogram2dcontour": [
           {
            "colorbar": {
             "outlinewidth": 0,
             "ticks": ""
            },
            "colorscale": [
             [
              0,
              "#0d0887"
             ],
             [
              0.1111111111111111,
              "#46039f"
             ],
             [
              0.2222222222222222,
              "#7201a8"
             ],
             [
              0.3333333333333333,
              "#9c179e"
             ],
             [
              0.4444444444444444,
              "#bd3786"
             ],
             [
              0.5555555555555556,
              "#d8576b"
             ],
             [
              0.6666666666666666,
              "#ed7953"
             ],
             [
              0.7777777777777778,
              "#fb9f3a"
             ],
             [
              0.8888888888888888,
              "#fdca26"
             ],
             [
              1,
              "#f0f921"
             ]
            ],
            "type": "histogram2dcontour"
           }
          ],
          "mesh3d": [
           {
            "colorbar": {
             "outlinewidth": 0,
             "ticks": ""
            },
            "type": "mesh3d"
           }
          ],
          "parcoords": [
           {
            "line": {
             "colorbar": {
              "outlinewidth": 0,
              "ticks": ""
             }
            },
            "type": "parcoords"
           }
          ],
          "pie": [
           {
            "automargin": true,
            "type": "pie"
           }
          ],
          "scatter": [
           {
            "fillpattern": {
             "fillmode": "overlay",
             "size": 10,
             "solidity": 0.2
            },
            "type": "scatter"
           }
          ],
          "scatter3d": [
           {
            "line": {
             "colorbar": {
              "outlinewidth": 0,
              "ticks": ""
             }
            },
            "marker": {
             "colorbar": {
              "outlinewidth": 0,
              "ticks": ""
             }
            },
            "type": "scatter3d"
           }
          ],
          "scattercarpet": [
           {
            "marker": {
             "colorbar": {
              "outlinewidth": 0,
              "ticks": ""
             }
            },
            "type": "scattercarpet"
           }
          ],
          "scattergeo": [
           {
            "marker": {
             "colorbar": {
              "outlinewidth": 0,
              "ticks": ""
             }
            },
            "type": "scattergeo"
           }
          ],
          "scattergl": [
           {
            "marker": {
             "colorbar": {
              "outlinewidth": 0,
              "ticks": ""
             }
            },
            "type": "scattergl"
           }
          ],
          "scattermap": [
           {
            "marker": {
             "colorbar": {
              "outlinewidth": 0,
              "ticks": ""
             }
            },
            "type": "scattermap"
           }
          ],
          "scattermapbox": [
           {
            "marker": {
             "colorbar": {
              "outlinewidth": 0,
              "ticks": ""
             }
            },
            "type": "scattermapbox"
           }
          ],
          "scatterpolar": [
           {
            "marker": {
             "colorbar": {
              "outlinewidth": 0,
              "ticks": ""
             }
            },
            "type": "scatterpolar"
           }
          ],
          "scatterpolargl": [
           {
            "marker": {
             "colorbar": {
              "outlinewidth": 0,
              "ticks": ""
             }
            },
            "type": "scatterpolargl"
           }
          ],
          "scatterternary": [
           {
            "marker": {
             "colorbar": {
              "outlinewidth": 0,
              "ticks": ""
             }
            },
            "type": "scatterternary"
           }
          ],
          "surface": [
           {
            "colorbar": {
             "outlinewidth": 0,
             "ticks": ""
            },
            "colorscale": [
             [
              0,
              "#0d0887"
             ],
             [
              0.1111111111111111,
              "#46039f"
             ],
             [
              0.2222222222222222,
              "#7201a8"
             ],
             [
              0.3333333333333333,
              "#9c179e"
             ],
             [
              0.4444444444444444,
              "#bd3786"
             ],
             [
              0.5555555555555556,
              "#d8576b"
             ],
             [
              0.6666666666666666,
              "#ed7953"
             ],
             [
              0.7777777777777778,
              "#fb9f3a"
             ],
             [
              0.8888888888888888,
              "#fdca26"
             ],
             [
              1,
              "#f0f921"
             ]
            ],
            "type": "surface"
           }
          ],
          "table": [
           {
            "cells": {
             "fill": {
              "color": "#EBF0F8"
             },
             "line": {
              "color": "white"
             }
            },
            "header": {
             "fill": {
              "color": "#C8D4E3"
             },
             "line": {
              "color": "white"
             }
            },
            "type": "table"
           }
          ]
         },
         "layout": {
          "annotationdefaults": {
           "arrowcolor": "#2a3f5f",
           "arrowhead": 0,
           "arrowwidth": 1
          },
          "autotypenumbers": "strict",
          "coloraxis": {
           "colorbar": {
            "outlinewidth": 0,
            "ticks": ""
           }
          },
          "colorscale": {
           "diverging": [
            [
             0,
             "#8e0152"
            ],
            [
             0.1,
             "#c51b7d"
            ],
            [
             0.2,
             "#de77ae"
            ],
            [
             0.3,
             "#f1b6da"
            ],
            [
             0.4,
             "#fde0ef"
            ],
            [
             0.5,
             "#f7f7f7"
            ],
            [
             0.6,
             "#e6f5d0"
            ],
            [
             0.7,
             "#b8e186"
            ],
            [
             0.8,
             "#7fbc41"
            ],
            [
             0.9,
             "#4d9221"
            ],
            [
             1,
             "#276419"
            ]
           ],
           "sequential": [
            [
             0,
             "#0d0887"
            ],
            [
             0.1111111111111111,
             "#46039f"
            ],
            [
             0.2222222222222222,
             "#7201a8"
            ],
            [
             0.3333333333333333,
             "#9c179e"
            ],
            [
             0.4444444444444444,
             "#bd3786"
            ],
            [
             0.5555555555555556,
             "#d8576b"
            ],
            [
             0.6666666666666666,
             "#ed7953"
            ],
            [
             0.7777777777777778,
             "#fb9f3a"
            ],
            [
             0.8888888888888888,
             "#fdca26"
            ],
            [
             1,
             "#f0f921"
            ]
           ],
           "sequentialminus": [
            [
             0,
             "#0d0887"
            ],
            [
             0.1111111111111111,
             "#46039f"
            ],
            [
             0.2222222222222222,
             "#7201a8"
            ],
            [
             0.3333333333333333,
             "#9c179e"
            ],
            [
             0.4444444444444444,
             "#bd3786"
            ],
            [
             0.5555555555555556,
             "#d8576b"
            ],
            [
             0.6666666666666666,
             "#ed7953"
            ],
            [
             0.7777777777777778,
             "#fb9f3a"
            ],
            [
             0.8888888888888888,
             "#fdca26"
            ],
            [
             1,
             "#f0f921"
            ]
           ]
          },
          "colorway": [
           "#636efa",
           "#EF553B",
           "#00cc96",
           "#ab63fa",
           "#FFA15A",
           "#19d3f3",
           "#FF6692",
           "#B6E880",
           "#FF97FF",
           "#FECB52"
          ],
          "font": {
           "color": "#2a3f5f"
          },
          "geo": {
           "bgcolor": "white",
           "lakecolor": "white",
           "landcolor": "#E5ECF6",
           "showlakes": true,
           "showland": true,
           "subunitcolor": "white"
          },
          "hoverlabel": {
           "align": "left"
          },
          "hovermode": "closest",
          "mapbox": {
           "style": "light"
          },
          "paper_bgcolor": "white",
          "plot_bgcolor": "#E5ECF6",
          "polar": {
           "angularaxis": {
            "gridcolor": "white",
            "linecolor": "white",
            "ticks": ""
           },
           "bgcolor": "#E5ECF6",
           "radialaxis": {
            "gridcolor": "white",
            "linecolor": "white",
            "ticks": ""
           }
          },
          "scene": {
           "xaxis": {
            "backgroundcolor": "#E5ECF6",
            "gridcolor": "white",
            "gridwidth": 2,
            "linecolor": "white",
            "showbackground": true,
            "ticks": "",
            "zerolinecolor": "white"
           },
           "yaxis": {
            "backgroundcolor": "#E5ECF6",
            "gridcolor": "white",
            "gridwidth": 2,
            "linecolor": "white",
            "showbackground": true,
            "ticks": "",
            "zerolinecolor": "white"
           },
           "zaxis": {
            "backgroundcolor": "#E5ECF6",
            "gridcolor": "white",
            "gridwidth": 2,
            "linecolor": "white",
            "showbackground": true,
            "ticks": "",
            "zerolinecolor": "white"
           }
          },
          "shapedefaults": {
           "line": {
            "color": "#2a3f5f"
           }
          },
          "ternary": {
           "aaxis": {
            "gridcolor": "white",
            "linecolor": "white",
            "ticks": ""
           },
           "baxis": {
            "gridcolor": "white",
            "linecolor": "white",
            "ticks": ""
           },
           "bgcolor": "#E5ECF6",
           "caxis": {
            "gridcolor": "white",
            "linecolor": "white",
            "ticks": ""
           }
          },
          "title": {
           "x": 0.05
          },
          "xaxis": {
           "automargin": true,
           "gridcolor": "white",
           "linecolor": "white",
           "ticks": "",
           "title": {
            "standoff": 15
           },
           "zerolinecolor": "white",
           "zerolinewidth": 2
          },
          "yaxis": {
           "automargin": true,
           "gridcolor": "white",
           "linecolor": "white",
           "ticks": "",
           "title": {
            "standoff": 15
           },
           "zerolinecolor": "white",
           "zerolinewidth": 2
          }
         }
        }
       }
      }
     },
     "metadata": {},
     "output_type": "display_data"
    }
   ],
   "source": [
    "\n",
    "fig = px.pie(listing_types, names='room_type', values='total',  color='room_type')\n",
    "fig.show()"
   ]
  },
  {
   "cell_type": "code",
   "execution_count": 90,
   "metadata": {},
   "outputs": [
    {
     "data": {
      "application/vnd.plotly.v1+json": {
       "config": {
        "plotlyServerURL": "https://plot.ly"
       },
       "data": [
        {
         "hovertemplate": "Room Type=Entire home/apt<br>Neighborhood=%{x}<br>Number of Listings=%{y}<extra></extra>",
         "legendgroup": "Entire home/apt",
         "marker": {
          "color": "#636efa",
          "pattern": {
           "shape": ""
          }
         },
         "name": "Entire home/apt",
         "orientation": "v",
         "showlegend": true,
         "textposition": "auto",
         "texttemplate": "%{y}",
         "type": "bar",
         "x": [
          "Adams",
          "Alki",
          "Arbor Heights",
          "Atlantic",
          "Belltown",
          "Bitter Lake",
          "Briarcliff",
          "Brighton",
          "Broadview",
          "Broadway",
          "Bryant",
          "Cedar Park",
          "Central Business District",
          "Columbia City",
          "Crown Hill",
          "Dunlap",
          "East Queen Anne",
          "Eastlake",
          "Fairmount Park",
          "Fauntleroy",
          "First Hill",
          "Fremont",
          "Gatewood",
          "Genesee",
          "Georgetown",
          "Green Lake",
          "Greenwood",
          "Haller Lake",
          "Harrison/Denny-Blaine",
          "High Point",
          "Highland Park",
          "Holly Park",
          "Industrial District",
          "Interbay",
          "International District",
          "Laurelhurst",
          "Lawton Park",
          "Leschi",
          "Lower Queen Anne",
          "Loyal Heights",
          "Madison Park",
          "Madrona",
          "Mann",
          "Maple Leaf",
          "Matthews Beach",
          "Meadowbrook",
          "Mid-Beacon Hill",
          "Minor",
          "Montlake",
          "Mount Baker",
          "North Admiral",
          "North Beach/Blue Ridge",
          "North Beacon Hill",
          "North College Park",
          "North Delridge",
          "North Queen Anne",
          "Olympic Hills",
          "Phinney Ridge",
          "Pike-Market",
          "Pinehurst",
          "Pioneer Square",
          "Portage Bay",
          "Rainier Beach",
          "Ravenna",
          "Riverview",
          "Roosevelt",
          "Roxhill",
          "Seaview",
          "Seward Park",
          "South Beacon Hill",
          "South Delridge",
          "South Lake Union",
          "South Park",
          "Southeast Magnolia",
          "Stevens",
          "Sunset Hill",
          "University District",
          "Victory Heights",
          "View Ridge",
          "Wallingford",
          "Wedgwood",
          "West Queen Anne",
          "West Woodland",
          "Westlake",
          "Whittier Heights",
          "Windermere",
          "Yesler Terrace"
         ],
         "xaxis": "x",
         "y": {
          "bdata": "MQAhAAMAIwDaAAUACgAHAAkAGQETAAUAYAAgAAkABwBEACAAFgAGAF0AbAALABIAAQAlAC8ACQAJAAUABQADAAMABQAJAAYAEgAeAEwAHwANACAAKwAVAAsABQAOAEwADAAaACEACwAmAAgAEgAoAAMANAAZAAMAEwALAAQAIQAFABQAAQAJABsAAgAHABIAAgANAEMACABKAAcABQBtAAkALwAqAAwAEgAHAAsA",
          "dtype": "i2"
         },
         "yaxis": "y"
        },
        {
         "hovertemplate": "Room Type=Private room<br>Neighborhood=%{x}<br>Number of Listings=%{y}<extra></extra>",
         "legendgroup": "Private room",
         "marker": {
          "color": "#EF553B",
          "pattern": {
           "shape": ""
          }
         },
         "name": "Private room",
         "orientation": "v",
         "showlegend": true,
         "textposition": "auto",
         "texttemplate": "%{y}",
         "type": "bar",
         "x": [
          "Adams",
          "Alki",
          "Arbor Heights",
          "Atlantic",
          "Belltown",
          "Bitter Lake",
          "Briarcliff",
          "Brighton",
          "Broadview",
          "Broadway",
          "Bryant",
          "Cedar Park",
          "Central Business District",
          "Columbia City",
          "Crown Hill",
          "Dunlap",
          "East Queen Anne",
          "Eastlake",
          "Fairmount Park",
          "Fauntleroy",
          "First Hill",
          "Fremont",
          "Gatewood",
          "Genesee",
          "Georgetown",
          "Green Lake",
          "Greenwood",
          "Haller Lake",
          "Harrison/Denny-Blaine",
          "High Point",
          "Highland Park",
          "Holly Park",
          "Industrial District",
          "Interbay",
          "International District",
          "Laurelhurst",
          "Lawton Park",
          "Leschi",
          "Lower Queen Anne",
          "Loyal Heights",
          "Madison Park",
          "Madrona",
          "Mann",
          "Maple Leaf",
          "Matthews Beach",
          "Meadowbrook",
          "Mid-Beacon Hill",
          "Minor",
          "Montlake",
          "Mount Baker",
          "North Admiral",
          "North Beach/Blue Ridge",
          "North Beacon Hill",
          "North College Park",
          "North Delridge",
          "North Queen Anne",
          "Olympic Hills",
          "Phinney Ridge",
          "Pike-Market",
          "Pinehurst",
          "Pioneer Square",
          "Portage Bay",
          "Rainier Beach",
          "Ravenna",
          "Riverview",
          "Roosevelt",
          "Roxhill",
          "Seaview",
          "Seward Park",
          "South Beacon Hill",
          "South Delridge",
          "South Lake Union",
          "South Park",
          "Southeast Magnolia",
          "Stevens",
          "Sunset Hill",
          "University District",
          "Victory Heights",
          "View Ridge",
          "Wallingford",
          "Wedgwood",
          "West Queen Anne",
          "West Woodland",
          "Westlake",
          "Whittier Heights",
          "Windermere",
          "Yesler Terrace"
         ],
         "xaxis": "x",
         "y": {
          "bdata": "FQkCEgsIBAUIXQoDBRoMCg0MBwQMLwsPBxEpBgUJBgMCBgYECxcRFQQPFxEIBBA4BxgQAyULDg4NFAEBAgMOIgMHAQMRAgUHAQQkCiYIAicJEhYFCAMF",
          "dtype": "i1"
         },
         "yaxis": "y"
        },
        {
         "hovertemplate": "Room Type=Shared room<br>Neighborhood=%{x}<br>Number of Listings=%{y}<extra></extra>",
         "legendgroup": "Shared room",
         "marker": {
          "color": "#00cc96",
          "pattern": {
           "shape": ""
          }
         },
         "name": "Shared room",
         "orientation": "v",
         "showlegend": true,
         "textposition": "auto",
         "texttemplate": "%{y}",
         "type": "bar",
         "x": [
          "Belltown",
          "Brighton",
          "Broadway",
          "Central Business District",
          "Dunlap",
          "East Queen Anne",
          "Eastlake",
          "First Hill",
          "Fremont",
          "Genesee",
          "Greenwood",
          "Industrial District",
          "International District",
          "Lawton Park",
          "Lower Queen Anne",
          "Madison Park",
          "Mann",
          "Maple Leaf",
          "Minor",
          "North Beacon Hill",
          "Phinney Ridge",
          "Pike-Market",
          "Pioneer Square",
          "Roosevelt",
          "South Lake Union",
          "Stevens",
          "University District",
          "Wallingford",
          "Yesler Terrace"
         ],
         "xaxis": "x",
         "y": {
          "bdata": "BQEXAgMBAQMDAQEBAgEBAQEEAwMBAgIDAhAKEwE=",
          "dtype": "i1"
         },
         "yaxis": "y"
        }
       ],
       "layout": {
        "barmode": "group",
        "height": 600,
        "legend": {
         "title": {
          "text": "Room Type"
         },
         "tracegroupgap": 0
        },
        "showlegend": true,
        "template": {
         "data": {
          "bar": [
           {
            "error_x": {
             "color": "#2a3f5f"
            },
            "error_y": {
             "color": "#2a3f5f"
            },
            "marker": {
             "line": {
              "color": "#E5ECF6",
              "width": 0.5
             },
             "pattern": {
              "fillmode": "overlay",
              "size": 10,
              "solidity": 0.2
             }
            },
            "type": "bar"
           }
          ],
          "barpolar": [
           {
            "marker": {
             "line": {
              "color": "#E5ECF6",
              "width": 0.5
             },
             "pattern": {
              "fillmode": "overlay",
              "size": 10,
              "solidity": 0.2
             }
            },
            "type": "barpolar"
           }
          ],
          "carpet": [
           {
            "aaxis": {
             "endlinecolor": "#2a3f5f",
             "gridcolor": "white",
             "linecolor": "white",
             "minorgridcolor": "white",
             "startlinecolor": "#2a3f5f"
            },
            "baxis": {
             "endlinecolor": "#2a3f5f",
             "gridcolor": "white",
             "linecolor": "white",
             "minorgridcolor": "white",
             "startlinecolor": "#2a3f5f"
            },
            "type": "carpet"
           }
          ],
          "choropleth": [
           {
            "colorbar": {
             "outlinewidth": 0,
             "ticks": ""
            },
            "type": "choropleth"
           }
          ],
          "contour": [
           {
            "colorbar": {
             "outlinewidth": 0,
             "ticks": ""
            },
            "colorscale": [
             [
              0,
              "#0d0887"
             ],
             [
              0.1111111111111111,
              "#46039f"
             ],
             [
              0.2222222222222222,
              "#7201a8"
             ],
             [
              0.3333333333333333,
              "#9c179e"
             ],
             [
              0.4444444444444444,
              "#bd3786"
             ],
             [
              0.5555555555555556,
              "#d8576b"
             ],
             [
              0.6666666666666666,
              "#ed7953"
             ],
             [
              0.7777777777777778,
              "#fb9f3a"
             ],
             [
              0.8888888888888888,
              "#fdca26"
             ],
             [
              1,
              "#f0f921"
             ]
            ],
            "type": "contour"
           }
          ],
          "contourcarpet": [
           {
            "colorbar": {
             "outlinewidth": 0,
             "ticks": ""
            },
            "type": "contourcarpet"
           }
          ],
          "heatmap": [
           {
            "colorbar": {
             "outlinewidth": 0,
             "ticks": ""
            },
            "colorscale": [
             [
              0,
              "#0d0887"
             ],
             [
              0.1111111111111111,
              "#46039f"
             ],
             [
              0.2222222222222222,
              "#7201a8"
             ],
             [
              0.3333333333333333,
              "#9c179e"
             ],
             [
              0.4444444444444444,
              "#bd3786"
             ],
             [
              0.5555555555555556,
              "#d8576b"
             ],
             [
              0.6666666666666666,
              "#ed7953"
             ],
             [
              0.7777777777777778,
              "#fb9f3a"
             ],
             [
              0.8888888888888888,
              "#fdca26"
             ],
             [
              1,
              "#f0f921"
             ]
            ],
            "type": "heatmap"
           }
          ],
          "histogram": [
           {
            "marker": {
             "pattern": {
              "fillmode": "overlay",
              "size": 10,
              "solidity": 0.2
             }
            },
            "type": "histogram"
           }
          ],
          "histogram2d": [
           {
            "colorbar": {
             "outlinewidth": 0,
             "ticks": ""
            },
            "colorscale": [
             [
              0,
              "#0d0887"
             ],
             [
              0.1111111111111111,
              "#46039f"
             ],
             [
              0.2222222222222222,
              "#7201a8"
             ],
             [
              0.3333333333333333,
              "#9c179e"
             ],
             [
              0.4444444444444444,
              "#bd3786"
             ],
             [
              0.5555555555555556,
              "#d8576b"
             ],
             [
              0.6666666666666666,
              "#ed7953"
             ],
             [
              0.7777777777777778,
              "#fb9f3a"
             ],
             [
              0.8888888888888888,
              "#fdca26"
             ],
             [
              1,
              "#f0f921"
             ]
            ],
            "type": "histogram2d"
           }
          ],
          "histogram2dcontour": [
           {
            "colorbar": {
             "outlinewidth": 0,
             "ticks": ""
            },
            "colorscale": [
             [
              0,
              "#0d0887"
             ],
             [
              0.1111111111111111,
              "#46039f"
             ],
             [
              0.2222222222222222,
              "#7201a8"
             ],
             [
              0.3333333333333333,
              "#9c179e"
             ],
             [
              0.4444444444444444,
              "#bd3786"
             ],
             [
              0.5555555555555556,
              "#d8576b"
             ],
             [
              0.6666666666666666,
              "#ed7953"
             ],
             [
              0.7777777777777778,
              "#fb9f3a"
             ],
             [
              0.8888888888888888,
              "#fdca26"
             ],
             [
              1,
              "#f0f921"
             ]
            ],
            "type": "histogram2dcontour"
           }
          ],
          "mesh3d": [
           {
            "colorbar": {
             "outlinewidth": 0,
             "ticks": ""
            },
            "type": "mesh3d"
           }
          ],
          "parcoords": [
           {
            "line": {
             "colorbar": {
              "outlinewidth": 0,
              "ticks": ""
             }
            },
            "type": "parcoords"
           }
          ],
          "pie": [
           {
            "automargin": true,
            "type": "pie"
           }
          ],
          "scatter": [
           {
            "fillpattern": {
             "fillmode": "overlay",
             "size": 10,
             "solidity": 0.2
            },
            "type": "scatter"
           }
          ],
          "scatter3d": [
           {
            "line": {
             "colorbar": {
              "outlinewidth": 0,
              "ticks": ""
             }
            },
            "marker": {
             "colorbar": {
              "outlinewidth": 0,
              "ticks": ""
             }
            },
            "type": "scatter3d"
           }
          ],
          "scattercarpet": [
           {
            "marker": {
             "colorbar": {
              "outlinewidth": 0,
              "ticks": ""
             }
            },
            "type": "scattercarpet"
           }
          ],
          "scattergeo": [
           {
            "marker": {
             "colorbar": {
              "outlinewidth": 0,
              "ticks": ""
             }
            },
            "type": "scattergeo"
           }
          ],
          "scattergl": [
           {
            "marker": {
             "colorbar": {
              "outlinewidth": 0,
              "ticks": ""
             }
            },
            "type": "scattergl"
           }
          ],
          "scattermap": [
           {
            "marker": {
             "colorbar": {
              "outlinewidth": 0,
              "ticks": ""
             }
            },
            "type": "scattermap"
           }
          ],
          "scattermapbox": [
           {
            "marker": {
             "colorbar": {
              "outlinewidth": 0,
              "ticks": ""
             }
            },
            "type": "scattermapbox"
           }
          ],
          "scatterpolar": [
           {
            "marker": {
             "colorbar": {
              "outlinewidth": 0,
              "ticks": ""
             }
            },
            "type": "scatterpolar"
           }
          ],
          "scatterpolargl": [
           {
            "marker": {
             "colorbar": {
              "outlinewidth": 0,
              "ticks": ""
             }
            },
            "type": "scatterpolargl"
           }
          ],
          "scatterternary": [
           {
            "marker": {
             "colorbar": {
              "outlinewidth": 0,
              "ticks": ""
             }
            },
            "type": "scatterternary"
           }
          ],
          "surface": [
           {
            "colorbar": {
             "outlinewidth": 0,
             "ticks": ""
            },
            "colorscale": [
             [
              0,
              "#0d0887"
             ],
             [
              0.1111111111111111,
              "#46039f"
             ],
             [
              0.2222222222222222,
              "#7201a8"
             ],
             [
              0.3333333333333333,
              "#9c179e"
             ],
             [
              0.4444444444444444,
              "#bd3786"
             ],
             [
              0.5555555555555556,
              "#d8576b"
             ],
             [
              0.6666666666666666,
              "#ed7953"
             ],
             [
              0.7777777777777778,
              "#fb9f3a"
             ],
             [
              0.8888888888888888,
              "#fdca26"
             ],
             [
              1,
              "#f0f921"
             ]
            ],
            "type": "surface"
           }
          ],
          "table": [
           {
            "cells": {
             "fill": {
              "color": "#EBF0F8"
             },
             "line": {
              "color": "white"
             }
            },
            "header": {
             "fill": {
              "color": "#C8D4E3"
             },
             "line": {
              "color": "white"
             }
            },
            "type": "table"
           }
          ]
         },
         "layout": {
          "annotationdefaults": {
           "arrowcolor": "#2a3f5f",
           "arrowhead": 0,
           "arrowwidth": 1
          },
          "autotypenumbers": "strict",
          "coloraxis": {
           "colorbar": {
            "outlinewidth": 0,
            "ticks": ""
           }
          },
          "colorscale": {
           "diverging": [
            [
             0,
             "#8e0152"
            ],
            [
             0.1,
             "#c51b7d"
            ],
            [
             0.2,
             "#de77ae"
            ],
            [
             0.3,
             "#f1b6da"
            ],
            [
             0.4,
             "#fde0ef"
            ],
            [
             0.5,
             "#f7f7f7"
            ],
            [
             0.6,
             "#e6f5d0"
            ],
            [
             0.7,
             "#b8e186"
            ],
            [
             0.8,
             "#7fbc41"
            ],
            [
             0.9,
             "#4d9221"
            ],
            [
             1,
             "#276419"
            ]
           ],
           "sequential": [
            [
             0,
             "#0d0887"
            ],
            [
             0.1111111111111111,
             "#46039f"
            ],
            [
             0.2222222222222222,
             "#7201a8"
            ],
            [
             0.3333333333333333,
             "#9c179e"
            ],
            [
             0.4444444444444444,
             "#bd3786"
            ],
            [
             0.5555555555555556,
             "#d8576b"
            ],
            [
             0.6666666666666666,
             "#ed7953"
            ],
            [
             0.7777777777777778,
             "#fb9f3a"
            ],
            [
             0.8888888888888888,
             "#fdca26"
            ],
            [
             1,
             "#f0f921"
            ]
           ],
           "sequentialminus": [
            [
             0,
             "#0d0887"
            ],
            [
             0.1111111111111111,
             "#46039f"
            ],
            [
             0.2222222222222222,
             "#7201a8"
            ],
            [
             0.3333333333333333,
             "#9c179e"
            ],
            [
             0.4444444444444444,
             "#bd3786"
            ],
            [
             0.5555555555555556,
             "#d8576b"
            ],
            [
             0.6666666666666666,
             "#ed7953"
            ],
            [
             0.7777777777777778,
             "#fb9f3a"
            ],
            [
             0.8888888888888888,
             "#fdca26"
            ],
            [
             1,
             "#f0f921"
            ]
           ]
          },
          "colorway": [
           "#636efa",
           "#EF553B",
           "#00cc96",
           "#ab63fa",
           "#FFA15A",
           "#19d3f3",
           "#FF6692",
           "#B6E880",
           "#FF97FF",
           "#FECB52"
          ],
          "font": {
           "color": "#2a3f5f"
          },
          "geo": {
           "bgcolor": "white",
           "lakecolor": "white",
           "landcolor": "#E5ECF6",
           "showlakes": true,
           "showland": true,
           "subunitcolor": "white"
          },
          "hoverlabel": {
           "align": "left"
          },
          "hovermode": "closest",
          "mapbox": {
           "style": "light"
          },
          "paper_bgcolor": "white",
          "plot_bgcolor": "#E5ECF6",
          "polar": {
           "angularaxis": {
            "gridcolor": "white",
            "linecolor": "white",
            "ticks": ""
           },
           "bgcolor": "#E5ECF6",
           "radialaxis": {
            "gridcolor": "white",
            "linecolor": "white",
            "ticks": ""
           }
          },
          "scene": {
           "xaxis": {
            "backgroundcolor": "#E5ECF6",
            "gridcolor": "white",
            "gridwidth": 2,
            "linecolor": "white",
            "showbackground": true,
            "ticks": "",
            "zerolinecolor": "white"
           },
           "yaxis": {
            "backgroundcolor": "#E5ECF6",
            "gridcolor": "white",
            "gridwidth": 2,
            "linecolor": "white",
            "showbackground": true,
            "ticks": "",
            "zerolinecolor": "white"
           },
           "zaxis": {
            "backgroundcolor": "#E5ECF6",
            "gridcolor": "white",
            "gridwidth": 2,
            "linecolor": "white",
            "showbackground": true,
            "ticks": "",
            "zerolinecolor": "white"
           }
          },
          "shapedefaults": {
           "line": {
            "color": "#2a3f5f"
           }
          },
          "ternary": {
           "aaxis": {
            "gridcolor": "white",
            "linecolor": "white",
            "ticks": ""
           },
           "baxis": {
            "gridcolor": "white",
            "linecolor": "white",
            "ticks": ""
           },
           "bgcolor": "#E5ECF6",
           "caxis": {
            "gridcolor": "white",
            "linecolor": "white",
            "ticks": ""
           }
          },
          "title": {
           "x": 0.05
          },
          "xaxis": {
           "automargin": true,
           "gridcolor": "white",
           "linecolor": "white",
           "ticks": "",
           "title": {
            "standoff": 15
           },
           "zerolinecolor": "white",
           "zerolinewidth": 2
          },
          "yaxis": {
           "automargin": true,
           "gridcolor": "white",
           "linecolor": "white",
           "ticks": "",
           "title": {
            "standoff": 15
           },
           "zerolinecolor": "white",
           "zerolinewidth": 2
          }
         }
        },
        "title": {
         "text": "Room Types Distribution by Neighborhood"
        },
        "xaxis": {
         "anchor": "y",
         "domain": [
          0,
          1
         ],
         "tickangle": -45,
         "title": {
          "text": "Neighborhood"
         }
        },
        "yaxis": {
         "anchor": "x",
         "domain": [
          0,
          1
         ],
         "title": {
          "text": "Number of Listings"
         }
        }
       }
      }
     },
     "metadata": {},
     "output_type": "display_data"
    }
   ],
   "source": [
    "import plotly.express as px\n",
    "\n",
    "# Create a count of listings by neighborhood and room type\n",
    "room_by_neigh = df_listings_clean.groupby(['neighbourhood_cleansed', 'room_type']).size().reset_index(name='count')\n",
    "\n",
    "# Create the interactive bar chart\n",
    "fig = px.bar(room_by_neigh, \n",
    "             x='neighbourhood_cleansed',\n",
    "             y='count',\n",
    "             color='room_type',\n",
    "             text_auto=True,\n",
    "             title='Room Types Distribution by Neighborhood',\n",
    "             labels={'neighbourhood_cleansed': 'Neighborhood',\n",
    "                    'count': 'Number of Listings',\n",
    "                    'room_type': 'Room Type'}\n",
    "            )\n",
    "\n",
    "# Customize the layout\n",
    "fig.update_layout(\n",
    "    xaxis_tickangle=-45,\n",
    "    barmode='group',  # or 'stack' if you prefer stacked bars\n",
    "    showlegend=True,\n",
    "    height=600  # Make the plot a bit taller for better readability\n",
    ")\n",
    "\n",
    "# Show the plot\n",
    "fig.show()\n"
   ]
  },
  {
   "cell_type": "code",
   "execution_count": 91,
   "metadata": {},
   "outputs": [
    {
     "data": {
      "text/html": [
       "<div>\n",
       "<style scoped>\n",
       "    .dataframe tbody tr th:only-of-type {\n",
       "        vertical-align: middle;\n",
       "    }\n",
       "\n",
       "    .dataframe tbody tr th {\n",
       "        vertical-align: top;\n",
       "    }\n",
       "\n",
       "    .dataframe thead th {\n",
       "        text-align: right;\n",
       "    }\n",
       "</style>\n",
       "<table border=\"1\" class=\"dataframe\">\n",
       "  <thead>\n",
       "    <tr style=\"text-align: right;\">\n",
       "      <th></th>\n",
       "      <th>neighbourhood_cleansed</th>\n",
       "      <th>room_type</th>\n",
       "      <th>count</th>\n",
       "    </tr>\n",
       "  </thead>\n",
       "  <tbody>\n",
       "    <tr>\n",
       "      <th>0</th>\n",
       "      <td>Adams</td>\n",
       "      <td>Entire home/apt</td>\n",
       "      <td>49</td>\n",
       "    </tr>\n",
       "    <tr>\n",
       "      <th>1</th>\n",
       "      <td>Adams</td>\n",
       "      <td>Private room</td>\n",
       "      <td>21</td>\n",
       "    </tr>\n",
       "    <tr>\n",
       "      <th>2</th>\n",
       "      <td>Alki</td>\n",
       "      <td>Entire home/apt</td>\n",
       "      <td>33</td>\n",
       "    </tr>\n",
       "    <tr>\n",
       "      <th>3</th>\n",
       "      <td>Alki</td>\n",
       "      <td>Private room</td>\n",
       "      <td>9</td>\n",
       "    </tr>\n",
       "    <tr>\n",
       "      <th>4</th>\n",
       "      <td>Arbor Heights</td>\n",
       "      <td>Entire home/apt</td>\n",
       "      <td>3</td>\n",
       "    </tr>\n",
       "    <tr>\n",
       "      <th>...</th>\n",
       "      <td>...</td>\n",
       "      <td>...</td>\n",
       "      <td>...</td>\n",
       "    </tr>\n",
       "    <tr>\n",
       "      <th>198</th>\n",
       "      <td>Windermere</td>\n",
       "      <td>Entire home/apt</td>\n",
       "      <td>7</td>\n",
       "    </tr>\n",
       "    <tr>\n",
       "      <th>199</th>\n",
       "      <td>Windermere</td>\n",
       "      <td>Private room</td>\n",
       "      <td>3</td>\n",
       "    </tr>\n",
       "    <tr>\n",
       "      <th>200</th>\n",
       "      <td>Yesler Terrace</td>\n",
       "      <td>Entire home/apt</td>\n",
       "      <td>11</td>\n",
       "    </tr>\n",
       "    <tr>\n",
       "      <th>201</th>\n",
       "      <td>Yesler Terrace</td>\n",
       "      <td>Private room</td>\n",
       "      <td>5</td>\n",
       "    </tr>\n",
       "    <tr>\n",
       "      <th>202</th>\n",
       "      <td>Yesler Terrace</td>\n",
       "      <td>Shared room</td>\n",
       "      <td>1</td>\n",
       "    </tr>\n",
       "  </tbody>\n",
       "</table>\n",
       "<p>203 rows × 3 columns</p>\n",
       "</div>"
      ],
      "text/plain": [
       "    neighbourhood_cleansed        room_type  count\n",
       "0                    Adams  Entire home/apt     49\n",
       "1                    Adams     Private room     21\n",
       "2                     Alki  Entire home/apt     33\n",
       "3                     Alki     Private room      9\n",
       "4            Arbor Heights  Entire home/apt      3\n",
       "..                     ...              ...    ...\n",
       "198             Windermere  Entire home/apt      7\n",
       "199             Windermere     Private room      3\n",
       "200         Yesler Terrace  Entire home/apt     11\n",
       "201         Yesler Terrace     Private room      5\n",
       "202         Yesler Terrace      Shared room      1\n",
       "\n",
       "[203 rows x 3 columns]"
      ]
     },
     "execution_count": 91,
     "metadata": {},
     "output_type": "execute_result"
    }
   ],
   "source": [
    "df_listings_clean.groupby(['neighbourhood_cleansed', 'room_type']).size().reset_index(name='count')"
   ]
  },
  {
   "cell_type": "code",
   "execution_count": 92,
   "metadata": {},
   "outputs": [
    {
     "data": {
      "text/html": [
       "<div>\n",
       "<style scoped>\n",
       "    .dataframe tbody tr th:only-of-type {\n",
       "        vertical-align: middle;\n",
       "    }\n",
       "\n",
       "    .dataframe tbody tr th {\n",
       "        vertical-align: top;\n",
       "    }\n",
       "\n",
       "    .dataframe thead th {\n",
       "        text-align: right;\n",
       "    }\n",
       "</style>\n",
       "<table border=\"1\" class=\"dataframe\">\n",
       "  <thead>\n",
       "    <tr style=\"text-align: right;\">\n",
       "      <th></th>\n",
       "      <th>neighbourhood_cleansed</th>\n",
       "      <th>room_type</th>\n",
       "      <th>count</th>\n",
       "    </tr>\n",
       "  </thead>\n",
       "  <tbody>\n",
       "    <tr>\n",
       "      <th>21</th>\n",
       "      <td>Broadway</td>\n",
       "      <td>Private room</td>\n",
       "      <td>93</td>\n",
       "    </tr>\n",
       "    <tr>\n",
       "      <th>113</th>\n",
       "      <td>Minor</td>\n",
       "      <td>Private room</td>\n",
       "      <td>56</td>\n",
       "    </tr>\n",
       "    <tr>\n",
       "      <th>51</th>\n",
       "      <td>Fremont</td>\n",
       "      <td>Private room</td>\n",
       "      <td>47</td>\n",
       "    </tr>\n",
       "    <tr>\n",
       "      <th>63</th>\n",
       "      <td>Greenwood</td>\n",
       "      <td>Private room</td>\n",
       "      <td>41</td>\n",
       "    </tr>\n",
       "    <tr>\n",
       "      <th>186</th>\n",
       "      <td>Wallingford</td>\n",
       "      <td>Private room</td>\n",
       "      <td>39</td>\n",
       "    </tr>\n",
       "    <tr>\n",
       "      <th>...</th>\n",
       "      <td>...</td>\n",
       "      <td>...</td>\n",
       "      <td>...</td>\n",
       "    </tr>\n",
       "    <tr>\n",
       "      <th>143</th>\n",
       "      <td>Pioneer Square</td>\n",
       "      <td>Private room</td>\n",
       "      <td>2</td>\n",
       "    </tr>\n",
       "    <tr>\n",
       "      <th>170</th>\n",
       "      <td>South Park</td>\n",
       "      <td>Private room</td>\n",
       "      <td>1</td>\n",
       "    </tr>\n",
       "    <tr>\n",
       "      <th>141</th>\n",
       "      <td>Pinehurst</td>\n",
       "      <td>Private room</td>\n",
       "      <td>1</td>\n",
       "    </tr>\n",
       "    <tr>\n",
       "      <th>157</th>\n",
       "      <td>Roxhill</td>\n",
       "      <td>Private room</td>\n",
       "      <td>1</td>\n",
       "    </tr>\n",
       "    <tr>\n",
       "      <th>138</th>\n",
       "      <td>Pike-Market</td>\n",
       "      <td>Private room</td>\n",
       "      <td>1</td>\n",
       "    </tr>\n",
       "  </tbody>\n",
       "</table>\n",
       "<p>87 rows × 3 columns</p>\n",
       "</div>"
      ],
      "text/plain": [
       "    neighbourhood_cleansed     room_type  count\n",
       "21                Broadway  Private room     93\n",
       "113                  Minor  Private room     56\n",
       "51                 Fremont  Private room     47\n",
       "63               Greenwood  Private room     41\n",
       "186            Wallingford  Private room     39\n",
       "..                     ...           ...    ...\n",
       "143         Pioneer Square  Private room      2\n",
       "170             South Park  Private room      1\n",
       "141              Pinehurst  Private room      1\n",
       "157                Roxhill  Private room      1\n",
       "138            Pike-Market  Private room      1\n",
       "\n",
       "[87 rows x 3 columns]"
      ]
     },
     "execution_count": 92,
     "metadata": {},
     "output_type": "execute_result"
    }
   ],
   "source": [
    "room_by_neigh[room_by_neigh['room_type'] == \"Private room\"].sort_values(by= 'count', ascending=False)"
   ]
  },
  {
   "cell_type": "code",
   "execution_count": 93,
   "metadata": {},
   "outputs": [
    {
     "data": {
      "text/html": [
       "<div>\n",
       "<style scoped>\n",
       "    .dataframe tbody tr th:only-of-type {\n",
       "        vertical-align: middle;\n",
       "    }\n",
       "\n",
       "    .dataframe tbody tr th {\n",
       "        vertical-align: top;\n",
       "    }\n",
       "\n",
       "    .dataframe thead th {\n",
       "        text-align: right;\n",
       "    }\n",
       "</style>\n",
       "<table border=\"1\" class=\"dataframe\">\n",
       "  <thead>\n",
       "    <tr style=\"text-align: right;\">\n",
       "      <th></th>\n",
       "      <th>neighbourhood_cleansed</th>\n",
       "      <th>room_type</th>\n",
       "      <th>count</th>\n",
       "    </tr>\n",
       "  </thead>\n",
       "  <tbody>\n",
       "    <tr>\n",
       "      <th>1</th>\n",
       "      <td>Adams</td>\n",
       "      <td>Private room</td>\n",
       "      <td>21</td>\n",
       "    </tr>\n",
       "    <tr>\n",
       "      <th>3</th>\n",
       "      <td>Alki</td>\n",
       "      <td>Private room</td>\n",
       "      <td>9</td>\n",
       "    </tr>\n",
       "    <tr>\n",
       "      <th>5</th>\n",
       "      <td>Arbor Heights</td>\n",
       "      <td>Private room</td>\n",
       "      <td>2</td>\n",
       "    </tr>\n",
       "    <tr>\n",
       "      <th>7</th>\n",
       "      <td>Atlantic</td>\n",
       "      <td>Private room</td>\n",
       "      <td>18</td>\n",
       "    </tr>\n",
       "    <tr>\n",
       "      <th>9</th>\n",
       "      <td>Belltown</td>\n",
       "      <td>Private room</td>\n",
       "      <td>11</td>\n",
       "    </tr>\n",
       "    <tr>\n",
       "      <th>...</th>\n",
       "      <td>...</td>\n",
       "      <td>...</td>\n",
       "      <td>...</td>\n",
       "    </tr>\n",
       "    <tr>\n",
       "      <th>193</th>\n",
       "      <td>West Woodland</td>\n",
       "      <td>Private room</td>\n",
       "      <td>22</td>\n",
       "    </tr>\n",
       "    <tr>\n",
       "      <th>195</th>\n",
       "      <td>Westlake</td>\n",
       "      <td>Private room</td>\n",
       "      <td>5</td>\n",
       "    </tr>\n",
       "    <tr>\n",
       "      <th>197</th>\n",
       "      <td>Whittier Heights</td>\n",
       "      <td>Private room</td>\n",
       "      <td>8</td>\n",
       "    </tr>\n",
       "    <tr>\n",
       "      <th>199</th>\n",
       "      <td>Windermere</td>\n",
       "      <td>Private room</td>\n",
       "      <td>3</td>\n",
       "    </tr>\n",
       "    <tr>\n",
       "      <th>201</th>\n",
       "      <td>Yesler Terrace</td>\n",
       "      <td>Private room</td>\n",
       "      <td>5</td>\n",
       "    </tr>\n",
       "  </tbody>\n",
       "</table>\n",
       "<p>87 rows × 3 columns</p>\n",
       "</div>"
      ],
      "text/plain": [
       "    neighbourhood_cleansed     room_type  count\n",
       "1                    Adams  Private room     21\n",
       "3                     Alki  Private room      9\n",
       "5            Arbor Heights  Private room      2\n",
       "7                 Atlantic  Private room     18\n",
       "9                 Belltown  Private room     11\n",
       "..                     ...           ...    ...\n",
       "193          West Woodland  Private room     22\n",
       "195               Westlake  Private room      5\n",
       "197       Whittier Heights  Private room      8\n",
       "199             Windermere  Private room      3\n",
       "201         Yesler Terrace  Private room      5\n",
       "\n",
       "[87 rows x 3 columns]"
      ]
     },
     "execution_count": 93,
     "metadata": {},
     "output_type": "execute_result"
    }
   ],
   "source": [
    "room_by_neigh.query('room_type == \"Private room\"')"
   ]
  },
  {
   "cell_type": "code",
   "execution_count": 94,
   "metadata": {},
   "outputs": [
    {
     "data": {
      "text/html": [
       "<div>\n",
       "<style scoped>\n",
       "    .dataframe tbody tr th:only-of-type {\n",
       "        vertical-align: middle;\n",
       "    }\n",
       "\n",
       "    .dataframe tbody tr th {\n",
       "        vertical-align: top;\n",
       "    }\n",
       "\n",
       "    .dataframe thead th {\n",
       "        text-align: right;\n",
       "    }\n",
       "</style>\n",
       "<table border=\"1\" class=\"dataframe\">\n",
       "  <thead>\n",
       "    <tr style=\"text-align: right;\">\n",
       "      <th></th>\n",
       "      <th>neighbourhood_cleansed</th>\n",
       "      <th>room_type</th>\n",
       "      <th>count</th>\n",
       "    </tr>\n",
       "  </thead>\n",
       "  <tbody>\n",
       "    <tr>\n",
       "      <th>0</th>\n",
       "      <td>Broadway</td>\n",
       "      <td>Entire home/apt</td>\n",
       "      <td>281</td>\n",
       "    </tr>\n",
       "    <tr>\n",
       "      <th>1</th>\n",
       "      <td>Belltown</td>\n",
       "      <td>Entire home/apt</td>\n",
       "      <td>218</td>\n",
       "    </tr>\n",
       "    <tr>\n",
       "      <th>2</th>\n",
       "      <td>Wallingford</td>\n",
       "      <td>Entire home/apt</td>\n",
       "      <td>109</td>\n",
       "    </tr>\n",
       "    <tr>\n",
       "      <th>3</th>\n",
       "      <td>Fremont</td>\n",
       "      <td>Entire home/apt</td>\n",
       "      <td>108</td>\n",
       "    </tr>\n",
       "    <tr>\n",
       "      <th>4</th>\n",
       "      <td>Central Business District</td>\n",
       "      <td>Entire home/apt</td>\n",
       "      <td>96</td>\n",
       "    </tr>\n",
       "    <tr>\n",
       "      <th>...</th>\n",
       "      <td>...</td>\n",
       "      <td>...</td>\n",
       "      <td>...</td>\n",
       "    </tr>\n",
       "    <tr>\n",
       "      <th>198</th>\n",
       "      <td>Roxhill</td>\n",
       "      <td>Entire home/apt</td>\n",
       "      <td>1</td>\n",
       "    </tr>\n",
       "    <tr>\n",
       "      <th>199</th>\n",
       "      <td>Madison Park</td>\n",
       "      <td>Shared room</td>\n",
       "      <td>1</td>\n",
       "    </tr>\n",
       "    <tr>\n",
       "      <th>200</th>\n",
       "      <td>Lawton Park</td>\n",
       "      <td>Shared room</td>\n",
       "      <td>1</td>\n",
       "    </tr>\n",
       "    <tr>\n",
       "      <th>201</th>\n",
       "      <td>Industrial District</td>\n",
       "      <td>Shared room</td>\n",
       "      <td>1</td>\n",
       "    </tr>\n",
       "    <tr>\n",
       "      <th>202</th>\n",
       "      <td>Yesler Terrace</td>\n",
       "      <td>Shared room</td>\n",
       "      <td>1</td>\n",
       "    </tr>\n",
       "  </tbody>\n",
       "</table>\n",
       "<p>203 rows × 3 columns</p>\n",
       "</div>"
      ],
      "text/plain": [
       "        neighbourhood_cleansed        room_type  count\n",
       "0                     Broadway  Entire home/apt    281\n",
       "1                     Belltown  Entire home/apt    218\n",
       "2                  Wallingford  Entire home/apt    109\n",
       "3                      Fremont  Entire home/apt    108\n",
       "4    Central Business District  Entire home/apt     96\n",
       "..                         ...              ...    ...\n",
       "198                    Roxhill  Entire home/apt      1\n",
       "199               Madison Park      Shared room      1\n",
       "200                Lawton Park      Shared room      1\n",
       "201        Industrial District      Shared room      1\n",
       "202             Yesler Terrace      Shared room      1\n",
       "\n",
       "[203 rows x 3 columns]"
      ]
     },
     "execution_count": 94,
     "metadata": {},
     "output_type": "execute_result"
    }
   ],
   "source": [
    "df_listings_clean[['neighbourhood_cleansed', 'room_type']].value_counts().reset_index(name = 'count')"
   ]
  },
  {
   "cell_type": "code",
   "execution_count": 95,
   "metadata": {},
   "outputs": [
    {
     "data": {
      "text/html": [
       "<div>\n",
       "<style scoped>\n",
       "    .dataframe tbody tr th:only-of-type {\n",
       "        vertical-align: middle;\n",
       "    }\n",
       "\n",
       "    .dataframe tbody tr th {\n",
       "        vertical-align: top;\n",
       "    }\n",
       "\n",
       "    .dataframe thead th {\n",
       "        text-align: right;\n",
       "    }\n",
       "</style>\n",
       "<table border=\"1\" class=\"dataframe\">\n",
       "  <thead>\n",
       "    <tr style=\"text-align: right;\">\n",
       "      <th></th>\n",
       "      <th>neighbourhood_cleansed</th>\n",
       "      <th>room_type</th>\n",
       "      <th>count</th>\n",
       "    </tr>\n",
       "  </thead>\n",
       "  <tbody>\n",
       "    <tr>\n",
       "      <th>0</th>\n",
       "      <td>Adams</td>\n",
       "      <td>Entire home/apt</td>\n",
       "      <td>49</td>\n",
       "    </tr>\n",
       "    <tr>\n",
       "      <th>1</th>\n",
       "      <td>Adams</td>\n",
       "      <td>Private room</td>\n",
       "      <td>21</td>\n",
       "    </tr>\n",
       "    <tr>\n",
       "      <th>2</th>\n",
       "      <td>Alki</td>\n",
       "      <td>Entire home/apt</td>\n",
       "      <td>33</td>\n",
       "    </tr>\n",
       "    <tr>\n",
       "      <th>3</th>\n",
       "      <td>Alki</td>\n",
       "      <td>Private room</td>\n",
       "      <td>9</td>\n",
       "    </tr>\n",
       "    <tr>\n",
       "      <th>4</th>\n",
       "      <td>Arbor Heights</td>\n",
       "      <td>Entire home/apt</td>\n",
       "      <td>3</td>\n",
       "    </tr>\n",
       "    <tr>\n",
       "      <th>...</th>\n",
       "      <td>...</td>\n",
       "      <td>...</td>\n",
       "      <td>...</td>\n",
       "    </tr>\n",
       "    <tr>\n",
       "      <th>198</th>\n",
       "      <td>Windermere</td>\n",
       "      <td>Entire home/apt</td>\n",
       "      <td>7</td>\n",
       "    </tr>\n",
       "    <tr>\n",
       "      <th>199</th>\n",
       "      <td>Windermere</td>\n",
       "      <td>Private room</td>\n",
       "      <td>3</td>\n",
       "    </tr>\n",
       "    <tr>\n",
       "      <th>200</th>\n",
       "      <td>Yesler Terrace</td>\n",
       "      <td>Entire home/apt</td>\n",
       "      <td>11</td>\n",
       "    </tr>\n",
       "    <tr>\n",
       "      <th>201</th>\n",
       "      <td>Yesler Terrace</td>\n",
       "      <td>Private room</td>\n",
       "      <td>5</td>\n",
       "    </tr>\n",
       "    <tr>\n",
       "      <th>202</th>\n",
       "      <td>Yesler Terrace</td>\n",
       "      <td>Shared room</td>\n",
       "      <td>1</td>\n",
       "    </tr>\n",
       "  </tbody>\n",
       "</table>\n",
       "<p>203 rows × 3 columns</p>\n",
       "</div>"
      ],
      "text/plain": [
       "    neighbourhood_cleansed        room_type  count\n",
       "0                    Adams  Entire home/apt     49\n",
       "1                    Adams     Private room     21\n",
       "2                     Alki  Entire home/apt     33\n",
       "3                     Alki     Private room      9\n",
       "4            Arbor Heights  Entire home/apt      3\n",
       "..                     ...              ...    ...\n",
       "198             Windermere  Entire home/apt      7\n",
       "199             Windermere     Private room      3\n",
       "200         Yesler Terrace  Entire home/apt     11\n",
       "201         Yesler Terrace     Private room      5\n",
       "202         Yesler Terrace      Shared room      1\n",
       "\n",
       "[203 rows x 3 columns]"
      ]
     },
     "execution_count": 95,
     "metadata": {},
     "output_type": "execute_result"
    }
   ],
   "source": [
    "room_by_neigh"
   ]
  },
  {
   "cell_type": "code",
   "execution_count": 96,
   "metadata": {},
   "outputs": [
    {
     "data": {
      "text/plain": [
       "neighbourhood_cleansed\n",
       "Southeast Magnolia    231.705882\n",
       "Portage Bay           227.857143\n",
       "Westlake              194.470588\n",
       "West Queen Anne       187.769231\n",
       "Montlake              182.789474\n",
       "                         ...    \n",
       "North Delridge         76.375000\n",
       "Georgetown             76.125000\n",
       "South Delridge         74.666667\n",
       "Olympic Hills          71.687500\n",
       "Rainier Beach          68.555556\n",
       "Name: price, Length: 87, dtype: float64"
      ]
     },
     "execution_count": 96,
     "metadata": {},
     "output_type": "execute_result"
    }
   ],
   "source": [
    "df_listings_clean.groupby('neighbourhood_cleansed')['price'].mean().sort_values(ascending=False)"
   ]
  },
  {
   "cell_type": "code",
   "execution_count": 97,
   "metadata": {},
   "outputs": [
    {
     "data": {
      "text/plain": [
       "(16.5, -0.5)"
      ]
     },
     "execution_count": 97,
     "metadata": {},
     "output_type": "execute_result"
    },
    {
     "data": {
      "image/png": "[encoded data removed]",
      "text/plain": [
       "<Figure size 1600x1600 with 2 Axes>"
      ]
     },
     "metadata": {},
     "output_type": "display_data"
    }
   ],
   "source": [
    "# Property type against Room type -- Mean Prices\n",
    "plt.figure(figsize=(16,16))\n",
    "ax = sns.heatmap(df_listings_clean.groupby(['property_type', 'room_type']).price.mean().unstack(),annot=True, fmt=\".1f\")\n",
    "bottom, top = ax.get_ylim()\n",
    "ax.set_ylim(bottom + 0.5, top - 0.5)"
   ]
  },
  {
   "cell_type": "code",
   "execution_count": 98,
   "metadata": {},
   "outputs": [
    {
     "data": {
      "text/plain": [
       "property_type    room_type      \n",
       "Apartment        Entire home/apt    132.527311\n",
       "                 Private room        78.593886\n",
       "                 Shared room         53.372549\n",
       "Bed & Breakfast  Entire home/apt     96.333333\n",
       "                 Private room       115.969697\n",
       "                 Shared room         30.000000\n",
       "Boat             Entire home/apt    447.250000\n",
       "                 Private room       117.500000\n",
       "Bungalow         Entire home/apt    119.416667\n",
       "                 Private room        70.000000\n",
       "Cabin            Entire home/apt    114.125000\n",
       "                 Private room        74.400000\n",
       "Camper/RV        Entire home/apt    137.888889\n",
       "                 Private room        75.000000\n",
       "                 Shared room        100.000000\n",
       "Chalet           Entire home/apt    135.000000\n",
       "                 Private room        62.000000\n",
       "Condominium      Entire home/apt    167.902778\n",
       "                 Private room        88.166667\n",
       "                 Shared room         75.000000\n",
       "Dorm             Shared room         39.500000\n",
       "House            Entire home/apt    191.128635\n",
       "                 Private room        71.609694\n",
       "                 Shared room         42.800000\n",
       "Loft             Entire home/apt    148.733333\n",
       "                 Private room       104.555556\n",
       "                 Shared room         25.000000\n",
       "Other            Entire home/apt    112.833333\n",
       "                 Private room        81.125000\n",
       "                 Shared room         40.000000\n",
       "Tent             Entire home/apt     65.000000\n",
       "                 Private room        50.000000\n",
       "                 Shared room         25.000000\n",
       "Townhouse        Entire home/apt    197.166667\n",
       "                 Private room        73.483871\n",
       "                 Shared room         36.500000\n",
       "Treehouse        Entire home/apt    200.000000\n",
       "                 Private room        51.500000\n",
       "Yurt             Entire home/apt    100.000000\n",
       "Name: price, dtype: float64"
      ]
     },
     "execution_count": 98,
     "metadata": {},
     "output_type": "execute_result"
    }
   ],
   "source": [
    "df_listings_clean.groupby(['property_type', 'room_type']).price.mean()"
   ]
  },
  {
   "cell_type": "code",
   "execution_count": 99,
   "metadata": {},
   "outputs": [
    {
     "name": "stderr",
     "output_type": "stream",
     "text": [
      "/var/folders/4l/xm5jn32j517d842_nfd4nvymkgphp6/T/ipykernel_1008/732386439.py:1: DeprecationWarning:\n",
      "\n",
      "*scatter_mapbox* is deprecated! Use *scatter_map* instead. Learn more at: https://plotly.com/python/mapbox-to-maplibre/\n",
      "\n"
     ]
    },
    {
     "data": {
      "application/vnd.plotly.v1+json": {
       "config": {
        "plotlyServerURL": "https://plot.ly"
       },
       "data": [
        {
         "customdata": [
          [
           85,
           "Apartment"
          ],
          [
           150,
           "Apartment"
          ],
          [
           100,
           "Apartment"
          ],
          [
           90,
           "Apartment"
          ],
          [
           150,
           "Apartment"
          ],
          [
           245,
           "Apartment"
          ],
          [
           66,
           "Apartment"
          ],
          [
           200,
           "Apartment"
          ],
          [
           300,
           "Apartment"
          ],
          [
           80,
           "Apartment"
          ],
          [
           175,
           "Apartment"
          ],
          [
           159,
           "Apartment"
          ],
          [
           125,
           "Apartment"
          ],
          [
           150,
           "Apartment"
          ],
          [
           80,
           "Apartment"
          ],
          [
           110,
           "Apartment"
          ],
          [
           150,
           "Apartment"
          ],
          [
           100,
           "Apartment"
          ],
          [
           100,
           "Apartment"
          ],
          [
           137,
           "Apartment"
          ],
          [
           20,
           "Apartment"
          ],
          [
           145,
           "Apartment"
          ],
          [
           70,
           "Apartment"
          ],
          [
           90,
           "Apartment"
          ],
          [
           85,
           "Apartment"
          ],
          [
           175,
           "Apartment"
          ],
          [
           60,
           "Apartment"
          ],
          [
           47,
           "Apartment"
          ],
          [
           125,
           "Apartment"
          ],
          [
           129,
           "Apartment"
          ],
          [
           100,
           "Apartment"
          ],
          [
           150,
           "Apartment"
          ],
          [
           99,
           "Apartment"
          ],
          [
           150,
           "Apartment"
          ],
          [
           126,
           "Apartment"
          ],
          [
           115,
           "Apartment"
          ],
          [
           225,
           "Apartment"
          ],
          [
           134,
           "Apartment"
          ],
          [
           75,
           "Apartment"
          ],
          [
           129,
           "Apartment"
          ],
          [
           120,
           "Apartment"
          ],
          [
           200,
           "Apartment"
          ],
          [
           135,
           "Apartment"
          ],
          [
           150,
           "Apartment"
          ],
          [
           200,
           "Apartment"
          ],
          [
           69,
           "Apartment"
          ],
          [
           90,
           "Apartment"
          ],
          [
           80,
           "Apartment"
          ],
          [
           149,
           "Apartment"
          ],
          [
           79,
           "Apartment"
          ],
          [
           75,
           "Apartment"
          ],
          [
           99,
           "Apartment"
          ],
          [
           55,
           "Apartment"
          ],
          [
           96,
           "Apartment"
          ],
          [
           65,
           "Apartment"
          ],
          [
           61,
           "Apartment"
          ],
          [
           70,
           "Apartment"
          ],
          [
           50,
           "Apartment"
          ],
          [
           89,
           "Apartment"
          ],
          [
           120,
           "Apartment"
          ],
          [
           110,
           "Apartment"
          ],
          [
           150,
           "Apartment"
          ],
          [
           70,
           "Apartment"
          ],
          [
           85,
           "Apartment"
          ],
          [
           90,
           "Apartment"
          ],
          [
           80,
           "Apartment"
          ],
          [
           95,
           "Apartment"
          ],
          [
           95,
           "Apartment"
          ],
          [
           109,
           "Apartment"
          ],
          [
           115,
           "Apartment"
          ],
          [
           199,
           "Apartment"
          ],
          [
           150,
           "Apartment"
          ],
          [
           100,
           "Apartment"
          ],
          [
           39,
           "Apartment"
          ],
          [
           69,
           "Apartment"
          ],
          [
           145,
           "Apartment"
          ],
          [
           98,
           "Apartment"
          ],
          [
           130,
           "Apartment"
          ],
          [
           85,
           "Apartment"
          ],
          [
           73,
           "Apartment"
          ],
          [
           150,
           "Apartment"
          ],
          [
           85,
           "Apartment"
          ],
          [
           68,
           "Apartment"
          ],
          [
           149,
           "Apartment"
          ],
          [
           105,
           "Apartment"
          ],
          [
           145,
           "Apartment"
          ],
          [
           150,
           "Apartment"
          ],
          [
           165,
           "Apartment"
          ],
          [
           195,
           "Apartment"
          ],
          [
           200,
           "Apartment"
          ],
          [
           100,
           "Apartment"
          ],
          [
           125,
           "Apartment"
          ],
          [
           209,
           "Apartment"
          ],
          [
           110,
           "Apartment"
          ],
          [
           90,
           "Apartment"
          ],
          [
           130,
           "Apartment"
          ],
          [
           175,
           "Apartment"
          ],
          [
           165,
           "Apartment"
          ],
          [
           109,
           "Apartment"
          ],
          [
           80,
           "Apartment"
          ],
          [
           68,
           "Apartment"
          ],
          [
           85,
           "Apartment"
          ],
          [
           125,
           "Apartment"
          ],
          [
           110,
           "Apartment"
          ],
          [
           235,
           "Apartment"
          ],
          [
           75,
           "Apartment"
          ],
          [
           95,
           "Apartment"
          ],
          [
           103,
           "Apartment"
          ],
          [
           120,
           "Apartment"
          ],
          [
           143,
           "Apartment"
          ],
          [
           99,
           "Apartment"
          ],
          [
           150,
           "Apartment"
          ],
          [
           60,
           "Apartment"
          ],
          [
           200,
           "Apartment"
          ],
          [
           180,
           "Apartment"
          ],
          [
           103,
           "Apartment"
          ],
          [
           99,
           "Apartment"
          ],
          [
           94,
           "Apartment"
          ],
          [
           160,
           "Apartment"
          ],
          [
           129,
           "Apartment"
          ],
          [
           91,
           "Apartment"
          ],
          [
           75,
           "Apartment"
          ],
          [
           99,
           "Apartment"
          ],
          [
           149,
           "Apartment"
          ],
          [
           95,
           "Apartment"
          ],
          [
           100,
           "Apartment"
          ],
          [
           130,
           "Apartment"
          ],
          [
           110,
           "Apartment"
          ],
          [
           110,
           "Apartment"
          ],
          [
           104,
           "Apartment"
          ],
          [
           135,
           "Apartment"
          ],
          [
           80,
           "Apartment"
          ],
          [
           90,
           "Apartment"
          ],
          [
           100,
           "Apartment"
          ],
          [
           42,
           "Apartment"
          ],
          [
           40,
           "Apartment"
          ],
          [
           70,
           "Apartment"
          ],
          [
           70,
           "Apartment"
          ],
          [
           110,
           "Apartment"
          ],
          [
           99,
           "Apartment"
          ],
          [
           90,
           "Apartment"
          ],
          [
           119,
           "Apartment"
          ],
          [
           75,
           "Apartment"
          ],
          [
           90,
           "Apartment"
          ],
          [
           129,
           "Apartment"
          ],
          [
           95,
           "Apartment"
          ],
          [
           175,
           "Apartment"
          ],
          [
           120,
           "Apartment"
          ],
          [
           105,
           "Apartment"
          ],
          [
           70,
           "Apartment"
          ],
          [
           85,
           "Apartment"
          ],
          [
           259,
           "Apartment"
          ],
          [
           39,
           "Apartment"
          ],
          [
           110,
           "Apartment"
          ],
          [
           100,
           "Apartment"
          ],
          [
           95,
           "Apartment"
          ],
          [
           110,
           "Apartment"
          ],
          [
           90,
           "Apartment"
          ],
          [
           85,
           "Apartment"
          ],
          [
           130,
           "Apartment"
          ],
          [
           95,
           "Apartment"
          ],
          [
           109,
           "Apartment"
          ],
          [
           105,
           "Apartment"
          ],
          [
           100,
           "Apartment"
          ],
          [
           140,
           "Apartment"
          ],
          [
           60,
           "Apartment"
          ],
          [
           135,
           "Apartment"
          ],
          [
           85,
           "Apartment"
          ],
          [
           120,
           "Apartment"
          ],
          [
           40,
           "Apartment"
          ],
          [
           50,
           "Apartment"
          ],
          [
           160,
           "Apartment"
          ],
          [
           144,
           "Apartment"
          ],
          [
           115,
           "Apartment"
          ],
          [
           95,
           "Apartment"
          ],
          [
           46,
           "Apartment"
          ],
          [
           100,
           "Apartment"
          ],
          [
           120,
           "Apartment"
          ],
          [
           80,
           "Apartment"
          ],
          [
           110,
           "Apartment"
          ],
          [
           145,
           "Apartment"
          ],
          [
           114,
           "Apartment"
          ],
          [
           110,
           "Apartment"
          ],
          [
           117,
           "Apartment"
          ],
          [
           89,
           "Apartment"
          ],
          [
           74,
           "Apartment"
          ],
          [
           140,
           "Apartment"
          ],
          [
           150,
           "Apartment"
          ],
          [
           70,
           "Apartment"
          ],
          [
           99,
           "Apartment"
          ],
          [
           97,
           "Apartment"
          ],
          [
           116,
           "Apartment"
          ],
          [
           110,
           "Apartment"
          ],
          [
           115,
           "Apartment"
          ],
          [
           74,
           "Apartment"
          ],
          [
           99,
           "Apartment"
          ],
          [
           85,
           "Apartment"
          ],
          [
           80,
           "Apartment"
          ],
          [
           195,
           "Apartment"
          ],
          [
           145,
           "Apartment"
          ],
          [
           180,
           "Apartment"
          ],
          [
           50,
           "Apartment"
          ],
          [
           160,
           "Apartment"
          ],
          [
           40,
           "Apartment"
          ],
          [
           450,
           "Apartment"
          ],
          [
           130,
           "Apartment"
          ],
          [
           85,
           "Apartment"
          ],
          [
           75,
           "Apartment"
          ],
          [
           119,
           "Apartment"
          ],
          [
           85,
           "Apartment"
          ],
          [
           135,
           "Apartment"
          ],
          [
           90,
           "Apartment"
          ],
          [
           85,
           "Apartment"
          ],
          [
           190,
           "Apartment"
          ],
          [
           65,
           "Apartment"
          ],
          [
           69,
           "Apartment"
          ],
          [
           400,
           "Apartment"
          ],
          [
           200,
           "Apartment"
          ],
          [
           85,
           "Apartment"
          ],
          [
           95,
           "Apartment"
          ],
          [
           170,
           "Apartment"
          ],
          [
           65,
           "Apartment"
          ],
          [
           90,
           "Apartment"
          ],
          [
           95,
           "Apartment"
          ],
          [
           59,
           "Apartment"
          ],
          [
           99,
           "Apartment"
          ],
          [
           105,
           "Apartment"
          ],
          [
           120,
           "Apartment"
          ],
          [
           89,
           "Apartment"
          ],
          [
           75,
           "Apartment"
          ],
          [
           99,
           "Apartment"
          ],
          [
           45,
           "Apartment"
          ],
          [
           95,
           "Apartment"
          ],
          [
           99,
           "Apartment"
          ],
          [
           85,
           "Apartment"
          ],
          [
           80,
           "Apartment"
          ],
          [
           85,
           "Apartment"
          ],
          [
           169,
           "Apartment"
          ],
          [
           66,
           "Apartment"
          ],
          [
           90,
           "Apartment"
          ],
          [
           200,
           "Apartment"
          ],
          [
           75,
           "Apartment"
          ],
          [
           135,
           "Apartment"
          ],
          [
           110,
           "Apartment"
          ],
          [
           78,
           "Apartment"
          ],
          [
           95,
           "Apartment"
          ],
          [
           90,
           "Apartment"
          ],
          [
           80,
           "Apartment"
          ],
          [
           115,
           "Apartment"
          ],
          [
           125,
           "Apartment"
          ],
          [
           80,
           "Apartment"
          ],
          [
           145,
           "Apartment"
          ],
          [
           65,
           "Apartment"
          ],
          [
           35,
           "Apartment"
          ],
          [
           41,
           "Apartment"
          ],
          [
           35,
           "Apartment"
          ],
          [
           99,
           "Apartment"
          ],
          [
           98,
           "Apartment"
          ],
          [
           109,
           "Apartment"
          ],
          [
           75,
           "Apartment"
          ],
          [
           88,
           "Apartment"
          ],
          [
           98,
           "Apartment"
          ],
          [
           75,
           "Apartment"
          ],
          [
           85,
           "Apartment"
          ],
          [
           100,
           "Apartment"
          ],
          [
           105,
           "Apartment"
          ],
          [
           78,
           "Apartment"
          ],
          [
           150,
           "Apartment"
          ],
          [
           95,
           "Apartment"
          ],
          [
           109,
           "Apartment"
          ],
          [
           80,
           "Apartment"
          ],
          [
           80,
           "Apartment"
          ],
          [
           55,
           "Apartment"
          ],
          [
           98,
           "Apartment"
          ],
          [
           82,
           "Apartment"
          ],
          [
           70,
           "Apartment"
          ],
          [
           55,
           "Apartment"
          ],
          [
           110,
           "Apartment"
          ],
          [
           105,
           "Apartment"
          ],
          [
           85,
           "Apartment"
          ],
          [
           75,
           "Apartment"
          ],
          [
           95,
           "Apartment"
          ],
          [
           125,
           "Apartment"
          ],
          [
           112,
           "Apartment"
          ],
          [
           85,
           "Apartment"
          ],
          [
           63,
           "Apartment"
          ],
          [
           70,
           "Apartment"
          ],
          [
           85,
           "Apartment"
          ],
          [
           110,
           "Apartment"
          ],
          [
           53,
           "Apartment"
          ],
          [
           90,
           "Apartment"
          ],
          [
           85,
           "Apartment"
          ],
          [
           85,
           "Apartment"
          ],
          [
           88,
           "Apartment"
          ],
          [
           92,
           "Apartment"
          ],
          [
           28,
           "Apartment"
          ],
          [
           70,
           "Apartment"
          ],
          [
           93,
           "Apartment"
          ],
          [
           65,
           "Apartment"
          ],
          [
           90,
           "Apartment"
          ],
          [
           90,
           "Apartment"
          ],
          [
           85,
           "Apartment"
          ],
          [
           115,
           "Apartment"
          ],
          [
           89,
           "Apartment"
          ],
          [
           185,
           "Apartment"
          ],
          [
           85,
           "Apartment"
          ],
          [
           135,
           "Apartment"
          ],
          [
           95,
           "Apartment"
          ],
          [
           306,
           "Apartment"
          ],
          [
           105,
           "Apartment"
          ],
          [
           83,
           "Apartment"
          ],
          [
           69,
           "Apartment"
          ],
          [
           59,
           "Apartment"
          ],
          [
           145,
           "Apartment"
          ],
          [
           95,
           "Apartment"
          ],
          [
           150,
           "Apartment"
          ],
          [
           85,
           "Apartment"
          ],
          [
           98,
           "Apartment"
          ],
          [
           110,
           "Apartment"
          ],
          [
           95,
           "Apartment"
          ],
          [
           40,
           "Apartment"
          ],
          [
           80,
           "Apartment"
          ],
          [
           47,
           "Apartment"
          ],
          [
           118,
           "Apartment"
          ],
          [
           105,
           "Apartment"
          ],
          [
           150,
           "Apartment"
          ],
          [
           128,
           "Apartment"
          ],
          [
           110,
           "Apartment"
          ],
          [
           62,
           "Apartment"
          ],
          [
           80,
           "Apartment"
          ],
          [
           105,
           "Apartment"
          ],
          [
           95,
           "Apartment"
          ],
          [
           150,
           "Apartment"
          ],
          [
           79,
           "Apartment"
          ],
          [
           40,
           "Apartment"
          ],
          [
           150,
           "Apartment"
          ],
          [
           90,
           "Apartment"
          ],
          [
           155,
           "Apartment"
          ],
          [
           79,
           "Apartment"
          ],
          [
           60,
           "Apartment"
          ],
          [
           115,
           "Apartment"
          ],
          [
           80,
           "Apartment"
          ],
          [
           81,
           "Apartment"
          ],
          [
           150,
           "Apartment"
          ],
          [
           105,
           "Apartment"
          ],
          [
           80,
           "Apartment"
          ],
          [
           99,
           "Apartment"
          ],
          [
           100,
           "Apartment"
          ],
          [
           81,
           "Apartment"
          ],
          [
           70,
           "Apartment"
          ],
          [
           179,
           "Apartment"
          ],
          [
           150,
           "Apartment"
          ],
          [
           75,
           "Apartment"
          ],
          [
           82,
           "Apartment"
          ],
          [
           75,
           "Apartment"
          ],
          [
           175,
           "Apartment"
          ],
          [
           37,
           "Apartment"
          ],
          [
           199,
           "Apartment"
          ],
          [
           200,
           "Apartment"
          ],
          [
           120,
           "Apartment"
          ],
          [
           125,
           "Apartment"
          ],
          [
           150,
           "Apartment"
          ],
          [
           175,
           "Apartment"
          ],
          [
           90,
           "Apartment"
          ],
          [
           115,
           "Apartment"
          ],
          [
           150,
           "Apartment"
          ],
          [
           75,
           "Apartment"
          ],
          [
           125,
           "Apartment"
          ],
          [
           200,
           "Apartment"
          ],
          [
           90,
           "Apartment"
          ],
          [
           90,
           "Apartment"
          ],
          [
           150,
           "Apartment"
          ],
          [
           170,
           "Apartment"
          ],
          [
           125,
           "Apartment"
          ],
          [
           92,
           "Apartment"
          ],
          [
           85,
           "Apartment"
          ],
          [
           85,
           "Apartment"
          ],
          [
           59,
           "Apartment"
          ],
          [
           109,
           "Apartment"
          ],
          [
           39,
           "Apartment"
          ],
          [
           50,
           "Apartment"
          ],
          [
           159,
           "Apartment"
          ],
          [
           79,
           "Apartment"
          ],
          [
           90,
           "Apartment"
          ],
          [
           150,
           "Apartment"
          ],
          [
           35,
           "Apartment"
          ],
          [
           55,
           "Apartment"
          ],
          [
           70,
           "Apartment"
          ],
          [
           60,
           "Apartment"
          ],
          [
           125,
           "Apartment"
          ],
          [
           100,
           "Apartment"
          ],
          [
           115,
           "Apartment"
          ],
          [
           119,
           "Apartment"
          ],
          [
           120,
           "Apartment"
          ],
          [
           60,
           "Apartment"
          ],
          [
           85,
           "Apartment"
          ],
          [
           90,
           "Apartment"
          ],
          [
           80,
           "Apartment"
          ],
          [
           90,
           "Apartment"
          ],
          [
           115,
           "Apartment"
          ],
          [
           129,
           "Apartment"
          ],
          [
           100,
           "Apartment"
          ],
          [
           76,
           "Apartment"
          ],
          [
           100,
           "Apartment"
          ],
          [
           137,
           "Apartment"
          ],
          [
           557,
           "Apartment"
          ],
          [
           160,
           "Apartment"
          ],
          [
           179,
           "Apartment"
          ],
          [
           99,
           "Apartment"
          ],
          [
           149,
           "Apartment"
          ],
          [
           199,
           "Apartment"
          ],
          [
           157,
           "Apartment"
          ],
          [
           170,
           "Apartment"
          ],
          [
           85,
           "Apartment"
          ],
          [
           299,
           "Apartment"
          ],
          [
           95,
           "Apartment"
          ],
          [
           99,
           "Apartment"
          ],
          [
           165,
           "Apartment"
          ],
          [
           114,
           "Apartment"
          ],
          [
           311,
           "Apartment"
          ],
          [
           160,
           "Apartment"
          ],
          [
           100,
           "Apartment"
          ],
          [
           150,
           "Apartment"
          ],
          [
           110,
           "Apartment"
          ],
          [
           138,
           "Apartment"
          ],
          [
           129,
           "Apartment"
          ],
          [
           120,
           "Apartment"
          ],
          [
           95,
           "Apartment"
          ],
          [
           140,
           "Apartment"
          ],
          [
           95,
           "Apartment"
          ],
          [
           91,
           "Apartment"
          ],
          [
           95,
           "Apartment"
          ],
          [
           140,
           "Apartment"
          ],
          [
           125,
           "Apartment"
          ],
          [
           50,
           "Apartment"
          ],
          [
           85,
           "Apartment"
          ],
          [
           82,
           "Apartment"
          ],
          [
           103,
           "Apartment"
          ],
          [
           150,
           "Apartment"
          ],
          [
           115,
           "Apartment"
          ],
          [
           100,
           "Apartment"
          ],
          [
           52,
           "Apartment"
          ],
          [
           91,
           "Apartment"
          ],
          [
           59,
           "Apartment"
          ],
          [
           129,
           "Apartment"
          ],
          [
           125,
           "Apartment"
          ],
          [
           195,
           "Apartment"
          ],
          [
           58,
           "Apartment"
          ],
          [
           89,
           "Apartment"
          ],
          [
           100,
           "Apartment"
          ],
          [
           125,
           "Apartment"
          ],
          [
           82,
           "Apartment"
          ],
          [
           225,
           "Apartment"
          ],
          [
           55,
           "Apartment"
          ],
          [
           90,
           "Apartment"
          ],
          [
           134,
           "Apartment"
          ],
          [
           42,
           "Apartment"
          ],
          [
           125,
           "Apartment"
          ],
          [
           125,
           "Apartment"
          ],
          [
           55,
           "Apartment"
          ],
          [
           550,
           "Apartment"
          ],
          [
           90,
           "Apartment"
          ],
          [
           100,
           "Apartment"
          ],
          [
           110,
           "Apartment"
          ],
          [
           80,
           "Apartment"
          ],
          [
           100,
           "Apartment"
          ],
          [
           90,
           "Apartment"
          ],
          [
           100,
           "Apartment"
          ],
          [
           59,
           "Apartment"
          ],
          [
           183,
           "Apartment"
          ],
          [
           135,
           "Apartment"
          ],
          [
           220,
           "Apartment"
          ],
          [
           183,
           "Apartment"
          ],
          [
           115,
           "Apartment"
          ],
          [
           183,
           "Apartment"
          ],
          [
           115,
           "Apartment"
          ],
          [
           75,
           "Apartment"
          ],
          [
           110,
           "Apartment"
          ],
          [
           183,
           "Apartment"
          ],
          [
           220,
           "Apartment"
          ],
          [
           75,
           "Apartment"
          ],
          [
           41,
           "Apartment"
          ],
          [
           70,
           "Apartment"
          ],
          [
           115,
           "Apartment"
          ],
          [
           125,
           "Apartment"
          ],
          [
           178,
           "Apartment"
          ],
          [
           100,
           "Apartment"
          ],
          [
           95,
           "Apartment"
          ],
          [
           144,
           "Apartment"
          ],
          [
           999,
           "Apartment"
          ],
          [
           138,
           "Apartment"
          ],
          [
           145,
           "Apartment"
          ],
          [
           125,
           "Apartment"
          ],
          [
           45,
           "Apartment"
          ],
          [
           35,
           "Apartment"
          ],
          [
           50,
           "Apartment"
          ],
          [
           120,
           "Apartment"
          ],
          [
           100,
           "Apartment"
          ],
          [
           120,
           "Apartment"
          ],
          [
           249,
           "Apartment"
          ],
          [
           95,
           "Apartment"
          ],
          [
           150,
           "Apartment"
          ],
          [
           130,
           "Apartment"
          ],
          [
           130,
           "Apartment"
          ],
          [
           175,
           "Apartment"
          ],
          [
           100,
           "Apartment"
          ],
          [
           129,
           "Apartment"
          ],
          [
           90,
           "Apartment"
          ],
          [
           199,
           "Apartment"
          ],
          [
           75,
           "Apartment"
          ],
          [
           80,
           "Apartment"
          ],
          [
           150,
           "Apartment"
          ],
          [
           95,
           "Apartment"
          ],
          [
           139,
           "Apartment"
          ],
          [
           139,
           "Apartment"
          ],
          [
           275,
           "Apartment"
          ],
          [
           135,
           "Apartment"
          ],
          [
           107,
           "Apartment"
          ],
          [
           150,
           "Apartment"
          ],
          [
           100,
           "Apartment"
          ],
          [
           100,
           "Apartment"
          ],
          [
           120,
           "Apartment"
          ],
          [
           125,
           "Apartment"
          ],
          [
           120,
           "Apartment"
          ],
          [
           150,
           "Apartment"
          ],
          [
           129,
           "Apartment"
          ],
          [
           140,
           "Apartment"
          ],
          [
           150,
           "Apartment"
          ],
          [
           149,
           "Apartment"
          ],
          [
           229,
           "Apartment"
          ],
          [
           93,
           "Apartment"
          ],
          [
           110,
           "Apartment"
          ],
          [
           126,
           "Apartment"
          ],
          [
           157,
           "Apartment"
          ],
          [
           90,
           "Apartment"
          ],
          [
           125,
           "Apartment"
          ],
          [
           95,
           "Apartment"
          ],
          [
           197,
           "Apartment"
          ],
          [
           155,
           "Apartment"
          ],
          [
           195,
           "Apartment"
          ],
          [
           150,
           "Apartment"
          ],
          [
           175,
           "Apartment"
          ],
          [
           156,
           "Apartment"
          ],
          [
           320,
           "Apartment"
          ],
          [
           200,
           "Apartment"
          ],
          [
           200,
           "Apartment"
          ],
          [
           165,
           "Apartment"
          ],
          [
           148,
           "Apartment"
          ],
          [
           127,
           "Apartment"
          ],
          [
           405,
           "Apartment"
          ],
          [
           219,
           "Apartment"
          ],
          [
           899,
           "Apartment"
          ],
          [
           150,
           "Apartment"
          ],
          [
           239,
           "Apartment"
          ],
          [
           150,
           "Apartment"
          ],
          [
           140,
           "Apartment"
          ],
          [
           117,
           "Apartment"
          ],
          [
           100,
           "Apartment"
          ],
          [
           300,
           "Apartment"
          ],
          [
           250,
           "Apartment"
          ],
          [
           197,
           "Apartment"
          ],
          [
           175,
           "Apartment"
          ],
          [
           130,
           "Apartment"
          ],
          [
           131,
           "Apartment"
          ],
          [
           110,
           "Apartment"
          ],
          [
           125,
           "Apartment"
          ],
          [
           200,
           "Apartment"
          ],
          [
           99,
           "Apartment"
          ],
          [
           200,
           "Apartment"
          ],
          [
           89,
           "Apartment"
          ],
          [
           142,
           "Apartment"
          ],
          [
           125,
           "Apartment"
          ],
          [
           245,
           "Apartment"
          ],
          [
           99,
           "Apartment"
          ],
          [
           117,
           "Apartment"
          ],
          [
           215,
           "Apartment"
          ],
          [
           215,
           "Apartment"
          ],
          [
           275,
           "Apartment"
          ],
          [
           175,
           "Apartment"
          ],
          [
           195,
           "Apartment"
          ],
          [
           113,
           "Apartment"
          ],
          [
           139,
           "Apartment"
          ],
          [
           135,
           "Apartment"
          ],
          [
           105,
           "Apartment"
          ],
          [
           100,
           "Apartment"
          ],
          [
           106,
           "Apartment"
          ],
          [
           475,
           "Apartment"
          ],
          [
           143,
           "Apartment"
          ],
          [
           205,
           "Apartment"
          ],
          [
           80,
           "Apartment"
          ],
          [
           120,
           "Apartment"
          ],
          [
           139,
           "Apartment"
          ],
          [
           135,
           "Apartment"
          ],
          [
           90,
           "Apartment"
          ],
          [
           139,
           "Apartment"
          ],
          [
           181,
           "Apartment"
          ],
          [
           99,
           "Apartment"
          ],
          [
           127,
           "Apartment"
          ],
          [
           150,
           "Apartment"
          ],
          [
           143,
           "Apartment"
          ],
          [
           399,
           "Apartment"
          ],
          [
           193,
           "Apartment"
          ],
          [
           160,
           "Apartment"
          ],
          [
           110,
           "Apartment"
          ],
          [
           135,
           "Apartment"
          ],
          [
           165,
           "Apartment"
          ],
          [
           139,
           "Apartment"
          ],
          [
           189,
           "Apartment"
          ],
          [
           140,
           "Apartment"
          ],
          [
           129,
           "Apartment"
          ],
          [
           245,
           "Apartment"
          ],
          [
           127,
           "Apartment"
          ],
          [
           444,
           "Apartment"
          ],
          [
           105,
           "Apartment"
          ],
          [
           127,
           "Apartment"
          ],
          [
           122,
           "Apartment"
          ],
          [
           175,
           "Apartment"
          ],
          [
           99,
           "Apartment"
          ],
          [
           187,
           "Apartment"
          ],
          [
           150,
           "Apartment"
          ],
          [
           100,
           "Apartment"
          ],
          [
           186,
           "Apartment"
          ],
          [
           171,
           "Apartment"
          ],
          [
           181,
           "Apartment"
          ],
          [
           149,
           "Apartment"
          ],
          [
           270,
           "Apartment"
          ],
          [
           195,
           "Apartment"
          ],
          [
           149,
           "Apartment"
          ],
          [
           230,
           "Apartment"
          ],
          [
           183,
           "Apartment"
          ],
          [
           165,
           "Apartment"
          ],
          [
           335,
           "Apartment"
          ],
          [
           75,
           "Apartment"
          ],
          [
           107,
           "Apartment"
          ],
          [
           167,
           "Apartment"
          ],
          [
           225,
           "Apartment"
          ],
          [
           120,
           "Apartment"
          ],
          [
           110,
           "Apartment"
          ],
          [
           425,
           "Apartment"
          ],
          [
           139,
           "Apartment"
          ],
          [
           149,
           "Apartment"
          ],
          [
           149,
           "Apartment"
          ],
          [
           130,
           "Apartment"
          ],
          [
           115,
           "Apartment"
          ],
          [
           159,
           "Apartment"
          ],
          [
           120,
           "Apartment"
          ],
          [
           100,
           "Apartment"
          ],
          [
           110,
           "Apartment"
          ],
          [
           170,
           "Apartment"
          ],
          [
           115,
           "Apartment"
          ],
          [
           112,
           "Apartment"
          ],
          [
           120,
           "Apartment"
          ],
          [
           239,
           "Apartment"
          ],
          [
           135,
           "Apartment"
          ],
          [
           150,
           "Apartment"
          ],
          [
           197,
           "Apartment"
          ],
          [
           106,
           "Apartment"
          ],
          [
           139,
           "Apartment"
          ],
          [
           150,
           "Apartment"
          ],
          [
           149,
           "Apartment"
          ],
          [
           115,
           "Apartment"
          ],
          [
           175,
           "Apartment"
          ],
          [
           175,
           "Apartment"
          ],
          [
           124,
           "Apartment"
          ],
          [
           65,
           "Apartment"
          ],
          [
           229,
           "Apartment"
          ],
          [
           125,
           "Apartment"
          ],
          [
           40,
           "Apartment"
          ],
          [
           169,
           "Apartment"
          ],
          [
           75,
           "Apartment"
          ],
          [
           89,
           "Apartment"
          ],
          [
           35,
           "Apartment"
          ],
          [
           115,
           "Apartment"
          ],
          [
           115,
           "Apartment"
          ],
          [
           165,
           "Apartment"
          ],
          [
           115,
           "Apartment"
          ],
          [
           250,
           "Apartment"
          ],
          [
           166,
           "Apartment"
          ],
          [
           145,
           "Apartment"
          ],
          [
           250,
           "Apartment"
          ],
          [
           139,
           "Apartment"
          ],
          [
           82,
           "Apartment"
          ],
          [
           147,
           "Apartment"
          ],
          [
           150,
           "Apartment"
          ],
          [
           187,
           "Apartment"
          ],
          [
           80,
           "Apartment"
          ],
          [
           130,
           "Apartment"
          ],
          [
           100,
           "Apartment"
          ],
          [
           95,
           "Apartment"
          ],
          [
           68,
           "Apartment"
          ],
          [
           150,
           "Apartment"
          ],
          [
           165,
           "Apartment"
          ],
          [
           117,
           "Apartment"
          ],
          [
           168,
           "Apartment"
          ],
          [
           75,
           "Apartment"
          ],
          [
           79,
           "Apartment"
          ],
          [
           80,
           "Apartment"
          ],
          [
           120,
           "Apartment"
          ],
          [
           65,
           "Apartment"
          ],
          [
           79,
           "Apartment"
          ],
          [
           69,
           "Apartment"
          ],
          [
           69,
           "Apartment"
          ],
          [
           74,
           "Apartment"
          ],
          [
           65,
           "Apartment"
          ],
          [
           250,
           "Apartment"
          ],
          [
           250,
           "Apartment"
          ],
          [
           175,
           "Apartment"
          ],
          [
           99,
           "Apartment"
          ],
          [
           130,
           "Apartment"
          ],
          [
           120,
           "Apartment"
          ],
          [
           190,
           "Apartment"
          ],
          [
           280,
           "Apartment"
          ],
          [
           99,
           "Apartment"
          ],
          [
           159,
           "Apartment"
          ],
          [
           150,
           "Apartment"
          ],
          [
           139,
           "Apartment"
          ],
          [
           180,
           "Apartment"
          ],
          [
           151,
           "Apartment"
          ],
          [
           99,
           "Apartment"
          ],
          [
           219,
           "Apartment"
          ],
          [
           100,
           "Apartment"
          ],
          [
           175,
           "Apartment"
          ],
          [
           170,
           "Apartment"
          ],
          [
           115,
           "Apartment"
          ],
          [
           100,
           "Apartment"
          ],
          [
           110,
           "Apartment"
          ],
          [
           59,
           "Apartment"
          ],
          [
           199,
           "Apartment"
          ],
          [
           170,
           "Apartment"
          ],
          [
           135,
           "Apartment"
          ],
          [
           300,
           "Apartment"
          ],
          [
           219,
           "Apartment"
          ],
          [
           300,
           "Apartment"
          ],
          [
           235,
           "Apartment"
          ],
          [
           59,
           "Apartment"
          ],
          [
           156,
           "Apartment"
          ],
          [
           147,
           "Apartment"
          ],
          [
           135,
           "Apartment"
          ],
          [
           128,
           "Apartment"
          ],
          [
           104,
           "Apartment"
          ],
          [
           114,
           "Apartment"
          ],
          [
           200,
           "Apartment"
          ],
          [
           150,
           "Apartment"
          ],
          [
           250,
           "Apartment"
          ],
          [
           40,
           "Apartment"
          ],
          [
           126,
           "Apartment"
          ],
          [
           365,
           "Apartment"
          ],
          [
           99,
           "Apartment"
          ],
          [
           350,
           "Apartment"
          ],
          [
           143,
           "Apartment"
          ],
          [
           110,
           "Apartment"
          ],
          [
           100,
           "Apartment"
          ],
          [
           149,
           "Apartment"
          ],
          [
           175,
           "Apartment"
          ],
          [
           150,
           "Apartment"
          ],
          [
           143,
           "Apartment"
          ],
          [
           150,
           "Apartment"
          ],
          [
           149,
           "Apartment"
          ],
          [
           168,
           "Apartment"
          ],
          [
           245,
           "Apartment"
          ],
          [
           129,
           "Apartment"
          ],
          [
           245,
           "Apartment"
          ],
          [
           175,
           "Apartment"
          ],
          [
           144,
           "Apartment"
          ],
          [
           188,
           "Apartment"
          ],
          [
           179,
           "Apartment"
          ],
          [
           129,
           "Apartment"
          ],
          [
           150,
           "Apartment"
          ],
          [
           276,
           "Apartment"
          ],
          [
           135,
           "Apartment"
          ],
          [
           150,
           "Apartment"
          ],
          [
           140,
           "Apartment"
          ],
          [
           175,
           "Apartment"
          ],
          [
           147,
           "Apartment"
          ],
          [
           150,
           "Apartment"
          ],
          [
           300,
           "Apartment"
          ],
          [
           129,
           "Apartment"
          ],
          [
           175,
           "Apartment"
          ],
          [
           220,
           "Apartment"
          ],
          [
           90,
           "Apartment"
          ],
          [
           120,
           "Apartment"
          ],
          [
           325,
           "Apartment"
          ],
          [
           230,
           "Apartment"
          ],
          [
           127,
           "Apartment"
          ],
          [
           168,
           "Apartment"
          ],
          [
           117,
           "Apartment"
          ],
          [
           85,
           "Apartment"
          ],
          [
           122,
           "Apartment"
          ],
          [
           142,
           "Apartment"
          ],
          [
           237,
           "Apartment"
          ],
          [
           350,
           "Apartment"
          ],
          [
           99,
           "Apartment"
          ],
          [
           110,
           "Apartment"
          ],
          [
           300,
           "Apartment"
          ],
          [
           225,
           "Apartment"
          ],
          [
           99,
           "Apartment"
          ],
          [
           65,
           "Apartment"
          ],
          [
           275,
           "Apartment"
          ],
          [
           183,
           "Apartment"
          ],
          [
           110,
           "Apartment"
          ],
          [
           156,
           "Apartment"
          ],
          [
           169,
           "Apartment"
          ],
          [
           150,
           "Apartment"
          ],
          [
           125,
           "Apartment"
          ],
          [
           175,
           "Apartment"
          ],
          [
           155,
           "Apartment"
          ],
          [
           151,
           "Apartment"
          ],
          [
           175,
           "Apartment"
          ],
          [
           196,
           "Apartment"
          ],
          [
           110,
           "Apartment"
          ],
          [
           140,
           "Apartment"
          ],
          [
           175,
           "Apartment"
          ],
          [
           250,
           "Apartment"
          ],
          [
           90,
           "Apartment"
          ],
          [
           105,
           "Apartment"
          ],
          [
           95,
           "Apartment"
          ],
          [
           139,
           "Apartment"
          ],
          [
           115,
           "Apartment"
          ],
          [
           185,
           "Apartment"
          ],
          [
           175,
           "Apartment"
          ],
          [
           75,
           "Apartment"
          ],
          [
           85,
           "Apartment"
          ],
          [
           129,
           "Apartment"
          ],
          [
           70,
           "Apartment"
          ],
          [
           79,
           "Apartment"
          ],
          [
           109,
           "Apartment"
          ],
          [
           100,
           "Apartment"
          ],
          [
           155,
           "Apartment"
          ],
          [
           87,
           "Apartment"
          ],
          [
           165,
           "Apartment"
          ],
          [
           78,
           "Apartment"
          ],
          [
           150,
           "Apartment"
          ],
          [
           80,
           "Apartment"
          ],
          [
           185,
           "Apartment"
          ],
          [
           129,
           "Apartment"
          ],
          [
           80,
           "Apartment"
          ],
          [
           77,
           "Apartment"
          ],
          [
           99,
           "Apartment"
          ],
          [
           119,
           "Apartment"
          ],
          [
           129,
           "Apartment"
          ],
          [
           145,
           "Apartment"
          ],
          [
           99,
           "Apartment"
          ],
          [
           230,
           "Apartment"
          ],
          [
           109,
           "Apartment"
          ],
          [
           85,
           "Apartment"
          ],
          [
           120,
           "Apartment"
          ],
          [
           150,
           "Apartment"
          ],
          [
           115,
           "Apartment"
          ],
          [
           130,
           "Apartment"
          ],
          [
           129,
           "Apartment"
          ],
          [
           195,
           "Apartment"
          ],
          [
           500,
           "Apartment"
          ],
          [
           195,
           "Apartment"
          ],
          [
           250,
           "Apartment"
          ],
          [
           100,
           "Apartment"
          ],
          [
           110,
           "Apartment"
          ],
          [
           121,
           "Apartment"
          ],
          [
           139,
           "Apartment"
          ],
          [
           120,
           "Apartment"
          ],
          [
           110,
           "Apartment"
          ],
          [
           69,
           "Apartment"
          ],
          [
           100,
           "Apartment"
          ],
          [
           150,
           "Apartment"
          ],
          [
           40,
           "Apartment"
          ],
          [
           103,
           "Apartment"
          ],
          [
           175,
           "Apartment"
          ],
          [
           139,
           "Apartment"
          ],
          [
           85,
           "Apartment"
          ],
          [
           65,
           "Apartment"
          ],
          [
           100,
           "Apartment"
          ],
          [
           174,
           "Apartment"
          ],
          [
           200,
           "Apartment"
          ],
          [
           120,
           "Apartment"
          ],
          [
           90,
           "Apartment"
          ],
          [
           78,
           "Apartment"
          ],
          [
           99,
           "Apartment"
          ],
          [
           174,
           "Apartment"
          ],
          [
           110,
           "Apartment"
          ],
          [
           72,
           "Apartment"
          ],
          [
           190,
           "Apartment"
          ],
          [
           100,
           "Apartment"
          ],
          [
           151,
           "Apartment"
          ],
          [
           175,
           "Apartment"
          ],
          [
           250,
           "Apartment"
          ],
          [
           120,
           "Apartment"
          ],
          [
           99,
           "Apartment"
          ],
          [
           180,
           "Apartment"
          ],
          [
           109,
           "Apartment"
          ],
          [
           75,
           "Apartment"
          ],
          [
           129,
           "Apartment"
          ],
          [
           135,
           "Apartment"
          ],
          [
           150,
           "Apartment"
          ],
          [
           139,
           "Apartment"
          ],
          [
           110,
           "Apartment"
          ],
          [
           179,
           "Apartment"
          ],
          [
           120,
           "Apartment"
          ],
          [
           245,
           "Apartment"
          ],
          [
           150,
           "Apartment"
          ],
          [
           105,
           "Apartment"
          ],
          [
           209,
           "Apartment"
          ],
          [
           125,
           "Apartment"
          ],
          [
           145,
           "Apartment"
          ],
          [
           115,
           "Apartment"
          ],
          [
           89,
           "Apartment"
          ],
          [
           65,
           "Apartment"
          ],
          [
           165,
           "Apartment"
          ],
          [
           140,
           "Apartment"
          ],
          [
           100,
           "Apartment"
          ],
          [
           65,
           "Apartment"
          ],
          [
           75,
           "Apartment"
          ],
          [
           150,
           "Apartment"
          ],
          [
           169,
           "Apartment"
          ],
          [
           112,
           "Apartment"
          ],
          [
           68,
           "Apartment"
          ],
          [
           89,
           "Apartment"
          ],
          [
           160,
           "Apartment"
          ],
          [
           128,
           "Apartment"
          ],
          [
           249,
           "Apartment"
          ],
          [
           50,
           "Apartment"
          ],
          [
           175,
           "Apartment"
          ],
          [
           250,
           "Apartment"
          ],
          [
           110,
           "Apartment"
          ],
          [
           144,
           "Apartment"
          ],
          [
           149,
           "Apartment"
          ],
          [
           350,
           "Apartment"
          ],
          [
           95,
           "Apartment"
          ],
          [
           199,
           "Apartment"
          ],
          [
           145,
           "Apartment"
          ],
          [
           350,
           "Apartment"
          ],
          [
           65,
           "Apartment"
          ],
          [
           150,
           "Apartment"
          ],
          [
           150,
           "Apartment"
          ],
          [
           160,
           "Apartment"
          ],
          [
           170,
           "Apartment"
          ],
          [
           85,
           "Apartment"
          ],
          [
           75,
           "Apartment"
          ],
          [
           100,
           "Apartment"
          ],
          [
           100,
           "Apartment"
          ],
          [
           219,
           "Apartment"
          ],
          [
           124,
           "Apartment"
          ],
          [
           40,
           "Apartment"
          ],
          [
           99,
           "Apartment"
          ],
          [
           90,
           "Apartment"
          ],
          [
           90,
           "Apartment"
          ],
          [
           95,
           "Apartment"
          ],
          [
           42,
           "Apartment"
          ],
          [
           95,
           "Apartment"
          ],
          [
           120,
           "Apartment"
          ],
          [
           59,
           "Apartment"
          ],
          [
           70,
           "Apartment"
          ],
          [
           195,
           "Apartment"
          ],
          [
           85,
           "Apartment"
          ],
          [
           195,
           "Apartment"
          ],
          [
           95,
           "Apartment"
          ],
          [
           120,
           "Apartment"
          ],
          [
           69,
           "Apartment"
          ],
          [
           65,
           "Apartment"
          ],
          [
           99,
           "Apartment"
          ],
          [
           79,
           "Apartment"
          ],
          [
           100,
           "Apartment"
          ],
          [
           170,
           "Apartment"
          ],
          [
           275,
           "Apartment"
          ],
          [
           95,
           "Apartment"
          ],
          [
           125,
           "Apartment"
          ],
          [
           110,
           "Apartment"
          ],
          [
           88,
           "Apartment"
          ],
          [
           75,
           "Apartment"
          ],
          [
           136,
           "Apartment"
          ],
          [
           55,
           "Apartment"
          ],
          [
           75,
           "Apartment"
          ],
          [
           99,
           "Apartment"
          ],
          [
           165,
           "Apartment"
          ],
          [
           30,
           "Apartment"
          ],
          [
           75,
           "Apartment"
          ],
          [
           250,
           "Apartment"
          ],
          [
           50,
           "Apartment"
          ],
          [
           150,
           "Apartment"
          ],
          [
           150,
           "Apartment"
          ],
          [
           109,
           "Apartment"
          ],
          [
           120,
           "Apartment"
          ],
          [
           105,
           "Apartment"
          ],
          [
           125,
           "Apartment"
          ],
          [
           40,
           "Apartment"
          ],
          [
           125,
           "Apartment"
          ],
          [
           120,
           "Apartment"
          ],
          [
           100,
           "Apartment"
          ],
          [
           67,
           "Apartment"
          ],
          [
           86,
           "Apartment"
          ],
          [
           60,
           "Apartment"
          ],
          [
           90,
           "Apartment"
          ],
          [
           50,
           "Apartment"
          ],
          [
           95,
           "Apartment"
          ],
          [
           75,
           "Apartment"
          ],
          [
           100,
           "Apartment"
          ],
          [
           135,
           "Apartment"
          ],
          [
           90,
           "Apartment"
          ],
          [
           138,
           "Apartment"
          ],
          [
           80,
           "Apartment"
          ],
          [
           87,
           "Apartment"
          ],
          [
           60,
           "Apartment"
          ],
          [
           59,
           "Apartment"
          ],
          [
           70,
           "Apartment"
          ],
          [
           65,
           "Apartment"
          ],
          [
           85,
           "Apartment"
          ],
          [
           74,
           "Apartment"
          ],
          [
           79,
           "Apartment"
          ],
          [
           45,
           "Apartment"
          ],
          [
           50,
           "Apartment"
          ],
          [
           149,
           "Apartment"
          ],
          [
           69,
           "Apartment"
          ],
          [
           69,
           "Apartment"
          ],
          [
           112,
           "Apartment"
          ],
          [
           65,
           "Apartment"
          ],
          [
           108,
           "Apartment"
          ],
          [
           120,
           "Apartment"
          ],
          [
           70,
           "Apartment"
          ],
          [
           88,
           "Apartment"
          ],
          [
           75,
           "Apartment"
          ],
          [
           130,
           "Apartment"
          ],
          [
           60,
           "Apartment"
          ],
          [
           85,
           "Apartment"
          ],
          [
           275,
           "Apartment"
          ],
          [
           40,
           "Apartment"
          ],
          [
           75,
           "Apartment"
          ],
          [
           85,
           "Apartment"
          ],
          [
           48,
           "Apartment"
          ],
          [
           110,
           "Apartment"
          ],
          [
           120,
           "Apartment"
          ],
          [
           125,
           "Apartment"
          ],
          [
           95,
           "Apartment"
          ],
          [
           45,
           "Apartment"
          ],
          [
           40,
           "Apartment"
          ],
          [
           50,
           "Apartment"
          ],
          [
           75,
           "Apartment"
          ],
          [
           110,
           "Apartment"
          ],
          [
           90,
           "Apartment"
          ],
          [
           95,
           "Apartment"
          ],
          [
           65,
           "Apartment"
          ],
          [
           90,
           "Apartment"
          ],
          [
           110,
           "Apartment"
          ],
          [
           70,
           "Apartment"
          ],
          [
           65,
           "Apartment"
          ],
          [
           125,
           "Apartment"
          ],
          [
           90,
           "Apartment"
          ],
          [
           70,
           "Apartment"
          ],
          [
           95,
           "Apartment"
          ],
          [
           155,
           "Apartment"
          ],
          [
           50,
           "Apartment"
          ],
          [
           105,
           "Apartment"
          ],
          [
           92,
           "Apartment"
          ],
          [
           150,
           "Apartment"
          ],
          [
           54,
           "Apartment"
          ],
          [
           150,
           "Apartment"
          ],
          [
           95,
           "Apartment"
          ],
          [
           70,
           "Apartment"
          ],
          [
           38,
           "Apartment"
          ],
          [
           110,
           "Apartment"
          ],
          [
           100,
           "Apartment"
          ],
          [
           85,
           "Apartment"
          ],
          [
           80,
           "Apartment"
          ],
          [
           99,
           "Apartment"
          ],
          [
           65,
           "Apartment"
          ],
          [
           127,
           "Apartment"
          ],
          [
           85,
           "Apartment"
          ],
          [
           65,
           "Apartment"
          ],
          [
           99,
           "Apartment"
          ],
          [
           75,
           "Apartment"
          ],
          [
           129,
           "Apartment"
          ],
          [
           55,
           "Apartment"
          ],
          [
           50,
           "Apartment"
          ],
          [
           95,
           "Apartment"
          ],
          [
           100,
           "Apartment"
          ],
          [
           59,
           "Apartment"
          ],
          [
           51,
           "Apartment"
          ],
          [
           100,
           "Apartment"
          ],
          [
           79,
           "Apartment"
          ],
          [
           30,
           "Apartment"
          ],
          [
           35,
           "Apartment"
          ],
          [
           95,
           "Apartment"
          ],
          [
           75,
           "Apartment"
          ],
          [
           94,
           "Apartment"
          ],
          [
           90,
           "Apartment"
          ],
          [
           55,
           "Apartment"
          ],
          [
           59,
           "Apartment"
          ],
          [
           135,
           "Apartment"
          ],
          [
           137,
           "Apartment"
          ],
          [
           67,
           "Apartment"
          ],
          [
           110,
           "Apartment"
          ],
          [
           95,
           "Apartment"
          ],
          [
           80,
           "Apartment"
          ],
          [
           50,
           "Apartment"
          ],
          [
           85,
           "Apartment"
          ],
          [
           115,
           "Apartment"
          ],
          [
           138,
           "Apartment"
          ],
          [
           100,
           "Apartment"
          ],
          [
           45,
           "Apartment"
          ],
          [
           127,
           "Apartment"
          ],
          [
           110,
           "Apartment"
          ],
          [
           90,
           "Apartment"
          ],
          [
           80,
           "Apartment"
          ],
          [
           115,
           "Apartment"
          ],
          [
           110,
           "Apartment"
          ],
          [
           105,
           "Apartment"
          ],
          [
           110,
           "Apartment"
          ],
          [
           95,
           "Apartment"
          ],
          [
           90,
           "Apartment"
          ],
          [
           65,
           "Apartment"
          ],
          [
           120,
           "Apartment"
          ],
          [
           99,
           "Apartment"
          ],
          [
           135,
           "Apartment"
          ],
          [
           90,
           "Apartment"
          ],
          [
           160,
           "Apartment"
          ],
          [
           89,
           "Apartment"
          ],
          [
           80,
           "Apartment"
          ],
          [
           65,
           "Apartment"
          ],
          [
           160,
           "Apartment"
          ],
          [
           115,
           "Apartment"
          ],
          [
           125,
           "Apartment"
          ],
          [
           59,
           "Apartment"
          ],
          [
           122,
           "Apartment"
          ],
          [
           175,
           "Apartment"
          ],
          [
           69,
           "Apartment"
          ],
          [
           150,
           "Apartment"
          ],
          [
           80,
           "Apartment"
          ],
          [
           95,
           "Apartment"
          ],
          [
           175,
           "Apartment"
          ],
          [
           200,
           "Apartment"
          ],
          [
           195,
           "Apartment"
          ],
          [
           145,
           "Apartment"
          ],
          [
           100,
           "Apartment"
          ],
          [
           90,
           "Apartment"
          ],
          [
           162,
           "Apartment"
          ],
          [
           75,
           "Apartment"
          ],
          [
           185,
           "Apartment"
          ],
          [
           130,
           "Apartment"
          ],
          [
           230,
           "Apartment"
          ],
          [
           79,
           "Apartment"
          ],
          [
           85,
           "Apartment"
          ],
          [
           70,
           "Apartment"
          ],
          [
           85,
           "Apartment"
          ],
          [
           75,
           "Apartment"
          ],
          [
           95,
           "Apartment"
          ],
          [
           62,
           "Apartment"
          ],
          [
           119,
           "Apartment"
          ],
          [
           149,
           "Apartment"
          ],
          [
           139,
           "Apartment"
          ],
          [
           150,
           "Apartment"
          ],
          [
           148,
           "Apartment"
          ],
          [
           79,
           "Apartment"
          ],
          [
           69,
           "Apartment"
          ],
          [
           129,
           "Apartment"
          ],
          [
           59,
           "Apartment"
          ],
          [
           79,
           "Apartment"
          ],
          [
           150,
           "Apartment"
          ],
          [
           175,
           "Apartment"
          ],
          [
           75,
           "Apartment"
          ],
          [
           69,
           "Apartment"
          ],
          [
           103,
           "Apartment"
          ],
          [
           80,
           "Apartment"
          ],
          [
           150,
           "Apartment"
          ],
          [
           120,
           "Apartment"
          ],
          [
           99,
           "Apartment"
          ],
          [
           395,
           "Apartment"
          ],
          [
           98,
           "Apartment"
          ],
          [
           325,
           "Apartment"
          ],
          [
           90,
           "Apartment"
          ],
          [
           110,
           "Apartment"
          ],
          [
           70,
           "Apartment"
          ],
          [
           210,
           "Apartment"
          ],
          [
           120,
           "Apartment"
          ],
          [
           62,
           "Apartment"
          ],
          [
           58,
           "Apartment"
          ],
          [
           150,
           "Apartment"
          ],
          [
           155,
           "Apartment"
          ],
          [
           135,
           "Apartment"
          ],
          [
           275,
           "Apartment"
          ],
          [
           135,
           "Apartment"
          ],
          [
           220,
           "Apartment"
          ],
          [
           109,
           "Apartment"
          ],
          [
           79,
           "Apartment"
          ],
          [
           45,
           "Apartment"
          ],
          [
           100,
           "Apartment"
          ],
          [
           80,
           "Apartment"
          ],
          [
           100,
           "Apartment"
          ],
          [
           139,
           "Apartment"
          ],
          [
           169,
           "Apartment"
          ],
          [
           114,
           "Apartment"
          ],
          [
           85,
           "Apartment"
          ],
          [
           100,
           "Apartment"
          ],
          [
           125,
           "Apartment"
          ],
          [
           190,
           "Apartment"
          ],
          [
           100,
           "Apartment"
          ],
          [
           40,
           "Apartment"
          ],
          [
           250,
           "Apartment"
          ],
          [
           75,
           "Apartment"
          ],
          [
           89,
           "Apartment"
          ],
          [
           90,
           "Apartment"
          ],
          [
           199,
           "Apartment"
          ],
          [
           110,
           "Apartment"
          ],
          [
           155,
           "Apartment"
          ],
          [
           119,
           "Apartment"
          ],
          [
           25,
           "Apartment"
          ],
          [
           159,
           "Apartment"
          ],
          [
           125,
           "Apartment"
          ],
          [
           25,
           "Apartment"
          ],
          [
           225,
           "Apartment"
          ],
          [
           140,
           "Apartment"
          ],
          [
           89,
           "Apartment"
          ],
          [
           190,
           "Apartment"
          ],
          [
           99,
           "Apartment"
          ],
          [
           49,
           "Apartment"
          ],
          [
           150,
           "Apartment"
          ],
          [
           59,
           "Apartment"
          ],
          [
           65,
           "Apartment"
          ],
          [
           80,
           "Apartment"
          ],
          [
           69,
           "Apartment"
          ],
          [
           97,
           "Apartment"
          ],
          [
           174,
           "Apartment"
          ],
          [
           89,
           "Apartment"
          ],
          [
           125,
           "Apartment"
          ],
          [
           132,
           "Apartment"
          ],
          [
           119,
           "Apartment"
          ],
          [
           150,
           "Apartment"
          ],
          [
           115,
           "Apartment"
          ],
          [
           99,
           "Apartment"
          ],
          [
           70,
           "Apartment"
          ],
          [
           150,
           "Apartment"
          ],
          [
           145,
           "Apartment"
          ],
          [
           118,
           "Apartment"
          ],
          [
           100,
           "Apartment"
          ],
          [
           65,
           "Apartment"
          ],
          [
           115,
           "Apartment"
          ],
          [
           149,
           "Apartment"
          ],
          [
           59,
           "Apartment"
          ],
          [
           155,
           "Apartment"
          ],
          [
           100,
           "Apartment"
          ],
          [
           175,
           "Apartment"
          ],
          [
           70,
           "Apartment"
          ],
          [
           84,
           "Apartment"
          ],
          [
           167,
           "Apartment"
          ],
          [
           100,
           "Apartment"
          ],
          [
           259,
           "Apartment"
          ],
          [
           139,
           "Apartment"
          ],
          [
           185,
           "Apartment"
          ],
          [
           99,
           "Apartment"
          ],
          [
           90,
           "Apartment"
          ],
          [
           250,
           "Apartment"
          ],
          [
           100,
           "Apartment"
          ],
          [
           80,
           "Apartment"
          ],
          [
           119,
           "Apartment"
          ],
          [
           69,
           "Apartment"
          ],
          [
           90,
           "Apartment"
          ],
          [
           69,
           "Apartment"
          ],
          [
           130,
           "Apartment"
          ],
          [
           135,
           "Apartment"
          ],
          [
           82,
           "Apartment"
          ],
          [
           212,
           "Apartment"
          ],
          [
           100,
           "Apartment"
          ],
          [
           100,
           "Apartment"
          ],
          [
           95,
           "Apartment"
          ],
          [
           239,
           "Apartment"
          ],
          [
           75,
           "Apartment"
          ],
          [
           75,
           "Apartment"
          ],
          [
           96,
           "Apartment"
          ],
          [
           80,
           "Apartment"
          ],
          [
           119,
           "Apartment"
          ],
          [
           69,
           "Apartment"
          ],
          [
           85,
           "Apartment"
          ],
          [
           85,
           "Apartment"
          ],
          [
           100,
           "Apartment"
          ],
          [
           140,
           "Apartment"
          ],
          [
           100,
           "Apartment"
          ],
          [
           69,
           "Apartment"
          ],
          [
           119,
           "Apartment"
          ],
          [
           69,
           "Apartment"
          ],
          [
           60,
           "Apartment"
          ],
          [
           60,
           "Apartment"
          ],
          [
           75,
           "Apartment"
          ],
          [
           100,
           "Apartment"
          ],
          [
           93,
           "Apartment"
          ],
          [
           139,
           "Apartment"
          ],
          [
           150,
           "Apartment"
          ],
          [
           125,
           "Apartment"
          ],
          [
           69,
           "Apartment"
          ],
          [
           138,
           "Apartment"
          ],
          [
           145,
           "Apartment"
          ],
          [
           39,
           "Apartment"
          ],
          [
           115,
           "Apartment"
          ],
          [
           100,
           "Apartment"
          ],
          [
           175,
           "Apartment"
          ],
          [
           82,
           "Apartment"
          ],
          [
           150,
           "Apartment"
          ],
          [
           68,
           "Apartment"
          ],
          [
           600,
           "Apartment"
          ],
          [
           149,
           "Apartment"
          ],
          [
           111,
           "Apartment"
          ],
          [
           120,
           "Apartment"
          ],
          [
           96,
           "Apartment"
          ],
          [
           150,
           "Apartment"
          ],
          [
           100,
           "Apartment"
          ],
          [
           100,
           "Apartment"
          ],
          [
           105,
           "Apartment"
          ],
          [
           209,
           "Apartment"
          ],
          [
           250,
           "Apartment"
          ],
          [
           82,
           "Apartment"
          ],
          [
           110,
           "Apartment"
          ],
          [
           125,
           "Apartment"
          ],
          [
           109,
           "Apartment"
          ],
          [
           198,
           "Apartment"
          ],
          [
           160,
           "Apartment"
          ],
          [
           126,
           "Apartment"
          ],
          [
           99,
           "Apartment"
          ],
          [
           49,
           "Apartment"
          ],
          [
           99,
           "Apartment"
          ],
          [
           100,
           "Apartment"
          ],
          [
           82,
           "Apartment"
          ],
          [
           80,
           "Apartment"
          ],
          [
           39,
           "Apartment"
          ],
          [
           49,
           "Apartment"
          ],
          [
           125,
           "Apartment"
          ],
          [
           150,
           "Apartment"
          ],
          [
           90,
           "Apartment"
          ],
          [
           69,
           "Apartment"
          ],
          [
           104,
           "Apartment"
          ],
          [
           180,
           "Apartment"
          ],
          [
           150,
           "Apartment"
          ],
          [
           240,
           "Apartment"
          ],
          [
           70,
           "Apartment"
          ],
          [
           99,
           "Apartment"
          ],
          [
           98,
           "Apartment"
          ],
          [
           105,
           "Apartment"
          ],
          [
           120,
           "Apartment"
          ],
          [
           195,
           "Apartment"
          ],
          [
           200,
           "Apartment"
          ],
          [
           69,
           "Apartment"
          ],
          [
           195,
           "Apartment"
          ],
          [
           119,
           "Apartment"
          ],
          [
           75,
           "Apartment"
          ],
          [
           99,
           "Apartment"
          ],
          [
           149,
           "Apartment"
          ],
          [
           199,
           "Apartment"
          ],
          [
           69,
           "Apartment"
          ],
          [
           69,
           "Apartment"
          ],
          [
           239,
           "Apartment"
          ],
          [
           29,
           "Apartment"
          ],
          [
           134,
           "Apartment"
          ],
          [
           169,
           "Apartment"
          ],
          [
           120,
           "Apartment"
          ],
          [
           204,
           "Apartment"
          ],
          [
           295,
           "Apartment"
          ],
          [
           152,
           "Apartment"
          ],
          [
           69,
           "Apartment"
          ],
          [
           81,
           "Apartment"
          ],
          [
           25,
           "Apartment"
          ],
          [
           195,
           "Apartment"
          ],
          [
           95,
           "Apartment"
          ],
          [
           100,
           "Apartment"
          ],
          [
           120,
           "Apartment"
          ],
          [
           175,
           "Apartment"
          ],
          [
           200,
           "Apartment"
          ],
          [
           69,
           "Apartment"
          ],
          [
           129,
           "Apartment"
          ],
          [
           59,
           "Apartment"
          ],
          [
           69,
           "Apartment"
          ],
          [
           75,
           "Apartment"
          ],
          [
           71,
           "Apartment"
          ],
          [
           49,
           "Apartment"
          ],
          [
           90,
           "Apartment"
          ],
          [
           140,
           "Apartment"
          ],
          [
           95,
           "Apartment"
          ],
          [
           100,
           "Apartment"
          ],
          [
           140,
           "Apartment"
          ],
          [
           150,
           "Apartment"
          ],
          [
           69,
           "Apartment"
          ],
          [
           125,
           "Apartment"
          ],
          [
           110,
           "Apartment"
          ],
          [
           152,
           "Apartment"
          ],
          [
           68,
           "Apartment"
          ],
          [
           120,
           "Apartment"
          ],
          [
           120,
           "Apartment"
          ],
          [
           110,
           "Apartment"
          ],
          [
           160,
           "Apartment"
          ],
          [
           105,
           "Apartment"
          ],
          [
           82,
           "Apartment"
          ],
          [
           110,
           "Apartment"
          ],
          [
           126,
           "Apartment"
          ],
          [
           99,
           "Apartment"
          ],
          [
           85,
           "Apartment"
          ],
          [
           199,
           "Apartment"
          ],
          [
           125,
           "Apartment"
          ],
          [
           45,
           "Apartment"
          ],
          [
           110,
           "Apartment"
          ],
          [
           110,
           "Apartment"
          ],
          [
           119,
           "Apartment"
          ],
          [
           115,
           "Apartment"
          ],
          [
           60,
           "Apartment"
          ],
          [
           150,
           "Apartment"
          ],
          [
           115,
           "Apartment"
          ],
          [
           100,
           "Apartment"
          ],
          [
           300,
           "Apartment"
          ],
          [
           98,
           "Apartment"
          ],
          [
           200,
           "Apartment"
          ],
          [
           89,
           "Apartment"
          ],
          [
           60,
           "Apartment"
          ],
          [
           144,
           "Apartment"
          ],
          [
           110,
           "Apartment"
          ],
          [
           90,
           "Apartment"
          ],
          [
           189,
           "Apartment"
          ],
          [
           99,
           "Apartment"
          ],
          [
           175,
           "Apartment"
          ],
          [
           105,
           "Apartment"
          ],
          [
           99,
           "Apartment"
          ],
          [
           115,
           "Apartment"
          ],
          [
           135,
           "Apartment"
          ],
          [
           79,
           "Apartment"
          ],
          [
           105,
           "Apartment"
          ],
          [
           299,
           "Apartment"
          ],
          [
           38,
           "Apartment"
          ],
          [
           100,
           "Apartment"
          ],
          [
           45,
           "Apartment"
          ],
          [
           119,
           "Apartment"
          ],
          [
           60,
           "Apartment"
          ],
          [
           80,
           "Apartment"
          ],
          [
           65,
           "Apartment"
          ],
          [
           91,
           "Apartment"
          ],
          [
           68,
           "Apartment"
          ],
          [
           99,
           "Apartment"
          ],
          [
           90,
           "Apartment"
          ],
          [
           135,
           "Apartment"
          ],
          [
           115,
           "Apartment"
          ],
          [
           89,
           "Apartment"
          ],
          [
           80,
           "Apartment"
          ],
          [
           65,
           "Apartment"
          ],
          [
           130,
           "Apartment"
          ],
          [
           95,
           "Apartment"
          ],
          [
           93,
           "Apartment"
          ],
          [
           76,
           "Apartment"
          ],
          [
           109,
           "Apartment"
          ],
          [
           110,
           "Apartment"
          ],
          [
           60,
           "Apartment"
          ],
          [
           80,
           "Apartment"
          ],
          [
           90,
           "Apartment"
          ],
          [
           110,
           "Apartment"
          ],
          [
           84,
           "Apartment"
          ],
          [
           129,
           "Apartment"
          ],
          [
           125,
           "Apartment"
          ],
          [
           65,
           "Apartment"
          ],
          [
           75,
           "Apartment"
          ],
          [
           103,
           "Apartment"
          ],
          [
           105,
           "Apartment"
          ],
          [
           110,
           "Apartment"
          ],
          [
           175,
           "Apartment"
          ],
          [
           120,
           "Apartment"
          ],
          [
           275,
           "Apartment"
          ],
          [
           65,
           "Apartment"
          ],
          [
           100,
           "Apartment"
          ],
          [
           95,
           "Apartment"
          ],
          [
           100,
           "Apartment"
          ],
          [
           135,
           "Apartment"
          ],
          [
           200,
           "Apartment"
          ],
          [
           145,
           "Apartment"
          ],
          [
           96,
           "Apartment"
          ],
          [
           110,
           "Apartment"
          ],
          [
           119,
           "Apartment"
          ],
          [
           217,
           "Apartment"
          ],
          [
           95,
           "Apartment"
          ],
          [
           85,
           "Apartment"
          ],
          [
           200,
           "Apartment"
          ],
          [
           120,
           "Apartment"
          ],
          [
           240,
           "Apartment"
          ],
          [
           103,
           "Apartment"
          ],
          [
           165,
           "Apartment"
          ],
          [
           120,
           "Apartment"
          ],
          [
           200,
           "Apartment"
          ],
          [
           120,
           "Apartment"
          ],
          [
           200,
           "Apartment"
          ],
          [
           115,
           "Apartment"
          ],
          [
           125,
           "Apartment"
          ],
          [
           75,
           "Apartment"
          ],
          [
           115,
           "Apartment"
          ],
          [
           95,
           "Apartment"
          ],
          [
           259,
           "Apartment"
          ],
          [
           80,
           "Apartment"
          ],
          [
           130,
           "Apartment"
          ],
          [
           89,
           "Apartment"
          ],
          [
           130,
           "Apartment"
          ],
          [
           72,
           "Apartment"
          ],
          [
           80,
           "Apartment"
          ],
          [
           175,
           "Apartment"
          ],
          [
           75,
           "Apartment"
          ],
          [
           95,
           "Apartment"
          ],
          [
           38,
           "Apartment"
          ],
          [
           189,
           "Apartment"
          ],
          [
           205,
           "Apartment"
          ],
          [
           199,
           "Apartment"
          ],
          [
           175,
           "Apartment"
          ],
          [
           97,
           "Apartment"
          ],
          [
           200,
           "Apartment"
          ],
          [
           99,
           "Apartment"
          ],
          [
           100,
           "Apartment"
          ],
          [
           195,
           "Apartment"
          ],
          [
           85,
           "Apartment"
          ],
          [
           149,
           "Apartment"
          ],
          [
           119,
           "Apartment"
          ],
          [
           145,
           "Apartment"
          ],
          [
           99,
           "Apartment"
          ],
          [
           125,
           "Apartment"
          ],
          [
           75,
           "Apartment"
          ],
          [
           145,
           "Apartment"
          ],
          [
           90,
           "Apartment"
          ],
          [
           76,
           "Apartment"
          ],
          [
           150,
           "Apartment"
          ],
          [
           93,
           "Apartment"
          ],
          [
           89,
           "Apartment"
          ],
          [
           160,
           "Apartment"
          ],
          [
           65,
           "Apartment"
          ],
          [
           125,
           "Apartment"
          ],
          [
           75,
           "Apartment"
          ],
          [
           171,
           "Apartment"
          ],
          [
           70,
           "Apartment"
          ],
          [
           78,
           "Apartment"
          ],
          [
           60,
           "Apartment"
          ],
          [
           64,
           "Apartment"
          ],
          [
           85,
           "Apartment"
          ],
          [
           125,
           "Apartment"
          ],
          [
           139,
           "Apartment"
          ],
          [
           150,
           "Apartment"
          ],
          [
           55,
           "Apartment"
          ],
          [
           95,
           "Apartment"
          ],
          [
           100,
           "Apartment"
          ],
          [
           100,
           "Apartment"
          ],
          [
           79,
           "Apartment"
          ],
          [
           95,
           "Apartment"
          ],
          [
           135,
           "Apartment"
          ],
          [
           97,
           "Apartment"
          ],
          [
           95,
           "Apartment"
          ],
          [
           135,
           "Apartment"
          ],
          [
           155,
           "Apartment"
          ],
          [
           95,
           "Apartment"
          ],
          [
           78,
           "Apartment"
          ],
          [
           90,
           "Apartment"
          ],
          [
           151,
           "Apartment"
          ],
          [
           160,
           "Apartment"
          ],
          [
           85,
           "Apartment"
          ],
          [
           175,
           "Apartment"
          ],
          [
           100,
           "Apartment"
          ],
          [
           150,
           "Apartment"
          ],
          [
           145,
           "Apartment"
          ],
          [
           95,
           "Apartment"
          ],
          [
           85,
           "Apartment"
          ],
          [
           100,
           "Apartment"
          ],
          [
           67,
           "Apartment"
          ],
          [
           75,
           "Apartment"
          ],
          [
           60,
           "Apartment"
          ],
          [
           95,
           "Apartment"
          ],
          [
           100,
           "Apartment"
          ],
          [
           125,
           "Apartment"
          ],
          [
           200,
           "Apartment"
          ],
          [
           165,
           "Apartment"
          ],
          [
           100,
           "Apartment"
          ],
          [
           60,
           "Apartment"
          ],
          [
           185,
           "Apartment"
          ],
          [
           60,
           "Apartment"
          ],
          [
           100,
           "Apartment"
          ],
          [
           550,
           "Apartment"
          ],
          [
           225,
           "Apartment"
          ],
          [
           150,
           "Apartment"
          ],
          [
           48,
           "Apartment"
          ],
          [
           125,
           "Apartment"
          ],
          [
           99,
           "Apartment"
          ],
          [
           300,
           "Apartment"
          ],
          [
           76,
           "Apartment"
          ],
          [
           110,
           "Apartment"
          ],
          [
           109,
           "Apartment"
          ],
          [
           120,
           "Apartment"
          ],
          [
           30,
           "Apartment"
          ],
          [
           80,
           "Apartment"
          ],
          [
           125,
           "Apartment"
          ],
          [
           95,
           "Apartment"
          ],
          [
           109,
           "Apartment"
          ],
          [
           80,
           "Apartment"
          ],
          [
           70,
           "Apartment"
          ],
          [
           139,
           "Apartment"
          ],
          [
           75,
           "Apartment"
          ],
          [
           60,
           "Apartment"
          ],
          [
           250,
           "Apartment"
          ],
          [
           150,
           "Apartment"
          ],
          [
           104,
           "Apartment"
          ],
          [
           84,
           "Apartment"
          ],
          [
           70,
           "Apartment"
          ],
          [
           75,
           "Apartment"
          ],
          [
           65,
           "Apartment"
          ],
          [
           125,
           "Apartment"
          ],
          [
           120,
           "Apartment"
          ],
          [
           100,
           "Apartment"
          ],
          [
           45,
           "Apartment"
          ],
          [
           150,
           "Apartment"
          ],
          [
           139,
           "Apartment"
          ],
          [
           100,
           "Apartment"
          ],
          [
           180,
           "Apartment"
          ],
          [
           70,
           "Apartment"
          ],
          [
           104,
           "Apartment"
          ],
          [
           50,
           "Apartment"
          ],
          [
           125,
           "Apartment"
          ],
          [
           200,
           "Apartment"
          ],
          [
           85,
           "Apartment"
          ],
          [
           120,
           "Apartment"
          ],
          [
           150,
           "Apartment"
          ],
          [
           22,
           "Apartment"
          ],
          [
           140,
           "Apartment"
          ],
          [
           129,
           "Apartment"
          ],
          [
           220,
           "Apartment"
          ],
          [
           100,
           "Apartment"
          ],
          [
           100,
           "Apartment"
          ],
          [
           125,
           "Apartment"
          ],
          [
           80,
           "Apartment"
          ],
          [
           100,
           "Apartment"
          ],
          [
           115,
           "Apartment"
          ],
          [
           135,
           "Apartment"
          ],
          [
           125,
           "Apartment"
          ],
          [
           95,
           "Apartment"
          ],
          [
           135,
           "Apartment"
          ],
          [
           92,
           "Apartment"
          ],
          [
           90,
           "Apartment"
          ],
          [
           139,
           "Apartment"
          ],
          [
           83,
           "Apartment"
          ],
          [
           85,
           "Apartment"
          ],
          [
           195,
           "Apartment"
          ],
          [
           125,
           "Apartment"
          ],
          [
           98,
           "Apartment"
          ],
          [
           125,
           "Apartment"
          ],
          [
           99,
           "Apartment"
          ],
          [
           49,
           "Apartment"
          ],
          [
           67,
           "Apartment"
          ],
          [
           200,
           "Apartment"
          ],
          [
           84,
           "Apartment"
          ],
          [
           140,
           "Apartment"
          ],
          [
           99,
           "Apartment"
          ],
          [
           149,
           "Apartment"
          ],
          [
           138,
           "Apartment"
          ],
          [
           200,
           "Apartment"
          ],
          [
           136,
           "Apartment"
          ],
          [
           100,
           "Apartment"
          ],
          [
           95,
           "Apartment"
          ],
          [
           95,
           "Apartment"
          ],
          [
           105,
           "Apartment"
          ],
          [
           70,
           "Apartment"
          ],
          [
           35,
           "Apartment"
          ],
          [
           35,
           "Apartment"
          ],
          [
           43,
           "Apartment"
          ],
          [
           55,
           "Apartment"
          ],
          [
           149,
           "Apartment"
          ],
          [
           97,
           "Apartment"
          ],
          [
           75,
           "Apartment"
          ],
          [
           125,
           "Apartment"
          ],
          [
           200,
           "Apartment"
          ],
          [
           115,
           "Apartment"
          ],
          [
           185,
           "Apartment"
          ],
          [
           149,
           "Apartment"
          ],
          [
           75,
           "Apartment"
          ],
          [
           125,
           "Apartment"
          ],
          [
           99,
           "Apartment"
          ],
          [
           100,
           "Apartment"
          ],
          [
           75,
           "Apartment"
          ],
          [
           60,
           "Apartment"
          ],
          [
           232,
           "Apartment"
          ],
          [
           85,
           "Apartment"
          ],
          [
           90,
           "Apartment"
          ],
          [
           120,
           "Apartment"
          ],
          [
           89,
           "Apartment"
          ],
          [
           125,
           "Apartment"
          ],
          [
           67,
           "Apartment"
          ],
          [
           115,
           "Apartment"
          ],
          [
           110,
           "Apartment"
          ],
          [
           100,
           "Apartment"
          ],
          [
           99,
           "Apartment"
          ],
          [
           115,
           "Apartment"
          ],
          [
           135,
           "Apartment"
          ],
          [
           119,
           "Apartment"
          ],
          [
           160,
           "Apartment"
          ],
          [
           150,
           "Apartment"
          ],
          [
           78,
           "Apartment"
          ],
          [
           50,
           "Apartment"
          ],
          [
           135,
           "Apartment"
          ],
          [
           105,
           "Apartment"
          ],
          [
           99,
           "Apartment"
          ],
          [
           65,
           "Apartment"
          ],
          [
           149,
           "Apartment"
          ],
          [
           40,
           "Apartment"
          ],
          [
           115,
           "Apartment"
          ],
          [
           150,
           "Apartment"
          ],
          [
           55,
           "Apartment"
          ],
          [
           99,
           "Apartment"
          ],
          [
           110,
           "Apartment"
          ],
          [
           80,
           "Apartment"
          ],
          [
           115,
           "Apartment"
          ],
          [
           175,
           "Apartment"
          ],
          [
           109,
           "Apartment"
          ],
          [
           107,
           "Apartment"
          ],
          [
           108,
           "Apartment"
          ],
          [
           125,
           "Apartment"
          ],
          [
           100,
           "Apartment"
          ],
          [
           109,
           "Apartment"
          ],
          [
           120,
           "Apartment"
          ],
          [
           65,
           "Apartment"
          ],
          [
           95,
           "Apartment"
          ],
          [
           79,
           "Apartment"
          ],
          [
           87,
           "Apartment"
          ]
         ],
         "hovertemplate": "property_type=%{customdata[1]}<br>price=%{customdata[0]}<br>latitude=%{lat}<br>longitude=%{lon}<extra></extra>",
         "lat": {
          "bdata": "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",
          "dtype": "f8"
         },
         "legendgroup": "Apartment",
         "lon": {
          "bdata": "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",
          "dtype": "f8"
         },
         "marker": {
          "color": "#000000",
          "size": {
           "bdata": "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",
           "dtype": "f8"
          },
          "sizemode": "area",
          "sizeref": 2.5
         },
         "mode": "markers",
         "name": "Apartment",
         "showlegend": true,
         "subplot": "mapbox",
         "type": "scattermapbox"
        },
        {
         "customdata": [
          [
           975,
           "House"
          ],
          [
           450,
           "House"
          ],
          [
           120,
           "House"
          ],
          [
           80,
           "House"
          ],
          [
           95,
           "House"
          ],
          [
           99,
           "House"
          ],
          [
           165,
           "House"
          ],
          [
           461,
           "House"
          ],
          [
           109,
           "House"
          ],
          [
           99,
           "House"
          ],
          [
           700,
           "House"
          ],
          [
           99,
           "House"
          ],
          [
           450,
           "House"
          ],
          [
           75,
           "House"
          ],
          [
           600,
           "House"
          ],
          [
           450,
           "House"
          ],
          [
           150,
           "House"
          ],
          [
           325,
           "House"
          ],
          [
           175,
           "House"
          ],
          [
           222,
           "House"
          ],
          [
           348,
           "House"
          ],
          [
           45,
           "House"
          ],
          [
           148,
           "House"
          ],
          [
           350,
           "House"
          ],
          [
           150,
           "House"
          ],
          [
           160,
           "House"
          ],
          [
           130,
           "House"
          ],
          [
           99,
           "House"
          ],
          [
           95,
           "House"
          ],
          [
           400,
           "House"
          ],
          [
           85,
           "House"
          ],
          [
           80,
           "House"
          ],
          [
           175,
           "House"
          ],
          [
           170,
           "House"
          ],
          [
           465,
           "House"
          ],
          [
           59,
           "House"
          ],
          [
           145,
           "House"
          ],
          [
           70,
           "House"
          ],
          [
           55,
           "House"
          ],
          [
           95,
           "House"
          ],
          [
           125,
           "House"
          ],
          [
           65,
           "House"
          ],
          [
           25,
           "House"
          ],
          [
           40,
           "House"
          ],
          [
           149,
           "House"
          ],
          [
           55,
           "House"
          ],
          [
           218,
           "House"
          ],
          [
           80,
           "House"
          ],
          [
           225,
           "House"
          ],
          [
           50,
           "House"
          ],
          [
           65,
           "House"
          ],
          [
           375,
           "House"
          ],
          [
           97,
           "House"
          ],
          [
           197,
           "House"
          ],
          [
           70,
           "House"
          ],
          [
           180,
           "House"
          ],
          [
           150,
           "House"
          ],
          [
           195,
           "House"
          ],
          [
           224,
           "House"
          ],
          [
           115,
           "House"
          ],
          [
           55,
           "House"
          ],
          [
           338,
           "House"
          ],
          [
           79,
           "House"
          ],
          [
           80,
           "House"
          ],
          [
           80,
           "House"
          ],
          [
           100,
           "House"
          ],
          [
           57,
           "House"
          ],
          [
           99,
           "House"
          ],
          [
           79,
           "House"
          ],
          [
           115,
           "House"
          ],
          [
           350,
           "House"
          ],
          [
           295,
           "House"
          ],
          [
           70,
           "House"
          ],
          [
           53,
           "House"
          ],
          [
           110,
           "House"
          ],
          [
           225,
           "House"
          ],
          [
           35,
           "House"
          ],
          [
           55,
           "House"
          ],
          [
           79,
           "House"
          ],
          [
           133,
           "House"
          ],
          [
           200,
           "House"
          ],
          [
           52,
           "House"
          ],
          [
           149,
           "House"
          ],
          [
           199,
           "House"
          ],
          [
           225,
           "House"
          ],
          [
           85,
           "House"
          ],
          [
           80,
           "House"
          ],
          [
           89,
           "House"
          ],
          [
           99,
           "House"
          ],
          [
           180,
           "House"
          ],
          [
           70,
           "House"
          ],
          [
           75,
           "House"
          ],
          [
           80,
           "House"
          ],
          [
           80,
           "House"
          ],
          [
           70,
           "House"
          ],
          [
           350,
           "House"
          ],
          [
           90,
           "House"
          ],
          [
           435,
           "House"
          ],
          [
           250,
           "House"
          ],
          [
           65,
           "House"
          ],
          [
           95,
           "House"
          ],
          [
           50,
           "House"
          ],
          [
           100,
           "House"
          ],
          [
           89,
           "House"
          ],
          [
           116,
           "House"
          ],
          [
           150,
           "House"
          ],
          [
           275,
           "House"
          ],
          [
           180,
           "House"
          ],
          [
           97,
           "House"
          ],
          [
           120,
           "House"
          ],
          [
           250,
           "House"
          ],
          [
           190,
           "House"
          ],
          [
           349,
           "House"
          ],
          [
           196,
           "House"
          ],
          [
           90,
           "House"
          ],
          [
           250,
           "House"
          ],
          [
           130,
           "House"
          ],
          [
           90,
           "House"
          ],
          [
           749,
           "House"
          ],
          [
           285,
           "House"
          ],
          [
           80,
           "House"
          ],
          [
           600,
           "House"
          ],
          [
           95,
           "House"
          ],
          [
           142,
           "House"
          ],
          [
           295,
           "House"
          ],
          [
           335,
           "House"
          ],
          [
           250,
           "House"
          ],
          [
           499,
           "House"
          ],
          [
           350,
           "House"
          ],
          [
           300,
           "House"
          ],
          [
           150,
           "House"
          ],
          [
           250,
           "House"
          ],
          [
           105,
           "House"
          ],
          [
           74,
           "House"
          ],
          [
           140,
           "House"
          ],
          [
           199,
           "House"
          ],
          [
           209,
           "House"
          ],
          [
           100,
           "House"
          ],
          [
           200,
           "House"
          ],
          [
           99,
           "House"
          ],
          [
           90,
           "House"
          ],
          [
           122,
           "House"
          ],
          [
           158,
           "House"
          ],
          [
           89,
           "House"
          ],
          [
           125,
           "House"
          ],
          [
           65,
           "House"
          ],
          [
           100,
           "House"
          ],
          [
           40,
           "House"
          ],
          [
           185,
           "House"
          ],
          [
           40,
           "House"
          ],
          [
           195,
           "House"
          ],
          [
           55,
           "House"
          ],
          [
           175,
           "House"
          ],
          [
           65,
           "House"
          ],
          [
           126,
           "House"
          ],
          [
           70,
           "House"
          ],
          [
           225,
           "House"
          ],
          [
           40,
           "House"
          ],
          [
           50,
           "House"
          ],
          [
           40,
           "House"
          ],
          [
           40,
           "House"
          ],
          [
           160,
           "House"
          ],
          [
           40,
           "House"
          ],
          [
           40,
           "House"
          ],
          [
           66,
           "House"
          ],
          [
           55,
           "House"
          ],
          [
           350,
           "House"
          ],
          [
           85,
           "House"
          ],
          [
           175,
           "House"
          ],
          [
           55,
           "House"
          ],
          [
           150,
           "House"
          ],
          [
           40,
           "House"
          ],
          [
           59,
           "House"
          ],
          [
           80,
           "House"
          ],
          [
           200,
           "House"
          ],
          [
           60,
           "House"
          ],
          [
           59,
           "House"
          ],
          [
           575,
           "House"
          ],
          [
           40,
           "House"
          ],
          [
           139,
           "House"
          ],
          [
           70,
           "House"
          ],
          [
           166,
           "House"
          ],
          [
           99,
           "House"
          ],
          [
           250,
           "House"
          ],
          [
           150,
           "House"
          ],
          [
           200,
           "House"
          ],
          [
           40,
           "House"
          ],
          [
           215,
           "House"
          ],
          [
           249,
           "House"
          ],
          [
           295,
           "House"
          ],
          [
           40,
           "House"
          ],
          [
           40,
           "House"
          ],
          [
           40,
           "House"
          ],
          [
           245,
           "House"
          ],
          [
           210,
           "House"
          ],
          [
           439,
           "House"
          ],
          [
           90,
           "House"
          ],
          [
           40,
           "House"
          ],
          [
           175,
           "House"
          ],
          [
           80,
           "House"
          ],
          [
           400,
           "House"
          ],
          [
           40,
           "House"
          ],
          [
           160,
           "House"
          ],
          [
           55,
           "House"
          ],
          [
           55,
           "House"
          ],
          [
           150,
           "House"
          ],
          [
           55,
           "House"
          ],
          [
           95,
           "House"
          ],
          [
           155,
           "House"
          ],
          [
           55,
           "House"
          ],
          [
           40,
           "House"
          ],
          [
           250,
           "House"
          ],
          [
           145,
           "House"
          ],
          [
           54,
           "House"
          ],
          [
           99,
           "House"
          ],
          [
           254,
           "House"
          ],
          [
           65,
           "House"
          ],
          [
           150,
           "House"
          ],
          [
           45,
           "House"
          ],
          [
           74,
           "House"
          ],
          [
           350,
           "House"
          ],
          [
           310,
           "House"
          ],
          [
           40,
           "House"
          ],
          [
           215,
           "House"
          ],
          [
           245,
           "House"
          ],
          [
           65,
           "House"
          ],
          [
           85,
           "House"
          ],
          [
           95,
           "House"
          ],
          [
           57,
           "House"
          ],
          [
           120,
           "House"
          ],
          [
           490,
           "House"
          ],
          [
           200,
           "House"
          ],
          [
           40,
           "House"
          ],
          [
           255,
           "House"
          ],
          [
           95,
           "House"
          ],
          [
           55,
           "House"
          ],
          [
           85,
           "House"
          ],
          [
           325,
           "House"
          ],
          [
           100,
           "House"
          ],
          [
           55,
           "House"
          ],
          [
           175,
           "House"
          ],
          [
           95,
           "House"
          ],
          [
           100,
           "House"
          ],
          [
           50,
           "House"
          ],
          [
           445,
           "House"
          ],
          [
           75,
           "House"
          ],
          [
           100,
           "House"
          ],
          [
           130,
           "House"
          ],
          [
           235,
           "House"
          ],
          [
           395,
           "House"
          ],
          [
           88,
           "House"
          ],
          [
           425,
           "House"
          ],
          [
           300,
           "House"
          ],
          [
           275,
           "House"
          ],
          [
           85,
           "House"
          ],
          [
           300,
           "House"
          ],
          [
           53,
           "House"
          ],
          [
           107,
           "House"
          ],
          [
           348,
           "House"
          ],
          [
           89,
           "House"
          ],
          [
           89,
           "House"
          ],
          [
           76,
           "House"
          ],
          [
           250,
           "House"
          ],
          [
           180,
           "House"
          ],
          [
           115,
           "House"
          ],
          [
           300,
           "House"
          ],
          [
           89,
           "House"
          ],
          [
           150,
           "House"
          ],
          [
           265,
           "House"
          ],
          [
           100,
           "House"
          ],
          [
           109,
           "House"
          ],
          [
           60,
           "House"
          ],
          [
           249,
           "House"
          ],
          [
           250,
           "House"
          ],
          [
           100,
           "House"
          ],
          [
           235,
           "House"
          ],
          [
           96,
           "House"
          ],
          [
           92,
           "House"
          ],
          [
           55,
           "House"
          ],
          [
           55,
           "House"
          ],
          [
           140,
           "House"
          ],
          [
           140,
           "House"
          ],
          [
           145,
           "House"
          ],
          [
           225,
           "House"
          ],
          [
           199,
           "House"
          ],
          [
           175,
           "House"
          ],
          [
           550,
           "House"
          ],
          [
           149,
           "House"
          ],
          [
           300,
           "House"
          ],
          [
           79,
           "House"
          ],
          [
           59,
           "House"
          ],
          [
           140,
           "House"
          ],
          [
           60,
           "House"
          ],
          [
           215,
           "House"
          ],
          [
           100,
           "House"
          ],
          [
           40,
           "House"
          ],
          [
           99,
           "House"
          ],
          [
           45,
           "House"
          ],
          [
           99,
           "House"
          ],
          [
           225,
           "House"
          ],
          [
           335,
           "House"
          ],
          [
           79,
           "House"
          ],
          [
           111,
           "House"
          ],
          [
           110,
           "House"
          ],
          [
           325,
           "House"
          ],
          [
           141,
           "House"
          ],
          [
           195,
           "House"
          ],
          [
           88,
           "House"
          ],
          [
           125,
           "House"
          ],
          [
           275,
           "House"
          ],
          [
           140,
           "House"
          ],
          [
           225,
           "House"
          ],
          [
           95,
           "House"
          ],
          [
           78,
           "House"
          ],
          [
           55,
           "House"
          ],
          [
           129,
           "House"
          ],
          [
           65,
           "House"
          ],
          [
           175,
           "House"
          ],
          [
           160,
           "House"
          ],
          [
           75,
           "House"
          ],
          [
           80,
           "House"
          ],
          [
           109,
           "House"
          ],
          [
           95,
           "House"
          ],
          [
           85,
           "House"
          ],
          [
           90,
           "House"
          ],
          [
           73,
           "House"
          ],
          [
           400,
           "House"
          ],
          [
           170,
           "House"
          ],
          [
           48,
           "House"
          ],
          [
           82,
           "House"
          ],
          [
           250,
           "House"
          ],
          [
           199,
           "House"
          ],
          [
           250,
           "House"
          ],
          [
           75,
           "House"
          ],
          [
           175,
           "House"
          ],
          [
           95,
           "House"
          ],
          [
           65,
           "House"
          ],
          [
           109,
           "House"
          ],
          [
           150,
           "House"
          ],
          [
           175,
           "House"
          ],
          [
           120,
           "House"
          ],
          [
           129,
           "House"
          ],
          [
           295,
           "House"
          ],
          [
           175,
           "House"
          ],
          [
           150,
           "House"
          ],
          [
           109,
           "House"
          ],
          [
           115,
           "House"
          ],
          [
           200,
           "House"
          ],
          [
           130,
           "House"
          ],
          [
           79,
           "House"
          ],
          [
           80,
           "House"
          ],
          [
           97,
           "House"
          ],
          [
           58,
           "House"
          ],
          [
           125,
           "House"
          ],
          [
           50,
           "House"
          ],
          [
           350,
           "House"
          ],
          [
           375,
           "House"
          ],
          [
           240,
           "House"
          ],
          [
           189,
           "House"
          ],
          [
           250,
           "House"
          ],
          [
           125,
           "House"
          ],
          [
           195,
           "House"
          ],
          [
           69,
           "House"
          ],
          [
           225,
           "House"
          ],
          [
           250,
           "House"
          ],
          [
           50,
           "House"
          ],
          [
           95,
           "House"
          ],
          [
           295,
           "House"
          ],
          [
           175,
           "House"
          ],
          [
           68,
           "House"
          ],
          [
           74,
           "House"
          ],
          [
           500,
           "House"
          ],
          [
           500,
           "House"
          ],
          [
           115,
           "House"
          ],
          [
           350,
           "House"
          ],
          [
           140,
           "House"
          ],
          [
           150,
           "House"
          ],
          [
           50,
           "House"
          ],
          [
           41,
           "House"
          ],
          [
           59,
           "House"
          ],
          [
           47,
           "House"
          ],
          [
           65,
           "House"
          ],
          [
           43,
           "House"
          ],
          [
           44,
           "House"
          ],
          [
           45,
           "House"
          ],
          [
           40,
           "House"
          ],
          [
           275,
           "House"
          ],
          [
           125,
           "House"
          ],
          [
           350,
           "House"
          ],
          [
           295,
           "House"
          ],
          [
           75,
           "House"
          ],
          [
           45,
           "House"
          ],
          [
           30,
           "House"
          ],
          [
           42,
           "House"
          ],
          [
           250,
           "House"
          ],
          [
           43,
           "House"
          ],
          [
           41,
           "House"
          ],
          [
           79,
           "House"
          ],
          [
           75,
           "House"
          ],
          [
           125,
           "House"
          ],
          [
           78,
           "House"
          ],
          [
           30,
           "House"
          ],
          [
           40,
           "House"
          ],
          [
           43,
           "House"
          ],
          [
           70,
           "House"
          ],
          [
           29,
           "House"
          ],
          [
           47,
           "House"
          ],
          [
           50,
           "House"
          ],
          [
           73,
           "House"
          ],
          [
           42,
           "House"
          ],
          [
           42,
           "House"
          ],
          [
           250,
           "House"
          ],
          [
           42,
           "House"
          ],
          [
           275,
           "House"
          ],
          [
           250,
           "House"
          ],
          [
           88,
           "House"
          ],
          [
           139,
           "House"
          ],
          [
           210,
           "House"
          ],
          [
           155,
           "House"
          ],
          [
           168,
           "House"
          ],
          [
           50,
           "House"
          ],
          [
           70,
           "House"
          ],
          [
           165,
           "House"
          ],
          [
           79,
           "House"
          ],
          [
           90,
           "House"
          ],
          [
           380,
           "House"
          ],
          [
           225,
           "House"
          ],
          [
           60,
           "House"
          ],
          [
           157,
           "House"
          ],
          [
           110,
           "House"
          ],
          [
           145,
           "House"
          ],
          [
           85,
           "House"
          ],
          [
           49,
           "House"
          ],
          [
           330,
           "House"
          ],
          [
           350,
           "House"
          ],
          [
           67,
           "House"
          ],
          [
           69,
           "House"
          ],
          [
           75,
           "House"
          ],
          [
           130,
           "House"
          ],
          [
           65,
           "House"
          ],
          [
           60,
           "House"
          ],
          [
           70,
           "House"
          ],
          [
           70,
           "House"
          ],
          [
           55,
           "House"
          ],
          [
           72,
           "House"
          ],
          [
           67,
           "House"
          ],
          [
           58,
           "House"
          ],
          [
           70,
           "House"
          ],
          [
           58,
           "House"
          ],
          [
           58,
           "House"
          ],
          [
           100,
           "House"
          ],
          [
           124,
           "House"
          ],
          [
           65,
           "House"
          ],
          [
           225,
           "House"
          ],
          [
           70,
           "House"
          ],
          [
           158,
           "House"
          ],
          [
           165,
           "House"
          ],
          [
           118,
           "House"
          ],
          [
           90,
           "House"
          ],
          [
           69,
           "House"
          ],
          [
           90,
           "House"
          ],
          [
           75,
           "House"
          ],
          [
           70,
           "House"
          ],
          [
           105,
           "House"
          ],
          [
           75,
           "House"
          ],
          [
           111,
           "House"
          ],
          [
           108,
           "House"
          ],
          [
           115,
           "House"
          ],
          [
           220,
           "House"
          ],
          [
           114,
           "House"
          ],
          [
           59,
           "House"
          ],
          [
           54,
           "House"
          ],
          [
           160,
           "House"
          ],
          [
           175,
           "House"
          ],
          [
           160,
           "House"
          ],
          [
           95,
           "House"
          ],
          [
           92,
           "House"
          ],
          [
           90,
           "House"
          ],
          [
           79,
           "House"
          ],
          [
           72,
           "House"
          ],
          [
           270,
           "House"
          ],
          [
           65,
           "House"
          ],
          [
           300,
           "House"
          ],
          [
           87,
           "House"
          ],
          [
           200,
           "House"
          ],
          [
           156,
           "House"
          ],
          [
           90,
           "House"
          ],
          [
           115,
           "House"
          ],
          [
           119,
           "House"
          ],
          [
           220,
           "House"
          ],
          [
           100,
           "House"
          ],
          [
           99,
           "House"
          ],
          [
           120,
           "House"
          ],
          [
           90,
           "House"
          ],
          [
           90,
           "House"
          ],
          [
           200,
           "House"
          ],
          [
           287,
           "House"
          ],
          [
           119,
           "House"
          ],
          [
           150,
           "House"
          ],
          [
           150,
           "House"
          ],
          [
           279,
           "House"
          ],
          [
           129,
           "House"
          ],
          [
           90,
           "House"
          ],
          [
           199,
           "House"
          ],
          [
           65,
           "House"
          ],
          [
           200,
           "House"
          ],
          [
           257,
           "House"
          ],
          [
           200,
           "House"
          ],
          [
           80,
           "House"
          ],
          [
           65,
           "House"
          ],
          [
           105,
           "House"
          ],
          [
           59,
           "House"
          ],
          [
           59,
           "House"
          ],
          [
           56,
           "House"
          ],
          [
           100,
           "House"
          ],
          [
           135,
           "House"
          ],
          [
           200,
           "House"
          ],
          [
           163,
           "House"
          ],
          [
           83,
           "House"
          ],
          [
           135,
           "House"
          ],
          [
           55,
           "House"
          ],
          [
           500,
           "House"
          ],
          [
           400,
           "House"
          ],
          [
           105,
           "House"
          ],
          [
           129,
           "House"
          ],
          [
           44,
           "House"
          ],
          [
           350,
           "House"
          ],
          [
           300,
           "House"
          ],
          [
           53,
           "House"
          ],
          [
           285,
           "House"
          ],
          [
           210,
           "House"
          ],
          [
           225,
           "House"
          ],
          [
           66,
           "House"
          ],
          [
           80,
           "House"
          ],
          [
           120,
           "House"
          ],
          [
           49,
           "House"
          ],
          [
           122,
           "House"
          ],
          [
           196,
           "House"
          ],
          [
           125,
           "House"
          ],
          [
           60,
           "House"
          ],
          [
           69,
           "House"
          ],
          [
           69,
           "House"
          ],
          [
           140,
           "House"
          ],
          [
           68,
           "House"
          ],
          [
           100,
           "House"
          ],
          [
           90,
           "House"
          ],
          [
           275,
           "House"
          ],
          [
           90,
           "House"
          ],
          [
           90,
           "House"
          ],
          [
           250,
           "House"
          ],
          [
           218,
           "House"
          ],
          [
           64,
           "House"
          ],
          [
           80,
           "House"
          ],
          [
           168,
           "House"
          ],
          [
           70,
           "House"
          ],
          [
           115,
           "House"
          ],
          [
           250,
           "House"
          ],
          [
           69,
           "House"
          ],
          [
           40,
           "House"
          ],
          [
           60,
           "House"
          ],
          [
           149,
           "House"
          ],
          [
           79,
           "House"
          ],
          [
           135,
           "House"
          ],
          [
           75,
           "House"
          ],
          [
           135,
           "House"
          ],
          [
           59,
           "House"
          ],
          [
           68,
           "House"
          ],
          [
           600,
           "House"
          ],
          [
           115,
           "House"
          ],
          [
           200,
           "House"
          ],
          [
           229,
           "House"
          ],
          [
           70,
           "House"
          ],
          [
           55,
           "House"
          ],
          [
           97,
           "House"
          ],
          [
           350,
           "House"
          ],
          [
           200,
           "House"
          ],
          [
           40,
           "House"
          ],
          [
           46,
           "House"
          ],
          [
           64,
           "House"
          ],
          [
           250,
           "House"
          ],
          [
           147,
           "House"
          ],
          [
           150,
           "House"
          ],
          [
           75,
           "House"
          ],
          [
           480,
           "House"
          ],
          [
           129,
           "House"
          ],
          [
           50,
           "House"
          ],
          [
           175,
           "House"
          ],
          [
           88,
           "House"
          ],
          [
           225,
           "House"
          ],
          [
           200,
           "House"
          ],
          [
           250,
           "House"
          ],
          [
           172,
           "House"
          ],
          [
           99,
           "House"
          ],
          [
           99,
           "House"
          ],
          [
           175,
           "House"
          ],
          [
           350,
           "House"
          ],
          [
           69,
           "House"
          ],
          [
           375,
           "House"
          ],
          [
           170,
           "House"
          ],
          [
           179,
           "House"
          ],
          [
           59,
           "House"
          ],
          [
           88,
           "House"
          ],
          [
           75,
           "House"
          ],
          [
           95,
           "House"
          ],
          [
           125,
           "House"
          ],
          [
           245,
           "House"
          ],
          [
           153,
           "House"
          ],
          [
           65,
           "House"
          ],
          [
           59,
           "House"
          ],
          [
           150,
           "House"
          ],
          [
           250,
           "House"
          ],
          [
           125,
           "House"
          ],
          [
           80,
           "House"
          ],
          [
           150,
           "House"
          ],
          [
           75,
           "House"
          ],
          [
           195,
           "House"
          ],
          [
           57,
           "House"
          ],
          [
           159,
           "House"
          ],
          [
           325,
           "House"
          ],
          [
           100,
           "House"
          ],
          [
           54,
           "House"
          ],
          [
           225,
           "House"
          ],
          [
           200,
           "House"
          ],
          [
           240,
           "House"
          ],
          [
           119,
           "House"
          ],
          [
           249,
           "House"
          ],
          [
           265,
           "House"
          ],
          [
           100,
           "House"
          ],
          [
           250,
           "House"
          ],
          [
           100,
           "House"
          ],
          [
           135,
           "House"
          ],
          [
           269,
           "House"
          ],
          [
           325,
           "House"
          ],
          [
           350,
           "House"
          ],
          [
           130,
           "House"
          ],
          [
           129,
           "House"
          ],
          [
           399,
           "House"
          ],
          [
           350,
           "House"
          ],
          [
           109,
           "House"
          ],
          [
           225,
           "House"
          ],
          [
           235,
           "House"
          ],
          [
           85,
           "House"
          ],
          [
           150,
           "House"
          ],
          [
           350,
           "House"
          ],
          [
           100,
           "House"
          ],
          [
           79,
           "House"
          ],
          [
           300,
           "House"
          ],
          [
           69,
           "House"
          ],
          [
           180,
           "House"
          ],
          [
           450,
           "House"
          ],
          [
           219,
           "House"
          ],
          [
           140,
           "House"
          ],
          [
           200,
           "House"
          ],
          [
           54,
           "House"
          ],
          [
           60,
           "House"
          ],
          [
           79,
           "House"
          ],
          [
           105,
           "House"
          ],
          [
           100,
           "House"
          ],
          [
           93,
           "House"
          ],
          [
           225,
           "House"
          ],
          [
           350,
           "House"
          ],
          [
           200,
           "House"
          ],
          [
           199,
           "House"
          ],
          [
           81,
           "House"
          ],
          [
           101,
           "House"
          ],
          [
           90,
           "House"
          ],
          [
           90,
           "House"
          ],
          [
           185,
           "House"
          ],
          [
           89,
           "House"
          ],
          [
           45,
           "House"
          ],
          [
           130,
           "House"
          ],
          [
           90,
           "House"
          ],
          [
           200,
           "House"
          ],
          [
           225,
           "House"
          ],
          [
           90,
           "House"
          ],
          [
           225,
           "House"
          ],
          [
           69,
           "House"
          ],
          [
           41,
           "House"
          ],
          [
           42,
           "House"
          ],
          [
           100,
           "House"
          ],
          [
           100,
           "House"
          ],
          [
           45,
           "House"
          ],
          [
           65,
           "House"
          ],
          [
           119,
           "House"
          ],
          [
           100,
           "House"
          ],
          [
           114,
           "House"
          ],
          [
           100,
           "House"
          ],
          [
           68,
           "House"
          ],
          [
           35,
           "House"
          ],
          [
           75,
           "House"
          ],
          [
           95,
           "House"
          ],
          [
           125,
           "House"
          ],
          [
           75,
           "House"
          ],
          [
           72,
           "House"
          ],
          [
           165,
           "House"
          ],
          [
           125,
           "House"
          ],
          [
           120,
           "House"
          ],
          [
           75,
           "House"
          ],
          [
           299,
           "House"
          ],
          [
           125,
           "House"
          ],
          [
           250,
           "House"
          ],
          [
           75,
           "House"
          ],
          [
           119,
           "House"
          ],
          [
           370,
           "House"
          ],
          [
           117,
           "House"
          ],
          [
           85,
           "House"
          ],
          [
           200,
           "House"
          ],
          [
           129,
           "House"
          ],
          [
           70,
           "House"
          ],
          [
           65,
           "House"
          ],
          [
           109,
           "House"
          ],
          [
           75,
           "House"
          ],
          [
           65,
           "House"
          ],
          [
           139,
           "House"
          ],
          [
           95,
           "House"
          ],
          [
           200,
           "House"
          ],
          [
           49,
           "House"
          ],
          [
           65,
           "House"
          ],
          [
           85,
           "House"
          ],
          [
           39,
           "House"
          ],
          [
           75,
           "House"
          ],
          [
           125,
           "House"
          ],
          [
           215,
           "House"
          ],
          [
           165,
           "House"
          ],
          [
           55,
           "House"
          ],
          [
           249,
           "House"
          ],
          [
           51,
           "House"
          ],
          [
           129,
           "House"
          ],
          [
           65,
           "House"
          ],
          [
           49,
           "House"
          ],
          [
           180,
           "House"
          ],
          [
           250,
           "House"
          ],
          [
           150,
           "House"
          ],
          [
           375,
           "House"
          ],
          [
           56,
           "House"
          ],
          [
           300,
           "House"
          ],
          [
           45,
           "House"
          ],
          [
           110,
           "House"
          ],
          [
           99,
           "House"
          ],
          [
           53,
           "House"
          ],
          [
           75,
           "House"
          ],
          [
           90,
           "House"
          ],
          [
           150,
           "House"
          ],
          [
           45,
           "House"
          ],
          [
           80,
           "House"
          ],
          [
           50,
           "House"
          ],
          [
           89,
           "House"
          ],
          [
           35,
           "House"
          ],
          [
           55,
           "House"
          ],
          [
           35,
           "House"
          ],
          [
           35,
           "House"
          ],
          [
           58,
           "House"
          ],
          [
           170,
           "House"
          ],
          [
           38,
           "House"
          ],
          [
           104,
           "House"
          ],
          [
           150,
           "House"
          ],
          [
           55,
           "House"
          ],
          [
           130,
           "House"
          ],
          [
           38,
           "House"
          ],
          [
           55,
           "House"
          ],
          [
           199,
           "House"
          ],
          [
           45,
           "House"
          ],
          [
           80,
           "House"
          ],
          [
           80,
           "House"
          ],
          [
           58,
           "House"
          ],
          [
           69,
           "House"
          ],
          [
           38,
           "House"
          ],
          [
           60,
           "House"
          ],
          [
           175,
           "House"
          ],
          [
           280,
           "House"
          ],
          [
           80,
           "House"
          ],
          [
           85,
           "House"
          ],
          [
           215,
           "House"
          ],
          [
           105,
           "House"
          ],
          [
           98,
           "House"
          ],
          [
           44,
           "House"
          ],
          [
           34,
           "House"
          ],
          [
           50,
           "House"
          ],
          [
           85,
           "House"
          ],
          [
           49,
           "House"
          ],
          [
           50,
           "House"
          ],
          [
           50,
           "House"
          ],
          [
           70,
           "House"
          ],
          [
           40,
           "House"
          ],
          [
           38,
           "House"
          ],
          [
           26,
           "House"
          ],
          [
           49,
           "House"
          ],
          [
           129,
           "House"
          ],
          [
           175,
           "House"
          ],
          [
           42,
           "House"
          ],
          [
           126,
           "House"
          ],
          [
           299,
           "House"
          ],
          [
           99,
           "House"
          ],
          [
           175,
           "House"
          ],
          [
           42,
           "House"
          ],
          [
           56,
           "House"
          ],
          [
           55,
           "House"
          ],
          [
           55,
           "House"
          ],
          [
           235,
           "House"
          ],
          [
           60,
           "House"
          ],
          [
           95,
           "House"
          ],
          [
           50,
           "House"
          ],
          [
           199,
           "House"
          ],
          [
           175,
           "House"
          ],
          [
           55,
           "House"
          ],
          [
           68,
           "House"
          ],
          [
           115,
           "House"
          ],
          [
           80,
           "House"
          ],
          [
           85,
           "House"
          ],
          [
           63,
           "House"
          ],
          [
           100,
           "House"
          ],
          [
           125,
           "House"
          ],
          [
           69,
           "House"
          ],
          [
           280,
           "House"
          ],
          [
           160,
           "House"
          ],
          [
           75,
           "House"
          ],
          [
           98,
           "House"
          ],
          [
           109,
           "House"
          ],
          [
           125,
           "House"
          ],
          [
           225,
           "House"
          ],
          [
           75,
           "House"
          ],
          [
           300,
           "House"
          ],
          [
           60,
           "House"
          ],
          [
           43,
           "House"
          ],
          [
           85,
           "House"
          ],
          [
           52,
           "House"
          ],
          [
           100,
           "House"
          ],
          [
           50,
           "House"
          ],
          [
           35,
           "House"
          ],
          [
           66,
           "House"
          ],
          [
           99,
           "House"
          ],
          [
           89,
           "House"
          ],
          [
           150,
           "House"
          ],
          [
           45,
           "House"
          ],
          [
           60,
           "House"
          ],
          [
           215,
           "House"
          ],
          [
           270,
           "House"
          ],
          [
           495,
           "House"
          ],
          [
           165,
           "House"
          ],
          [
           129,
           "House"
          ],
          [
           75,
           "House"
          ],
          [
           177,
           "House"
          ],
          [
           85,
           "House"
          ],
          [
           78,
           "House"
          ],
          [
           60,
           "House"
          ],
          [
           80,
           "House"
          ],
          [
           39,
           "House"
          ],
          [
           60,
           "House"
          ],
          [
           42,
           "House"
          ],
          [
           126,
           "House"
          ],
          [
           99,
           "House"
          ],
          [
           89,
           "House"
          ],
          [
           79,
           "House"
          ],
          [
           169,
           "House"
          ],
          [
           79,
           "House"
          ],
          [
           69,
           "House"
          ],
          [
           60,
           "House"
          ],
          [
           100,
           "House"
          ],
          [
           90,
           "House"
          ],
          [
           399,
           "House"
          ],
          [
           300,
           "House"
          ],
          [
           75,
           "House"
          ],
          [
           75,
           "House"
          ],
          [
           219,
           "House"
          ],
          [
           165,
           "House"
          ],
          [
           87,
           "House"
          ],
          [
           169,
           "House"
          ],
          [
           75,
           "House"
          ],
          [
           30,
           "House"
          ],
          [
           55,
           "House"
          ],
          [
           99,
           "House"
          ],
          [
           69,
           "House"
          ],
          [
           80,
           "House"
          ],
          [
           55,
           "House"
          ],
          [
           75,
           "House"
          ],
          [
           150,
           "House"
          ],
          [
           104,
           "House"
          ],
          [
           60,
           "House"
          ],
          [
           60,
           "House"
          ],
          [
           105,
           "House"
          ],
          [
           144,
           "House"
          ],
          [
           69,
           "House"
          ],
          [
           159,
           "House"
          ],
          [
           85,
           "House"
          ],
          [
           135,
           "House"
          ],
          [
           120,
           "House"
          ],
          [
           60,
           "House"
          ],
          [
           36,
           "House"
          ],
          [
           95,
           "House"
          ],
          [
           63,
           "House"
          ],
          [
           37,
           "House"
          ],
          [
           84,
           "House"
          ],
          [
           105,
           "House"
          ],
          [
           105,
           "House"
          ],
          [
           34,
           "House"
          ],
          [
           35,
           "House"
          ],
          [
           65,
           "House"
          ],
          [
           199,
           "House"
          ],
          [
           150,
           "House"
          ],
          [
           41,
           "House"
          ],
          [
           95,
           "House"
          ],
          [
           79,
           "House"
          ],
          [
           70,
           "House"
          ],
          [
           50,
           "House"
          ],
          [
           65,
           "House"
          ],
          [
           99,
           "House"
          ],
          [
           150,
           "House"
          ],
          [
           244,
           "House"
          ],
          [
           175,
           "House"
          ],
          [
           38,
           "House"
          ],
          [
           70,
           "House"
          ],
          [
           150,
           "House"
          ],
          [
           65,
           "House"
          ],
          [
           99,
           "House"
          ],
          [
           295,
           "House"
          ],
          [
           68,
           "House"
          ],
          [
           55,
           "House"
          ],
          [
           36,
           "House"
          ],
          [
           90,
           "House"
          ],
          [
           50,
           "House"
          ],
          [
           60,
           "House"
          ],
          [
           100,
           "House"
          ],
          [
           200,
           "House"
          ],
          [
           42,
           "House"
          ],
          [
           35,
           "House"
          ],
          [
           67,
           "House"
          ],
          [
           55,
           "House"
          ],
          [
           65,
           "House"
          ],
          [
           169,
           "House"
          ],
          [
           88,
           "House"
          ],
          [
           60,
           "House"
          ],
          [
           35,
           "House"
          ],
          [
           57,
           "House"
          ],
          [
           37,
           "House"
          ],
          [
           60,
           "House"
          ],
          [
           39,
           "House"
          ],
          [
           42,
           "House"
          ],
          [
           79,
           "House"
          ],
          [
           60,
           "House"
          ],
          [
           69,
           "House"
          ],
          [
           300,
           "House"
          ],
          [
           65,
           "House"
          ],
          [
           65,
           "House"
          ],
          [
           100,
           "House"
          ],
          [
           65,
           "House"
          ],
          [
           80,
           "House"
          ],
          [
           125,
           "House"
          ],
          [
           40,
           "House"
          ],
          [
           50,
           "House"
          ],
          [
           97,
           "House"
          ],
          [
           195,
           "House"
          ],
          [
           100,
           "House"
          ],
          [
           195,
           "House"
          ],
          [
           150,
           "House"
          ],
          [
           72,
           "House"
          ],
          [
           100,
           "House"
          ],
          [
           55,
           "House"
          ],
          [
           124,
           "House"
          ],
          [
           70,
           "House"
          ],
          [
           65,
           "House"
          ],
          [
           65,
           "House"
          ],
          [
           72,
           "House"
          ],
          [
           115,
           "House"
          ],
          [
           220,
           "House"
          ],
          [
           45,
           "House"
          ],
          [
           90,
           "House"
          ],
          [
           25,
           "House"
          ],
          [
           175,
           "House"
          ],
          [
           150,
           "House"
          ],
          [
           49,
           "House"
          ],
          [
           59,
           "House"
          ],
          [
           65,
           "House"
          ],
          [
           90,
           "House"
          ],
          [
           70,
           "House"
          ],
          [
           175,
           "House"
          ],
          [
           199,
           "House"
          ],
          [
           109,
           "House"
          ],
          [
           70,
           "House"
          ],
          [
           58,
           "House"
          ],
          [
           35,
           "House"
          ],
          [
           300,
           "House"
          ],
          [
           95,
           "House"
          ],
          [
           50,
           "House"
          ],
          [
           49,
           "House"
          ],
          [
           55,
           "House"
          ],
          [
           49,
           "House"
          ],
          [
           40,
           "House"
          ],
          [
           95,
           "House"
          ],
          [
           70,
           "House"
          ],
          [
           74,
           "House"
          ],
          [
           90,
           "House"
          ],
          [
           150,
           "House"
          ],
          [
           175,
           "House"
          ],
          [
           42,
           "House"
          ],
          [
           59,
           "House"
          ],
          [
           85,
           "House"
          ],
          [
           80,
           "House"
          ],
          [
           125,
           "House"
          ],
          [
           80,
           "House"
          ],
          [
           140,
           "House"
          ],
          [
           139,
           "House"
          ],
          [
           126,
           "House"
          ],
          [
           150,
           "House"
          ],
          [
           80,
           "House"
          ],
          [
           69,
           "House"
          ],
          [
           105,
           "House"
          ],
          [
           150,
           "House"
          ],
          [
           52,
           "House"
          ],
          [
           80,
           "House"
          ],
          [
           200,
           "House"
          ],
          [
           68,
           "House"
          ],
          [
           49,
           "House"
          ],
          [
           39,
           "House"
          ],
          [
           62,
           "House"
          ],
          [
           81,
           "House"
          ],
          [
           110,
           "House"
          ],
          [
           200,
           "House"
          ],
          [
           100,
           "House"
          ],
          [
           63,
           "House"
          ],
          [
           70,
           "House"
          ],
          [
           60,
           "House"
          ],
          [
           39,
           "House"
          ],
          [
           36,
           "House"
          ],
          [
           100,
           "House"
          ],
          [
           250,
           "House"
          ],
          [
           65,
           "House"
          ],
          [
           68,
           "House"
          ],
          [
           99,
           "House"
          ],
          [
           34,
           "House"
          ],
          [
           41,
           "House"
          ],
          [
           98,
           "House"
          ],
          [
           188,
           "House"
          ],
          [
           150,
           "House"
          ],
          [
           160,
           "House"
          ],
          [
           75,
           "House"
          ],
          [
           75,
           "House"
          ],
          [
           95,
           "House"
          ],
          [
           90,
           "House"
          ],
          [
           250,
           "House"
          ],
          [
           115,
           "House"
          ],
          [
           93,
           "House"
          ],
          [
           45,
           "House"
          ],
          [
           168,
           "House"
          ],
          [
           35,
           "House"
          ],
          [
           65,
           "House"
          ],
          [
           279,
           "House"
          ],
          [
           93,
           "House"
          ],
          [
           65,
           "House"
          ],
          [
           150,
           "House"
          ],
          [
           375,
           "House"
          ],
          [
           50,
           "House"
          ],
          [
           55,
           "House"
          ],
          [
           35,
           "House"
          ],
          [
           85,
           "House"
          ],
          [
           75,
           "House"
          ],
          [
           100,
           "House"
          ],
          [
           80,
           "House"
          ],
          [
           85,
           "House"
          ],
          [
           95,
           "House"
          ],
          [
           69,
           "House"
          ],
          [
           42,
           "House"
          ],
          [
           70,
           "House"
          ],
          [
           47,
           "House"
          ],
          [
           148,
           "House"
          ],
          [
           95,
           "House"
          ],
          [
           49,
           "House"
          ],
          [
           65,
           "House"
          ],
          [
           58,
           "House"
          ],
          [
           55,
           "House"
          ],
          [
           129,
           "House"
          ],
          [
           49,
           "House"
          ],
          [
           85,
           "House"
          ],
          [
           55,
           "House"
          ],
          [
           55,
           "House"
          ],
          [
           200,
           "House"
          ],
          [
           90,
           "House"
          ],
          [
           45,
           "House"
          ],
          [
           60,
           "House"
          ],
          [
           64,
           "House"
          ],
          [
           51,
           "House"
          ],
          [
           100,
           "House"
          ],
          [
           69,
           "House"
          ],
          [
           139,
           "House"
          ],
          [
           120,
           "House"
          ],
          [
           110,
           "House"
          ],
          [
           37,
           "House"
          ],
          [
           65,
           "House"
          ],
          [
           60,
           "House"
          ],
          [
           79,
           "House"
          ],
          [
           72,
           "House"
          ],
          [
           109,
           "House"
          ],
          [
           98,
           "House"
          ],
          [
           109,
           "House"
          ],
          [
           28,
           "House"
          ],
          [
           39,
           "House"
          ],
          [
           35,
           "House"
          ],
          [
           42,
           "House"
          ],
          [
           29,
           "House"
          ],
          [
           70,
           "House"
          ],
          [
           74,
           "House"
          ],
          [
           75,
           "House"
          ],
          [
           85,
           "House"
          ],
          [
           50,
           "House"
          ],
          [
           125,
           "House"
          ],
          [
           93,
           "House"
          ],
          [
           86,
           "House"
          ],
          [
           80,
           "House"
          ],
          [
           280,
           "House"
          ],
          [
           39,
           "House"
          ],
          [
           40,
           "House"
          ],
          [
           40,
           "House"
          ],
          [
           125,
           "House"
          ],
          [
           39,
           "House"
          ],
          [
           325,
           "House"
          ],
          [
           95,
           "House"
          ],
          [
           245,
           "House"
          ],
          [
           69,
           "House"
          ],
          [
           129,
           "House"
          ],
          [
           28,
           "House"
          ],
          [
           49,
           "House"
          ],
          [
           38,
           "House"
          ],
          [
           130,
           "House"
          ],
          [
           39,
           "House"
          ],
          [
           80,
           "House"
          ],
          [
           100,
           "House"
          ],
          [
           50,
           "House"
          ],
          [
           75,
           "House"
          ],
          [
           85,
           "House"
          ],
          [
           70,
           "House"
          ],
          [
           95,
           "House"
          ],
          [
           50,
           "House"
          ],
          [
           115,
           "House"
          ],
          [
           45,
           "House"
          ],
          [
           60,
           "House"
          ],
          [
           175,
           "House"
          ],
          [
           80,
           "House"
          ],
          [
           35,
           "House"
          ],
          [
           84,
           "House"
          ],
          [
           49,
           "House"
          ],
          [
           196,
           "House"
          ],
          [
           55,
           "House"
          ],
          [
           120,
           "House"
          ],
          [
           55,
           "House"
          ],
          [
           60,
           "House"
          ],
          [
           129,
           "House"
          ],
          [
           70,
           "House"
          ],
          [
           55,
           "House"
          ],
          [
           525,
           "House"
          ],
          [
           90,
           "House"
          ],
          [
           750,
           "House"
          ],
          [
           250,
           "House"
          ],
          [
           380,
           "House"
          ],
          [
           130,
           "House"
          ],
          [
           257,
           "House"
          ],
          [
           66,
           "House"
          ],
          [
           65,
           "House"
          ],
          [
           60,
           "House"
          ],
          [
           295,
           "House"
          ],
          [
           250,
           "House"
          ],
          [
           58,
           "House"
          ],
          [
           250,
           "House"
          ],
          [
           50,
           "House"
          ],
          [
           47,
           "House"
          ],
          [
           189,
           "House"
          ],
          [
           175,
           "House"
          ],
          [
           95,
           "House"
          ],
          [
           95,
           "House"
          ],
          [
           150,
           "House"
          ],
          [
           62,
           "House"
          ],
          [
           150,
           "House"
          ],
          [
           185,
           "House"
          ],
          [
           64,
           "House"
          ],
          [
           100,
           "House"
          ],
          [
           125,
           "House"
          ],
          [
           45,
           "House"
          ],
          [
           180,
           "House"
          ],
          [
           125,
           "House"
          ],
          [
           415,
           "House"
          ],
          [
           129,
           "House"
          ],
          [
           130,
           "House"
          ],
          [
           55,
           "House"
          ],
          [
           55,
           "House"
          ],
          [
           260,
           "House"
          ],
          [
           110,
           "House"
          ],
          [
           750,
           "House"
          ],
          [
           55,
           "House"
          ],
          [
           89,
           "House"
          ],
          [
           85,
           "House"
          ],
          [
           400,
           "House"
          ],
          [
           100,
           "House"
          ],
          [
           115,
           "House"
          ],
          [
           50,
           "House"
          ],
          [
           550,
           "House"
          ],
          [
           147,
           "House"
          ],
          [
           256,
           "House"
          ],
          [
           99,
           "House"
          ],
          [
           100,
           "House"
          ],
          [
           90,
           "House"
          ],
          [
           69,
           "House"
          ],
          [
           65,
           "House"
          ],
          [
           49,
           "House"
          ],
          [
           70,
           "House"
          ],
          [
           90,
           "House"
          ],
          [
           64,
           "House"
          ],
          [
           160,
           "House"
          ],
          [
           85,
           "House"
          ],
          [
           85,
           "House"
          ],
          [
           75,
           "House"
          ],
          [
           120,
           "House"
          ],
          [
           110,
           "House"
          ],
          [
           79,
           "House"
          ],
          [
           79,
           "House"
          ],
          [
           58,
           "House"
          ],
          [
           40,
           "House"
          ],
          [
           53,
           "House"
          ],
          [
           65,
           "House"
          ],
          [
           55,
           "House"
          ],
          [
           53,
           "House"
          ],
          [
           55,
           "House"
          ],
          [
           49,
           "House"
          ],
          [
           95,
           "House"
          ],
          [
           89,
           "House"
          ],
          [
           100,
           "House"
          ],
          [
           58,
           "House"
          ],
          [
           200,
           "House"
          ],
          [
           75,
           "House"
          ],
          [
           78,
           "House"
          ],
          [
           100,
           "House"
          ],
          [
           130,
           "House"
          ],
          [
           99,
           "House"
          ],
          [
           120,
           "House"
          ],
          [
           100,
           "House"
          ],
          [
           175,
           "House"
          ],
          [
           260,
           "House"
          ],
          [
           125,
           "House"
          ],
          [
           182,
           "House"
          ],
          [
           47,
           "House"
          ],
          [
           200,
           "House"
          ],
          [
           69,
           "House"
          ],
          [
           550,
           "House"
          ],
          [
           350,
           "House"
          ],
          [
           48,
           "House"
          ],
          [
           69,
           "House"
          ],
          [
           61,
           "House"
          ],
          [
           52,
           "House"
          ],
          [
           95,
           "House"
          ],
          [
           350,
           "House"
          ],
          [
           138,
           "House"
          ],
          [
           95,
           "House"
          ],
          [
           55,
           "House"
          ],
          [
           360,
           "House"
          ],
          [
           85,
           "House"
          ],
          [
           62,
           "House"
          ],
          [
           65,
           "House"
          ],
          [
           80,
           "House"
          ],
          [
           673,
           "House"
          ],
          [
           63,
           "House"
          ],
          [
           79,
           "House"
          ],
          [
           49,
           "House"
          ],
          [
           49,
           "House"
          ],
          [
           68,
           "House"
          ],
          [
           420,
           "House"
          ],
          [
           169,
           "House"
          ],
          [
           85,
           "House"
          ],
          [
           400,
           "House"
          ],
          [
           250,
           "House"
          ],
          [
           150,
           "House"
          ],
          [
           89,
           "House"
          ],
          [
           105,
           "House"
          ],
          [
           49,
           "House"
          ],
          [
           100,
           "House"
          ],
          [
           65,
           "House"
          ],
          [
           159,
           "House"
          ],
          [
           100,
           "House"
          ],
          [
           139,
           "House"
          ],
          [
           119,
           "House"
          ],
          [
           80,
           "House"
          ],
          [
           98,
           "House"
          ],
          [
           49,
           "House"
          ],
          [
           90,
           "House"
          ],
          [
           55,
           "House"
          ],
          [
           85,
           "House"
          ],
          [
           46,
           "House"
          ],
          [
           60,
           "House"
          ],
          [
           46,
           "House"
          ],
          [
           69,
           "House"
          ],
          [
           75,
           "House"
          ],
          [
           95,
           "House"
          ],
          [
           55,
           "House"
          ],
          [
           90,
           "House"
          ],
          [
           49,
           "House"
          ],
          [
           49,
           "House"
          ],
          [
           220,
           "House"
          ],
          [
           99,
           "House"
          ],
          [
           435,
           "House"
          ],
          [
           110,
           "House"
          ],
          [
           130,
           "House"
          ],
          [
           220,
           "House"
          ],
          [
           95,
           "House"
          ],
          [
           105,
           "House"
          ],
          [
           60,
           "House"
          ],
          [
           250,
           "House"
          ],
          [
           130,
           "House"
          ],
          [
           95,
           "House"
          ],
          [
           75,
           "House"
          ],
          [
           265,
           "House"
          ],
          [
           100,
           "House"
          ],
          [
           175,
           "House"
          ],
          [
           99,
           "House"
          ],
          [
           150,
           "House"
          ],
          [
           45,
           "House"
          ],
          [
           47,
           "House"
          ],
          [
           80,
           "House"
          ],
          [
           89,
           "House"
          ],
          [
           40,
           "House"
          ],
          [
           106,
           "House"
          ],
          [
           60,
           "House"
          ],
          [
           70,
           "House"
          ],
          [
           50,
           "House"
          ],
          [
           200,
           "House"
          ],
          [
           65,
           "House"
          ],
          [
           50,
           "House"
          ],
          [
           60,
           "House"
          ],
          [
           129,
           "House"
          ],
          [
           68,
           "House"
          ],
          [
           60,
           "House"
          ],
          [
           51,
           "House"
          ],
          [
           50,
           "House"
          ],
          [
           150,
           "House"
          ],
          [
           125,
           "House"
          ],
          [
           119,
           "House"
          ],
          [
           87,
           "House"
          ],
          [
           130,
           "House"
          ],
          [
           250,
           "House"
          ],
          [
           159,
           "House"
          ],
          [
           60,
           "House"
          ],
          [
           125,
           "House"
          ],
          [
           43,
           "House"
          ],
          [
           70,
           "House"
          ],
          [
           252,
           "House"
          ],
          [
           71,
           "House"
          ],
          [
           140,
           "House"
          ],
          [
           105,
           "House"
          ],
          [
           125,
           "House"
          ],
          [
           150,
           "House"
          ],
          [
           200,
           "House"
          ],
          [
           35,
           "House"
          ],
          [
           400,
           "House"
          ],
          [
           86,
           "House"
          ],
          [
           150,
           "House"
          ],
          [
           225,
           "House"
          ],
          [
           118,
           "House"
          ],
          [
           58,
           "House"
          ],
          [
           375,
           "House"
          ],
          [
           115,
           "House"
          ],
          [
           69,
           "House"
          ],
          [
           75,
           "House"
          ],
          [
           47,
           "House"
          ],
          [
           50,
           "House"
          ],
          [
           80,
           "House"
          ],
          [
           60,
           "House"
          ],
          [
           55,
           "House"
          ],
          [
           250,
           "House"
          ],
          [
           89,
           "House"
          ],
          [
           189,
           "House"
          ],
          [
           35,
           "House"
          ],
          [
           55,
           "House"
          ],
          [
           65,
           "House"
          ],
          [
           42,
           "House"
          ],
          [
           55,
           "House"
          ],
          [
           80,
           "House"
          ],
          [
           56,
           "House"
          ],
          [
           50,
           "House"
          ],
          [
           93,
           "House"
          ],
          [
           54,
           "House"
          ],
          [
           240,
           "House"
          ],
          [
           62,
           "House"
          ],
          [
           40,
           "House"
          ],
          [
           72,
           "House"
          ],
          [
           53,
           "House"
          ],
          [
           80,
           "House"
          ],
          [
           105,
           "House"
          ],
          [
           100,
           "House"
          ],
          [
           105,
           "House"
          ],
          [
           82,
           "House"
          ],
          [
           209,
           "House"
          ],
          [
           1000,
           "House"
          ],
          [
           125,
           "House"
          ],
          [
           86,
           "House"
          ],
          [
           165,
           "House"
          ],
          [
           149,
           "House"
          ],
          [
           139,
           "House"
          ],
          [
           59,
           "House"
          ],
          [
           150,
           "House"
          ],
          [
           94,
           "House"
          ],
          [
           39,
           "House"
          ],
          [
           119,
           "House"
          ],
          [
           165,
           "House"
          ],
          [
           275,
           "House"
          ],
          [
           275,
           "House"
          ],
          [
           72,
           "House"
          ],
          [
           190,
           "House"
          ],
          [
           100,
           "House"
          ],
          [
           99,
           "House"
          ],
          [
           225,
           "House"
          ],
          [
           220,
           "House"
          ],
          [
           65,
           "House"
          ],
          [
           75,
           "House"
          ],
          [
           80,
           "House"
          ],
          [
           100,
           "House"
          ],
          [
           299,
           "House"
          ],
          [
           250,
           "House"
          ],
          [
           175,
           "House"
          ],
          [
           65,
           "House"
          ],
          [
           75,
           "House"
          ],
          [
           60,
           "House"
          ],
          [
           48,
           "House"
          ],
          [
           48,
           "House"
          ],
          [
           60,
           "House"
          ],
          [
           200,
           "House"
          ],
          [
           210,
           "House"
          ],
          [
           85,
           "House"
          ],
          [
           75,
           "House"
          ],
          [
           75,
           "House"
          ],
          [
           180,
           "House"
          ],
          [
           240,
           "House"
          ],
          [
           49,
           "House"
          ],
          [
           275,
           "House"
          ],
          [
           108,
           "House"
          ],
          [
           99,
           "House"
          ],
          [
           110,
           "House"
          ],
          [
           55,
           "House"
          ],
          [
           80,
           "House"
          ],
          [
           250,
           "House"
          ],
          [
           89,
           "House"
          ],
          [
           90,
           "House"
          ],
          [
           50,
           "House"
          ],
          [
           170,
           "House"
          ],
          [
           45,
           "House"
          ],
          [
           39,
           "House"
          ],
          [
           99,
           "House"
          ],
          [
           65,
           "House"
          ],
          [
           90,
           "House"
          ],
          [
           190,
           "House"
          ],
          [
           39,
           "House"
          ],
          [
           80,
           "House"
          ],
          [
           75,
           "House"
          ],
          [
           75,
           "House"
          ],
          [
           55,
           "House"
          ],
          [
           70,
           "House"
          ],
          [
           85,
           "House"
          ],
          [
           350,
           "House"
          ],
          [
           200,
           "House"
          ],
          [
           50,
           "House"
          ],
          [
           150,
           "House"
          ],
          [
           475,
           "House"
          ],
          [
           375,
           "House"
          ],
          [
           450,
           "House"
          ],
          [
           350,
           "House"
          ],
          [
           75,
           "House"
          ],
          [
           119,
           "House"
          ],
          [
           125,
           "House"
          ],
          [
           200,
           "House"
          ],
          [
           108,
           "House"
          ],
          [
           49,
           "House"
          ],
          [
           70,
           "House"
          ],
          [
           98,
           "House"
          ],
          [
           80,
           "House"
          ],
          [
           199,
           "House"
          ],
          [
           125,
           "House"
          ],
          [
           150,
           "House"
          ],
          [
           73,
           "House"
          ],
          [
           88,
           "House"
          ],
          [
           70,
           "House"
          ],
          [
           129,
           "House"
          ],
          [
           50,
           "House"
          ],
          [
           96,
           "House"
          ],
          [
           85,
           "House"
          ],
          [
           189,
           "House"
          ],
          [
           55,
           "House"
          ],
          [
           99,
           "House"
          ],
          [
           50,
           "House"
          ],
          [
           65,
           "House"
          ],
          [
           55,
           "House"
          ],
          [
           65,
           "House"
          ],
          [
           100,
           "House"
          ],
          [
           87,
           "House"
          ],
          [
           78,
           "House"
          ],
          [
           150,
           "House"
          ],
          [
           375,
           "House"
          ],
          [
           150,
           "House"
          ],
          [
           325,
           "House"
          ],
          [
           60,
           "House"
          ],
          [
           120,
           "House"
          ],
          [
           88,
           "House"
          ],
          [
           150,
           "House"
          ],
          [
           195,
           "House"
          ],
          [
           50,
           "House"
          ],
          [
           250,
           "House"
          ],
          [
           87,
           "House"
          ],
          [
           70,
           "House"
          ],
          [
           100,
           "House"
          ],
          [
           175,
           "House"
          ],
          [
           165,
           "House"
          ],
          [
           120,
           "House"
          ],
          [
           239,
           "House"
          ],
          [
           200,
           "House"
          ],
          [
           50,
           "House"
          ],
          [
           75,
           "House"
          ],
          [
           189,
           "House"
          ],
          [
           112,
           "House"
          ],
          [
           400,
           "House"
          ],
          [
           350,
           "House"
          ],
          [
           55,
           "House"
          ],
          [
           95,
           "House"
          ],
          [
           80,
           "House"
          ],
          [
           50,
           "House"
          ],
          [
           95,
           "House"
          ],
          [
           175,
           "House"
          ],
          [
           50,
           "House"
          ],
          [
           190,
           "House"
          ],
          [
           99,
           "House"
          ],
          [
           90,
           "House"
          ],
          [
           349,
           "House"
          ],
          [
           105,
           "House"
          ],
          [
           52,
           "House"
          ],
          [
           105,
           "House"
          ],
          [
           110,
           "House"
          ],
          [
           69,
           "House"
          ],
          [
           96,
           "House"
          ],
          [
           55,
           "House"
          ],
          [
           130,
           "House"
          ],
          [
           300,
           "House"
          ],
          [
           400,
           "House"
          ],
          [
           117,
           "House"
          ],
          [
           85,
           "House"
          ],
          [
           115,
           "House"
          ],
          [
           62,
           "House"
          ],
          [
           99,
           "House"
          ],
          [
           200,
           "House"
          ],
          [
           125,
           "House"
          ],
          [
           55,
           "House"
          ],
          [
           75,
           "House"
          ],
          [
           95,
           "House"
          ],
          [
           110,
           "House"
          ],
          [
           228,
           "House"
          ],
          [
           110,
           "House"
          ],
          [
           950,
           "House"
          ],
          [
           125,
           "House"
          ],
          [
           68,
           "House"
          ],
          [
           250,
           "House"
          ],
          [
           330,
           "House"
          ],
          [
           80,
           "House"
          ],
          [
           72,
           "House"
          ],
          [
           78,
           "House"
          ],
          [
           250,
           "House"
          ],
          [
           39,
           "House"
          ],
          [
           95,
           "House"
          ],
          [
           97,
           "House"
          ],
          [
           102,
           "House"
          ],
          [
           60,
           "House"
          ],
          [
           60,
           "House"
          ],
          [
           79,
           "House"
          ],
          [
           110,
           "House"
          ],
          [
           59,
           "House"
          ],
          [
           195,
           "House"
          ],
          [
           85,
           "House"
          ],
          [
           200,
           "House"
          ],
          [
           200,
           "House"
          ],
          [
           135,
           "House"
          ],
          [
           70,
           "House"
          ],
          [
           90,
           "House"
          ],
          [
           50,
           "House"
          ],
          [
           65,
           "House"
          ],
          [
           90,
           "House"
          ],
          [
           100,
           "House"
          ],
          [
           65,
           "House"
          ],
          [
           105,
           "House"
          ],
          [
           125,
           "House"
          ],
          [
           60,
           "House"
          ],
          [
           59,
           "House"
          ],
          [
           65,
           "House"
          ],
          [
           58,
           "House"
          ],
          [
           150,
           "House"
          ],
          [
           55,
           "House"
          ],
          [
           110,
           "House"
          ],
          [
           75,
           "House"
          ],
          [
           75,
           "House"
          ],
          [
           129,
           "House"
          ],
          [
           285,
           "House"
          ],
          [
           275,
           "House"
          ],
          [
           190,
           "House"
          ],
          [
           200,
           "House"
          ],
          [
           150,
           "House"
          ],
          [
           139,
           "House"
          ],
          [
           125,
           "House"
          ],
          [
           33,
           "House"
          ],
          [
           27,
           "House"
          ],
          [
           29,
           "House"
          ],
          [
           29,
           "House"
          ],
          [
           29,
           "House"
          ],
          [
           30,
           "House"
          ],
          [
           65,
           "House"
          ],
          [
           125,
           "House"
          ],
          [
           90,
           "House"
          ],
          [
           40,
           "House"
          ],
          [
           90,
           "House"
          ],
          [
           150,
           "House"
          ],
          [
           125,
           "House"
          ],
          [
           100,
           "House"
          ],
          [
           85,
           "House"
          ],
          [
           99,
           "House"
          ],
          [
           30,
           "House"
          ],
          [
           399,
           "House"
          ],
          [
           300,
           "House"
          ],
          [
           51,
           "House"
          ],
          [
           80,
           "House"
          ],
          [
           200,
           "House"
          ],
          [
           115,
           "House"
          ],
          [
           400,
           "House"
          ],
          [
           95,
           "House"
          ],
          [
           545,
           "House"
          ],
          [
           250,
           "House"
          ],
          [
           120,
           "House"
          ],
          [
           125,
           "House"
          ],
          [
           126,
           "House"
          ],
          [
           150,
           "House"
          ],
          [
           125,
           "House"
          ],
          [
           52,
           "House"
          ],
          [
           165,
           "House"
          ],
          [
           88,
           "House"
          ],
          [
           450,
           "House"
          ],
          [
           295,
           "House"
          ],
          [
           65,
           "House"
          ],
          [
           158,
           "House"
          ],
          [
           125,
           "House"
          ],
          [
           31,
           "House"
          ],
          [
           29,
           "House"
          ],
          [
           29,
           "House"
          ],
          [
           125,
           "House"
          ],
          [
           80,
           "House"
          ],
          [
           97,
           "House"
          ],
          [
           449,
           "House"
          ],
          [
           300,
           "House"
          ],
          [
           30,
           "House"
          ],
          [
           80,
           "House"
          ],
          [
           30,
           "House"
          ],
          [
           65,
           "House"
          ],
          [
           31,
           "House"
          ],
          [
           135,
           "House"
          ],
          [
           350,
           "House"
          ],
          [
           45,
           "House"
          ],
          [
           75,
           "House"
          ],
          [
           105,
           "House"
          ],
          [
           195,
           "House"
          ],
          [
           125,
           "House"
          ],
          [
           65,
           "House"
          ],
          [
           125,
           "House"
          ],
          [
           183,
           "House"
          ],
          [
           39,
           "House"
          ],
          [
           68,
           "House"
          ],
          [
           120,
           "House"
          ],
          [
           86,
           "House"
          ],
          [
           39,
           "House"
          ],
          [
           150,
           "House"
          ],
          [
           75,
           "House"
          ],
          [
           125,
           "House"
          ],
          [
           65,
           "House"
          ],
          [
           250,
           "House"
          ],
          [
           100,
           "House"
          ],
          [
           180,
           "House"
          ],
          [
           129,
           "House"
          ],
          [
           61,
           "House"
          ],
          [
           275,
           "House"
          ],
          [
           59,
           "House"
          ],
          [
           500,
           "House"
          ],
          [
           200,
           "House"
          ],
          [
           99,
           "House"
          ],
          [
           55,
           "House"
          ],
          [
           52,
           "House"
          ],
          [
           57,
           "House"
          ],
          [
           54,
           "House"
          ],
          [
           50,
           "House"
          ],
          [
           69,
           "House"
          ],
          [
           45,
           "House"
          ],
          [
           450,
           "House"
          ],
          [
           49,
           "House"
          ],
          [
           68,
           "House"
          ],
          [
           120,
           "House"
          ],
          [
           195,
           "House"
          ],
          [
           300,
           "House"
          ],
          [
           52,
           "House"
          ],
          [
           70,
           "House"
          ],
          [
           150,
           "House"
          ],
          [
           275,
           "House"
          ],
          [
           95,
           "House"
          ],
          [
           200,
           "House"
          ],
          [
           50,
           "House"
          ],
          [
           65,
           "House"
          ],
          [
           100,
           "House"
          ],
          [
           150,
           "House"
          ],
          [
           210,
           "House"
          ],
          [
           195,
           "House"
          ],
          [
           59,
           "House"
          ],
          [
           235,
           "House"
          ],
          [
           400,
           "House"
          ],
          [
           62,
           "House"
          ],
          [
           200,
           "House"
          ],
          [
           400,
           "House"
          ],
          [
           225,
           "House"
          ],
          [
           240,
           "House"
          ],
          [
           50,
           "House"
          ],
          [
           165,
           "House"
          ],
          [
           350,
           "House"
          ],
          [
           85,
           "House"
          ],
          [
           325,
           "House"
          ],
          [
           99,
           "House"
          ],
          [
           68,
           "House"
          ],
          [
           125,
           "House"
          ],
          [
           90,
           "House"
          ],
          [
           260,
           "House"
          ],
          [
           60,
           "House"
          ],
          [
           85,
           "House"
          ],
          [
           109,
           "House"
          ],
          [
           70,
           "House"
          ],
          [
           77,
           "House"
          ],
          [
           200,
           "House"
          ],
          [
           250,
           "House"
          ],
          [
           160,
           "House"
          ],
          [
           175,
           "House"
          ],
          [
           154,
           "House"
          ],
          [
           359,
           "House"
          ],
          [
           93,
           "House"
          ]
         ],
         "hovertemplate": "property_type=%{customdata[1]}<br>price=%{customdata[0]}<br>latitude=%{lat}<br>longitude=%{lon}<extra></extra>",
         "lat": {
          "bdata": "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",
          "dtype": "f8"
         },
         "legendgroup": "House",
         "lon": {
          "bdata": "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",
          "dtype": "f8"
         },
         "marker": {
          "color": "#001f4d",
          "size": {
           "bdata": "AAAAAAB4jkAAAAAAACB8QAAAAAAAAF5AAAAAAAAAVEAAAAAAAMBXQAAAAAAAwFhAAAAAAACgZEAAAAAAANB8QAAAAAAAQFtAAAAAAADAWEAAAAAAAOCFQAAAAAAAwFhAAAAAAAAgfEAAAAAAAMBSQAAAAAAAwIJAAAAAAAAgfEAAAAAAAMBiQAAAAAAAUHRAAAAAAADgZUAAAAAAAMBrQAAAAAAAwHVAAAAAAACARkAAAAAAAIBiQAAAAAAA4HVAAAAAAADAYkAAAAAAAABkQAAAAAAAQGBAAAAAAADAWEAAAAAAAMBXQAAAAAAAAHlAAAAAAABAVUAAAAAAAABUQAAAAAAA4GVAAAAAAABAZUAAAAAAABB9QAAAAAAAgE1AAAAAAAAgYkAAAAAAAIBRQAAAAAAAgEtAAAAAAADAV0AAAAAAAEBfQAAAAAAAQFBAAAAAAAAAOUAAAAAAAABEQAAAAAAAoGJAAAAAAACAS0AAAAAAAEBrQAAAAAAAAFRAAAAAAAAgbEAAAAAAAABJQAAAAAAAQFBAAAAAAABwd0AAAAAAAEBYQAAAAAAAoGhAAAAAAACAUUAAAAAAAIBmQAAAAAAAwGJAAAAAAABgaEAAAAAAAABsQAAAAAAAwFxAAAAAAACAS0AAAAAAACB1QAAAAAAAwFNAAAAAAAAAVEAAAAAAAABUQAAAAAAAAFlAAAAAAACATEAAAAAAAMBYQAAAAAAAwFNAAAAAAADAXEAAAAAAAOB1QAAAAAAAcHJAAAAAAACAUUAAAAAAAIBKQAAAAAAAgFtAAAAAAAAgbEAAAAAAAIBBQAAAAAAAgEtAAAAAAADAU0AAAAAAAKBgQAAAAAAAAGlAAAAAAAAASkAAAAAAAKBiQAAAAAAA4GhAAAAAAAAgbEAAAAAAAEBVQAAAAAAAAFRAAAAAAABAVkAAAAAAAMBYQAAAAAAAgGZAAAAAAACAUUAAAAAAAMBSQAAAAAAAAFRAAAAAAAAAVEAAAAAAAIBRQAAAAAAA4HVAAAAAAACAVkAAAAAAADB7QAAAAAAAQG9AAAAAAABAUEAAAAAAAMBXQAAAAAAAAElAAAAAAAAAWUAAAAAAAEBWQAAAAAAAAF1AAAAAAADAYkAAAAAAADBxQAAAAAAAgGZAAAAAAABAWEAAAAAAAABeQAAAAAAAQG9AAAAAAADAZ0AAAAAAANB1QAAAAAAAgGhAAAAAAACAVkAAAAAAAEBvQAAAAAAAQGBAAAAAAACAVkAAAAAAAGiHQAAAAAAA0HFAAAAAAAAAVEAAAAAAAMCCQAAAAAAAwFdAAAAAAADAYUAAAAAAAHByQAAAAAAA8HRAAAAAAABAb0AAAAAAADB/QAAAAAAA4HVAAAAAAADAckAAAAAAAMBiQAAAAAAAQG9AAAAAAABAWkAAAAAAAIBSQAAAAAAAgGFAAAAAAADgaEAAAAAAACBqQAAAAAAAAFlAAAAAAAAAaUAAAAAAAMBYQAAAAAAAgFZAAAAAAACAXkAAAAAAAMBjQAAAAAAAQFZAAAAAAABAX0AAAAAAAEBQQAAAAAAAAFlAAAAAAAAAREAAAAAAACBnQAAAAAAAAERAAAAAAABgaEAAAAAAAIBLQAAAAAAA4GVAAAAAAABAUEAAAAAAAIBfQAAAAAAAgFFAAAAAAAAgbEAAAAAAAABEQAAAAAAAAElAAAAAAAAAREAAAAAAAABEQAAAAAAAAGRAAAAAAAAAREAAAAAAAABEQAAAAAAAgFBAAAAAAACAS0AAAAAAAOB1QAAAAAAAQFVAAAAAAADgZUAAAAAAAIBLQAAAAAAAwGJAAAAAAAAAREAAAAAAAIBNQAAAAAAAAFRAAAAAAAAAaUAAAAAAAABOQAAAAAAAgE1AAAAAAAD4gUAAAAAAAABEQAAAAAAAYGFAAAAAAACAUUAAAAAAAMBkQAAAAAAAwFhAAAAAAABAb0AAAAAAAMBiQAAAAAAAAGlAAAAAAAAAREAAAAAAAOBqQAAAAAAAIG9AAAAAAABwckAAAAAAAABEQAAAAAAAAERAAAAAAAAAREAAAAAAAKBuQAAAAAAAQGpAAAAAAABwe0AAAAAAAIBWQAAAAAAAAERAAAAAAADgZUAAAAAAAABUQAAAAAAAAHlAAAAAAAAAREAAAAAAAABkQAAAAAAAgEtAAAAAAACAS0AAAAAAAMBiQAAAAAAAgEtAAAAAAADAV0AAAAAAAGBjQAAAAAAAgEtAAAAAAAAAREAAAAAAAEBvQAAAAAAAIGJAAAAAAAAAS0AAAAAAAMBYQAAAAAAAwG9AAAAAAABAUEAAAAAAAMBiQAAAAAAAgEZAAAAAAACAUkAAAAAAAOB1QAAAAAAAYHNAAAAAAAAAREAAAAAAAOBqQAAAAAAAoG5AAAAAAABAUEAAAAAAAEBVQAAAAAAAwFdAAAAAAACATEAAAAAAAABeQAAAAAAAoH5AAAAAAAAAaUAAAAAAAABEQAAAAAAA4G9AAAAAAADAV0AAAAAAAIBLQAAAAAAAQFVAAAAAAABQdEAAAAAAAABZQAAAAAAAgEtAAAAAAADgZUAAAAAAAMBXQAAAAAAAAFlAAAAAAAAASUAAAAAAANB7QAAAAAAAwFJAAAAAAAAAWUAAAAAAAEBgQAAAAAAAYG1AAAAAAACweEAAAAAAAABWQAAAAAAAkHpAAAAAAADAckAAAAAAADBxQAAAAAAAQFVAAAAAAADAckAAAAAAAIBKQAAAAAAAwFpAAAAAAADAdUAAAAAAAEBWQAAAAAAAQFZAAAAAAAAAU0AAAAAAAEBvQAAAAAAAgGZAAAAAAADAXEAAAAAAAMByQAAAAAAAQFZAAAAAAADAYkAAAAAAAJBwQAAAAAAAAFlAAAAAAABAW0AAAAAAAABOQAAAAAAAIG9AAAAAAABAb0AAAAAAAABZQAAAAAAAYG1AAAAAAAAAWEAAAAAAAABXQAAAAAAAgEtAAAAAAACAS0AAAAAAAIBhQAAAAAAAgGFAAAAAAAAgYkAAAAAAACBsQAAAAAAA4GhAAAAAAADgZUAAAAAAADCBQAAAAAAAoGJAAAAAAADAckAAAAAAAMBTQAAAAAAAgE1AAAAAAACAYUAAAAAAAABOQAAAAAAA4GpAAAAAAAAAWUAAAAAAAABEQAAAAAAAwFhAAAAAAACARkAAAAAAAMBYQAAAAAAAIGxAAAAAAADwdEAAAAAAAMBTQAAAAAAAwFtAAAAAAACAW0AAAAAAAFB0QAAAAAAAoGFAAAAAAABgaEAAAAAAAABWQAAAAAAAQF9AAAAAAAAwcUAAAAAAAIBhQAAAAAAAIGxAAAAAAADAV0AAAAAAAIBTQAAAAAAAgEtAAAAAAAAgYEAAAAAAAEBQQAAAAAAA4GVAAAAAAAAAZEAAAAAAAMBSQAAAAAAAAFRAAAAAAABAW0AAAAAAAMBXQAAAAAAAQFVAAAAAAACAVkAAAAAAAEBSQAAAAAAAAHlAAAAAAABAZUAAAAAAAABIQAAAAAAAgFRAAAAAAABAb0AAAAAAAOBoQAAAAAAAQG9AAAAAAADAUkAAAAAAAOBlQAAAAAAAwFdAAAAAAABAUEAAAAAAAEBbQAAAAAAAwGJAAAAAAADgZUAAAAAAAABeQAAAAAAAIGBAAAAAAABwckAAAAAAAOBlQAAAAAAAwGJAAAAAAABAW0AAAAAAAMBcQAAAAAAAAGlAAAAAAABAYEAAAAAAAMBTQAAAAAAAAFRAAAAAAABAWEAAAAAAAABNQAAAAAAAQF9AAAAAAAAASUAAAAAAAOB1QAAAAAAAcHdAAAAAAAAAbkAAAAAAAKBnQAAAAAAAQG9AAAAAAABAX0AAAAAAAGBoQAAAAAAAQFFAAAAAAAAgbEAAAAAAAEBvQAAAAAAAAElAAAAAAADAV0AAAAAAAHByQAAAAAAA4GVAAAAAAAAAUUAAAAAAAIBSQAAAAAAAQH9AAAAAAABAf0AAAAAAAMBcQAAAAAAA4HVAAAAAAACAYUAAAAAAAMBiQAAAAAAAAElAAAAAAACAREAAAAAAAIBNQAAAAAAAgEdAAAAAAABAUEAAAAAAAIBFQAAAAAAAAEZAAAAAAACARkAAAAAAAABEQAAAAAAAMHFAAAAAAABAX0AAAAAAAOB1QAAAAAAAcHJAAAAAAADAUkAAAAAAAIBGQAAAAAAAAD5AAAAAAAAARUAAAAAAAEBvQAAAAAAAgEVAAAAAAACAREAAAAAAAMBTQAAAAAAAwFJAAAAAAABAX0AAAAAAAIBTQAAAAAAAAD5AAAAAAAAAREAAAAAAAIBFQAAAAAAAgFFAAAAAAAAAPUAAAAAAAIBHQAAAAAAAAElAAAAAAABAUkAAAAAAAABFQAAAAAAAAEVAAAAAAABAb0AAAAAAAABFQAAAAAAAMHFAAAAAAABAb0AAAAAAAABWQAAAAAAAYGFAAAAAAABAakAAAAAAAGBjQAAAAAAAAGVAAAAAAAAASUAAAAAAAIBRQAAAAAAAoGRAAAAAAADAU0AAAAAAAIBWQAAAAAAAwHdAAAAAAAAgbEAAAAAAAABOQAAAAAAAoGNAAAAAAACAW0AAAAAAACBiQAAAAAAAQFVAAAAAAACASEAAAAAAAKB0QAAAAAAA4HVAAAAAAADAUEAAAAAAAEBRQAAAAAAAwFJAAAAAAABAYEAAAAAAAEBQQAAAAAAAAE5AAAAAAACAUUAAAAAAAIBRQAAAAAAAgEtAAAAAAAAAUkAAAAAAAMBQQAAAAAAAAE1AAAAAAACAUUAAAAAAAABNQAAAAAAAAE1AAAAAAAAAWUAAAAAAAABfQAAAAAAAQFBAAAAAAAAgbEAAAAAAAIBRQAAAAAAAwGNAAAAAAACgZEAAAAAAAIBdQAAAAAAAgFZAAAAAAABAUUAAAAAAAIBWQAAAAAAAwFJAAAAAAACAUUAAAAAAAEBaQAAAAAAAwFJAAAAAAADAW0AAAAAAAABbQAAAAAAAwFxAAAAAAACAa0AAAAAAAIBcQAAAAAAAgE1AAAAAAAAAS0AAAAAAAABkQAAAAAAA4GVAAAAAAAAAZEAAAAAAAMBXQAAAAAAAAFdAAAAAAACAVkAAAAAAAMBTQAAAAAAAAFJAAAAAAADgcEAAAAAAAEBQQAAAAAAAwHJAAAAAAADAVUAAAAAAAABpQAAAAAAAgGNAAAAAAACAVkAAAAAAAMBcQAAAAAAAwF1AAAAAAACAa0AAAAAAAABZQAAAAAAAwFhAAAAAAAAAXkAAAAAAAIBWQAAAAAAAgFZAAAAAAAAAaUAAAAAAAPBxQAAAAAAAwF1AAAAAAADAYkAAAAAAAMBiQAAAAAAAcHFAAAAAAAAgYEAAAAAAAIBWQAAAAAAA4GhAAAAAAABAUEAAAAAAAABpQAAAAAAAEHBAAAAAAAAAaUAAAAAAAABUQAAAAAAAQFBAAAAAAABAWkAAAAAAAIBNQAAAAAAAgE1AAAAAAAAATEAAAAAAAABZQAAAAAAA4GBAAAAAAAAAaUAAAAAAAGBkQAAAAAAAwFRAAAAAAADgYEAAAAAAAIBLQAAAAAAAQH9AAAAAAAAAeUAAAAAAAEBaQAAAAAAAIGBAAAAAAAAARkAAAAAAAOB1QAAAAAAAwHJAAAAAAACASkAAAAAAANBxQAAAAAAAQGpAAAAAAAAgbEAAAAAAAIBQQAAAAAAAAFRAAAAAAAAAXkAAAAAAAIBIQAAAAAAAgF5AAAAAAACAaEAAAAAAAEBfQAAAAAAAAE5AAAAAAABAUUAAAAAAAEBRQAAAAAAAgGFAAAAAAAAAUUAAAAAAAABZQAAAAAAAgFZAAAAAAAAwcUAAAAAAAIBWQAAAAAAAgFZAAAAAAABAb0AAAAAAAEBrQAAAAAAAAFBAAAAAAAAAVEAAAAAAAABlQAAAAAAAgFFAAAAAAADAXEAAAAAAAEBvQAAAAAAAQFFAAAAAAAAAREAAAAAAAABOQAAAAAAAoGJAAAAAAADAU0AAAAAAAOBgQAAAAAAAwFJAAAAAAADgYEAAAAAAAIBNQAAAAAAAAFFAAAAAAADAgkAAAAAAAMBcQAAAAAAAAGlAAAAAAACgbEAAAAAAAIBRQAAAAAAAgEtAAAAAAABAWEAAAAAAAOB1QAAAAAAAAGlAAAAAAAAAREAAAAAAAABHQAAAAAAAAFBAAAAAAABAb0AAAAAAAGBiQAAAAAAAwGJAAAAAAADAUkAAAAAAAAB+QAAAAAAAIGBAAAAAAAAASUAAAAAAAOBlQAAAAAAAAFZAAAAAAAAgbEAAAAAAAABpQAAAAAAAQG9AAAAAAACAZUAAAAAAAMBYQAAAAAAAwFhAAAAAAADgZUAAAAAAAOB1QAAAAAAAQFFAAAAAAABwd0AAAAAAAEBlQAAAAAAAYGZAAAAAAACATUAAAAAAAABWQAAAAAAAwFJAAAAAAADAV0AAAAAAAEBfQAAAAAAAoG5AAAAAAAAgY0AAAAAAAEBQQAAAAAAAgE1AAAAAAADAYkAAAAAAAEBvQAAAAAAAQF9AAAAAAAAAVEAAAAAAAMBiQAAAAAAAwFJAAAAAAABgaEAAAAAAAIBMQAAAAAAA4GNAAAAAAABQdEAAAAAAAABZQAAAAAAAAEtAAAAAAAAgbEAAAAAAAABpQAAAAAAAAG5AAAAAAADAXUAAAAAAACBvQAAAAAAAkHBAAAAAAAAAWUAAAAAAAEBvQAAAAAAAAFlAAAAAAADgYEAAAAAAANBwQAAAAAAAUHRAAAAAAADgdUAAAAAAAEBgQAAAAAAAIGBAAAAAAADweEAAAAAAAOB1QAAAAAAAQFtAAAAAAAAgbEAAAAAAAGBtQAAAAAAAQFVAAAAAAADAYkAAAAAAAOB1QAAAAAAAAFlAAAAAAADAU0AAAAAAAMByQAAAAAAAQFFAAAAAAACAZkAAAAAAACB8QAAAAAAAYGtAAAAAAACAYUAAAAAAAABpQAAAAAAAAEtAAAAAAAAATkAAAAAAAMBTQAAAAAAAQFpAAAAAAAAAWUAAAAAAAEBXQAAAAAAAIGxAAAAAAADgdUAAAAAAAABpQAAAAAAA4GhAAAAAAABAVEAAAAAAAEBZQAAAAAAAgFZAAAAAAACAVkAAAAAAACBnQAAAAAAAQFZAAAAAAACARkAAAAAAAEBgQAAAAAAAgFZAAAAAAAAAaUAAAAAAACBsQAAAAAAAgFZAAAAAAAAgbEAAAAAAAEBRQAAAAAAAgERAAAAAAAAARUAAAAAAAABZQAAAAAAAAFlAAAAAAACARkAAAAAAAEBQQAAAAAAAwF1AAAAAAAAAWUAAAAAAAIBcQAAAAAAAAFlAAAAAAAAAUUAAAAAAAIBBQAAAAAAAwFJAAAAAAADAV0AAAAAAAEBfQAAAAAAAwFJAAAAAAAAAUkAAAAAAAKBkQAAAAAAAQF9AAAAAAAAAXkAAAAAAAMBSQAAAAAAAsHJAAAAAAABAX0AAAAAAAEBvQAAAAAAAwFJAAAAAAADAXUAAAAAAACB3QAAAAAAAQF1AAAAAAABAVUAAAAAAAABpQAAAAAAAIGBAAAAAAACAUUAAAAAAAEBQQAAAAAAAQFtAAAAAAADAUkAAAAAAAEBQQAAAAAAAYGFAAAAAAADAV0AAAAAAAABpQAAAAAAAgEhAAAAAAABAUEAAAAAAAEBVQAAAAAAAgENAAAAAAADAUkAAAAAAAEBfQAAAAAAA4GpAAAAAAACgZEAAAAAAAIBLQAAAAAAAIG9AAAAAAACASUAAAAAAACBgQAAAAAAAQFBAAAAAAACASEAAAAAAAIBmQAAAAAAAQG9AAAAAAADAYkAAAAAAAHB3QAAAAAAAAExAAAAAAADAckAAAAAAAIBGQAAAAAAAgFtAAAAAAADAWEAAAAAAAIBKQAAAAAAAwFJAAAAAAACAVkAAAAAAAMBiQAAAAAAAgEZAAAAAAAAAVEAAAAAAAABJQAAAAAAAQFZAAAAAAACAQUAAAAAAAIBLQAAAAAAAgEFAAAAAAACAQUAAAAAAAABNQAAAAAAAQGVAAAAAAAAAQ0AAAAAAAABaQAAAAAAAwGJAAAAAAACAS0AAAAAAAEBgQAAAAAAAAENAAAAAAACAS0AAAAAAAOBoQAAAAAAAgEZAAAAAAAAAVEAAAAAAAABUQAAAAAAAAE1AAAAAAABAUUAAAAAAAABDQAAAAAAAAE5AAAAAAADgZUAAAAAAAIBxQAAAAAAAAFRAAAAAAABAVUAAAAAAAOBqQAAAAAAAQFpAAAAAAACAWEAAAAAAAABGQAAAAAAAAEFAAAAAAAAASUAAAAAAAEBVQAAAAAAAgEhAAAAAAAAASUAAAAAAAABJQAAAAAAAgFFAAAAAAAAAREAAAAAAAABDQAAAAAAAADpAAAAAAACASEAAAAAAACBgQAAAAAAA4GVAAAAAAAAARUAAAAAAAIBfQAAAAAAAsHJAAAAAAADAWEAAAAAAAOBlQAAAAAAAAEVAAAAAAAAATEAAAAAAAIBLQAAAAAAAgEtAAAAAAABgbUAAAAAAAABOQAAAAAAAwFdAAAAAAAAASUAAAAAAAOBoQAAAAAAA4GVAAAAAAACAS0AAAAAAAABRQAAAAAAAwFxAAAAAAAAAVEAAAAAAAEBVQAAAAAAAgE9AAAAAAAAAWUAAAAAAAEBfQAAAAAAAQFFAAAAAAACAcUAAAAAAAABkQAAAAAAAwFJAAAAAAACAWEAAAAAAAEBbQAAAAAAAQF9AAAAAAAAgbEAAAAAAAMBSQAAAAAAAwHJAAAAAAAAATkAAAAAAAIBFQAAAAAAAQFVAAAAAAAAASkAAAAAAAABZQAAAAAAAAElAAAAAAACAQUAAAAAAAIBQQAAAAAAAwFhAAAAAAABAVkAAAAAAAMBiQAAAAAAAgEZAAAAAAAAATkAAAAAAAOBqQAAAAAAA4HBAAAAAAADwfkAAAAAAAKBkQAAAAAAAIGBAAAAAAADAUkAAAAAAACBmQAAAAAAAQFVAAAAAAACAU0AAAAAAAABOQAAAAAAAAFRAAAAAAACAQ0AAAAAAAABOQAAAAAAAAEVAAAAAAACAX0AAAAAAAMBYQAAAAAAAQFZAAAAAAADAU0AAAAAAACBlQAAAAAAAwFNAAAAAAABAUUAAAAAAAABOQAAAAAAAAFlAAAAAAACAVkAAAAAAAPB4QAAAAAAAwHJAAAAAAADAUkAAAAAAAMBSQAAAAAAAYGtAAAAAAACgZEAAAAAAAMBVQAAAAAAAIGVAAAAAAADAUkAAAAAAAAA+QAAAAAAAgEtAAAAAAADAWEAAAAAAAEBRQAAAAAAAAFRAAAAAAACAS0AAAAAAAMBSQAAAAAAAwGJAAAAAAAAAWkAAAAAAAABOQAAAAAAAAE5AAAAAAABAWkAAAAAAAABiQAAAAAAAQFFAAAAAAADgY0AAAAAAAEBVQAAAAAAA4GBAAAAAAAAAXkAAAAAAAABOQAAAAAAAAEJAAAAAAADAV0AAAAAAAIBPQAAAAAAAgEJAAAAAAAAAVUAAAAAAAEBaQAAAAAAAQFpAAAAAAAAAQUAAAAAAAIBBQAAAAAAAQFBAAAAAAADgaEAAAAAAAMBiQAAAAAAAgERAAAAAAADAV0AAAAAAAMBTQAAAAAAAgFFAAAAAAAAASUAAAAAAAEBQQAAAAAAAwFhAAAAAAADAYkAAAAAAAIBuQAAAAAAA4GVAAAAAAAAAQ0AAAAAAAIBRQAAAAAAAwGJAAAAAAABAUEAAAAAAAMBYQAAAAAAAcHJAAAAAAAAAUUAAAAAAAIBLQAAAAAAAAEJAAAAAAACAVkAAAAAAAABJQAAAAAAAAE5AAAAAAAAAWUAAAAAAAABpQAAAAAAAAEVAAAAAAACAQUAAAAAAAMBQQAAAAAAAgEtAAAAAAABAUEAAAAAAACBlQAAAAAAAAFZAAAAAAAAATkAAAAAAAIBBQAAAAAAAgExAAAAAAACAQkAAAAAAAABOQAAAAAAAgENAAAAAAAAARUAAAAAAAMBTQAAAAAAAAE5AAAAAAABAUUAAAAAAAMByQAAAAAAAQFBAAAAAAABAUEAAAAAAAABZQAAAAAAAQFBAAAAAAAAAVEAAAAAAAEBfQAAAAAAAAERAAAAAAAAASUAAAAAAAEBYQAAAAAAAYGhAAAAAAAAAWUAAAAAAAGBoQAAAAAAAwGJAAAAAAAAAUkAAAAAAAABZQAAAAAAAgEtAAAAAAAAAX0AAAAAAAIBRQAAAAAAAQFBAAAAAAABAUEAAAAAAAABSQAAAAAAAwFxAAAAAAACAa0AAAAAAAIBGQAAAAAAAgFZAAAAAAAAAOUAAAAAAAOBlQAAAAAAAwGJAAAAAAACASEAAAAAAAIBNQAAAAAAAQFBAAAAAAACAVkAAAAAAAIBRQAAAAAAA4GVAAAAAAADgaEAAAAAAAEBbQAAAAAAAgFFAAAAAAAAATUAAAAAAAIBBQAAAAAAAwHJAAAAAAADAV0AAAAAAAABJQAAAAAAAgEhAAAAAAACAS0AAAAAAAIBIQAAAAAAAAERAAAAAAADAV0AAAAAAAIBRQAAAAAAAgFJAAAAAAACAVkAAAAAAAMBiQAAAAAAA4GVAAAAAAAAARUAAAAAAAIBNQAAAAAAAQFVAAAAAAAAAVEAAAAAAAEBfQAAAAAAAAFRAAAAAAACAYUAAAAAAAGBhQAAAAAAAgF9AAAAAAADAYkAAAAAAAABUQAAAAAAAQFFAAAAAAABAWkAAAAAAAMBiQAAAAAAAAEpAAAAAAAAAVEAAAAAAAABpQAAAAAAAAFFAAAAAAACASEAAAAAAAIBDQAAAAAAAAE9AAAAAAABAVEAAAAAAAIBbQAAAAAAAAGlAAAAAAAAAWUAAAAAAAIBPQAAAAAAAgFFAAAAAAAAATkAAAAAAAIBDQAAAAAAAAEJAAAAAAAAAWUAAAAAAAEBvQAAAAAAAQFBAAAAAAAAAUUAAAAAAAMBYQAAAAAAAAEFAAAAAAACAREAAAAAAAIBYQAAAAAAAgGdAAAAAAADAYkAAAAAAAABkQAAAAAAAwFJAAAAAAADAUkAAAAAAAMBXQAAAAAAAgFZAAAAAAABAb0AAAAAAAMBcQAAAAAAAQFdAAAAAAACARkAAAAAAAABlQAAAAAAAgEFAAAAAAABAUEAAAAAAAHBxQAAAAAAAQFdAAAAAAABAUEAAAAAAAMBiQAAAAAAAcHdAAAAAAAAASUAAAAAAAIBLQAAAAAAAgEFAAAAAAABAVUAAAAAAAMBSQAAAAAAAAFlAAAAAAAAAVEAAAAAAAEBVQAAAAAAAwFdAAAAAAABAUUAAAAAAAABFQAAAAAAAgFFAAAAAAACAR0AAAAAAAIBiQAAAAAAAwFdAAAAAAACASEAAAAAAAEBQQAAAAAAAAE1AAAAAAACAS0AAAAAAACBgQAAAAAAAgEhAAAAAAABAVUAAAAAAAIBLQAAAAAAAgEtAAAAAAAAAaUAAAAAAAIBWQAAAAAAAgEZAAAAAAAAATkAAAAAAAABQQAAAAAAAgElAAAAAAAAAWUAAAAAAAEBRQAAAAAAAYGFAAAAAAAAAXkAAAAAAAIBbQAAAAAAAgEJAAAAAAABAUEAAAAAAAABOQAAAAAAAwFNAAAAAAAAAUkAAAAAAAEBbQAAAAAAAgFhAAAAAAABAW0AAAAAAAAA8QAAAAAAAgENAAAAAAACAQUAAAAAAAABFQAAAAAAAAD1AAAAAAACAUUAAAAAAAIBSQAAAAAAAwFJAAAAAAABAVUAAAAAAAABJQAAAAAAAQF9AAAAAAABAV0AAAAAAAIBVQAAAAAAAAFRAAAAAAACAcUAAAAAAAIBDQAAAAAAAAERAAAAAAAAAREAAAAAAAEBfQAAAAAAAgENAAAAAAABQdEAAAAAAAMBXQAAAAAAAoG5AAAAAAABAUUAAAAAAACBgQAAAAAAAADxAAAAAAACASEAAAAAAAABDQAAAAAAAQGBAAAAAAACAQ0AAAAAAAABUQAAAAAAAAFlAAAAAAAAASUAAAAAAAMBSQAAAAAAAQFVAAAAAAACAUUAAAAAAAMBXQAAAAAAAAElAAAAAAADAXEAAAAAAAIBGQAAAAAAAAE5AAAAAAADgZUAAAAAAAABUQAAAAAAAgEFAAAAAAAAAVUAAAAAAAIBIQAAAAAAAgGhAAAAAAACAS0AAAAAAAABeQAAAAAAAgEtAAAAAAAAATkAAAAAAACBgQAAAAAAAgFFAAAAAAACAS0AAAAAAAGiAQAAAAAAAgFZAAAAAAABwh0AAAAAAAEBvQAAAAAAAwHdAAAAAAABAYEAAAAAAABBwQAAAAAAAgFBAAAAAAABAUEAAAAAAAABOQAAAAAAAcHJAAAAAAABAb0AAAAAAAABNQAAAAAAAQG9AAAAAAAAASUAAAAAAAIBHQAAAAAAAoGdAAAAAAADgZUAAAAAAAMBXQAAAAAAAwFdAAAAAAADAYkAAAAAAAABPQAAAAAAAwGJAAAAAAAAgZ0AAAAAAAABQQAAAAAAAAFlAAAAAAABAX0AAAAAAAIBGQAAAAAAAgGZAAAAAAABAX0AAAAAAAPB5QAAAAAAAIGBAAAAAAABAYEAAAAAAAIBLQAAAAAAAgEtAAAAAAABAcEAAAAAAAIBbQAAAAAAAcIdAAAAAAACAS0AAAAAAAEBWQAAAAAAAQFVAAAAAAAAAeUAAAAAAAABZQAAAAAAAwFxAAAAAAAAASUAAAAAAADCBQAAAAAAAYGJAAAAAAAAAcEAAAAAAAMBYQAAAAAAAAFlAAAAAAACAVkAAAAAAAEBRQAAAAAAAQFBAAAAAAACASEAAAAAAAIBRQAAAAAAAgFZAAAAAAAAAUEAAAAAAAABkQAAAAAAAQFVAAAAAAABAVUAAAAAAAMBSQAAAAAAAAF5AAAAAAACAW0AAAAAAAMBTQAAAAAAAwFNAAAAAAAAATUAAAAAAAABEQAAAAAAAgEpAAAAAAABAUEAAAAAAAIBLQAAAAAAAgEpAAAAAAACAS0AAAAAAAIBIQAAAAAAAwFdAAAAAAABAVkAAAAAAAABZQAAAAAAAAE1AAAAAAAAAaUAAAAAAAMBSQAAAAAAAgFNAAAAAAAAAWUAAAAAAAEBgQAAAAAAAwFhAAAAAAAAAXkAAAAAAAABZQAAAAAAA4GVAAAAAAABAcEAAAAAAAEBfQAAAAAAAwGZAAAAAAACAR0AAAAAAAABpQAAAAAAAQFFAAAAAAAAwgUAAAAAAAOB1QAAAAAAAAEhAAAAAAABAUUAAAAAAAIBOQAAAAAAAAEpAAAAAAADAV0AAAAAAAOB1QAAAAAAAQGFAAAAAAADAV0AAAAAAAIBLQAAAAAAAgHZAAAAAAABAVUAAAAAAAABPQAAAAAAAQFBAAAAAAAAAVEAAAAAAAAiFQAAAAAAAgE9AAAAAAADAU0AAAAAAAIBIQAAAAAAAgEhAAAAAAAAAUUAAAAAAAEB6QAAAAAAAIGVAAAAAAABAVUAAAAAAAAB5QAAAAAAAQG9AAAAAAADAYkAAAAAAAEBWQAAAAAAAQFpAAAAAAACASEAAAAAAAABZQAAAAAAAQFBAAAAAAADgY0AAAAAAAABZQAAAAAAAYGFAAAAAAADAXUAAAAAAAABUQAAAAAAAgFhAAAAAAACASEAAAAAAAIBWQAAAAAAAgEtAAAAAAABAVUAAAAAAAABHQAAAAAAAAE5AAAAAAAAAR0AAAAAAAEBRQAAAAAAAwFJAAAAAAADAV0AAAAAAAIBLQAAAAAAAgFZAAAAAAACASEAAAAAAAIBIQAAAAAAAgGtAAAAAAADAWEAAAAAAADB7QAAAAAAAgFtAAAAAAABAYEAAAAAAAIBrQAAAAAAAwFdAAAAAAABAWkAAAAAAAABOQAAAAAAAQG9AAAAAAABAYEAAAAAAAMBXQAAAAAAAwFJAAAAAAACQcEAAAAAAAABZQAAAAAAA4GVAAAAAAADAWEAAAAAAAMBiQAAAAAAAgEZAAAAAAACAR0AAAAAAAABUQAAAAAAAQFZAAAAAAAAAREAAAAAAAIBaQAAAAAAAAE5AAAAAAACAUUAAAAAAAABJQAAAAAAAAGlAAAAAAABAUEAAAAAAAABJQAAAAAAAAE5AAAAAAAAgYEAAAAAAAABRQAAAAAAAAE5AAAAAAACASUAAAAAAAABJQAAAAAAAwGJAAAAAAABAX0AAAAAAAMBdQAAAAAAAwFVAAAAAAABAYEAAAAAAAEBvQAAAAAAA4GNAAAAAAAAATkAAAAAAAEBfQAAAAAAAgEVAAAAAAACAUUAAAAAAAIBvQAAAAAAAwFFAAAAAAACAYUAAAAAAAEBaQAAAAAAAQF9AAAAAAADAYkAAAAAAAABpQAAAAAAAgEFAAAAAAAAAeUAAAAAAAIBVQAAAAAAAwGJAAAAAAAAgbEAAAAAAAIBdQAAAAAAAAE1AAAAAAABwd0AAAAAAAMBcQAAAAAAAQFFAAAAAAADAUkAAAAAAAIBHQAAAAAAAAElAAAAAAAAAVEAAAAAAAABOQAAAAAAAgEtAAAAAAABAb0AAAAAAAEBWQAAAAAAAoGdAAAAAAACAQUAAAAAAAIBLQAAAAAAAQFBAAAAAAAAARUAAAAAAAIBLQAAAAAAAAFRAAAAAAAAATEAAAAAAAABJQAAAAAAAQFdAAAAAAAAAS0AAAAAAAABuQAAAAAAAAE9AAAAAAAAAREAAAAAAAABSQAAAAAAAgEpAAAAAAAAAVEAAAAAAAEBaQAAAAAAAAFlAAAAAAABAWkAAAAAAAIBUQAAAAAAAIGpAAAAAAABAj0AAAAAAAEBfQAAAAAAAgFVAAAAAAACgZEAAAAAAAKBiQAAAAAAAYGFAAAAAAACATUAAAAAAAMBiQAAAAAAAgFdAAAAAAACAQ0AAAAAAAMBdQAAAAAAAoGRAAAAAAAAwcUAAAAAAADBxQAAAAAAAAFJAAAAAAADAZ0AAAAAAAABZQAAAAAAAwFhAAAAAAAAgbEAAAAAAAIBrQAAAAAAAQFBAAAAAAADAUkAAAAAAAABUQAAAAAAAAFlAAAAAAACwckAAAAAAAEBvQAAAAAAA4GVAAAAAAABAUEAAAAAAAMBSQAAAAAAAAE5AAAAAAAAASEAAAAAAAABIQAAAAAAAAE5AAAAAAAAAaUAAAAAAAEBqQAAAAAAAQFVAAAAAAADAUkAAAAAAAMBSQAAAAAAAgGZAAAAAAAAAbkAAAAAAAIBIQAAAAAAAMHFAAAAAAAAAW0AAAAAAAMBYQAAAAAAAgFtAAAAAAACAS0AAAAAAAABUQAAAAAAAQG9AAAAAAABAVkAAAAAAAIBWQAAAAAAAAElAAAAAAABAZUAAAAAAAIBGQAAAAAAAgENAAAAAAADAWEAAAAAAAEBQQAAAAAAAgFZAAAAAAADAZ0AAAAAAAIBDQAAAAAAAAFRAAAAAAADAUkAAAAAAAMBSQAAAAAAAgEtAAAAAAACAUUAAAAAAAEBVQAAAAAAA4HVAAAAAAAAAaUAAAAAAAABJQAAAAAAAwGJAAAAAAACwfUAAAAAAAHB3QAAAAAAAIHxAAAAAAADgdUAAAAAAAMBSQAAAAAAAwF1AAAAAAABAX0AAAAAAAABpQAAAAAAAAFtAAAAAAACASEAAAAAAAIBRQAAAAAAAgFhAAAAAAAAAVEAAAAAAAOBoQAAAAAAAQF9AAAAAAADAYkAAAAAAAEBSQAAAAAAAAFZAAAAAAACAUUAAAAAAACBgQAAAAAAAAElAAAAAAAAAWEAAAAAAAEBVQAAAAAAAoGdAAAAAAACAS0AAAAAAAMBYQAAAAAAAAElAAAAAAABAUEAAAAAAAIBLQAAAAAAAQFBAAAAAAAAAWUAAAAAAAMBVQAAAAAAAgFNAAAAAAADAYkAAAAAAAHB3QAAAAAAAwGJAAAAAAABQdEAAAAAAAABOQAAAAAAAAF5AAAAAAAAAVkAAAAAAAMBiQAAAAAAAYGhAAAAAAAAASUAAAAAAAEBvQAAAAAAAwFVAAAAAAACAUUAAAAAAAABZQAAAAAAA4GVAAAAAAACgZEAAAAAAAABeQAAAAAAA4G1AAAAAAAAAaUAAAAAAAABJQAAAAAAAwFJAAAAAAACgZ0AAAAAAAABcQAAAAAAAAHlAAAAAAADgdUAAAAAAAIBLQAAAAAAAwFdAAAAAAAAAVEAAAAAAAABJQAAAAAAAwFdAAAAAAADgZUAAAAAAAABJQAAAAAAAwGdAAAAAAADAWEAAAAAAAIBWQAAAAAAA0HVAAAAAAABAWkAAAAAAAABKQAAAAAAAQFpAAAAAAACAW0AAAAAAAEBRQAAAAAAAAFhAAAAAAACAS0AAAAAAAEBgQAAAAAAAwHJAAAAAAAAAeUAAAAAAAEBdQAAAAAAAQFVAAAAAAADAXEAAAAAAAABPQAAAAAAAwFhAAAAAAAAAaUAAAAAAAEBfQAAAAAAAgEtAAAAAAADAUkAAAAAAAMBXQAAAAAAAgFtAAAAAAACAbEAAAAAAAIBbQAAAAAAAsI1AAAAAAABAX0AAAAAAAABRQAAAAAAAQG9AAAAAAACgdEAAAAAAAABUQAAAAAAAAFJAAAAAAACAU0AAAAAAAEBvQAAAAAAAgENAAAAAAADAV0AAAAAAAEBYQAAAAAAAgFlAAAAAAAAATkAAAAAAAABOQAAAAAAAwFNAAAAAAACAW0AAAAAAAIBNQAAAAAAAYGhAAAAAAABAVUAAAAAAAABpQAAAAAAAAGlAAAAAAADgYEAAAAAAAIBRQAAAAAAAgFZAAAAAAAAASUAAAAAAAEBQQAAAAAAAgFZAAAAAAAAAWUAAAAAAAEBQQAAAAAAAQFpAAAAAAABAX0AAAAAAAABOQAAAAAAAgE1AAAAAAABAUEAAAAAAAABNQAAAAAAAwGJAAAAAAACAS0AAAAAAAIBbQAAAAAAAwFJAAAAAAADAUkAAAAAAACBgQAAAAAAA0HFAAAAAAAAwcUAAAAAAAMBnQAAAAAAAAGlAAAAAAADAYkAAAAAAAGBhQAAAAAAAQF9AAAAAAACAQEAAAAAAAAA7QAAAAAAAAD1AAAAAAAAAPUAAAAAAAAA9QAAAAAAAAD5AAAAAAABAUEAAAAAAAEBfQAAAAAAAgFZAAAAAAAAAREAAAAAAAIBWQAAAAAAAwGJAAAAAAABAX0AAAAAAAABZQAAAAAAAQFVAAAAAAADAWEAAAAAAAAA+QAAAAAAA8HhAAAAAAADAckAAAAAAAIBJQAAAAAAAAFRAAAAAAAAAaUAAAAAAAMBcQAAAAAAAAHlAAAAAAADAV0AAAAAAAAiBQAAAAAAAQG9AAAAAAAAAXkAAAAAAAEBfQAAAAAAAgF9AAAAAAADAYkAAAAAAAEBfQAAAAAAAAEpAAAAAAACgZEAAAAAAAABWQAAAAAAAIHxAAAAAAABwckAAAAAAAEBQQAAAAAAAwGNAAAAAAABAX0AAAAAAAAA/QAAAAAAAAD1AAAAAAAAAPUAAAAAAAEBfQAAAAAAAAFRAAAAAAABAWEAAAAAAABB8QAAAAAAAwHJAAAAAAAAAPkAAAAAAAABUQAAAAAAAAD5AAAAAAABAUEAAAAAAAAA/QAAAAAAA4GBAAAAAAADgdUAAAAAAAIBGQAAAAAAAwFJAAAAAAABAWkAAAAAAAGBoQAAAAAAAQF9AAAAAAABAUEAAAAAAAEBfQAAAAAAA4GZAAAAAAACAQ0AAAAAAAABRQAAAAAAAAF5AAAAAAACAVUAAAAAAAIBDQAAAAAAAwGJAAAAAAADAUkAAAAAAAEBfQAAAAAAAQFBAAAAAAABAb0AAAAAAAABZQAAAAAAAgGZAAAAAAAAgYEAAAAAAAIBOQAAAAAAAMHFAAAAAAACATUAAAAAAAEB/QAAAAAAAAGlAAAAAAADAWEAAAAAAAIBLQAAAAAAAAEpAAAAAAACATEAAAAAAAABLQAAAAAAAAElAAAAAAABAUUAAAAAAAIBGQAAAAAAAIHxAAAAAAACASEAAAAAAAABRQAAAAAAAAF5AAAAAAABgaEAAAAAAAMByQAAAAAAAAEpAAAAAAACAUUAAAAAAAMBiQAAAAAAAMHFAAAAAAADAV0AAAAAAAABpQAAAAAAAAElAAAAAAABAUEAAAAAAAABZQAAAAAAAwGJAAAAAAABAakAAAAAAAGBoQAAAAAAAgE1AAAAAAABgbUAAAAAAAAB5QAAAAAAAAE9AAAAAAAAAaUAAAAAAAAB5QAAAAAAAIGxAAAAAAAAAbkAAAAAAAABJQAAAAAAAoGRAAAAAAADgdUAAAAAAAEBVQAAAAAAAUHRAAAAAAADAWEAAAAAAAABRQAAAAAAAQF9AAAAAAACAVkAAAAAAAEBwQAAAAAAAAE5AAAAAAABAVUAAAAAAAEBbQAAAAAAAgFFAAAAAAABAU0AAAAAAAABpQAAAAAAAQG9AAAAAAAAAZEAAAAAAAOBlQAAAAAAAQGNAAAAAAABwdkAAAAAAAEBXQA==",
           "dtype": "f8"
          },
          "sizemode": "area",
          "sizeref": 2.5
         },
         "mode": "markers",
         "name": "House",
         "showlegend": true,
         "subplot": "mapbox",
         "type": "scattermapbox"
        },
        {
         "customdata": [
          [
           60,
           "Cabin"
          ],
          [
           89,
           "Cabin"
          ],
          [
           125,
           "Cabin"
          ],
          [
           56,
           "Cabin"
          ],
          [
           52,
           "Cabin"
          ],
          [
           95,
           "Cabin"
          ],
          [
           300,
           "Cabin"
          ],
          [
           90,
           "Cabin"
          ],
          [
           85,
           "Cabin"
          ],
          [
           122,
           "Cabin"
          ],
          [
           100,
           "Cabin"
          ],
          [
           99,
           "Cabin"
          ],
          [
           85,
           "Cabin"
          ],
          [
           210,
           "Cabin"
          ],
          [
           99,
           "Cabin"
          ],
          [
           68,
           "Cabin"
          ],
          [
           100,
           "Cabin"
          ],
          [
           100,
           "Cabin"
          ],
          [
           99,
           "Cabin"
          ],
          [
           79,
           "Cabin"
          ],
          [
           85,
           "Cabin"
          ]
         ],
         "hovertemplate": "property_type=%{customdata[1]}<br>price=%{customdata[0]}<br>latitude=%{lat}<br>longitude=%{lon}<extra></extra>",
         "lat": {
          "bdata": "c1rWx/DRR0DQ6i38L9ZHQE0r0leJzkdAziimEIXNR0AQuQNdps1HQKh1oyK/zEdA4FTz0NXSR0CEaJgNtslHQGll5ndOx0dAlvQ9frrGR0De9hpAbchHQCOn05TYx0dAeHjmZCTIR0Ckafalv89HQFZ7BJEuz0dAPhTQ+WnZR0A7haNbgdtHQNHBAGP91EdAxJ7/E+nTR0CBOAphdNNHQKYLsHcI1EdA",
          "dtype": "f8"
         },
         "legendgroup": "Cabin",
         "lon": {
          "bdata": "ykw8Bg6YXsC2VZSmSZlewKCysU2Qkl7ATnJuG8WTXsA9zeCPuJNewB4nXrYKlF7AvCKcwaeUXsAj+F7Wf5lewGRtPfvJk17AuizudnqTXsC2Bm60J5RewJwZVHz/kV7AHemk03+SXsB2xHcA5ZRewOLf3uh1lF7A+MDx4ceSXsAqb8RGT5VewD1QSMCWkV7A1LIiqb+WXsDep+W7apZewDcqlpYTl17A",
          "dtype": "f8"
         },
         "marker": {
          "color": "#003786",
          "size": {
           "bdata": "AAAAAAAATkAAAAAAAEBWQAAAAAAAQF9AAAAAAAAATEAAAAAAAABKQAAAAAAAwFdAAAAAAADAckAAAAAAAIBWQAAAAAAAQFVAAAAAAACAXkAAAAAAAABZQAAAAAAAwFhAAAAAAABAVUAAAAAAAEBqQAAAAAAAwFhAAAAAAAAAUUAAAAAAAABZQAAAAAAAAFlAAAAAAADAWEAAAAAAAMBTQAAAAAAAQFVA",
           "dtype": "f8"
          },
          "sizemode": "area",
          "sizeref": 2.5
         },
         "mode": "markers",
         "name": "Cabin",
         "showlegend": true,
         "subplot": "mapbox",
         "type": "scattermapbox"
        },
        {
         "customdata": [
          [
           110,
           "Condominium"
          ],
          [
           50,
           "Condominium"
          ],
          [
           145,
           "Condominium"
          ],
          [
           275,
           "Condominium"
          ],
          [
           115,
           "Condominium"
          ],
          [
           75,
           "Condominium"
          ],
          [
           55,
           "Condominium"
          ],
          [
           179,
           "Condominium"
          ],
          [
           250,
           "Condominium"
          ],
          [
           250,
           "Condominium"
          ],
          [
           150,
           "Condominium"
          ],
          [
           65,
           "Condominium"
          ],
          [
           155,
           "Condominium"
          ],
          [
           120,
           "Condominium"
          ],
          [
           100,
           "Condominium"
          ],
          [
           100,
           "Condominium"
          ],
          [
           175,
           "Condominium"
          ],
          [
           65,
           "Condominium"
          ],
          [
           95,
           "Condominium"
          ],
          [
           97,
           "Condominium"
          ],
          [
           357,
           "Condominium"
          ],
          [
           150,
           "Condominium"
          ],
          [
           129,
           "Condominium"
          ],
          [
           88,
           "Condominium"
          ],
          [
           119,
           "Condominium"
          ],
          [
           280,
           "Condominium"
          ],
          [
           105,
           "Condominium"
          ],
          [
           350,
           "Condominium"
          ],
          [
           110,
           "Condominium"
          ],
          [
           128,
           "Condominium"
          ],
          [
           99,
           "Condominium"
          ],
          [
           700,
           "Condominium"
          ],
          [
           700,
           "Condominium"
          ],
          [
           155,
           "Condominium"
          ],
          [
           150,
           "Condominium"
          ],
          [
           175,
           "Condominium"
          ],
          [
           150,
           "Condominium"
          ],
          [
           99,
           "Condominium"
          ],
          [
           169,
           "Condominium"
          ],
          [
           79,
           "Condominium"
          ],
          [
           183,
           "Condominium"
          ],
          [
           155,
           "Condominium"
          ],
          [
           105,
           "Condominium"
          ],
          [
           130,
           "Condominium"
          ],
          [
           99,
           "Condominium"
          ],
          [
           110,
           "Condominium"
          ],
          [
           89,
           "Condominium"
          ],
          [
           149,
           "Condominium"
          ],
          [
           115,
           "Condominium"
          ],
          [
           290,
           "Condominium"
          ],
          [
           100,
           "Condominium"
          ],
          [
           169,
           "Condominium"
          ],
          [
           250,
           "Condominium"
          ],
          [
           129,
           "Condominium"
          ],
          [
           215,
           "Condominium"
          ],
          [
           66,
           "Condominium"
          ],
          [
           140,
           "Condominium"
          ],
          [
           140,
           "Condominium"
          ],
          [
           180,
           "Condominium"
          ],
          [
           70,
           "Condominium"
          ],
          [
           120,
           "Condominium"
          ],
          [
           75,
           "Condominium"
          ],
          [
           495,
           "Condominium"
          ],
          [
           99,
           "Condominium"
          ],
          [
           150,
           "Condominium"
          ],
          [
           115,
           "Condominium"
          ],
          [
           51,
           "Condominium"
          ],
          [
           65,
           "Condominium"
          ],
          [
           100,
           "Condominium"
          ],
          [
           110,
           "Condominium"
          ],
          [
           99,
           "Condominium"
          ],
          [
           250,
           "Condominium"
          ],
          [
           85,
           "Condominium"
          ],
          [
           90,
           "Condominium"
          ],
          [
           150,
           "Condominium"
          ],
          [
           150,
           "Condominium"
          ],
          [
           109,
           "Condominium"
          ],
          [
           70,
           "Condominium"
          ],
          [
           100,
           "Condominium"
          ],
          [
           99,
           "Condominium"
          ],
          [
           99,
           "Condominium"
          ],
          [
           150,
           "Condominium"
          ],
          [
           67,
           "Condominium"
          ],
          [
           105,
           "Condominium"
          ],
          [
           50,
           "Condominium"
          ],
          [
           70,
           "Condominium"
          ],
          [
           215,
           "Condominium"
          ],
          [
           150,
           "Condominium"
          ],
          [
           250,
           "Condominium"
          ],
          [
           112,
           "Condominium"
          ],
          [
           99,
           "Condominium"
          ]
         ],
         "hovertemplate": "property_type=%{customdata[1]}<br>price=%{customdata[0]}<br>latitude=%{lat}<br>longitude=%{lon}<extra></extra>",
         "lat": {
          "bdata": "FA9YWWDQR0C811ND2NVHQPxP0WoN1kdAkcuUR+nQR0AkXS2JcdBHQEjCzDKR0EdAfrJCFRvSR0AHfmiljdNHQMmcSbjl0EdAecw6L3rPR0Cc7VgUec9HQOZR+nT/1EdAgz25xeHUR0CO8Tp+/9RHQAC7xsKHzkdA3bd1jHDOR0CZHOwyPcxHQN4eI7ARzEdAk5Rw3w3OR0A6bJTe7c1HQKhSMnTxzUdAXByTTXPTR0B3LhRa79FHQLMbZwhoz0dAX10DSEXPR0B8KBUtr9NHQBYkMvayzkdAPc1SlMPOR0ATQLOals5HQGFDzUuSzkdAglFKU63OR0DYOTwW1c5HQNV9qwm/zkdAN+ufRozOR0DLyswf+c5HQNzGMhSmzkdA4m7DFwXPR0BXAq3s2c5HQISOqfe0zkdA4nDO3CHPR0Ddebzlfs5HQDtVUdS7zkdAKE7j78nOR0AC94YcbM5HQCtCZ+e8zUdAXkTw1WvOR0DXtTb9Z85HQKPOAJ5TzkdAGumKio3OR0BblgEN5c1HQMfohn18zkdATswDqGTOR0BgXgZHBs5HQNMB5adfzkdAg+TlXGXOR0Ae0P3G7s1HQFRZCktIzkdACAjEk0POR0A+tgEWes1HQEuVDPuDzUdA0wmwiqjMR0BnY6SfAs1HQN6n8F4qy0dAQCkTEWbJR0Ceq+g2tdFHQM1p93TT2UdAqZ8b6RraR0CyP8WFG9pHQKaFkDcgz0dAprsp1sXOR0A/+5JQ5c5HQFRp/JPEz0dAnH5eV8XOR0D23jmZ4c5HQKI4ek9Tz0dANWC3orXOR0BX3wDJ5M5HQI5zGnKZ1kdAr/ob41DQR0CMgbfuhc9HQAzr4UOJz0dAtaJBBRPQR0B+BIddPM9HQMtmgkpc0EdAJuCGyNrWR0ABHLVlCtJHQE0dRaR90UdAWkAXIq3PR0CvgEaun89HQF8mhg/e00dAELwGWvDQR0A=",
          "dtype": "f8"
         },
         "legendgroup": "Condominium",
         "lon": {
          "bdata": "5FDUe1uXXsBkK/4PPJhewL/5M9N3mF7Arl1jSTKWXsCgngnYLZZewHzI2koZll7A1LbFsfKXXsCJjRcpmpdewO40RWbvlV7AIWqOCRGTXsCWysVADpNewNIL4BFtk17AI7Qh5WGTXsBmVnW1XZRewFaBvVfxk17AnqYut8yTXsBQqRx95JNewB5+y8bJk17ARye9lsiVXsAQe5Y705VewBomXC/HlV7AVs/HyZGUXsAinht55pRewGe6UWcOll7A+84GBAqWXsBk8ikg15hewOrEMoYyll7ANC5bokuVXsDre3U0SZZewJ/xvCRdll7APh7Eji6WXsBH3b0QVJVewF2hwSh4lV7A24Ru6z6WXsAADVrr15ZewNrjwF81ll7A7rpjdcuWXsBSOxs7TpZewOsgKWPNlV7AaPk6ZeKWXsB046OxVZZewNmG5eZQll7AxMydAC6WXsDW1VLY3ZVewDm0R124lV7ABW9Wj1CVXsBWEAVrOZVewO/Tl4o9lV7AWeqK3zuVXsCCMS7zoZVewFI6inPElF7ACVl0SiSVXsBEY5E9+ZRewAvrHw4ZlV7Au2MZlx+VXsBkYKycl5RewGHnXJ4UlV7AjEJzgwqVXsCM5atEiZRewIacWyuMlF7AaScV8leVXsBDMVJUWZVewKc0Mi1SmF7AZoMir8qXXsAafSlft5hewJs4nBGvll7AXd7Gb+KWXsByD+hZh5RewOv6h02zlF7AxrvmRMyUXsAG5SpfxpRewOYggzbxlF7AayRRR9eUXsAb1VOx1ZRewBYTWUNIlF7Ax7c9P76UXsBEbC6j4pRewLAakRvemF7AguFu9deWXsB5nWRtvpZewIkJJojCll7AgtjI9TmWXsB91DMQrpZewHRtbXQ8ll7AAQCVoWmXXsBlBl/vuZFewKroLwm4kV7AEtEsDxGTXsDBu6aiHZNewLq12Trxll7A7SnxSaKRXsA=",
          "dtype": "f8"
         },
         "marker": {
          "color": "#0e58a8",
          "size": {
           "bdata": "AAAAAACAW0AAAAAAAABJQAAAAAAAIGJAAAAAAAAwcUAAAAAAAMBcQAAAAAAAwFJAAAAAAACAS0AAAAAAAGBmQAAAAAAAQG9AAAAAAABAb0AAAAAAAMBiQAAAAAAAQFBAAAAAAABgY0AAAAAAAABeQAAAAAAAAFlAAAAAAAAAWUAAAAAAAOBlQAAAAAAAQFBAAAAAAADAV0AAAAAAAEBYQAAAAAAAUHZAAAAAAADAYkAAAAAAACBgQAAAAAAAAFZAAAAAAADAXUAAAAAAAIBxQAAAAAAAQFpAAAAAAADgdUAAAAAAAIBbQAAAAAAAAGBAAAAAAADAWEAAAAAAAOCFQAAAAAAA4IVAAAAAAABgY0AAAAAAAMBiQAAAAAAA4GVAAAAAAADAYkAAAAAAAMBYQAAAAAAAIGVAAAAAAADAU0AAAAAAAOBmQAAAAAAAYGNAAAAAAABAWkAAAAAAAEBgQAAAAAAAwFhAAAAAAACAW0AAAAAAAEBWQAAAAAAAoGJAAAAAAADAXEAAAAAAACByQAAAAAAAAFlAAAAAAAAgZUAAAAAAAEBvQAAAAAAAIGBAAAAAAADgakAAAAAAAIBQQAAAAAAAgGFAAAAAAACAYUAAAAAAAIBmQAAAAAAAgFFAAAAAAAAAXkAAAAAAAMBSQAAAAAAA8H5AAAAAAADAWEAAAAAAAMBiQAAAAAAAwFxAAAAAAACASUAAAAAAAEBQQAAAAAAAAFlAAAAAAACAW0AAAAAAAMBYQAAAAAAAQG9AAAAAAABAVUAAAAAAAIBWQAAAAAAAwGJAAAAAAADAYkAAAAAAAEBbQAAAAAAAgFFAAAAAAAAAWUAAAAAAAMBYQAAAAAAAwFhAAAAAAADAYkAAAAAAAMBQQAAAAAAAQFpAAAAAAAAASUAAAAAAAIBRQAAAAAAA4GpAAAAAAADAYkAAAAAAAEBvQAAAAAAAAFxAAAAAAADAWEA=",
           "dtype": "f8"
          },
          "sizemode": "area",
          "sizeref": 2.5
         },
         "mode": "markers",
         "name": "Condominium",
         "showlegend": true,
         "subplot": "mapbox",
         "type": "scattermapbox"
        },
        {
         "customdata": [
          [
           45,
           "Camper/RV"
          ],
          [
           60,
           "Camper/RV"
          ],
          [
           75,
           "Camper/RV"
          ],
          [
           100,
           "Camper/RV"
          ],
          [
           120,
           "Camper/RV"
          ],
          [
           265,
           "Camper/RV"
          ],
          [
           375,
           "Camper/RV"
          ],
          [
           75,
           "Camper/RV"
          ],
          [
           99,
           "Camper/RV"
          ],
          [
           50,
           "Camper/RV"
          ],
          [
           75,
           "Camper/RV"
          ],
          [
           145,
           "Camper/RV"
          ],
          [
           82,
           "Camper/RV"
          ]
         ],
         "hovertemplate": "property_type=%{customdata[1]}<br>price=%{customdata[0]}<br>latitude=%{lat}<br>longitude=%{lon}<extra></extra>",
         "lat": {
          "bdata": "gDsNeNPRR0APiB99HdJHQIgPwany1EdAaGEgeg/QR0B39ZApsMlHQKQ2yqo9ykdA+I9vHf/ER0DNxzyv7sBHQOoqppPByEdAe4YIz+PYR0AwJbZuNNdHQJbn8xdq0EdAeeJyNqrTR0A=",
          "dtype": "f8"
         },
         "legendgroup": "Camper/RV",
         "lon": {
          "bdata": "9uP3gfuXXsB7AwPZEphewCbVmvZ7l17A7iAeQZmVXsCZxcjOlppewOKWEnrnlF7AukLF4dSSXsAeUCigRJBewJ/A7Xz/kV7Am3zxN9qUXsCDjE+8I5hewHZD3nAHl17AkCyIRf2VXsA=",
          "dtype": "f8"
         },
         "marker": {
          "color": "#217eb8",
          "size": {
           "bdata": "AAAAAACARkAAAAAAAABOQAAAAAAAwFJAAAAAAAAAWUAAAAAAAABeQAAAAAAAkHBAAAAAAABwd0AAAAAAAMBSQAAAAAAAwFhAAAAAAAAASUAAAAAAAMBSQAAAAAAAIGJAAAAAAACAVEA=",
           "dtype": "f8"
          },
          "sizemode": "area",
          "sizeref": 2.5
         },
         "mode": "markers",
         "name": "Camper/RV",
         "showlegend": true,
         "subplot": "mapbox",
         "type": "scattermapbox"
        },
        {
         "customdata": [
          [
           349,
           "Bungalow"
          ],
          [
           110,
           "Bungalow"
          ],
          [
           105,
           "Bungalow"
          ],
          [
           156,
           "Bungalow"
          ],
          [
           75,
           "Bungalow"
          ],
          [
           70,
           "Bungalow"
          ],
          [
           70,
           "Bungalow"
          ],
          [
           90,
           "Bungalow"
          ],
          [
           99,
           "Bungalow"
          ],
          [
           79,
           "Bungalow"
          ],
          [
           65,
           "Bungalow"
          ],
          [
           95,
           "Bungalow"
          ],
          [
           140,
           "Bungalow"
          ]
         ],
         "hovertemplate": "property_type=%{customdata[1]}<br>price=%{customdata[0]}<br>latitude=%{lat}<br>longitude=%{lon}<extra></extra>",
         "lat": {
          "bdata": "1HaxllTRR0CoqtYiq9FHQLo3Ew0t1kdAlmePMZXRR0B5qhaXJNRHQEP2UW7IzUdAaLlwKbPMR0CEEThf3ddHQM8cqvynyUdAb9dZZ0zVR0ATqV3/FddHQPXEnkwz2UdA81D3H/TPR0A=",
          "dtype": "f8"
         },
         "legendgroup": "Bungalow",
         "lon": {
          "bdata": "c+QEjZ2XXsA5ILMmGZdewGFlsgrKmF7APIbBzYyWXsBdGi9X6ZRewE4eAq40lF7AdIQhcfmTXsATAdQsZ5ZewMcaxj+vk17A+NgXa3GSXsCqBaeoq5hewPWxLEqhmV7AHtQwOYOTXsA=",
          "dtype": "f8"
         },
         "marker": {
          "color": "#30a4ca",
          "size": {
           "bdata": "AAAAAADQdUAAAAAAAIBbQAAAAAAAQFpAAAAAAACAY0AAAAAAAMBSQAAAAAAAgFFAAAAAAACAUUAAAAAAAIBWQAAAAAAAwFhAAAAAAADAU0AAAAAAAEBQQAAAAAAAwFdAAAAAAACAYUA=",
           "dtype": "f8"
          },
          "sizemode": "area",
          "sizeref": 2.5
         },
         "mode": "markers",
         "name": "Bungalow",
         "showlegend": true,
         "subplot": "mapbox",
         "type": "scattermapbox"
        },
        {
         "customdata": [
          [
           150,
           "Townhouse"
          ],
          [
           80,
           "Townhouse"
          ],
          [
           50,
           "Townhouse"
          ],
          [
           60,
           "Townhouse"
          ],
          [
           65,
           "Townhouse"
          ],
          [
           85,
           "Townhouse"
          ],
          [
           45,
           "Townhouse"
          ],
          [
           275,
           "Townhouse"
          ],
          [
           110,
           "Townhouse"
          ],
          [
           200,
           "Townhouse"
          ],
          [
           100,
           "Townhouse"
          ],
          [
           84,
           "Townhouse"
          ],
          [
           325,
           "Townhouse"
          ],
          [
           122,
           "Townhouse"
          ],
          [
           145,
           "Townhouse"
          ],
          [
           60,
           "Townhouse"
          ],
          [
           60,
           "Townhouse"
          ],
          [
           65,
           "Townhouse"
          ],
          [
           400,
           "Townhouse"
          ],
          [
           90,
           "Townhouse"
          ],
          [
           250,
           "Townhouse"
          ],
          [
           300,
           "Townhouse"
          ],
          [
           150,
           "Townhouse"
          ],
          [
           50,
           "Townhouse"
          ],
          [
           155,
           "Townhouse"
          ],
          [
           110,
           "Townhouse"
          ],
          [
           49,
           "Townhouse"
          ],
          [
           92,
           "Townhouse"
          ],
          [
           40,
           "Townhouse"
          ],
          [
           203,
           "Townhouse"
          ],
          [
           145,
           "Townhouse"
          ],
          [
           75,
           "Townhouse"
          ],
          [
           69,
           "Townhouse"
          ],
          [
           110,
           "Townhouse"
          ],
          [
           90,
           "Townhouse"
          ],
          [
           95,
           "Townhouse"
          ],
          [
           122,
           "Townhouse"
          ],
          [
           325,
           "Townhouse"
          ],
          [
           85,
           "Townhouse"
          ],
          [
           55,
           "Townhouse"
          ],
          [
           75,
           "Townhouse"
          ],
          [
           210,
           "Townhouse"
          ],
          [
           75,
           "Townhouse"
          ],
          [
           55,
           "Townhouse"
          ],
          [
           60,
           "Townhouse"
          ],
          [
           115,
           "Townhouse"
          ],
          [
           175,
           "Townhouse"
          ],
          [
           125,
           "Townhouse"
          ],
          [
           149,
           "Townhouse"
          ],
          [
           333,
           "Townhouse"
          ],
          [
           225,
           "Townhouse"
          ],
          [
           150,
           "Townhouse"
          ],
          [
           78,
           "Townhouse"
          ],
          [
           50,
           "Townhouse"
          ],
          [
           45,
           "Townhouse"
          ],
          [
           79,
           "Townhouse"
          ],
          [
           218,
           "Townhouse"
          ],
          [
           250,
           "Townhouse"
          ],
          [
           225,
           "Townhouse"
          ],
          [
           28,
           "Townhouse"
          ],
          [
           200,
           "Townhouse"
          ],
          [
           79,
           "Townhouse"
          ],
          [
           150,
           "Townhouse"
          ],
          [
           79,
           "Townhouse"
          ],
          [
           65,
           "Townhouse"
          ],
          [
           60,
           "Townhouse"
          ],
          [
           139,
           "Townhouse"
          ],
          [
           110,
           "Townhouse"
          ],
          [
           50,
           "Townhouse"
          ],
          [
           180,
           "Townhouse"
          ],
          [
           260,
           "Townhouse"
          ],
          [
           50,
           "Townhouse"
          ],
          [
           150,
           "Townhouse"
          ],
          [
           85,
           "Townhouse"
          ],
          [
           55,
           "Townhouse"
          ],
          [
           69,
           "Townhouse"
          ],
          [
           70,
           "Townhouse"
          ],
          [
           109,
           "Townhouse"
          ],
          [
           60,
           "Townhouse"
          ],
          [
           50,
           "Townhouse"
          ],
          [
           245,
           "Townhouse"
          ],
          [
           99,
           "Townhouse"
          ],
          [
           225,
           "Townhouse"
          ],
          [
           165,
           "Townhouse"
          ],
          [
           78,
           "Townhouse"
          ],
          [
           250,
           "Townhouse"
          ],
          [
           150,
           "Townhouse"
          ],
          [
           69,
           "Townhouse"
          ],
          [
           60,
           "Townhouse"
          ],
          [
           65,
           "Townhouse"
          ],
          [
           40,
           "Townhouse"
          ],
          [
           33,
           "Townhouse"
          ],
          [
           110,
           "Townhouse"
          ],
          [
           498,
           "Townhouse"
          ],
          [
           150,
           "Townhouse"
          ],
          [
           310,
           "Townhouse"
          ],
          [
           119,
           "Townhouse"
          ],
          [
           119,
           "Townhouse"
          ],
          [
           98,
           "Townhouse"
          ],
          [
           97,
           "Townhouse"
          ],
          [
           36,
           "Townhouse"
          ],
          [
           350,
           "Townhouse"
          ],
          [
           70,
           "Townhouse"
          ],
          [
           70,
           "Townhouse"
          ],
          [
           49,
           "Townhouse"
          ],
          [
           53,
           "Townhouse"
          ],
          [
           100,
           "Townhouse"
          ],
          [
           300,
           "Townhouse"
          ],
          [
           120,
           "Townhouse"
          ],
          [
           450,
           "Townhouse"
          ],
          [
           75,
           "Townhouse"
          ],
          [
           67,
           "Townhouse"
          ],
          [
           97,
           "Townhouse"
          ],
          [
           150,
           "Townhouse"
          ],
          [
           150,
           "Townhouse"
          ],
          [
           76,
           "Townhouse"
          ],
          [
           87,
           "Townhouse"
          ],
          [
           65,
           "Townhouse"
          ]
         ],
         "hovertemplate": "property_type=%{customdata[1]}<br>price=%{customdata[0]}<br>latitude=%{lat}<br>longitude=%{lon}<extra></extra>",
         "lat": {
          "bdata": "wsV9LKbRR0BmItMXhdFHQKBBfCK41UdAdPCNgqDVR0DwtdxmrdVHQIwF0+IJ1kdAklhyWw3WR0D5OVh0HNZHQMAmNsIy1kdArUrpOFnVR0A8fCXZmtJHQMeOUNCI0kdA1yKHhXfWR0AOADX0ttBHQJoWs8qaz0dA0Z3F6CLPR0A7sO3ULc9HQC5spfU3zUdABspzCmnPR0CdrEt6Y89HQLbUVjQ5z0dAKoT8b0nPR0DLqX82/c5HQHLOs6tAz0dAAYL87bbOR0DnjmGo2c5HQIWZhrAo1EdAFzAvYA3UR0BdPUef7tRHQEPScKuWzkdAHGSMexjNR0CpmPq0Es5HQO0PzctUzUdAxfqnJjjOR0DtZAEa1c5HQAKrBCogzUdAvcKftSLNR0COLmYt+85HQIXYjV8tzUdAL6TuJVTMR0Dx/KpbI8xHQDjCa5AWzEdA5hzRxB3MR0AGVaB42MtHQPYXnfQEzEdAWFmya7rMR0Dy6kd1GMxHQMjEvF7Sy0dAWw56IcfMR0BhGqr/VNNHQHlMvdQi00dA621e0yLTR0DxNzviJtNHQGzZnPEg00dAYo0s0sHER0ADRIgCcspHQFHTApyOyUdA7kyB0FHIR0CQXdTLVMlHQDoxcTdq2UdAk11XekXGR0ABDA4yxsdHQB4yY7dZyEdAPVT1zfXIR0ApYyNl8sZHQMQm9+iCxEdA48W55X7YR0CORTtv/dlHQAB5kPexxEdAqR3WIwDLR0Bl9tXd/clHQKkdx4GuykdA1o5OEKTKR0DIpCcLP8tHQDUROzY+xEdA4a8MTiTIR0D414PiSMdHQFgN5CaD1UdAlWq/wrbVR0Au+ZRAFtFHQNHRs9og0EdA8vO1wXTPR0Dwoi8xlc9HQOeIz73a0UdAg2LoelfQR0CgTu96ms9HQAOM5mjU10dAYZWtTavWR0ChwEyL3NZHQOd8smsf2EdACcP1Lm/XR0AWt0/+ttdHQAiVroQy0EdADXqY2ovQR0ASq8G2xNBHQL77wD4j0EdA+10tgFjQR0B/Fw7aTdBHQMrniW8p2UdAe7jKnqzaR0APyaYLd9pHQH0twh5W0kdAlPIVRN/ER0Dk54K558RHQIJjjEDkxUdAajFz6XfDR0CPLP6XPc9HQF+5K6uiz0dAKGDRwBHPR0Ao/JfUgM9HQEGeWEcL1UdAtM9E5/7SR0Bsq5S4htRHQNnvlb5v1EdA+nFgpEXTR0At8LWR+9RHQFCzxZuo1EdAQ2JiSZLTR0A=",
          "dtype": "f8"
         },
         "legendgroup": "Townhouse",
         "lon": {
          "bdata": "WFEMAoOXXsDM+LpM05dewB6ZgfQFmV7APfakRzWZXsCWg590+5hewN8Plq/7mF7AidBh4eGXXsBhBCNr4pdewGLzFW7zl17AtNX22niXXsAsAG4uA5hewK/yRH7ul17AoYLvSsGUXsBvsc4S+5VewKfWKUIKk17Ai6YQGRqTXsCpVejbS5NewIOZhplWk17AOqDQPiyTXsDckMHkG5NewISIHcMwk17A704v9haTXsAcOaTT+pJewGddaiodk17AoLHoCYGSXsBAbNT4upJewIClpTR5lF7AEhZgBYCUXsCMaht675NewDafAHG0k17AMHtnMpKTXsB+xK5mM5RewGUJnTFok17Ajc9hcTaUXsBhpfX+sZNewK8LlNHUk17AMh4IvL6TXsCwYHgtYZNewDzA+6QLlF7AlFL7QvySXsCWFGmi65JewANqSMXOkl7APNxUAuiSXsDvzlniz5JewCQ6horykl7Ate1eLZuTXsCMPLddH5NewL0oO/9pk17A5NQIks6TXsDQchvno5hewIg30tuSmF7AXxM+MX+YXsBQ2zeIrJhewBbU4TCImF7AgFOgeDmZXsCSp8Ui4ZlewMyGp4Y6ml7AWJIn8QKaXsDmthc0s5hewN1F3CKil17AZeF4eoqYXsCHmpfGephewKo92XXImF7Av1hLrLKYXsBlWY5vApRewKm2YDw7kl7AV8LTlUyXXsDbQM2GN5dewMjw6rhPkl7AHVjYVBmUXsCD0kK8GJRewD/FThhBlF7AyUpFNSSUXsDnwe4rGJRewETHZnNkl17AaZiD8N2SXsDkGMUaL5dewAPzyNc1kl7A6nJrOAySXsDJ/P2boJRewCr9twuxlF7AVx+pNUKUXsC+dEl7V5RewOxBL3qolF7ALogJm5KUXsCCLJIJrZRewDD3/NIkmF7A1vdaMieYXsAuDRxd8JdewBP8Tv3bk17AzYIn5i6UXsArDibCUpRewPY4OCQKll7AIpKx9fuWXsCYHFin6JZewPbNqloMll7AUSXx2xKWXsD/Gp4/CJZewKyzS859k17AKhT1BJKVXsBPl88Xi5VewGi+zP2fmF7ArJpA14OXXsAbuSEcbZdewJvEAse/l17A9xNJZyqWXsDVDuaLpZNewDlisOC1k17AyoxPCO6TXsBi3hjpLpNewO/vAvqQll7AJlG+dRKWXsC0rbJykpZewB6gn0Zdll7AfkB8IgWWXsBLGLfRtJZewA8/9VuLll7Ai50p94iWXsA=",
          "dtype": "f8"
         },
         "marker": {
          "color": "#54c8df",
          "size": {
           "bdata": "AAAAAADAYkAAAAAAAABUQAAAAAAAAElAAAAAAAAATkAAAAAAAEBQQAAAAAAAQFVAAAAAAACARkAAAAAAADBxQAAAAAAAgFtAAAAAAAAAaUAAAAAAAABZQAAAAAAAAFVAAAAAAABQdEAAAAAAAIBeQAAAAAAAIGJAAAAAAAAATkAAAAAAAABOQAAAAAAAQFBAAAAAAAAAeUAAAAAAAIBWQAAAAAAAQG9AAAAAAADAckAAAAAAAMBiQAAAAAAAAElAAAAAAABgY0AAAAAAAIBbQAAAAAAAgEhAAAAAAAAAV0AAAAAAAABEQAAAAAAAYGlAAAAAAAAgYkAAAAAAAMBSQAAAAAAAQFFAAAAAAACAW0AAAAAAAIBWQAAAAAAAwFdAAAAAAACAXkAAAAAAAFB0QAAAAAAAQFVAAAAAAACAS0AAAAAAAMBSQAAAAAAAQGpAAAAAAADAUkAAAAAAAIBLQAAAAAAAAE5AAAAAAADAXEAAAAAAAOBlQAAAAAAAQF9AAAAAAACgYkAAAAAAANB0QAAAAAAAIGxAAAAAAADAYkAAAAAAAIBTQAAAAAAAAElAAAAAAACARkAAAAAAAMBTQAAAAAAAQGtAAAAAAABAb0AAAAAAACBsQAAAAAAAADxAAAAAAAAAaUAAAAAAAMBTQAAAAAAAwGJAAAAAAADAU0AAAAAAAEBQQAAAAAAAAE5AAAAAAABgYUAAAAAAAIBbQAAAAAAAAElAAAAAAACAZkAAAAAAAEBwQAAAAAAAAElAAAAAAADAYkAAAAAAAEBVQAAAAAAAgEtAAAAAAABAUUAAAAAAAIBRQAAAAAAAQFtAAAAAAAAATkAAAAAAAABJQAAAAAAAoG5AAAAAAADAWEAAAAAAACBsQAAAAAAAoGRAAAAAAACAU0AAAAAAAEBvQAAAAAAAwGJAAAAAAABAUUAAAAAAAABOQAAAAAAAQFBAAAAAAAAAREAAAAAAAIBAQAAAAAAAgFtAAAAAAAAgf0AAAAAAAMBiQAAAAAAAYHNAAAAAAADAXUAAAAAAAMBdQAAAAAAAgFhAAAAAAABAWEAAAAAAAABCQAAAAAAA4HVAAAAAAACAUUAAAAAAAIBRQAAAAAAAgEhAAAAAAACASkAAAAAAAABZQAAAAAAAwHJAAAAAAAAAXkAAAAAAACB8QAAAAAAAwFJAAAAAAADAUEAAAAAAAEBYQAAAAAAAwGJAAAAAAADAYkAAAAAAAABTQAAAAAAAwFVAAAAAAABAUEA=",
           "dtype": "f8"
          },
          "sizemode": "area",
          "sizeref": 2.5
         },
         "mode": "markers",
         "name": "Townhouse",
         "showlegend": true,
         "subplot": "mapbox",
         "type": "scattermapbox"
        },
        {
         "customdata": [
          [
           49,
           "Loft"
          ],
          [
           219,
           "Loft"
          ],
          [
           75,
           "Loft"
          ],
          [
           100,
           "Loft"
          ],
          [
           85,
           "Loft"
          ],
          [
           110,
           "Loft"
          ],
          [
           425,
           "Loft"
          ],
          [
           79,
           "Loft"
          ],
          [
           100,
           "Loft"
          ],
          [
           170,
           "Loft"
          ],
          [
           95,
           "Loft"
          ],
          [
           225,
           "Loft"
          ],
          [
           105,
           "Loft"
          ],
          [
           180,
           "Loft"
          ],
          [
           139,
           "Loft"
          ],
          [
           175,
           "Loft"
          ],
          [
           125,
           "Loft"
          ],
          [
           89,
           "Loft"
          ],
          [
           89,
           "Loft"
          ],
          [
           149,
           "Loft"
          ],
          [
           300,
           "Loft"
          ],
          [
           225,
           "Loft"
          ],
          [
           69,
           "Loft"
          ],
          [
           25,
           "Loft"
          ],
          [
           320,
           "Loft"
          ],
          [
           99,
           "Loft"
          ],
          [
           49,
           "Loft"
          ],
          [
           90,
           "Loft"
          ],
          [
           85,
           "Loft"
          ],
          [
           94,
           "Loft"
          ],
          [
           150,
           "Loft"
          ],
          [
           81,
           "Loft"
          ],
          [
           115,
           "Loft"
          ],
          [
           190,
           "Loft"
          ],
          [
           100,
           "Loft"
          ],
          [
           150,
           "Loft"
          ],
          [
           99,
           "Loft"
          ],
          [
           125,
           "Loft"
          ],
          [
           79,
           "Loft"
          ],
          [
           200,
           "Loft"
          ]
         ],
         "hovertemplate": "property_type=%{customdata[1]}<br>price=%{customdata[0]}<br>latitude=%{lat}<br>longitude=%{lon}<extra></extra>",
         "lat": {
          "bdata": "A60AFK3VR0AWun/iw9FHQKIhJZKx1EdAU07djtLVR0AEwx3HZs5HQF8bdqQhzkdAfEX/NhjNR0CSer/dwM1HQM4wri3RyUdAwZxmikLMR0BwcOfc3s9HQA0Supe1zkdAzQifXqzOR0BknBHCvM5HQGz7Zl3YzkdAu6HHx7jOR0Bk9bpRv85HQCiP9pCszEdAo02Pra7MR0ATLROvA8xHQH5EbCSqzEdAOntXjNjHR0DSO+VhAtFHQCwH5tKmx0dAWTkbde7JR0CzVRCcGMZHQGD6aPGw10dAzFrnBpDHR0AYknYdnMdHQG9q6vgy1UdAKR8LcFPPR0Ba4gJ1cs9HQKF5y/iy10dAd+BkqFPPR0Axjs56BNlHQG3/4tLC0kdALScwbevFR0AdLC+eiNRHQOBXHnt400dAAQ4xRjfTR0A=",
          "dtype": "f8"
         },
         "legendgroup": "Loft",
         "lon": {
          "bdata": "QUCwDr2YXsB8DDBu3JVewM6G3AtclV7AZiTDeqWUXsABTAdyjpJewMuTxIIWlF7AlYJwuaiTXsB2tKnfzZJewHiEPRcAk17AaTmYWtGTXsDHiNU1QpVewLif0SUUll7ABDGVCBuWXsCQ7qhhcZZewJJTDslall7A2RB9U4KWXsC7TPqrP5ZewAL0buDulF7A0yG7fNaUXsCiG8peaJVewK23YV2QlV7ATTLS452ZXsBO04yMI5hewEoZ8um1lF7AINZXw3OUXsDPLEXtdpNewKI2qicYkV7AWfkCTySSXsC/b9ANJ5JewMUsN6Nskl7AEgIgyaeUXsCV5BKhrpRewJlBMY0WmF7AFtgC2aKWXsC9fvaAFZJewHVI0tbbmF7ATMY7AnWUXsBZzBCwhJZewMVPzoYfll7AOWb5WPiVXsA=",
          "dtype": "f8"
         },
         "marker": {
          "color": "#9be4ef",
          "size": {
           "bdata": "AAAAAACASEAAAAAAAGBrQAAAAAAAwFJAAAAAAAAAWUAAAAAAAEBVQAAAAAAAgFtAAAAAAACQekAAAAAAAMBTQAAAAAAAAFlAAAAAAABAZUAAAAAAAMBXQAAAAAAAIGxAAAAAAABAWkAAAAAAAIBmQAAAAAAAYGFAAAAAAADgZUAAAAAAAEBfQAAAAAAAQFZAAAAAAABAVkAAAAAAAKBiQAAAAAAAwHJAAAAAAAAgbEAAAAAAAEBRQAAAAAAAADlAAAAAAAAAdEAAAAAAAMBYQAAAAAAAgEhAAAAAAACAVkAAAAAAAEBVQAAAAAAAgFdAAAAAAADAYkAAAAAAAEBUQAAAAAAAwFxAAAAAAADAZ0AAAAAAAABZQAAAAAAAwGJAAAAAAADAWEAAAAAAAEBfQAAAAAAAwFNAAAAAAAAAaUA=",
           "dtype": "f8"
          },
          "sizemode": "area",
          "sizeref": 2.5
         },
         "mode": "markers",
         "name": "Loft",
         "showlegend": true,
         "subplot": "mapbox",
         "type": "scattermapbox"
        },
        {
         "customdata": [
          [
           85,
           "Boat"
          ],
          [
           680,
           "Boat"
          ],
          [
           150,
           "Boat"
          ],
          [
           775,
           "Boat"
          ],
          [
           249,
           "Boat"
          ],
          [
           95,
           "Boat"
          ],
          [
           150,
           "Boat"
          ],
          [
           75,
           "Boat"
          ]
         ],
         "hovertemplate": "property_type=%{customdata[1]}<br>price=%{customdata[0]}<br>latitude=%{lat}<br>longitude=%{lon}<extra></extra>",
         "lat": {
          "bdata": "ZZ6w8UrSR0BATbtpBNNHQHihE/nK0EdAYfySrdrQR0D0YgBaj9BHQKda472h1EdA5W7rRZbYR0CFohWG/NZHQA==",
          "dtype": "f8"
         },
         "legendgroup": "Boat",
         "lon": {
          "bdata": "BqugSg+WXsCCVUr/zpVewAV/COvXlV7A8d3L4sqVXsArXeNnvpVewJfgnnqpmF7ApNziLIuYXsDELFlT25lewA==",
          "dtype": "f8"
         },
         "marker": {
          "color": "#e1e9d1",
          "size": {
           "bdata": "AAAAAABAVUAAAAAAAECFQAAAAAAAwGJAAAAAAAA4iEAAAAAAACBvQAAAAAAAwFdAAAAAAADAYkAAAAAAAMBSQA==",
           "dtype": "f8"
          },
          "sizemode": "area",
          "sizeref": 2.5
         },
         "mode": "markers",
         "name": "Boat",
         "showlegend": true,
         "subplot": "mapbox",
         "type": "scattermapbox"
        },
        {
         "customdata": [
          [
           209,
           "Bed & Breakfast"
          ],
          [
           30,
           "Bed & Breakfast"
          ],
          [
           120,
           "Bed & Breakfast"
          ],
          [
           90,
           "Bed & Breakfast"
          ],
          [
           99,
           "Bed & Breakfast"
          ],
          [
           66,
           "Bed & Breakfast"
          ],
          [
           129,
           "Bed & Breakfast"
          ],
          [
           299,
           "Bed & Breakfast"
          ],
          [
           70,
           "Bed & Breakfast"
          ],
          [
           65,
           "Bed & Breakfast"
          ],
          [
           65,
           "Bed & Breakfast"
          ],
          [
           89,
           "Bed & Breakfast"
          ],
          [
           39,
           "Bed & Breakfast"
          ],
          [
           45,
           "Bed & Breakfast"
          ],
          [
           45,
           "Bed & Breakfast"
          ],
          [
           99,
           "Bed & Breakfast"
          ],
          [
           125,
           "Bed & Breakfast"
          ],
          [
           75,
           "Bed & Breakfast"
          ],
          [
           89,
           "Bed & Breakfast"
          ],
          [
           63,
           "Bed & Breakfast"
          ],
          [
           99,
           "Bed & Breakfast"
          ],
          [
           90,
           "Bed & Breakfast"
          ],
          [
           92,
           "Bed & Breakfast"
          ],
          [
           77,
           "Bed & Breakfast"
          ],
          [
           92,
           "Bed & Breakfast"
          ],
          [
           70,
           "Bed & Breakfast"
          ],
          [
           207,
           "Bed & Breakfast"
          ],
          [
           155,
           "Bed & Breakfast"
          ],
          [
           145,
           "Bed & Breakfast"
          ],
          [
           165,
           "Bed & Breakfast"
          ],
          [
           146,
           "Bed & Breakfast"
          ],
          [
           162,
           "Bed & Breakfast"
          ],
          [
           152,
           "Bed & Breakfast"
          ],
          [
           105,
           "Bed & Breakfast"
          ],
          [
           138,
           "Bed & Breakfast"
          ],
          [
           155,
           "Bed & Breakfast"
          ],
          [
           185,
           "Bed & Breakfast"
          ]
         ],
         "hovertemplate": "property_type=%{customdata[1]}<br>price=%{customdata[0]}<br>latitude=%{lat}<br>longitude=%{lon}<extra></extra>",
         "lat": {
          "bdata": "SnrsUh/TR0BHldNPR9RHQEJCjvmE00dAwzIrXrPOR0Bz/WVF081HQPXdA4RUyUdAds7tnGrJR0Do97LcP8lHQBx4BRhD2UdABF8XRZbZR0Ayod9o+tlHQOoeck01ykdA+LQKQc/FR0BfThWm1sVHQN40Sy9pw0dAYTVIkUTDR0BAXeKJpMtHQOAgo/WpyUdAh8LwxHDJR0A0T7BhHddHQCxeBFJYz0dAX+eUvdfXR0A/2l15oNxHQJoXwlHV10dAQhZGOO7XR0DdSTPwDNxHQC+H1jLZ1UdABirxlv7OR0DKkbLhf89HQC0dvwlCz0dABG6h0x3PR0DM8clBN89HQPp+0UdNz0dAWhEy4zvPR0BtfAleJ89HQCFg4Ksaz0dAYc7wR/HUR0A=",
          "dtype": "f8"
         },
         "legendgroup": "Bed & Breakfast",
         "lon": {
          "bdata": "HvZ2jwmYXsD7BL5Av5lewEzPZd1dmV7AggvJw9WVXsCuF+sNCpVewBFZGtixmF7A23oGuMSYXsBYsGpU05hewKDyUwYUmF7AHDsJ3m6XXsDju7JUl5dewGbxevfMk17AKZvqNnmRXsB137XXcZFewPZbBOIcl17AGZ6KHuWWXsAnEib22ZJewEPmmOyZkl7Anz9K7LuSXsDqfJjHmZNewKycQYh0lF7AjmOCP9GTXsDtdoIgcpJewPLBlMGRmV7Ax9cE0J6ZXsDIxOxu/JRewFZN38LFll7AmvIaYtCTXsCK7ZDSppNewDQUYwbNk17AjVQln9OTXsCS2RJj15NewH2S7dK+k17AIDGoMsyTXsAoSM8L15NewLubiXO3k17AGN30hV6WXsA=",
          "dtype": "f8"
         },
         "marker": {
          "color": "#f3d573",
          "size": {
           "bdata": "AAAAAAAgakAAAAAAAAA+QAAAAAAAAF5AAAAAAACAVkAAAAAAAMBYQAAAAAAAgFBAAAAAAAAgYEAAAAAAALByQAAAAAAAgFFAAAAAAABAUEAAAAAAAEBQQAAAAAAAQFZAAAAAAACAQ0AAAAAAAIBGQAAAAAAAgEZAAAAAAADAWEAAAAAAAEBfQAAAAAAAwFJAAAAAAABAVkAAAAAAAIBPQAAAAAAAwFhAAAAAAACAVkAAAAAAAABXQAAAAAAAQFNAAAAAAAAAV0AAAAAAAIBRQAAAAAAA4GlAAAAAAABgY0AAAAAAACBiQAAAAAAAoGRAAAAAAABAYkAAAAAAAEBkQAAAAAAAAGNAAAAAAABAWkAAAAAAAEBhQAAAAAAAYGNAAAAAAAAgZ0A=",
           "dtype": "f8"
          },
          "sizemode": "area",
          "sizeref": 2.5
         },
         "mode": "markers",
         "name": "Bed & Breakfast",
         "showlegend": true,
         "subplot": "mapbox",
         "type": "scattermapbox"
        },
        {
         "customdata": [
          [
           85,
           "Other"
          ],
          [
           45,
           "Other"
          ],
          [
           40,
           "Other"
          ],
          [
           40,
           "Other"
          ],
          [
           132,
           "Other"
          ],
          [
           121,
           "Other"
          ],
          [
           170,
           "Other"
          ],
          [
           121,
           "Other"
          ],
          [
           150,
           "Other"
          ],
          [
           65,
           "Other"
          ],
          [
           69,
           "Other"
          ],
          [
           118,
           "Other"
          ],
          [
           130,
           "Other"
          ],
          [
           39,
           "Other"
          ],
          [
           88,
           "Other"
          ],
          [
           125,
           "Other"
          ],
          [
           80,
           "Other"
          ],
          [
           150,
           "Other"
          ],
          [
           70,
           "Other"
          ],
          [
           75,
           "Other"
          ],
          [
           50,
           "Other"
          ],
          [
           120,
           "Other"
          ]
         ],
         "hovertemplate": "property_type=%{customdata[1]}<br>price=%{customdata[0]}<br>latitude=%{lat}<br>longitude=%{lon}<extra></extra>",
         "lat": {
          "bdata": "y79tcUbOR0DWY0eveNRHQA3nfS20zEdAscFSSbbMR0DOXr4lic5HQAoaj3Z4zkdAI0C0v4/OR0Ddc4SDkc5HQAQrLeXQyUdA0aLuk1TGR0BazCzqf9lHQBBZrExVwUdAGQFHHz3ZR0BdCMHV1tZHQBGb/niL1kdAPoLF4DzTR0DSC+z72NhHQCVoTXrm1kdAhZvhQ1zGR0CEyF/NZ8ZHQEkuu5//z0dAna33qNXTR0A=",
          "dtype": "f8"
         },
         "legendgroup": "Other",
         "lon": {
          "bdata": "X/xfAXySXsA3f/OBkpRewA7oi+0BlV7AhDBrKgOVXsAR7jaiUJVewIbE0aZGlV7AkUNpDVCVXsAEYbGDPpVewH897nialF7AxA3szUKUXsCj35shcpZewMl1b4kkkF7A8WbKnvOTXsDrDX/B7JNewFFaexbZk17Az6xaOYWUXsBUkn0RQplewPHLUKhDl17AyIMUPWWUXsCqwnXQVpRewEyhvxrWk17ANJkEe52WXsA=",
          "dtype": "f8"
         },
         "marker": {
          "color": "#e7b000",
          "size": {
           "bdata": "AAAAAABAVUAAAAAAAIBGQAAAAAAAAERAAAAAAAAAREAAAAAAAIBgQAAAAAAAQF5AAAAAAABAZUAAAAAAAEBeQAAAAAAAwGJAAAAAAABAUEAAAAAAAEBRQAAAAAAAgF1AAAAAAABAYEAAAAAAAIBDQAAAAAAAAFZAAAAAAABAX0AAAAAAAABUQAAAAAAAwGJAAAAAAACAUUAAAAAAAMBSQAAAAAAAAElAAAAAAAAAXkA=",
           "dtype": "f8"
          },
          "sizemode": "area",
          "sizeref": 2.5
         },
         "mode": "markers",
         "name": "Other",
         "showlegend": true,
         "subplot": "mapbox",
         "type": "scattermapbox"
        },
        {
         "customdata": [
          [
           38,
           "Dorm"
          ],
          [
           41,
           "Dorm"
          ]
         ],
         "hovertemplate": "property_type=%{customdata[1]}<br>price=%{customdata[0]}<br>latitude=%{lat}<br>longitude=%{lon}<extra></extra>",
         "lat": {
          "bdata": "CdYKVvbNR0BdECnjyc1HQA==",
          "dtype": "f8"
         },
         "legendgroup": "Dorm",
         "lon": {
          "bdata": "aGn7ScSVXsBiZv9aypVewA==",
          "dtype": "f8"
         },
         "marker": {
          "color": "#da8200",
          "size": {
           "bdata": "AAAAAAAAQ0AAAAAAAIBEQA==",
           "dtype": "f8"
          },
          "sizemode": "area",
          "sizeref": 2.5
         },
         "mode": "markers",
         "name": "Dorm",
         "showlegend": true,
         "subplot": "mapbox",
         "type": "scattermapbox"
        },
        {
         "customdata": [
          [
           55,
           "Treehouse"
          ],
          [
           48,
           "Treehouse"
          ],
          [
           200,
           "Treehouse"
          ]
         ],
         "hovertemplate": "property_type=%{customdata[1]}<br>price=%{customdata[0]}<br>latitude=%{lat}<br>longitude=%{lon}<extra></extra>",
         "lat": {
          "bdata": "dgk6ObPAR0Cz5lcOz8NHQBDIgor30UdA",
          "dtype": "f8"
         },
         "legendgroup": "Treehouse",
         "lon": {
          "bdata": "1pTCV1yYXsBYtTkRpZFewDPtud82lF7A",
          "dtype": "f8"
         },
         "marker": {
          "color": "#c65400",
          "size": {
           "bdata": "AAAAAACAS0AAAAAAAABIQAAAAAAAAGlA",
           "dtype": "f8"
          },
          "sizemode": "area",
          "sizeref": 2.5
         },
         "mode": "markers",
         "name": "Treehouse",
         "showlegend": true,
         "subplot": "mapbox",
         "type": "scattermapbox"
        },
        {
         "customdata": [
          [
           100,
           "Yurt"
          ]
         ],
         "hovertemplate": "property_type=%{customdata[1]}<br>price=%{customdata[0]}<br>latitude=%{lat}<br>longitude=%{lon}<extra></extra>",
         "lat": {
          "bdata": "eayPtsHKR0A=",
          "dtype": "f8"
         },
         "legendgroup": "Yurt",
         "lon": {
          "bdata": "ykFXNb+YXsA=",
          "dtype": "f8"
         },
         "marker": {
          "color": "#ac2301",
          "size": {
           "bdata": "AAAAAAAAWUA=",
           "dtype": "f8"
          },
          "sizemode": "area",
          "sizeref": 2.5
         },
         "mode": "markers",
         "name": "Yurt",
         "showlegend": true,
         "subplot": "mapbox",
         "type": "scattermapbox"
        },
        {
         "customdata": [
          [
           135,
           "Chalet"
          ],
          [
           62,
           "Chalet"
          ]
         ],
         "hovertemplate": "property_type=%{customdata[1]}<br>price=%{customdata[0]}<br>latitude=%{lat}<br>longitude=%{lon}<extra></extra>",
         "lat": {
          "bdata": "EYRQYj7KR0BMzQOThtlHQA==",
          "dtype": "f8"
         },
         "legendgroup": "Chalet",
         "lon": {
          "bdata": "oB633/mYXsCgen7ASpZewA==",
          "dtype": "f8"
         },
         "marker": {
          "color": "#820000",
          "size": {
           "bdata": "AAAAAADgYEAAAAAAAABPQA==",
           "dtype": "f8"
          },
          "sizemode": "area",
          "sizeref": 2.5
         },
         "mode": "markers",
         "name": "Chalet",
         "showlegend": true,
         "subplot": "mapbox",
         "type": "scattermapbox"
        },
        {
         "customdata": [
          [
           25,
           "Tent"
          ],
          [
           65,
           "Tent"
          ],
          [
           65,
           "Tent"
          ],
          [
           65,
           "Tent"
          ],
          [
           50,
           "Tent"
          ]
         ],
         "hovertemplate": "property_type=%{customdata[1]}<br>price=%{customdata[0]}<br>latitude=%{lat}<br>longitude=%{lon}<extra></extra>",
         "lat": {
          "bdata": "WOrx/7jYR0CR/CrY58lHQJ066VwbykdAx490P+nJR0Ar+8XqYtlHQA==",
          "dtype": "f8"
         },
         "legendgroup": "Tent",
         "lon": {
          "bdata": "jx6oPy+XXsC7cBmoepNewOTXav95k17AUT7Vf5CTXsCB5QOslJRewA==",
          "dtype": "f8"
         },
         "marker": {
          "color": "#4c0000",
          "size": {
           "bdata": "AAAAAAAAOUAAAAAAAEBQQAAAAAAAQFBAAAAAAABAUEAAAAAAAABJQA==",
           "dtype": "f8"
          },
          "sizemode": "area",
          "sizeref": 2.5
         },
         "mode": "markers",
         "name": "Tent",
         "showlegend": true,
         "subplot": "mapbox",
         "type": "scattermapbox"
        }
       ],
       "layout": {
        "height": 900,
        "legend": {
         "itemsizing": "constant",
         "title": {
          "text": "property_type"
         },
         "tracegroupgap": 0
        },
        "mapbox": {
         "center": {
          "lat": 47.628960833104735,
          "lon": -122.33310329292141
         },
         "domain": {
          "x": [
           0,
           1
          ],
          "y": [
           0,
           1
          ]
         },
         "style": "open-street-map",
         "zoom": 13
        },
        "margin": {
         "b": 0,
         "l": 0,
         "r": 0,
         "t": 30
        },
        "template": {
         "data": {
          "bar": [
           {
            "error_x": {
             "color": "#2a3f5f"
            },
            "error_y": {
             "color": "#2a3f5f"
            },
            "marker": {
             "line": {
              "color": "#E5ECF6",
              "width": 0.5
             },
             "pattern": {
              "fillmode": "overlay",
              "size": 10,
              "solidity": 0.2
             }
            },
            "type": "bar"
           }
          ],
          "barpolar": [
           {
            "marker": {
             "line": {
              "color": "#E5ECF6",
              "width": 0.5
             },
             "pattern": {
              "fillmode": "overlay",
              "size": 10,
              "solidity": 0.2
             }
            },
            "type": "barpolar"
           }
          ],
          "carpet": [
           {
            "aaxis": {
             "endlinecolor": "#2a3f5f",
             "gridcolor": "white",
             "linecolor": "white",
             "minorgridcolor": "white",
             "startlinecolor": "#2a3f5f"
            },
            "baxis": {
             "endlinecolor": "#2a3f5f",
             "gridcolor": "white",
             "linecolor": "white",
             "minorgridcolor": "white",
             "startlinecolor": "#2a3f5f"
            },
            "type": "carpet"
           }
          ],
          "choropleth": [
           {
            "colorbar": {
             "outlinewidth": 0,
             "ticks": ""
            },
            "type": "choropleth"
           }
          ],
          "contour": [
           {
            "colorbar": {
             "outlinewidth": 0,
             "ticks": ""
            },
            "colorscale": [
             [
              0,
              "#0d0887"
             ],
             [
              0.1111111111111111,
              "#46039f"
             ],
             [
              0.2222222222222222,
              "#7201a8"
             ],
             [
              0.3333333333333333,
              "#9c179e"
             ],
             [
              0.4444444444444444,
              "#bd3786"
             ],
             [
              0.5555555555555556,
              "#d8576b"
             ],
             [
              0.6666666666666666,
              "#ed7953"
             ],
             [
              0.7777777777777778,
              "#fb9f3a"
             ],
             [
              0.8888888888888888,
              "#fdca26"
             ],
             [
              1,
              "#f0f921"
             ]
            ],
            "type": "contour"
           }
          ],
          "contourcarpet": [
           {
            "colorbar": {
             "outlinewidth": 0,
             "ticks": ""
            },
            "type": "contourcarpet"
           }
          ],
          "heatmap": [
           {
            "colorbar": {
             "outlinewidth": 0,
             "ticks": ""
            },
            "colorscale": [
             [
              0,
              "#0d0887"
             ],
             [
              0.1111111111111111,
              "#46039f"
             ],
             [
              0.2222222222222222,
              "#7201a8"
             ],
             [
              0.3333333333333333,
              "#9c179e"
             ],
             [
              0.4444444444444444,
              "#bd3786"
             ],
             [
              0.5555555555555556,
              "#d8576b"
             ],
             [
              0.6666666666666666,
              "#ed7953"
             ],
             [
              0.7777777777777778,
              "#fb9f3a"
             ],
             [
              0.8888888888888888,
              "#fdca26"
             ],
             [
              1,
              "#f0f921"
             ]
            ],
            "type": "heatmap"
           }
          ],
          "histogram": [
           {
            "marker": {
             "pattern": {
              "fillmode": "overlay",
              "size": 10,
              "solidity": 0.2
             }
            },
            "type": "histogram"
           }
          ],
          "histogram2d": [
           {
            "colorbar": {
             "outlinewidth": 0,
             "ticks": ""
            },
            "colorscale": [
             [
              0,
              "#0d0887"
             ],
             [
              0.1111111111111111,
              "#46039f"
             ],
             [
              0.2222222222222222,
              "#7201a8"
             ],
             [
              0.3333333333333333,
              "#9c179e"
             ],
             [
              0.4444444444444444,
              "#bd3786"
             ],
             [
              0.5555555555555556,
              "#d8576b"
             ],
             [
              0.6666666666666666,
              "#ed7953"
             ],
             [
              0.7777777777777778,
              "#fb9f3a"
             ],
             [
              0.8888888888888888,
              "#fdca26"
             ],
             [
              1,
              "#f0f921"
             ]
            ],
            "type": "histogram2d"
           }
          ],
          "histogram2dcontour": [
           {
            "colorbar": {
             "outlinewidth": 0,
             "ticks": ""
            },
            "colorscale": [
             [
              0,
              "#0d0887"
             ],
             [
              0.1111111111111111,
              "#46039f"
             ],
             [
              0.2222222222222222,
              "#7201a8"
             ],
             [
              0.3333333333333333,
              "#9c179e"
             ],
             [
              0.4444444444444444,
              "#bd3786"
             ],
             [
              0.5555555555555556,
              "#d8576b"
             ],
             [
              0.6666666666666666,
              "#ed7953"
             ],
             [
              0.7777777777777778,
              "#fb9f3a"
             ],
             [
              0.8888888888888888,
              "#fdca26"
             ],
             [
              1,
              "#f0f921"
             ]
            ],
            "type": "histogram2dcontour"
           }
          ],
          "mesh3d": [
           {
            "colorbar": {
             "outlinewidth": 0,
             "ticks": ""
            },
            "type": "mesh3d"
           }
          ],
          "parcoords": [
           {
            "line": {
             "colorbar": {
              "outlinewidth": 0,
              "ticks": ""
             }
            },
            "type": "parcoords"
           }
          ],
          "pie": [
           {
            "automargin": true,
            "type": "pie"
           }
          ],
          "scatter": [
           {
            "fillpattern": {
             "fillmode": "overlay",
             "size": 10,
             "solidity": 0.2
            },
            "type": "scatter"
           }
          ],
          "scatter3d": [
           {
            "line": {
             "colorbar": {
              "outlinewidth": 0,
              "ticks": ""
             }
            },
            "marker": {
             "colorbar": {
              "outlinewidth": 0,
              "ticks": ""
             }
            },
            "type": "scatter3d"
           }
          ],
          "scattercarpet": [
           {
            "marker": {
             "colorbar": {
              "outlinewidth": 0,
              "ticks": ""
             }
            },
            "type": "scattercarpet"
           }
          ],
          "scattergeo": [
           {
            "marker": {
             "colorbar": {
              "outlinewidth": 0,
              "ticks": ""
             }
            },
            "type": "scattergeo"
           }
          ],
          "scattergl": [
           {
            "marker": {
             "colorbar": {
              "outlinewidth": 0,
              "ticks": ""
             }
            },
            "type": "scattergl"
           }
          ],
          "scattermap": [
           {
            "marker": {
             "colorbar": {
              "outlinewidth": 0,
              "ticks": ""
             }
            },
            "type": "scattermap"
           }
          ],
          "scattermapbox": [
           {
            "marker": {
             "colorbar": {
              "outlinewidth": 0,
              "ticks": ""
             }
            },
            "type": "scattermapbox"
           }
          ],
          "scatterpolar": [
           {
            "marker": {
             "colorbar": {
              "outlinewidth": 0,
              "ticks": ""
             }
            },
            "type": "scatterpolar"
           }
          ],
          "scatterpolargl": [
           {
            "marker": {
             "colorbar": {
              "outlinewidth": 0,
              "ticks": ""
             }
            },
            "type": "scatterpolargl"
           }
          ],
          "scatterternary": [
           {
            "marker": {
             "colorbar": {
              "outlinewidth": 0,
              "ticks": ""
             }
            },
            "type": "scatterternary"
           }
          ],
          "surface": [
           {
            "colorbar": {
             "outlinewidth": 0,
             "ticks": ""
            },
            "colorscale": [
             [
              0,
              "#0d0887"
             ],
             [
              0.1111111111111111,
              "#46039f"
             ],
             [
              0.2222222222222222,
              "#7201a8"
             ],
             [
              0.3333333333333333,
              "#9c179e"
             ],
             [
              0.4444444444444444,
              "#bd3786"
             ],
             [
              0.5555555555555556,
              "#d8576b"
             ],
             [
              0.6666666666666666,
              "#ed7953"
             ],
             [
              0.7777777777777778,
              "#fb9f3a"
             ],
             [
              0.8888888888888888,
              "#fdca26"
             ],
             [
              1,
              "#f0f921"
             ]
            ],
            "type": "surface"
           }
          ],
          "table": [
           {
            "cells": {
             "fill": {
              "color": "#EBF0F8"
             },
             "line": {
              "color": "white"
             }
            },
            "header": {
             "fill": {
              "color": "#C8D4E3"
             },
             "line": {
              "color": "white"
             }
            },
            "type": "table"
           }
          ]
         },
         "layout": {
          "annotationdefaults": {
           "arrowcolor": "#2a3f5f",
           "arrowhead": 0,
           "arrowwidth": 1
          },
          "autotypenumbers": "strict",
          "coloraxis": {
           "colorbar": {
            "outlinewidth": 0,
            "ticks": ""
           }
          },
          "colorscale": {
           "diverging": [
            [
             0,
             "#8e0152"
            ],
            [
             0.1,
             "#c51b7d"
            ],
            [
             0.2,
             "#de77ae"
            ],
            [
             0.3,
             "#f1b6da"
            ],
            [
             0.4,
             "#fde0ef"
            ],
            [
             0.5,
             "#f7f7f7"
            ],
            [
             0.6,
             "#e6f5d0"
            ],
            [
             0.7,
             "#b8e186"
            ],
            [
             0.8,
             "#7fbc41"
            ],
            [
             0.9,
             "#4d9221"
            ],
            [
             1,
             "#276419"
            ]
           ],
           "sequential": [
            [
             0,
             "#0d0887"
            ],
            [
             0.1111111111111111,
             "#46039f"
            ],
            [
             0.2222222222222222,
             "#7201a8"
            ],
            [
             0.3333333333333333,
             "#9c179e"
            ],
            [
             0.4444444444444444,
             "#bd3786"
            ],
            [
             0.5555555555555556,
             "#d8576b"
            ],
            [
             0.6666666666666666,
             "#ed7953"
            ],
            [
             0.7777777777777778,
             "#fb9f3a"
            ],
            [
             0.8888888888888888,
             "#fdca26"
            ],
            [
             1,
             "#f0f921"
            ]
           ],
           "sequentialminus": [
            [
             0,
             "#0d0887"
            ],
            [
             0.1111111111111111,
             "#46039f"
            ],
            [
             0.2222222222222222,
             "#7201a8"
            ],
            [
             0.3333333333333333,
             "#9c179e"
            ],
            [
             0.4444444444444444,
             "#bd3786"
            ],
            [
             0.5555555555555556,
             "#d8576b"
            ],
            [
             0.6666666666666666,
             "#ed7953"
            ],
            [
             0.7777777777777778,
             "#fb9f3a"
            ],
            [
             0.8888888888888888,
             "#fdca26"
            ],
            [
             1,
             "#f0f921"
            ]
           ]
          },
          "colorway": [
           "#636efa",
           "#EF553B",
           "#00cc96",
           "#ab63fa",
           "#FFA15A",
           "#19d3f3",
           "#FF6692",
           "#B6E880",
           "#FF97FF",
           "#FECB52"
          ],
          "font": {
           "color": "#2a3f5f"
          },
          "geo": {
           "bgcolor": "white",
           "lakecolor": "white",
           "landcolor": "#E5ECF6",
           "showlakes": true,
           "showland": true,
           "subunitcolor": "white"
          },
          "hoverlabel": {
           "align": "left"
          },
          "hovermode": "closest",
          "mapbox": {
           "style": "light"
          },
          "paper_bgcolor": "white",
          "plot_bgcolor": "#E5ECF6",
          "polar": {
           "angularaxis": {
            "gridcolor": "white",
            "linecolor": "white",
            "ticks": ""
           },
           "bgcolor": "#E5ECF6",
           "radialaxis": {
            "gridcolor": "white",
            "linecolor": "white",
            "ticks": ""
           }
          },
          "scene": {
           "xaxis": {
            "backgroundcolor": "#E5ECF6",
            "gridcolor": "white",
            "gridwidth": 2,
            "linecolor": "white",
            "showbackground": true,
            "ticks": "",
            "zerolinecolor": "white"
           },
           "yaxis": {
            "backgroundcolor": "#E5ECF6",
            "gridcolor": "white",
            "gridwidth": 2,
            "linecolor": "white",
            "showbackground": true,
            "ticks": "",
            "zerolinecolor": "white"
           },
           "zaxis": {
            "backgroundcolor": "#E5ECF6",
            "gridcolor": "white",
            "gridwidth": 2,
            "linecolor": "white",
            "showbackground": true,
            "ticks": "",
            "zerolinecolor": "white"
           }
          },
          "shapedefaults": {
           "line": {
            "color": "#2a3f5f"
           }
          },
          "ternary": {
           "aaxis": {
            "gridcolor": "white",
            "linecolor": "white",
            "ticks": ""
           },
           "baxis": {
            "gridcolor": "white",
            "linecolor": "white",
            "ticks": ""
           },
           "bgcolor": "#E5ECF6",
           "caxis": {
            "gridcolor": "white",
            "linecolor": "white",
            "ticks": ""
           }
          },
          "title": {
           "x": 0.05
          },
          "xaxis": {
           "automargin": true,
           "gridcolor": "white",
           "linecolor": "white",
           "ticks": "",
           "title": {
            "standoff": 15
           },
           "zerolinecolor": "white",
           "zerolinewidth": 2
          },
          "yaxis": {
           "automargin": true,
           "gridcolor": "white",
           "linecolor": "white",
           "ticks": "",
           "title": {
            "standoff": 15
           },
           "zerolinecolor": "white",
           "zerolinewidth": 2
          }
         }
        },
        "title": {
         "text": "Property Locations"
        },
        "width": 1600
       }
      }
     },
     "metadata": {},
     "output_type": "display_data"
    }
   ],
   "source": [
    "fig = px.scatter_mapbox(df_listings_clean,\n",
    "                      lat='latitude',\n",
    "                      lon='longitude',\n",
    "                      color ='property_type',\n",
    "                      size = 'price',\n",
    "                      width = 1600,\n",
    "                      height = 900,\n",
    "                      hover_data=['price', 'property_type'],\n",
    "                      title='Property Locations', color_discrete_sequence=px.colors.cyclical.IceFire)\n",
    "\n",
    "fig.update_layout(\n",
    "    mapbox=dict(\n",
    "        style=\"open-street-map\",\n",
    "        zoom=13  # Adjust zoom level as needed\n",
    "    ),\n",
    "    margin={\"r\":0,\"t\":30,\"l\":0,\"b\":0}\n",
    ")\n",
    "\n",
    "fig.show()\n"
   ]
  },
  {
   "cell_type": "markdown",
   "metadata": {},
   "source": [
    "## Keplergl Mapping"
   ]
  },
  {
   "cell_type": "code",
   "execution_count": 100,
   "metadata": {},
   "outputs": [
    {
     "name": "stdout",
     "output_type": "stream",
     "text": [
      "User Guide: https://docs.kepler.gl/docs/keplergl-jupyter\n"
     ]
    },
    {
     "data": {
      "application/vnd.jupyter.widget-view+json": {
       "model_id": "74842283ddb64e09bfc0b26407c95fe4",
       "version_major": 2,
       "version_minor": 0
      },
      "text/plain": [
       "KeplerGl()"
      ]
     },
     "metadata": {},
     "output_type": "display_data"
    }
   ],
   "source": [
    "# Render an empty Keplergl Map\n",
    "kepler_map = keplergl.KeplerGl(height=400)\n",
    "kepler_map"
   ]
  },
  {
   "cell_type": "code",
   "execution_count": 101,
   "metadata": {},
   "outputs": [
    {
     "name": "stdout",
     "output_type": "stream",
     "text": [
      "User Guide: https://docs.kepler.gl/docs/keplergl-jupyter\n"
     ]
    },
    {
     "data": {
      "application/vnd.jupyter.widget-view+json": {
       "model_id": "a3b24ca4341843668ce721da0595099e",
       "version_major": 2,
       "version_minor": 0
      },
      "text/plain": [
       "KeplerGl(config={'version': 'v1', 'config': {'mapState': {'latitude': np.float64(47.62898679966452), 'longitud…"
      ]
     },
     "metadata": {},
     "output_type": "display_data"
    }
   ],
   "source": [
    "from keplergl import KeplerGl\n",
    "\n",
    "# Clean the data by removing NaN values\n",
    "df_map_clean = df_listings_clean.dropna(subset=['latitude', 'longitude', 'property_type', 'price', 'neighbourhood_cleansed'])\n",
    "\n",
    "# Create map with initial configuration\n",
    "map_settings = {\n",
    "    'version': 'v1',\n",
    "    'config': {\n",
    "        'mapState': {\n",
    "            'latitude': df_map_clean['latitude'].mean(),\n",
    "            'longitude': df_map_clean['longitude'].mean(),\n",
    "            'zoom': 11\n",
    "        },\n",
    "        'mapStyle': {\n",
    "            'styleType': 'dark'\n",
    "        }\n",
    "    }\n",
    "}\n",
    "\n",
    "# Create map with settings\n",
    "map_1 = KeplerGl(height=500, config=map_settings)\n",
    "\n",
    "# Add the cleaned data to the map\n",
    "map_1.add_data(\n",
    "    data=df_map_clean[['latitude', 'longitude', 'property_type', 'price', 'neighbourhood_cleansed']], \n",
    "    name='airbnb_data'\n",
    ")\n",
    "\n",
    "# Save map to an HTML File\n",
    "# map_1.save_to_html(file_name='keplergl_airbnb_map.html')\n",
    "\n",
    "map_1\n"
   ]
  }
 ],
 "metadata": {
  "kernelspec": {
   "display_name": "cci",
   "language": "python",
   "name": "python3"
  },
  "language_info": {
   "codemirror_mode": {
    "name": "ipython",
    "version": 3
   },
   "file_extension": ".py",
   "mimetype": "text/x-python",
   "name": "python",
   "nbconvert_exporter": "python",
   "pygments_lexer": "ipython3",
   "version": "3.13.2"
  }
 },
 "nbformat": 4,
 "nbformat_minor": 2
}
